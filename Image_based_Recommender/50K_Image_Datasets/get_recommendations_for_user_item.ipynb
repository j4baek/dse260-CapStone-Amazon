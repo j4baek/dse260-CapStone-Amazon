{
 "cells": [
  {
   "cell_type": "markdown",
   "metadata": {},
   "source": [
    "## Generating recommendations based on cosine similarity."
   ]
  },
  {
   "cell_type": "code",
   "execution_count": 2,
   "metadata": {},
   "outputs": [],
   "source": [
    "import pandas as pd\n",
    "import numpy as np\n",
    "import os\n",
    "import requests\n",
    "import shutil"
   ]
  },
  {
   "cell_type": "code",
   "execution_count": 3,
   "metadata": {},
   "outputs": [
    {
     "name": "stderr",
     "output_type": "stream",
     "text": [
      "/Users/yeongchoi/Anaconda3/anaconda3/lib/python3.6/site-packages/h5py/__init__.py:36: FutureWarning: Conversion of the second argument of issubdtype from `float` to `np.floating` is deprecated. In future, it will be treated as `np.float64 == np.dtype(float).type`.\n",
      "  from ._conv import register_converters as _register_converters\n",
      "Using TensorFlow backend.\n"
     ]
    }
   ],
   "source": [
    "import os\n",
    "import numpy as np\n",
    "import pandas as pd\n",
    "import matplotlib.pyplot as plt\n",
    "from PIL import Image\n",
    "from PIL import ImageFile\n",
    "from keras.models import Model\n",
    "from keras.applications import vgg16\n",
    "from keras.applications.imagenet_utils import preprocess_input\n",
    "from keras.preprocessing.image import load_img,img_to_array\n",
    "from sklearn.metrics.pairwise import cosine_similarity\n",
    "\n",
    "%load_ext autotime"
   ]
  },
  {
   "cell_type": "markdown",
   "metadata": {},
   "source": [
    "### Load feature dataset (4k images)"
   ]
  },
  {
   "cell_type": "code",
   "execution_count": 4,
   "metadata": {},
   "outputs": [
    {
     "name": "stdout",
     "output_type": "stream",
     "text": [
      "time: 4.67 s\n"
     ]
    }
   ],
   "source": [
    "features_df = pd.read_csv('./Results/features_50k.csv')\n",
    "features_df = features_df.rename(columns={\"Unnamed: 0\": \"product_id\"}, errors=\"raise\")\n",
    "features_df.set_index('product_id',inplace=True)"
   ]
  },
  {
   "cell_type": "code",
   "execution_count": 5,
   "metadata": {},
   "outputs": [
    {
     "data": {
      "text/html": [
       "<div>\n",
       "<style scoped>\n",
       "    .dataframe tbody tr th:only-of-type {\n",
       "        vertical-align: middle;\n",
       "    }\n",
       "\n",
       "    .dataframe tbody tr th {\n",
       "        vertical-align: top;\n",
       "    }\n",
       "\n",
       "    .dataframe thead th {\n",
       "        text-align: right;\n",
       "    }\n",
       "</style>\n",
       "<table border=\"1\" class=\"dataframe\">\n",
       "  <thead>\n",
       "    <tr style=\"text-align: right;\">\n",
       "      <th></th>\n",
       "      <th>0</th>\n",
       "      <th>1</th>\n",
       "      <th>2</th>\n",
       "      <th>3</th>\n",
       "      <th>4</th>\n",
       "      <th>5</th>\n",
       "      <th>6</th>\n",
       "      <th>7</th>\n",
       "      <th>8</th>\n",
       "      <th>9</th>\n",
       "      <th>...</th>\n",
       "      <th>4086</th>\n",
       "      <th>4087</th>\n",
       "      <th>4088</th>\n",
       "      <th>4089</th>\n",
       "      <th>4090</th>\n",
       "      <th>4091</th>\n",
       "      <th>4092</th>\n",
       "      <th>4093</th>\n",
       "      <th>4094</th>\n",
       "      <th>4095</th>\n",
       "    </tr>\n",
       "    <tr>\n",
       "      <th>product_id</th>\n",
       "      <th></th>\n",
       "      <th></th>\n",
       "      <th></th>\n",
       "      <th></th>\n",
       "      <th></th>\n",
       "      <th></th>\n",
       "      <th></th>\n",
       "      <th></th>\n",
       "      <th></th>\n",
       "      <th></th>\n",
       "      <th></th>\n",
       "      <th></th>\n",
       "      <th></th>\n",
       "      <th></th>\n",
       "      <th></th>\n",
       "      <th></th>\n",
       "      <th></th>\n",
       "      <th></th>\n",
       "      <th></th>\n",
       "      <th></th>\n",
       "      <th></th>\n",
       "    </tr>\n",
       "  </thead>\n",
       "  <tbody>\n",
       "    <tr>\n",
       "      <th>B008JFDFIW</th>\n",
       "      <td>0.0</td>\n",
       "      <td>0.0</td>\n",
       "      <td>1.847189</td>\n",
       "      <td>2.641750</td>\n",
       "      <td>0.0</td>\n",
       "      <td>0.000000</td>\n",
       "      <td>0.000000</td>\n",
       "      <td>6.623529</td>\n",
       "      <td>0.0</td>\n",
       "      <td>0.000000</td>\n",
       "      <td>...</td>\n",
       "      <td>0.0</td>\n",
       "      <td>0.0</td>\n",
       "      <td>0.0</td>\n",
       "      <td>1.501545</td>\n",
       "      <td>0.0000</td>\n",
       "      <td>0.000000</td>\n",
       "      <td>0.0</td>\n",
       "      <td>0.0</td>\n",
       "      <td>0.0</td>\n",
       "      <td>1.291022</td>\n",
       "    </tr>\n",
       "    <tr>\n",
       "      <th>B00IM5FCOY</th>\n",
       "      <td>0.0</td>\n",
       "      <td>0.0</td>\n",
       "      <td>0.164301</td>\n",
       "      <td>0.000000</td>\n",
       "      <td>0.0</td>\n",
       "      <td>1.673070</td>\n",
       "      <td>0.000000</td>\n",
       "      <td>0.000000</td>\n",
       "      <td>0.0</td>\n",
       "      <td>6.619954</td>\n",
       "      <td>...</td>\n",
       "      <td>0.0</td>\n",
       "      <td>0.0</td>\n",
       "      <td>0.0</td>\n",
       "      <td>0.000000</td>\n",
       "      <td>0.0000</td>\n",
       "      <td>5.276841</td>\n",
       "      <td>0.0</td>\n",
       "      <td>0.0</td>\n",
       "      <td>0.0</td>\n",
       "      <td>0.000000</td>\n",
       "    </tr>\n",
       "    <tr>\n",
       "      <th>B00AAHNZUU</th>\n",
       "      <td>0.0</td>\n",
       "      <td>0.0</td>\n",
       "      <td>0.000000</td>\n",
       "      <td>0.855917</td>\n",
       "      <td>0.0</td>\n",
       "      <td>0.000000</td>\n",
       "      <td>0.000000</td>\n",
       "      <td>0.000000</td>\n",
       "      <td>0.0</td>\n",
       "      <td>3.871443</td>\n",
       "      <td>...</td>\n",
       "      <td>0.0</td>\n",
       "      <td>0.0</td>\n",
       "      <td>0.0</td>\n",
       "      <td>0.000000</td>\n",
       "      <td>1.8203</td>\n",
       "      <td>4.572748</td>\n",
       "      <td>0.0</td>\n",
       "      <td>0.0</td>\n",
       "      <td>0.0</td>\n",
       "      <td>0.000000</td>\n",
       "    </tr>\n",
       "    <tr>\n",
       "      <th>B004J4WWK4</th>\n",
       "      <td>0.0</td>\n",
       "      <td>0.0</td>\n",
       "      <td>0.000000</td>\n",
       "      <td>0.000000</td>\n",
       "      <td>0.0</td>\n",
       "      <td>3.584921</td>\n",
       "      <td>0.000000</td>\n",
       "      <td>0.000000</td>\n",
       "      <td>0.0</td>\n",
       "      <td>1.201754</td>\n",
       "      <td>...</td>\n",
       "      <td>0.0</td>\n",
       "      <td>0.0</td>\n",
       "      <td>0.0</td>\n",
       "      <td>0.000000</td>\n",
       "      <td>0.0000</td>\n",
       "      <td>6.192037</td>\n",
       "      <td>0.0</td>\n",
       "      <td>0.0</td>\n",
       "      <td>0.0</td>\n",
       "      <td>0.000000</td>\n",
       "    </tr>\n",
       "    <tr>\n",
       "      <th>B000BIUAYW</th>\n",
       "      <td>0.0</td>\n",
       "      <td>0.0</td>\n",
       "      <td>0.000000</td>\n",
       "      <td>4.482935</td>\n",
       "      <td>0.0</td>\n",
       "      <td>0.000000</td>\n",
       "      <td>2.517327</td>\n",
       "      <td>0.000000</td>\n",
       "      <td>0.0</td>\n",
       "      <td>3.512050</td>\n",
       "      <td>...</td>\n",
       "      <td>0.0</td>\n",
       "      <td>0.0</td>\n",
       "      <td>0.0</td>\n",
       "      <td>3.508799</td>\n",
       "      <td>0.0000</td>\n",
       "      <td>0.000000</td>\n",
       "      <td>0.0</td>\n",
       "      <td>0.0</td>\n",
       "      <td>0.0</td>\n",
       "      <td>1.227973</td>\n",
       "    </tr>\n",
       "  </tbody>\n",
       "</table>\n",
       "<p>5 rows × 4096 columns</p>\n",
       "</div>"
      ],
      "text/plain": [
       "              0    1         2         3    4         5         6         7  \\\n",
       "product_id                                                                    \n",
       "B008JFDFIW  0.0  0.0  1.847189  2.641750  0.0  0.000000  0.000000  6.623529   \n",
       "B00IM5FCOY  0.0  0.0  0.164301  0.000000  0.0  1.673070  0.000000  0.000000   \n",
       "B00AAHNZUU  0.0  0.0  0.000000  0.855917  0.0  0.000000  0.000000  0.000000   \n",
       "B004J4WWK4  0.0  0.0  0.000000  0.000000  0.0  3.584921  0.000000  0.000000   \n",
       "B000BIUAYW  0.0  0.0  0.000000  4.482935  0.0  0.000000  2.517327  0.000000   \n",
       "\n",
       "              8         9  ...  4086  4087  4088      4089    4090      4091  \\\n",
       "product_id                 ...                                                 \n",
       "B008JFDFIW  0.0  0.000000  ...   0.0   0.0   0.0  1.501545  0.0000  0.000000   \n",
       "B00IM5FCOY  0.0  6.619954  ...   0.0   0.0   0.0  0.000000  0.0000  5.276841   \n",
       "B00AAHNZUU  0.0  3.871443  ...   0.0   0.0   0.0  0.000000  1.8203  4.572748   \n",
       "B004J4WWK4  0.0  1.201754  ...   0.0   0.0   0.0  0.000000  0.0000  6.192037   \n",
       "B000BIUAYW  0.0  3.512050  ...   0.0   0.0   0.0  3.508799  0.0000  0.000000   \n",
       "\n",
       "            4092  4093  4094      4095  \n",
       "product_id                              \n",
       "B008JFDFIW   0.0   0.0   0.0  1.291022  \n",
       "B00IM5FCOY   0.0   0.0   0.0  0.000000  \n",
       "B00AAHNZUU   0.0   0.0   0.0  0.000000  \n",
       "B004J4WWK4   0.0   0.0   0.0  0.000000  \n",
       "B000BIUAYW   0.0   0.0   0.0  1.227973  \n",
       "\n",
       "[5 rows x 4096 columns]"
      ]
     },
     "execution_count": 5,
     "metadata": {},
     "output_type": "execute_result"
    },
    {
     "name": "stdout",
     "output_type": "stream",
     "text": [
      "time: 30.2 ms\n"
     ]
    }
   ],
   "source": [
    "features_df.head()"
   ]
  },
  {
   "cell_type": "markdown",
   "metadata": {},
   "source": [
    "### Calculate cosine similarity "
   ]
  },
  {
   "cell_type": "code",
   "execution_count": 48,
   "metadata": {},
   "outputs": [
    {
     "name": "stdout",
     "output_type": "stream",
     "text": [
      "Shape of cosine similarities dataframe: (4249, 4249) \n",
      "\n"
     ]
    },
    {
     "data": {
      "text/html": [
       "<div>\n",
       "<style scoped>\n",
       "    .dataframe tbody tr th:only-of-type {\n",
       "        vertical-align: middle;\n",
       "    }\n",
       "\n",
       "    .dataframe tbody tr th {\n",
       "        vertical-align: top;\n",
       "    }\n",
       "\n",
       "    .dataframe thead th {\n",
       "        text-align: right;\n",
       "    }\n",
       "</style>\n",
       "<table border=\"1\" class=\"dataframe\">\n",
       "  <thead>\n",
       "    <tr style=\"text-align: right;\">\n",
       "      <th></th>\n",
       "      <th>B008JFDFIW</th>\n",
       "      <th>B00IM5FCOY</th>\n",
       "      <th>B00AAHNZUU</th>\n",
       "      <th>B004J4WWK4</th>\n",
       "      <th>B000BIUAYW</th>\n",
       "      <th>B00GUV6U1Q</th>\n",
       "      <th>B009HGDS9I</th>\n",
       "      <th>B00026ORRY</th>\n",
       "      <th>B000I66VSG</th>\n",
       "      <th>B00DX9TEAM</th>\n",
       "      <th>...</th>\n",
       "      <th>B00JWY671G</th>\n",
       "      <th>B00NCPIE9Y</th>\n",
       "      <th>B00193SGBC</th>\n",
       "      <th>B000H73YM2</th>\n",
       "      <th>B0002UNNTS</th>\n",
       "      <th>B001CDJXC0</th>\n",
       "      <th>B00NC4F22C</th>\n",
       "      <th>B001OW6T12</th>\n",
       "      <th>B000AJHWCA</th>\n",
       "      <th>B0010T46LE</th>\n",
       "    </tr>\n",
       "  </thead>\n",
       "  <tbody>\n",
       "    <tr>\n",
       "      <th>B008JFDFIW</th>\n",
       "      <td>1.000000</td>\n",
       "      <td>0.362864</td>\n",
       "      <td>0.308780</td>\n",
       "      <td>0.417288</td>\n",
       "      <td>0.432381</td>\n",
       "      <td>0.685618</td>\n",
       "      <td>0.234785</td>\n",
       "      <td>0.457745</td>\n",
       "      <td>0.516445</td>\n",
       "      <td>0.417970</td>\n",
       "      <td>...</td>\n",
       "      <td>0.425732</td>\n",
       "      <td>0.407043</td>\n",
       "      <td>0.460005</td>\n",
       "      <td>0.455167</td>\n",
       "      <td>0.396222</td>\n",
       "      <td>0.502779</td>\n",
       "      <td>0.670686</td>\n",
       "      <td>0.447899</td>\n",
       "      <td>0.268567</td>\n",
       "      <td>0.501026</td>\n",
       "    </tr>\n",
       "    <tr>\n",
       "      <th>B00IM5FCOY</th>\n",
       "      <td>0.362864</td>\n",
       "      <td>1.000000</td>\n",
       "      <td>0.360608</td>\n",
       "      <td>0.665957</td>\n",
       "      <td>0.301227</td>\n",
       "      <td>0.437460</td>\n",
       "      <td>0.183060</td>\n",
       "      <td>0.542963</td>\n",
       "      <td>0.350693</td>\n",
       "      <td>0.479026</td>\n",
       "      <td>...</td>\n",
       "      <td>0.340522</td>\n",
       "      <td>0.473009</td>\n",
       "      <td>0.591870</td>\n",
       "      <td>0.527001</td>\n",
       "      <td>0.392424</td>\n",
       "      <td>0.298348</td>\n",
       "      <td>0.469669</td>\n",
       "      <td>0.457021</td>\n",
       "      <td>0.786262</td>\n",
       "      <td>0.404387</td>\n",
       "    </tr>\n",
       "    <tr>\n",
       "      <th>B00AAHNZUU</th>\n",
       "      <td>0.308780</td>\n",
       "      <td>0.360608</td>\n",
       "      <td>1.000000</td>\n",
       "      <td>0.375854</td>\n",
       "      <td>0.498847</td>\n",
       "      <td>0.279762</td>\n",
       "      <td>0.208102</td>\n",
       "      <td>0.300166</td>\n",
       "      <td>0.393287</td>\n",
       "      <td>0.375296</td>\n",
       "      <td>...</td>\n",
       "      <td>0.461527</td>\n",
       "      <td>0.270608</td>\n",
       "      <td>0.309120</td>\n",
       "      <td>0.300027</td>\n",
       "      <td>0.436809</td>\n",
       "      <td>0.303264</td>\n",
       "      <td>0.324404</td>\n",
       "      <td>0.293918</td>\n",
       "      <td>0.346671</td>\n",
       "      <td>0.332892</td>\n",
       "    </tr>\n",
       "    <tr>\n",
       "      <th>B004J4WWK4</th>\n",
       "      <td>0.417288</td>\n",
       "      <td>0.665957</td>\n",
       "      <td>0.375854</td>\n",
       "      <td>1.000000</td>\n",
       "      <td>0.315326</td>\n",
       "      <td>0.531801</td>\n",
       "      <td>0.217042</td>\n",
       "      <td>0.701494</td>\n",
       "      <td>0.546180</td>\n",
       "      <td>0.544264</td>\n",
       "      <td>...</td>\n",
       "      <td>0.385281</td>\n",
       "      <td>0.528229</td>\n",
       "      <td>0.564211</td>\n",
       "      <td>0.552363</td>\n",
       "      <td>0.486948</td>\n",
       "      <td>0.499572</td>\n",
       "      <td>0.412053</td>\n",
       "      <td>0.553167</td>\n",
       "      <td>0.684340</td>\n",
       "      <td>0.519154</td>\n",
       "    </tr>\n",
       "    <tr>\n",
       "      <th>B000BIUAYW</th>\n",
       "      <td>0.432381</td>\n",
       "      <td>0.301227</td>\n",
       "      <td>0.498847</td>\n",
       "      <td>0.315326</td>\n",
       "      <td>1.000000</td>\n",
       "      <td>0.450696</td>\n",
       "      <td>0.291314</td>\n",
       "      <td>0.341520</td>\n",
       "      <td>0.506457</td>\n",
       "      <td>0.488138</td>\n",
       "      <td>...</td>\n",
       "      <td>0.619143</td>\n",
       "      <td>0.374053</td>\n",
       "      <td>0.371834</td>\n",
       "      <td>0.391754</td>\n",
       "      <td>0.540534</td>\n",
       "      <td>0.400048</td>\n",
       "      <td>0.425884</td>\n",
       "      <td>0.353776</td>\n",
       "      <td>0.304871</td>\n",
       "      <td>0.390239</td>\n",
       "    </tr>\n",
       "  </tbody>\n",
       "</table>\n",
       "<p>5 rows × 4249 columns</p>\n",
       "</div>"
      ],
      "text/plain": [
       "            B008JFDFIW  B00IM5FCOY  B00AAHNZUU  B004J4WWK4  B000BIUAYW  \\\n",
       "B008JFDFIW    1.000000    0.362864    0.308780    0.417288    0.432381   \n",
       "B00IM5FCOY    0.362864    1.000000    0.360608    0.665957    0.301227   \n",
       "B00AAHNZUU    0.308780    0.360608    1.000000    0.375854    0.498847   \n",
       "B004J4WWK4    0.417288    0.665957    0.375854    1.000000    0.315326   \n",
       "B000BIUAYW    0.432381    0.301227    0.498847    0.315326    1.000000   \n",
       "\n",
       "            B00GUV6U1Q  B009HGDS9I  B00026ORRY  B000I66VSG  B00DX9TEAM  ...  \\\n",
       "B008JFDFIW    0.685618    0.234785    0.457745    0.516445    0.417970  ...   \n",
       "B00IM5FCOY    0.437460    0.183060    0.542963    0.350693    0.479026  ...   \n",
       "B00AAHNZUU    0.279762    0.208102    0.300166    0.393287    0.375296  ...   \n",
       "B004J4WWK4    0.531801    0.217042    0.701494    0.546180    0.544264  ...   \n",
       "B000BIUAYW    0.450696    0.291314    0.341520    0.506457    0.488138  ...   \n",
       "\n",
       "            B00JWY671G  B00NCPIE9Y  B00193SGBC  B000H73YM2  B0002UNNTS  \\\n",
       "B008JFDFIW    0.425732    0.407043    0.460005    0.455167    0.396222   \n",
       "B00IM5FCOY    0.340522    0.473009    0.591870    0.527001    0.392424   \n",
       "B00AAHNZUU    0.461527    0.270608    0.309120    0.300027    0.436809   \n",
       "B004J4WWK4    0.385281    0.528229    0.564211    0.552363    0.486948   \n",
       "B000BIUAYW    0.619143    0.374053    0.371834    0.391754    0.540534   \n",
       "\n",
       "            B001CDJXC0  B00NC4F22C  B001OW6T12  B000AJHWCA  B0010T46LE  \n",
       "B008JFDFIW    0.502779    0.670686    0.447899    0.268567    0.501026  \n",
       "B00IM5FCOY    0.298348    0.469669    0.457021    0.786262    0.404387  \n",
       "B00AAHNZUU    0.303264    0.324404    0.293918    0.346671    0.332892  \n",
       "B004J4WWK4    0.499572    0.412053    0.553167    0.684340    0.519154  \n",
       "B000BIUAYW    0.400048    0.425884    0.353776    0.304871    0.390239  \n",
       "\n",
       "[5 rows x 4249 columns]"
      ]
     },
     "execution_count": 48,
     "metadata": {},
     "output_type": "execute_result"
    },
    {
     "name": "stdout",
     "output_type": "stream",
     "text": [
      "time: 1.23 s\n"
     ]
    }
   ],
   "source": [
    "# all product list in features dataframe\n",
    "productIds = list(features_df.index)\n",
    "\n",
    "# compute cosine similarities between images\n",
    "cosSimilarities = cosine_similarity(features_df)\n",
    "\n",
    "# store the results into a pandas dataframe\n",
    "cos_similarities_df = pd.DataFrame(cosSimilarities, columns=productIds, index=productIds)\n",
    "print('Shape of cosine similarities dataframe:', cos_similarities_df.shape,'\\n')\n",
    "cos_similarities_df.head()"
   ]
  },
  {
   "cell_type": "code",
   "execution_count": 49,
   "metadata": {},
   "outputs": [
    {
     "name": "stdout",
     "output_type": "stream",
     "text": [
      "time: 29.1 s\n"
     ]
    }
   ],
   "source": [
    "# Save as csv file\n",
    "cos_similarities_df.to_csv('./Results/cosine_similarities_50K.csv ',index=False)"
   ]
  },
  {
   "cell_type": "markdown",
   "metadata": {},
   "source": [
    "### Get recommended product result and image urls"
   ]
  },
  {
   "cell_type": "code",
   "execution_count": 21,
   "metadata": {},
   "outputs": [
    {
     "name": "stdout",
     "output_type": "stream",
     "text": [
      "shape of pre_recommended result dataframe: (10000, 7)\n",
      "time: 31.7 ms\n"
     ]
    }
   ],
   "source": [
    "# pre-recommeded_result\n",
    "pre_recommeded_result_df = pd.read_csv('./Datasets/Shoes_for_100_users_per_100_products_prediction_Ver3.csv')\n",
    "print(\"shape of pre_recommended result dataframe:\", pre_recommeded_result_df.shape)"
   ]
  },
  {
   "cell_type": "code",
   "execution_count": 38,
   "metadata": {},
   "outputs": [
    {
     "name": "stdout",
     "output_type": "stream",
     "text": [
      "time: 25.6 ms\n"
     ]
    }
   ],
   "source": [
    "# imgUrl_dict\n",
    "# Get image urls and save as dictionary. {asin: image_url}\n",
    "imgUrl_df = pd.read_csv('./Results/asin_url_for_50k.csv')\n",
    "imgUrl_dict = pd.Series(imgUrl_df.url.values,index=imgUrl_df.asin).to_dict()"
   ]
  },
  {
   "cell_type": "code",
   "execution_count": 50,
   "metadata": {},
   "outputs": [
    {
     "name": "stdout",
     "output_type": "stream",
     "text": [
      "time: 1.7 ms\n"
     ]
    }
   ],
   "source": [
    "## search for top 10 items in each pre-recommended items (from Deap learning Model)\n",
    "num_top = 100\n",
    "\n",
    "## recommned top 5 products based on similarity for each pre-recommended item\n",
    "num_recommend = 5"
   ]
  },
  {
   "cell_type": "code",
   "execution_count": 51,
   "metadata": {},
   "outputs": [
    {
     "name": "stdout",
     "output_type": "stream",
     "text": [
      "time: 11.5 ms\n"
     ]
    }
   ],
   "source": [
    "def Get_Image_Recommendations_DF(pre_recommeded_result_df, cos_similarities_df, imgUrl_dict, num_top, num_recommend):\n",
    "\n",
    "    # Create empty dataframe\n",
    "    column_names = [\"user_id\",\"given_product\", \"given_product_img_url\", \\\n",
    "                    \"recommended_product\", \"recommended_product_img_url\",\\\n",
    "                    \"similarity_score\"]\n",
    "\n",
    "    recommeded_df = pd.DataFrame(columns = column_names)\n",
    "\n",
    "    # 100 users\n",
    "    users_100 = list(np.unique(pre_recommeded_result_df['user_id'].to_list()))\n",
    "\n",
    "    # all unique products in model\n",
    "    all_products = list(cos_similarities_df.columns)\n",
    "\n",
    "    # get recommeded product for each user \n",
    "    for usr in users_100:\n",
    "        recommended_100 = pre_recommeded_result_df.loc[pre_recommeded_result_df['user_id'] == usr]\n",
    "        products = recommended_100['asin'].to_list()\n",
    "\n",
    "        for product in products[:num_top]: ## search for top 10 items in each pre-recommended items\n",
    "    \n",
    "            if product not in all_products:\n",
    "                continue\n",
    "        \n",
    "            # Sort product by similarity score. \n",
    "            sorted_cos_similarities = cos_similarities_df[product].sort_values(ascending=False)\n",
    "    \n",
    "            # Drop duplicated similarity score.\n",
    "            sorted_cos_similarities = sorted_cos_similarities.drop_duplicates(keep='first', inplace=False)\n",
    "    \n",
    "            # select similiarty score less than 0.95. \n",
    "            sorted_cos_similarities = sorted_cos_similarities[sorted_cos_similarities < 0.95]\n",
    "                \n",
    "            asins = list(sorted_cos_similarities.index)\n",
    "            scores = list(sorted_cos_similarities.values)\n",
    "        \n",
    "            for i in range(num_recommend): # recommned top 5 products based on similarity for each pre-recommended item\n",
    "                new_row = { \"user_id\": usr,\\\n",
    "                            \"given_product\": product,\\\n",
    "                            \"given_product_img_url\": imgUrl_dict[product],\\\n",
    "                            \"recommended_product\": asins[i], \\\n",
    "                            \"recommended_product_img_url\": imgUrl_dict[asins[i]],\\\n",
    "                            \"similarity_score\": scores[i] }\n",
    "            \n",
    "                recommeded_df = recommeded_df.append(new_row, ignore_index=True)\n",
    "    \n",
    "            break \n",
    "    \n",
    "    return recommeded_df\n",
    "        "
   ]
  },
  {
   "cell_type": "code",
   "execution_count": 52,
   "metadata": {},
   "outputs": [
    {
     "data": {
      "text/html": [
       "<div>\n",
       "<style scoped>\n",
       "    .dataframe tbody tr th:only-of-type {\n",
       "        vertical-align: middle;\n",
       "    }\n",
       "\n",
       "    .dataframe tbody tr th {\n",
       "        vertical-align: top;\n",
       "    }\n",
       "\n",
       "    .dataframe thead th {\n",
       "        text-align: right;\n",
       "    }\n",
       "</style>\n",
       "<table border=\"1\" class=\"dataframe\">\n",
       "  <thead>\n",
       "    <tr style=\"text-align: right;\">\n",
       "      <th></th>\n",
       "      <th>user_id</th>\n",
       "      <th>given_product</th>\n",
       "      <th>given_product_img_url</th>\n",
       "      <th>recommended_product</th>\n",
       "      <th>recommended_product_img_url</th>\n",
       "      <th>similarity_score</th>\n",
       "    </tr>\n",
       "  </thead>\n",
       "  <tbody>\n",
       "    <tr>\n",
       "      <th>0</th>\n",
       "      <td>19</td>\n",
       "      <td>B000ARPN28</td>\n",
       "      <td>https://images-na.ssl-images-amazon.com/images...</td>\n",
       "      <td>B003GDJ1PS</td>\n",
       "      <td>https://images-na.ssl-images-amazon.com/images...</td>\n",
       "      <td>0.833958</td>\n",
       "    </tr>\n",
       "    <tr>\n",
       "      <th>1</th>\n",
       "      <td>19</td>\n",
       "      <td>B000ARPN28</td>\n",
       "      <td>https://images-na.ssl-images-amazon.com/images...</td>\n",
       "      <td>B002B4A954</td>\n",
       "      <td>https://images-na.ssl-images-amazon.com/images...</td>\n",
       "      <td>0.815940</td>\n",
       "    </tr>\n",
       "    <tr>\n",
       "      <th>2</th>\n",
       "      <td>19</td>\n",
       "      <td>B000ARPN28</td>\n",
       "      <td>https://images-na.ssl-images-amazon.com/images...</td>\n",
       "      <td>B000BMT90E</td>\n",
       "      <td>https://images-na.ssl-images-amazon.com/images...</td>\n",
       "      <td>0.813858</td>\n",
       "    </tr>\n",
       "    <tr>\n",
       "      <th>3</th>\n",
       "      <td>19</td>\n",
       "      <td>B000ARPN28</td>\n",
       "      <td>https://images-na.ssl-images-amazon.com/images...</td>\n",
       "      <td>B007WTJCY2</td>\n",
       "      <td>https://images-na.ssl-images-amazon.com/images...</td>\n",
       "      <td>0.809082</td>\n",
       "    </tr>\n",
       "    <tr>\n",
       "      <th>4</th>\n",
       "      <td>19</td>\n",
       "      <td>B000ARPN28</td>\n",
       "      <td>https://images-na.ssl-images-amazon.com/images...</td>\n",
       "      <td>B000ARTQFI</td>\n",
       "      <td>https://images-na.ssl-images-amazon.com/images...</td>\n",
       "      <td>0.798094</td>\n",
       "    </tr>\n",
       "  </tbody>\n",
       "</table>\n",
       "</div>"
      ],
      "text/plain": [
       "  user_id given_product                              given_product_img_url  \\\n",
       "0      19    B000ARPN28  https://images-na.ssl-images-amazon.com/images...   \n",
       "1      19    B000ARPN28  https://images-na.ssl-images-amazon.com/images...   \n",
       "2      19    B000ARPN28  https://images-na.ssl-images-amazon.com/images...   \n",
       "3      19    B000ARPN28  https://images-na.ssl-images-amazon.com/images...   \n",
       "4      19    B000ARPN28  https://images-na.ssl-images-amazon.com/images...   \n",
       "\n",
       "  recommended_product                        recommended_product_img_url  \\\n",
       "0          B003GDJ1PS  https://images-na.ssl-images-amazon.com/images...   \n",
       "1          B002B4A954  https://images-na.ssl-images-amazon.com/images...   \n",
       "2          B000BMT90E  https://images-na.ssl-images-amazon.com/images...   \n",
       "3          B007WTJCY2  https://images-na.ssl-images-amazon.com/images...   \n",
       "4          B000ARTQFI  https://images-na.ssl-images-amazon.com/images...   \n",
       "\n",
       "   similarity_score  \n",
       "0          0.833958  \n",
       "1          0.815940  \n",
       "2          0.813858  \n",
       "3          0.809082  \n",
       "4          0.798094  "
      ]
     },
     "execution_count": 52,
     "metadata": {},
     "output_type": "execute_result"
    },
    {
     "name": "stdout",
     "output_type": "stream",
     "text": [
      "time: 1.81 s\n"
     ]
    }
   ],
   "source": [
    "recommeded_df = Get_Image_Recommendations_DF(pre_recommeded_result_df, cos_similarities_df, imgUrl_dict, num_top, num_recommend)\n",
    "recommeded_df.head()"
   ]
  },
  {
   "cell_type": "code",
   "execution_count": 53,
   "metadata": {},
   "outputs": [
    {
     "name": "stdout",
     "output_type": "stream",
     "text": [
      "shape of recommended result: (500, 6)\n",
      "unique users in recommended result: 100\n",
      "unique given products in recommended result 98\n",
      "unique recommended products in recommended result: 431\n",
      "time: 4.67 ms\n"
     ]
    }
   ],
   "source": [
    "print(\"shape of recommended result:\", recommeded_df.shape)\n",
    "\n",
    "# Unique Users\n",
    "print(\"unique users in recommended result:\", len(np.unique(recommeded_df['user_id'].to_list())))\n",
    "\n",
    "# Unique Given Products\n",
    "given_products = list(np.unique(recommeded_df['given_product'].to_list()))\n",
    "print(\"unique given products in recommended result\", len(given_products))\n",
    "\n",
    "## Unique Recommended Products\n",
    "recommended_products = list(np.unique(recommeded_df['recommended_product'].to_list()))\n",
    "print(\"unique recommended products in recommended result:\",len(recommended_products))"
   ]
  },
  {
   "cell_type": "code",
   "execution_count": 54,
   "metadata": {},
   "outputs": [
    {
     "name": "stdout",
     "output_type": "stream",
     "text": [
      "time: 14.8 ms\n"
     ]
    }
   ],
   "source": [
    "# save to csv file\n",
    "recommeded_df.to_csv('./Predictions/RESULT_image_recommended_product_50k_for_100JH_ver3_all.csv',index=False)"
   ]
  },
  {
   "cell_type": "markdown",
   "metadata": {},
   "source": [
    "### Get Image folder for given and recommended products "
   ]
  },
  {
   "cell_type": "code",
   "execution_count": 50,
   "metadata": {},
   "outputs": [
    {
     "name": "stdout",
     "output_type": "stream",
     "text": [
      "time: 3.31 s\n"
     ]
    }
   ],
   "source": [
    "# Image folder path for given products \n",
    "given_Image_path = \"./Recommended_Images_for_100_user/Images_100JH_ver3_top5/given_products_100JH_ver3_top5/\"\n",
    "\n",
    "for asin in given_products:\n",
    "    \n",
    "    url = imgUrl_dict[asin]\n",
    "    # Open the url image, set stream to True, this will return the stream content.\n",
    "    resp = requests.get(url, stream=True)\n",
    "    # Open a local file with wb ( write binary ) permission. (created increment filename)\n",
    "    path = os.path.join(given_Image_path, asin + \".\" + \"jpg\")\n",
    "#     print(path)\n",
    "    local_file = open(path, 'wb')\n",
    "    # Set decode_content value to True, otherwise the downloaded image file's size will be zero.\n",
    "    resp.raw.decode_content = True\n",
    "    # Copy the response stream raw data to local image file.\n",
    "    shutil.copyfileobj(resp.raw, local_file)\n",
    "    # Remove the image url response object.\n",
    "    del resp"
   ]
  },
  {
   "cell_type": "code",
   "execution_count": 51,
   "metadata": {},
   "outputs": [
    {
     "name": "stdout",
     "output_type": "stream",
     "text": [
      "time: 18.6 s\n"
     ]
    }
   ],
   "source": [
    "# Image folder path for recommended products \n",
    "recommended_Image_path = \"./Recommended_Images_for_100_user/Images_100JH_ver3_top5/recommended_products_100JH_ver3_top5/\"\n",
    "\n",
    "for asin in recommended_products:\n",
    "    \n",
    "    url = imgUrl_dict[asin]\n",
    "    # Open the url image, set stream to True, this will return the stream content.\n",
    "    resp = requests.get(url, stream=True)\n",
    "    # Open a local file with wb ( write binary ) permission. (created increment filename)\n",
    "    path = os.path.join(recommended_Image_path, asin + \".\" + \"jpg\")\n",
    "#     print(path)\n",
    "    local_file = open(path, 'wb')\n",
    "    # Set decode_content value to True, otherwise the downloaded image file's size will be zero.\n",
    "    resp.raw.decode_content = True\n",
    "    # Copy the response stream raw data to local image file.\n",
    "    shutil.copyfileobj(resp.raw, local_file)\n",
    "    # Remove the image url response object.\n",
    "    del resp"
   ]
  },
  {
   "cell_type": "code",
   "execution_count": null,
   "metadata": {},
   "outputs": [],
   "source": []
  }
 ],
 "metadata": {
  "kernelspec": {
   "display_name": "Python 3",
   "language": "python",
   "name": "python3"
  },
  "language_info": {
   "codemirror_mode": {
    "name": "ipython",
    "version": 3
   },
   "file_extension": ".py",
   "mimetype": "text/x-python",
   "name": "python",
   "nbconvert_exporter": "python",
   "pygments_lexer": "ipython3",
   "version": "3.6.5"
  }
 },
 "nbformat": 4,
 "nbformat_minor": 2
}
