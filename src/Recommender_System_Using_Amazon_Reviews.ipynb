{
 "cells": [
  {
   "cell_type": "markdown",
   "metadata": {},
   "source": [
    "# Recommender System Using Amazon Reviews\n",
    "\n",
    "- Base Dataset: \n",
    "    - Main dataset page: \n",
    "        - https://nijianmo.github.io/amazon/index.html\n",
    "    - Download dataset: \n",
    "        - http://deepyeti.ucsd.edu/jianmo/amazon/categoryFilesSmall/Clothing_Shoes_and_Jewelry_5.json.gz\n",
    "\n",
    "\n",
    "- Subset Datset to use Recommender system: \n",
    "    - Clothing_Shoes_and_Jewelry_5_reviewerID_asin_overall_unixReviewTime.csv\n",
    "    \n",
    "\n",
    "### Description of columns \n",
    "#### - Clothing_Shoes_and_Jewelry_5_reviewerID_asin_overall_unixReviewTime.csv\n",
    "- reviewerID - ID of the reviewer, e.g. A2SUAM1J3GNN3B\n",
    "    - Ex) http://www.amazon.com/gp/cdp/member-reviews/A2SUAM1J3GNN3B\n",
    "- asin - ID of the product, e.g. 0000013714\n",
    "    - Ex) http://www.amazon.com/dp/0000013714\n",
    "- overall - rating of the product\n",
    "- unixReviewTime - time of the review (unix time)"
   ]
  },
  {
   "cell_type": "code",
   "execution_count": 102,
   "metadata": {},
   "outputs": [
    {
     "name": "stdout",
     "output_type": "stream",
     "text": [
      "The autotime extension is already loaded. To reload it, use:\n",
      "  %reload_ext autotime\n",
      "time: 615 µs\n"
     ]
    }
   ],
   "source": [
    "#### To measure all running time\n",
    "# https://github.com/cpcloud/ipython-autotime\n",
    "\n",
    "%load_ext autotime"
   ]
  },
  {
   "cell_type": "code",
   "execution_count": 103,
   "metadata": {},
   "outputs": [
    {
     "name": "stdout",
     "output_type": "stream",
     "text": [
      "time: 450 µs\n"
     ]
    }
   ],
   "source": [
    "import pandas as pd\n",
    "\n",
    "import gzip\n",
    "import json\n",
    "\n",
    "from pandas_profiling import ProfileReport"
   ]
  },
  {
   "cell_type": "markdown",
   "metadata": {},
   "source": [
    "## Load dataset and analysis\n",
    "- Download Clothing_Shoes_and_Jewelry_5_reviewerID_asin_overall_unixReviewTime.csv\n",
    "    - https://drive.google.com/open?id=1kzQBEAeQEcdyo6UIG4fWnrWd63pC_E-L"
   ]
  },
  {
   "cell_type": "code",
   "execution_count": 104,
   "metadata": {},
   "outputs": [
    {
     "name": "stdout",
     "output_type": "stream",
     "text": [
      "time: 5.85 s\n"
     ]
    }
   ],
   "source": [
    "review_orgin_df = pd.read_csv('Clothing_Shoes_and_Jewelry_5_reviewerID_asin_overall_unixReviewTime.csv')"
   ]
  },
  {
   "cell_type": "code",
   "execution_count": 4,
   "metadata": {},
   "outputs": [
    {
     "name": "stdout",
     "output_type": "stream",
     "text": [
      "Shape of data:  (11285464, 4)\n",
      "Column of data:  Index(['reviewerID', 'asin', 'overall', 'unixReviewTime'], dtype='object')\n",
      "time: 1.27 ms\n"
     ]
    }
   ],
   "source": [
    "print(\"Shape of data: \", review_orgin_df.shape)\n",
    "print(\"Column of data: \", review_orgin_df.columns)"
   ]
  },
  {
   "cell_type": "markdown",
   "metadata": {},
   "source": [
    "#### Data profiling"
   ]
  },
  {
   "cell_type": "code",
   "execution_count": 5,
   "metadata": {},
   "outputs": [
    {
     "name": "stdout",
     "output_type": "stream",
     "text": [
      "time: 348 µs\n"
     ]
    }
   ],
   "source": [
    "# profile = ProfileReport(review_orgin_df, \n",
    "#                         title='Clothing_Shoes_and_Jewelry_5_reviewerID_asin_overall_unixReviewTime', \n",
    "#                         minimal=True)\n",
    "# profile.to_file(output_file=\"Clothing_Shoes_and_Jewelry_5_josn-Profiling-Report.html\")\n",
    "# profile.to_notebook_iframe()"
   ]
  },
  {
   "cell_type": "markdown",
   "metadata": {},
   "source": [
    "# Background\n",
    "\n",
    "- E-commerce companies like Amazon uses different recommendation systems to provide suggestions to the customers.\n",
    "- Amazon uses currently item-item collaberrative filtering, which scales to massive datasets and produces high quality recommendation system in the real time. \n",
    "- This system is a kind of a information filtering system which seeks to predict the \"rating\" or preferences which user is interested in.\n",
    "\n",
    "<img src=\"refer_pics/1.png\">"
   ]
  },
  {
   "cell_type": "markdown",
   "metadata": {},
   "source": [
    "## Types of recommendations\n",
    "There are mainly 6 types of the recommendations systems :\n",
    "\n",
    "1. Popularity based systems : \n",
    "    - It works by recommeding items viewed and purchased by most people and are rated high.It is not a personalized recommendation.\n",
    "2. Classification model based: \n",
    "    - It works by understanding the features of the user and applying the classification algorithm to decide whether the user is interested or not in the prodcut.\n",
    "3. Content based recommedations:\n",
    "    - It is based on the information on the contents of the item rather than on the user opinions.The main idea is if the user likes an item then he or she will like the \"other\" similar item.\n",
    "4. Collaberative Filtering:\n",
    "    - It is based on assumption that people like things similar to other things they like, and things that are liked by other people with similar taste. \n",
    "    - it is mainly of two types: a) User-User b) Item -Item\n",
    "5. Hybrid Approaches:\n",
    "    - This system approach is to combine collaborative filtering, content-based filtering, and other approaches .\n",
    "6. Association rule mining :\n",
    "    - Association rules capture the relationships between items based on their patterns of co-occurrence across transactions.\n",
    "\n",
    "## Attribute Information\n",
    "- reviewerID - ID of the reviewer, e.g. A2SUAM1J3GNN3B\n",
    "    - Ex) http://www.amazon.com/gp/cdp/member-reviews/A2SUAM1J3GNN3B\n",
    "- asin - ID of the product, e.g. 0000013714\n",
    "    - Ex) http://www.amazon.com/dp/0000013714\n",
    "- overall - rating of the product\n",
    "- unixReviewTime - time of the review (unix time)    "
   ]
  },
  {
   "cell_type": "code",
   "execution_count": 6,
   "metadata": {},
   "outputs": [
    {
     "name": "stdout",
     "output_type": "stream",
     "text": [
      "time: 75.6 ms\n"
     ]
    },
    {
     "name": "stderr",
     "output_type": "stream",
     "text": [
      "/home/jh/anaconda3/envs/For_Keras_Official/lib/python3.7/site-packages/sklearn/externals/joblib/__init__.py:15: DeprecationWarning: sklearn.externals.joblib is deprecated in 0.21 and will be removed in 0.23. Please import this functionality directly from joblib, which can be installed with: pip install joblib. If this warning is raised when loading pickled models, you may need to re-serialize those models with scikit-learn 0.21+.\n",
      "  warnings.warn(msg, category=DeprecationWarning)\n"
     ]
    }
   ],
   "source": [
    "import numpy as np # linear algebra\n",
    "import pandas as pd # data processing, CSV file I/O (e.g. pd.read_csv)\n",
    "import os\n",
    "from IPython.core.interactiveshell import InteractiveShell\n",
    "InteractiveShell.ast_node_interactivity = \"all\"\n",
    "import math\n",
    "import json\n",
    "import time\n",
    "import matplotlib.pyplot as plt\n",
    "import seaborn as sns\n",
    "from sklearn.metrics.pairwise import cosine_similarity\n",
    "from sklearn.model_selection import train_test_split\n",
    "from sklearn.neighbors import NearestNeighbors\n",
    "from sklearn.externals import joblib\n",
    "import scipy.sparse\n",
    "from scipy.sparse import csr_matrix\n",
    "from scipy.sparse.linalg import svds\n",
    "import warnings; warnings.simplefilter('ignore')\n",
    "%matplotlib inline"
   ]
  },
  {
   "cell_type": "code",
   "execution_count": 7,
   "metadata": {},
   "outputs": [
    {
     "data": {
      "text/html": [
       "<div>\n",
       "<style scoped>\n",
       "    .dataframe tbody tr th:only-of-type {\n",
       "        vertical-align: middle;\n",
       "    }\n",
       "\n",
       "    .dataframe tbody tr th {\n",
       "        vertical-align: top;\n",
       "    }\n",
       "\n",
       "    .dataframe thead th {\n",
       "        text-align: right;\n",
       "    }\n",
       "</style>\n",
       "<table border=\"1\" class=\"dataframe\">\n",
       "  <thead>\n",
       "    <tr style=\"text-align: right;\">\n",
       "      <th></th>\n",
       "      <th>reviewerID</th>\n",
       "      <th>asin</th>\n",
       "      <th>overall</th>\n",
       "      <th>unixReviewTime</th>\n",
       "    </tr>\n",
       "  </thead>\n",
       "  <tbody>\n",
       "    <tr>\n",
       "      <th>0</th>\n",
       "      <td>A2IC3NZN488KWK</td>\n",
       "      <td>0871167042</td>\n",
       "      <td>5</td>\n",
       "      <td>1399161600</td>\n",
       "    </tr>\n",
       "    <tr>\n",
       "      <th>1</th>\n",
       "      <td>A30FG02C424EJ5</td>\n",
       "      <td>0871167042</td>\n",
       "      <td>5</td>\n",
       "      <td>1396224000</td>\n",
       "    </tr>\n",
       "    <tr>\n",
       "      <th>2</th>\n",
       "      <td>A2G9GWQEWWNQUB</td>\n",
       "      <td>0871167042</td>\n",
       "      <td>5</td>\n",
       "      <td>1432944000</td>\n",
       "    </tr>\n",
       "    <tr>\n",
       "      <th>3</th>\n",
       "      <td>A3NI5OGW35SLY2</td>\n",
       "      <td>0871167042</td>\n",
       "      <td>5</td>\n",
       "      <td>1424476800</td>\n",
       "    </tr>\n",
       "    <tr>\n",
       "      <th>4</th>\n",
       "      <td>A1OPRA4NE56EV6</td>\n",
       "      <td>0871167042</td>\n",
       "      <td>5</td>\n",
       "      <td>1421798400</td>\n",
       "    </tr>\n",
       "  </tbody>\n",
       "</table>\n",
       "</div>"
      ],
      "text/plain": [
       "       reviewerID        asin  overall  unixReviewTime\n",
       "0  A2IC3NZN488KWK  0871167042        5      1399161600\n",
       "1  A30FG02C424EJ5  0871167042        5      1396224000\n",
       "2  A2G9GWQEWWNQUB  0871167042        5      1432944000\n",
       "3  A3NI5OGW35SLY2  0871167042        5      1424476800\n",
       "4  A1OPRA4NE56EV6  0871167042        5      1421798400"
      ]
     },
     "execution_count": 7,
     "metadata": {},
     "output_type": "execute_result"
    },
    {
     "name": "stdout",
     "output_type": "stream",
     "text": [
      "time: 6.38 ms\n"
     ]
    }
   ],
   "source": [
    "review_orgin_df.head()"
   ]
  },
  {
   "cell_type": "code",
   "execution_count": 8,
   "metadata": {},
   "outputs": [
    {
     "name": "stdout",
     "output_type": "stream",
     "text": [
      "<class 'pandas.core.frame.DataFrame'>\n",
      "RangeIndex: 11285464 entries, 0 to 11285463\n",
      "Data columns (total 4 columns):\n",
      " #   Column          Dtype \n",
      "---  ------          ----- \n",
      " 0   reviewerID      object\n",
      " 1   asin            object\n",
      " 2   overall         int64 \n",
      " 3   unixReviewTime  int64 \n",
      "dtypes: int64(2), object(2)\n",
      "memory usage: 344.4+ MB\n",
      "time: 12.5 ms\n"
     ]
    }
   ],
   "source": [
    "review_orgin_df.info()"
   ]
  },
  {
   "cell_type": "code",
   "execution_count": 9,
   "metadata": {},
   "outputs": [
    {
     "data": {
      "text/plain": [
       "count    1.128546e+07\n",
       "mean     4.277177e+00\n",
       "std      1.130252e+00\n",
       "min      1.000000e+00\n",
       "25%      4.000000e+00\n",
       "50%      5.000000e+00\n",
       "75%      5.000000e+00\n",
       "max      5.000000e+00\n",
       "Name: overall, dtype: float64"
      ]
     },
     "execution_count": 9,
     "metadata": {},
     "output_type": "execute_result"
    },
    {
     "name": "stdout",
     "output_type": "stream",
     "text": [
      "time: 426 ms\n"
     ]
    }
   ],
   "source": [
    "#Five point summary \n",
    "review_orgin_df.describe()['overall'].T"
   ]
  },
  {
   "cell_type": "code",
   "execution_count": 10,
   "metadata": {},
   "outputs": [
    {
     "name": "stdout",
     "output_type": "stream",
     "text": [
      "Minimum rating is: 1\n",
      "Maximum rating is: 5\n",
      "time: 16 ms\n"
     ]
    }
   ],
   "source": [
    "#Find the minimum and maximum ratings\n",
    "print('Minimum rating is: %d' %(review_orgin_df.overall.min()))\n",
    "print('Maximum rating is: %d' %(review_orgin_df.overall.max()))"
   ]
  },
  {
   "cell_type": "markdown",
   "metadata": {},
   "source": [
    "- Handling Missing values"
   ]
  },
  {
   "cell_type": "code",
   "execution_count": 11,
   "metadata": {},
   "outputs": [
    {
     "name": "stdout",
     "output_type": "stream",
     "text": [
      "Number of missing values across columns: \n",
      " reviewerID        0\n",
      "asin              0\n",
      "overall           0\n",
      "unixReviewTime    0\n",
      "dtype: int64\n",
      "time: 626 ms\n"
     ]
    }
   ],
   "source": [
    "#Check for missing values\n",
    "print('Number of missing values across columns: \\n',review_orgin_df.isnull().sum())"
   ]
  },
  {
   "cell_type": "markdown",
   "metadata": {},
   "source": [
    "### Ratings \n",
    "    - Most of the people has given the rating of 5"
   ]
  },
  {
   "cell_type": "code",
   "execution_count": 12,
   "metadata": {},
   "outputs": [
    {
     "data": {
      "text/plain": [
       "<seaborn.axisgrid.FacetGrid at 0x7f1b2fae44d0>"
      ]
     },
     "execution_count": 12,
     "metadata": {},
     "output_type": "execute_result"
    },
    {
     "data": {
      "image/png": "[encoded data removed]",
      "text/plain": [
       "<Figure size 720x360 with 1 Axes>"
      ]
     },
     "metadata": {},
     "output_type": "display_data"
    },
    {
     "name": "stdout",
     "output_type": "stream",
     "text": [
      "time: 2.31 s\n"
     ]
    }
   ],
   "source": [
    "# Check the distribution of the rating\n",
    "with sns.axes_style('white'):\n",
    "    g = sns.factorplot(\"overall\", data=review_orgin_df, aspect=2.0, kind='count')\n",
    "    g.set_ylabels(\"Total number of ratings\")"
   ]
  },
  {
   "cell_type": "markdown",
   "metadata": {},
   "source": [
    "### Unique Users and products"
   ]
  },
  {
   "cell_type": "code",
   "execution_count": 13,
   "metadata": {},
   "outputs": [
    {
     "name": "stdout",
     "output_type": "stream",
     "text": [
      "Total data \n",
      "--------------------------------------------------\n",
      "\n",
      "Total no of ratings : 11285464\n",
      "Total No of Users   : 1219678\n",
      "Total No of products  : 376858\n",
      "time: 22.5 s\n"
     ]
    }
   ],
   "source": [
    "print(\"Total data \")\n",
    "print(\"-\"*50)\n",
    "print(\"\\nTotal no of ratings :\",review_orgin_df.shape[0])\n",
    "print(\"Total No of Users   :\", len(np.unique(review_orgin_df.reviewerID)))\n",
    "print(\"Total No of products  :\", len(np.unique(review_orgin_df.asin)))"
   ]
  },
  {
   "cell_type": "markdown",
   "metadata": {},
   "source": [
    "### Analyzing the rating ( overall )"
   ]
  },
  {
   "cell_type": "code",
   "execution_count": 14,
   "metadata": {},
   "outputs": [
    {
     "data": {
      "text/plain": [
       "reviewerID\n",
       "ALFRMOGTO1K4M     494\n",
       "AVU1ILDDYW301     461\n",
       "A2RYWPOL4NN2KG    418\n",
       "A3W5A9X3HHACQT    354\n",
       "A2QDOJFFLFGF18    343\n",
       "Name: overall, dtype: int64"
      ]
     },
     "execution_count": 14,
     "metadata": {},
     "output_type": "execute_result"
    },
    {
     "name": "stdout",
     "output_type": "stream",
     "text": [
      "time: 4.06 s\n"
     ]
    }
   ],
   "source": [
    "#Analysis of rating given by the user \n",
    "no_of_rated_products_per_user = review_orgin_df.groupby(by='reviewerID')['overall'].count().sort_values(ascending=False)\n",
    "no_of_rated_products_per_user.head()"
   ]
  },
  {
   "cell_type": "code",
   "execution_count": 15,
   "metadata": {},
   "outputs": [
    {
     "name": "stdout",
     "output_type": "stream",
     "text": [
      "time: 325 µs\n"
     ]
    }
   ],
   "source": [
    "##### how-to-format-how-a-numpy-array-prints-in-pytho\n",
    "# https://kite.com/python/answers/how-to-format-how-a-numpy-array-prints-in-python\n",
    "\n",
    "np.set_printoptions(suppress=True)"
   ]
  },
  {
   "cell_type": "code",
   "execution_count": 16,
   "metadata": {},
   "outputs": [
    {
     "data": {
      "text/plain": [
       "count    1.219678e+06\n",
       "mean     9.252822e+00\n",
       "std      7.321460e+00\n",
       "min      3.000000e+00\n",
       "25%      5.000000e+00\n",
       "50%      7.000000e+00\n",
       "75%      1.000000e+01\n",
       "max      4.940000e+02\n",
       "Name: overall, dtype: float64"
      ]
     },
     "execution_count": 16,
     "metadata": {},
     "output_type": "execute_result"
    },
    {
     "name": "stdout",
     "output_type": "stream",
     "text": [
      "time: 39.9 ms\n"
     ]
    }
   ],
   "source": [
    "no_of_rated_products_per_user.describe()"
   ]
  },
  {
   "cell_type": "code",
   "execution_count": 17,
   "metadata": {},
   "outputs": [
    {
     "data": {
      "text/plain": [
       "<Figure size 720x720 with 0 Axes>"
      ]
     },
     "execution_count": 17,
     "metadata": {},
     "output_type": "execute_result"
    },
    {
     "data": {
      "text/plain": [
       "Text(0.5, 1.0, 'Quantiles and their Values')"
      ]
     },
     "execution_count": 17,
     "metadata": {},
     "output_type": "execute_result"
    },
    {
     "data": {
      "text/plain": [
       "<matplotlib.axes._subplots.AxesSubplot at 0x7f1b02a25950>"
      ]
     },
     "execution_count": 17,
     "metadata": {},
     "output_type": "execute_result"
    },
    {
     "data": {
      "text/plain": [
       "<matplotlib.collections.PathCollection at 0x7f1b0256e610>"
      ]
     },
     "execution_count": 17,
     "metadata": {},
     "output_type": "execute_result"
    },
    {
     "data": {
      "text/plain": [
       "<matplotlib.collections.PathCollection at 0x7f1b3173d750>"
      ]
     },
     "execution_count": 17,
     "metadata": {},
     "output_type": "execute_result"
    },
    {
     "data": {
      "text/plain": [
       "Text(0, 0.5, 'No of ratings by user')"
      ]
     },
     "execution_count": 17,
     "metadata": {},
     "output_type": "execute_result"
    },
    {
     "data": {
      "text/plain": [
       "Text(0.5, 0, 'Value at the quantile')"
      ]
     },
     "execution_count": 17,
     "metadata": {},
     "output_type": "execute_result"
    },
    {
     "data": {
      "text/plain": [
       "<matplotlib.legend.Legend at 0x7f1afd3d9610>"
      ]
     },
     "execution_count": 17,
     "metadata": {},
     "output_type": "execute_result"
    },
    {
     "data": {
      "image/png": "[encoded data removed]",
      "text/plain": [
       "<Figure size 720x720 with 1 Axes>"
      ]
     },
     "metadata": {
      "needs_background": "light"
     },
     "output_type": "display_data"
    },
    {
     "name": "stdout",
     "output_type": "stream",
     "text": [
      "time: 296 ms\n"
     ]
    }
   ],
   "source": [
    "quantiles = no_of_rated_products_per_user.quantile(np.arange(0,1.01,0.01), interpolation='higher')\n",
    "\n",
    "plt.figure(figsize=(10,10))\n",
    "plt.title(\"Quantiles and their Values\")\n",
    "quantiles.plot()\n",
    "# quantiles with 0.05 difference\n",
    "plt.scatter(x=quantiles.index[::5], y=quantiles.values[::5], c='orange', label=\"quantiles with 0.05 intervals\")\n",
    "# quantiles with 0.25 difference\n",
    "plt.scatter(x=quantiles.index[::25], y=quantiles.values[::25], c='m', label = \"quantiles with 0.25 intervals\")\n",
    "plt.ylabel('No of ratings by user')\n",
    "plt.xlabel('Value at the quantile')\n",
    "plt.legend(loc='best')\n",
    "plt.show()"
   ]
  },
  {
   "cell_type": "code",
   "execution_count": 18,
   "metadata": {},
   "outputs": [
    {
     "name": "stdout",
     "output_type": "stream",
     "text": [
      "\n",
      " No of rated product more than 50 per user : 5481\n",
      "\n",
      "time: 81.9 ms\n"
     ]
    }
   ],
   "source": [
    "print('\\n No of rated product more than 50 per user : {}\\n'.format(sum(no_of_rated_products_per_user >= 50)) )"
   ]
  },
  {
   "cell_type": "markdown",
   "metadata": {},
   "source": [
    "# 1. Popularity Based Recommendation\n",
    "\n",
    "- Popularity based recommendation system works with the trend. \n",
    "- It basically uses the items which are in trend right now. \n",
    "    - For example, if any product which is usually bought by every new user then there are chances that it may suggest that item to the user who just signed up.\n",
    "- The problems with popularity based recommendation system is that the personalization is not available with this method \n",
    "    - i.e. even though you know the behaviour of the user you cannot recommend items accordingly.\n",
    "    \n",
    "<img src=\"./refer_pics/2.png\">    "
   ]
  },
  {
   "cell_type": "markdown",
   "metadata": {},
   "source": [
    "### Getting the new dataframe which contains users who has given 50 or more ratings"
   ]
  },
  {
   "cell_type": "code",
   "execution_count": 64,
   "metadata": {},
   "outputs": [
    {
     "name": "stdout",
     "output_type": "stream",
     "text": [
      "time: 1min 7s\n"
     ]
    }
   ],
   "source": [
    "new_df=review_orgin_df.groupby(\"asin\").filter(lambda x:x['overall'].count() >=50)"
   ]
  },
  {
   "cell_type": "code",
   "execution_count": 65,
   "metadata": {},
   "outputs": [
    {
     "data": {
      "text/plain": [
       "[<matplotlib.lines.Line2D at 0x7f1afc602a90>]"
      ]
     },
     "execution_count": 65,
     "metadata": {},
     "output_type": "execute_result"
    },
    {
     "data": {
      "text/plain": [
       "Text(0.5, 1.0, '# RATINGS per Product')"
      ]
     },
     "execution_count": 65,
     "metadata": {},
     "output_type": "execute_result"
    },
    {
     "data": {
      "text/plain": [
       "Text(0.5, 0, 'Product')"
      ]
     },
     "execution_count": 65,
     "metadata": {},
     "output_type": "execute_result"
    },
    {
     "data": {
      "text/plain": [
       "Text(0, 0.5, 'No of ratings per product')"
      ]
     },
     "execution_count": 65,
     "metadata": {},
     "output_type": "execute_result"
    },
    {
     "data": {
      "text/plain": [
       "[]"
      ]
     },
     "execution_count": 65,
     "metadata": {},
     "output_type": "execute_result"
    },
    {
     "data": {
      "image/png": "[encoded data removed]",
      "text/plain": [
       "<Figure size 576x288 with 1 Axes>"
      ]
     },
     "metadata": {
      "needs_background": "light"
     },
     "output_type": "display_data"
    },
    {
     "name": "stdout",
     "output_type": "stream",
     "text": [
      "time: 507 ms\n"
     ]
    }
   ],
   "source": [
    "no_of_ratings_per_product = new_df.groupby(by='asin')['overall'].count().sort_values(ascending=False)\n",
    "\n",
    "fig = plt.figure(figsize=plt.figaspect(.5))\n",
    "ax = plt.gca()\n",
    "plt.plot(no_of_ratings_per_product.values)\n",
    "plt.title('# RATINGS per Product')\n",
    "plt.xlabel('Product')\n",
    "plt.ylabel('No of ratings per product')\n",
    "ax.set_xticklabels([])\n",
    "\n",
    "plt.show()"
   ]
  },
  {
   "cell_type": "code",
   "execution_count": 66,
   "metadata": {},
   "outputs": [
    {
     "data": {
      "text/plain": [
       "asin\n",
       "3979050432    4.258065\n",
       "5120053084    4.544444\n",
       "5120053351    4.000000\n",
       "7709260373    4.432432\n",
       "B00001T38Y    4.134615\n",
       "Name: overall, dtype: float64"
      ]
     },
     "execution_count": 66,
     "metadata": {},
     "output_type": "execute_result"
    },
    {
     "name": "stdout",
     "output_type": "stream",
     "text": [
      "time: 336 ms\n"
     ]
    }
   ],
   "source": [
    "#Average rating of the product \n",
    "\n",
    "new_df.groupby('asin')['overall'].mean().head()"
   ]
  },
  {
   "cell_type": "code",
   "execution_count": 67,
   "metadata": {},
   "outputs": [
    {
     "data": {
      "text/plain": [
       "asin\n",
       "B00QXEK5WA    5.000000\n",
       "B00AZR3TR4    4.960784\n",
       "B002YIR9SM    4.952381\n",
       "B0015PD4NE    4.945205\n",
       "B00N8MVFOC    4.944000\n",
       "Name: overall, dtype: float64"
      ]
     },
     "execution_count": 67,
     "metadata": {},
     "output_type": "execute_result"
    },
    {
     "name": "stdout",
     "output_type": "stream",
     "text": [
      "time: 340 ms\n"
     ]
    }
   ],
   "source": [
    "new_df.groupby('asin')['overall'].mean().sort_values(ascending=False).head()"
   ]
  },
  {
   "cell_type": "markdown",
   "metadata": {},
   "source": [
    "- Total number of rating for product"
   ]
  },
  {
   "cell_type": "code",
   "execution_count": 68,
   "metadata": {},
   "outputs": [
    {
     "data": {
      "text/plain": [
       "asin\n",
       "B000YXC2LI    19693\n",
       "B00028AVDG    13895\n",
       "B0001YRE04    13813\n",
       "B000XDJ7LW    12464\n",
       "B000XBM1L2    12442\n",
       "Name: overall, dtype: int64"
      ]
     },
     "execution_count": 68,
     "metadata": {},
     "output_type": "execute_result"
    },
    {
     "name": "stdout",
     "output_type": "stream",
     "text": [
      "time: 337 ms\n"
     ]
    }
   ],
   "source": [
    "new_df.groupby('asin')['overall'].count().sort_values(ascending=False).head()"
   ]
  },
  {
   "cell_type": "code",
   "execution_count": 69,
   "metadata": {},
   "outputs": [
    {
     "data": {
      "text/html": [
       "<div>\n",
       "<style scoped>\n",
       "    .dataframe tbody tr th:only-of-type {\n",
       "        vertical-align: middle;\n",
       "    }\n",
       "\n",
       "    .dataframe tbody tr th {\n",
       "        vertical-align: top;\n",
       "    }\n",
       "\n",
       "    .dataframe thead th {\n",
       "        text-align: right;\n",
       "    }\n",
       "</style>\n",
       "<table border=\"1\" class=\"dataframe\">\n",
       "  <thead>\n",
       "    <tr style=\"text-align: right;\">\n",
       "      <th></th>\n",
       "      <th>overall</th>\n",
       "      <th>rating_counts</th>\n",
       "    </tr>\n",
       "    <tr>\n",
       "      <th>asin</th>\n",
       "      <th></th>\n",
       "      <th></th>\n",
       "    </tr>\n",
       "  </thead>\n",
       "  <tbody>\n",
       "    <tr>\n",
       "      <th>3979050432</th>\n",
       "      <td>4.258065</td>\n",
       "      <td>62</td>\n",
       "    </tr>\n",
       "    <tr>\n",
       "      <th>5120053084</th>\n",
       "      <td>4.544444</td>\n",
       "      <td>180</td>\n",
       "    </tr>\n",
       "    <tr>\n",
       "      <th>5120053351</th>\n",
       "      <td>4.000000</td>\n",
       "      <td>52</td>\n",
       "    </tr>\n",
       "    <tr>\n",
       "      <th>7709260373</th>\n",
       "      <td>4.432432</td>\n",
       "      <td>74</td>\n",
       "    </tr>\n",
       "    <tr>\n",
       "      <th>B00001T38Y</th>\n",
       "      <td>4.134615</td>\n",
       "      <td>52</td>\n",
       "    </tr>\n",
       "  </tbody>\n",
       "</table>\n",
       "</div>"
      ],
      "text/plain": [
       "             overall  rating_counts\n",
       "asin                               \n",
       "3979050432  4.258065             62\n",
       "5120053084  4.544444            180\n",
       "5120053351  4.000000             52\n",
       "7709260373  4.432432             74\n",
       "B00001T38Y  4.134615             52"
      ]
     },
     "execution_count": 69,
     "metadata": {},
     "output_type": "execute_result"
    },
    {
     "name": "stdout",
     "output_type": "stream",
     "text": [
      "time: 674 ms\n"
     ]
    }
   ],
   "source": [
    "ratings_mean_count = pd.DataFrame(new_df.groupby('asin')['overall'].mean())\n",
    "ratings_mean_count['rating_counts'] = pd.DataFrame(new_df.groupby('asin')['overall'].count())\n",
    "ratings_mean_count.head()"
   ]
  },
  {
   "cell_type": "code",
   "execution_count": 70,
   "metadata": {},
   "outputs": [
    {
     "data": {
      "text/plain": [
       "19693"
      ]
     },
     "execution_count": 70,
     "metadata": {},
     "output_type": "execute_result"
    },
    {
     "name": "stdout",
     "output_type": "stream",
     "text": [
      "time: 1.55 ms\n"
     ]
    }
   ],
   "source": [
    "ratings_mean_count['rating_counts'].max()"
   ]
  },
  {
   "cell_type": "code",
   "execution_count": 71,
   "metadata": {},
   "outputs": [
    {
     "data": {
      "text/plain": [
       "<Figure size 576x432 with 0 Axes>"
      ]
     },
     "execution_count": 71,
     "metadata": {},
     "output_type": "execute_result"
    },
    {
     "data": {
      "text/plain": [
       "<matplotlib.axes._subplots.AxesSubplot at 0x7f1b0042dd90>"
      ]
     },
     "execution_count": 71,
     "metadata": {},
     "output_type": "execute_result"
    },
    {
     "data": {
      "image/png": "[encoded data removed]",
      "text/plain": [
       "<Figure size 576x432 with 1 Axes>"
      ]
     },
     "metadata": {
      "needs_background": "light"
     },
     "output_type": "display_data"
    },
    {
     "name": "stdout",
     "output_type": "stream",
     "text": [
      "time: 238 ms\n"
     ]
    }
   ],
   "source": [
    "plt.figure(figsize=(8,6))\n",
    "plt.rcParams['patch.force_edgecolor'] = True\n",
    "ratings_mean_count['rating_counts'].hist(bins=50)"
   ]
  },
  {
   "cell_type": "code",
   "execution_count": 72,
   "metadata": {},
   "outputs": [
    {
     "data": {
      "text/plain": [
       "<Figure size 576x432 with 0 Axes>"
      ]
     },
     "execution_count": 72,
     "metadata": {},
     "output_type": "execute_result"
    },
    {
     "data": {
      "text/plain": [
       "<matplotlib.axes._subplots.AxesSubplot at 0x7f1b00407a10>"
      ]
     },
     "execution_count": 72,
     "metadata": {},
     "output_type": "execute_result"
    },
    {
     "data": {
      "image/png": "[encoded data removed]",
      "text/plain": [
       "<Figure size 576x432 with 1 Axes>"
      ]
     },
     "metadata": {
      "needs_background": "light"
     },
     "output_type": "display_data"
    },
    {
     "name": "stdout",
     "output_type": "stream",
     "text": [
      "time: 357 ms\n"
     ]
    }
   ],
   "source": [
    "plt.figure(figsize=(8,6))\n",
    "plt.rcParams['patch.force_edgecolor'] = True\n",
    "ratings_mean_count['overall'].hist(bins=50)"
   ]
  },
  {
   "cell_type": "code",
   "execution_count": 73,
   "metadata": {},
   "outputs": [
    {
     "data": {
      "text/plain": [
       "<Figure size 576x432 with 0 Axes>"
      ]
     },
     "execution_count": 73,
     "metadata": {},
     "output_type": "execute_result"
    },
    {
     "data": {
      "text/plain": [
       "<seaborn.axisgrid.JointGrid at 0x7f1aa24a9f90>"
      ]
     },
     "execution_count": 73,
     "metadata": {},
     "output_type": "execute_result"
    },
    {
     "data": {
      "text/plain": [
       "<Figure size 576x432 with 0 Axes>"
      ]
     },
     "metadata": {},
     "output_type": "display_data"
    },
    {
     "data": {
      "image/png": "[encoded data removed]",
      "text/plain": [
       "<Figure size 432x432 with 3 Axes>"
      ]
     },
     "metadata": {
      "needs_background": "light"
     },
     "output_type": "display_data"
    },
    {
     "name": "stdout",
     "output_type": "stream",
     "text": [
      "time: 647 ms\n"
     ]
    }
   ],
   "source": [
    "plt.figure(figsize=(8,6))\n",
    "plt.rcParams['patch.force_edgecolor'] = True\n",
    "sns.jointplot(x='overall', y='rating_counts', data=ratings_mean_count, alpha=0.4)"
   ]
  },
  {
   "cell_type": "markdown",
   "metadata": {},
   "source": [
    "### *** Recommned products based on Popularity Based Recommendation"
   ]
  },
  {
   "cell_type": "code",
   "execution_count": 74,
   "metadata": {},
   "outputs": [
    {
     "data": {
      "text/plain": [
       "<matplotlib.axes._subplots.AxesSubplot at 0x7f1b000e4850>"
      ]
     },
     "execution_count": 74,
     "metadata": {},
     "output_type": "execute_result"
    },
    {
     "data": {
      "image/png": "[encoded data removed]",
      "text/plain": [
       "<Figure size 432x288 with 1 Axes>"
      ]
     },
     "metadata": {
      "needs_background": "light"
     },
     "output_type": "display_data"
    },
    {
     "name": "stdout",
     "output_type": "stream",
     "text": [
      "time: 588 ms\n"
     ]
    }
   ],
   "source": [
    "popular_products = pd.DataFrame(new_df.groupby('asin')['overall'].count())\n",
    "most_popular = popular_products.sort_values('overall', ascending=False)\n",
    "most_popular.head(30).plot(kind = \"bar\")"
   ]
  },
  {
   "cell_type": "markdown",
   "metadata": {},
   "source": [
    "# 2. Collaberative filtering (Item-Item recommedation)\n",
    "\n",
    "- Collaborative filtering is commonly used for recommender systems. \n",
    "- These techniques aim to fill in the missing entries of a user-item association matrix. \n",
    "- We are going to use collaborative filtering (CF) approach. \n",
    "    - CF is based on the idea that the best recommendations come from people who have similar tastes. \n",
    "    - In other words, it uses historical item ratings of like-minded people to predict how someone would rate an item.\n",
    "    - Collaborative filtering has two sub-categories that are generally called memory based and model-based approaches.\n",
    "    \n",
    "#### using python module: https://surprise.readthedocs.io/en/stable/    "
   ]
  },
  {
   "cell_type": "code",
   "execution_count": 75,
   "metadata": {},
   "outputs": [
    {
     "name": "stdout",
     "output_type": "stream",
     "text": [
      "time: 503 µs\n"
     ]
    }
   ],
   "source": [
    "from surprise import KNNWithMeans\n",
    "from surprise import Dataset\n",
    "from surprise import accuracy\n",
    "from surprise import Reader\n",
    "import os\n",
    "from surprise.model_selection import train_test_split"
   ]
  },
  {
   "cell_type": "markdown",
   "metadata": {},
   "source": [
    "# **** Sampling data for testing\n",
    "- Original sample size: (6940556, 4)\n",
    "- Size of sample: 10000"
   ]
  },
  {
   "cell_type": "code",
   "execution_count": 76,
   "metadata": {},
   "outputs": [
    {
     "name": "stdout",
     "output_type": "stream",
     "text": [
      "shape of data:  (6940556, 4)\n",
      "Sample shape of data:  (10000, 4)\n",
      "time: 203 ms\n"
     ]
    }
   ],
   "source": [
    "NUM_SAMPLE = 10000\n",
    "\n",
    "print(\"shape of data: \", new_df.shape)\n",
    "sample_df = new_df.sample(n=NUM_SAMPLE, random_state=2)\n",
    "print(\"Sample shape of data: \", sample_df.shape)"
   ]
  },
  {
   "cell_type": "code",
   "execution_count": 77,
   "metadata": {},
   "outputs": [
    {
     "name": "stdout",
     "output_type": "stream",
     "text": [
      "time: 12.4 ms\n"
     ]
    }
   ],
   "source": [
    "#Reading the dataset\n",
    "sample_df = sample_df.drop(columns=['unixReviewTime'])\n",
    "reader = Reader(rating_scale=(1, 5))\n",
    "data = Dataset.load_from_df(sample_df, reader)"
   ]
  },
  {
   "cell_type": "code",
   "execution_count": 78,
   "metadata": {},
   "outputs": [
    {
     "name": "stdout",
     "output_type": "stream",
     "text": [
      "time: 36.9 ms\n"
     ]
    }
   ],
   "source": [
    "#Splitting the dataset\n",
    "trainset, testset = train_test_split(data, test_size=0.3,random_state=10)"
   ]
  },
  {
   "cell_type": "markdown",
   "metadata": {},
   "source": [
    "### Collaborative Filtering\n",
    "\n",
    "- Collaborative Filtering is the most common technique used when it comes to building intelligent recommender systems that can learn to give better recommendations as more information about users is collected.\n",
    "\n",
    "- Most websites like Amazon, YouTube, and Netflix use collaborative filtering as a part of their sophisticated recommendation systems. You can use this technique to build recommenders that give suggestions to a user on the basis of the likes and dislikes of similar users.\n",
    "\n",
    "#### What Is Collaborative Filtering?\n",
    "- Collaborative filtering is a technique that can filter out items that a user might like on the basis of reactions by similar users.\n",
    "\n",
    "- It works by searching a large group of people and finding a smaller set of users with tastes similar to a particular user. It looks at the items they like and combines them to create a ranked list of suggestions.\n",
    "\n",
    "- There are many ways to decide which users are similar and combine their choices to create a list of recommendations.\n",
    "\n",
    "    - https://surprise.readthedocs.io/en/stable/knn_inspired.html\n",
    "    - https://realpython.com/build-recommendation-engine-collaborative-filtering/\n",
    "\n",
    "<img src=\"./refer_pics/KNNWithMeans.png\">  "
   ]
  },
  {
   "cell_type": "markdown",
   "metadata": {},
   "source": [
    "### Use user_based true/false to switch for: \n",
    "- user-based collaborative filtering \n",
    "- item-based collaborative filtering"
   ]
  },
  {
   "cell_type": "code",
   "execution_count": 79,
   "metadata": {},
   "outputs": [
    {
     "name": "stdout",
     "output_type": "stream",
     "text": [
      "Estimating biases using als...\n",
      "Computing the pearson_baseline similarity matrix...\n",
      "Done computing similarity matrix.\n"
     ]
    },
    {
     "data": {
      "text/plain": [
       "<surprise.prediction_algorithms.knns.KNNWithMeans at 0x7f1b00071590>"
      ]
     },
     "execution_count": 79,
     "metadata": {},
     "output_type": "execute_result"
    },
    {
     "name": "stdout",
     "output_type": "stream",
     "text": [
      "time: 493 ms\n"
     ]
    }
   ],
   "source": [
    "algo = KNNWithMeans(k=5, sim_options={'name': 'pearson_baseline', 'user_based': False})\n",
    "algo.fit(trainset)"
   ]
  },
  {
   "cell_type": "markdown",
   "metadata": {},
   "source": [
    "### Run the trained model against the testset"
   ]
  },
  {
   "cell_type": "code",
   "execution_count": 80,
   "metadata": {},
   "outputs": [
    {
     "name": "stdout",
     "output_type": "stream",
     "text": [
      "time: 34.6 ms\n"
     ]
    }
   ],
   "source": [
    "test_pred = algo.test(testset)"
   ]
  },
  {
   "cell_type": "code",
   "execution_count": 81,
   "metadata": {},
   "outputs": [
    {
     "data": {
      "text/plain": [
       "[Prediction(uid='A3A960Z3ZKFADU', iid='B001WY2CGI', r_ui=5.0, est=4.2785714285714285, details={'was_impossible': True, 'reason': 'User and/or item is unkown.'}),\n",
       " Prediction(uid='A2Q15110NJWDM0', iid='B015Z9TRWC', r_ui=5.0, est=4.2785714285714285, details={'was_impossible': True, 'reason': 'User and/or item is unkown.'}),\n",
       " Prediction(uid='A38PE0UK4ARQYV', iid='B000I01DHQ', r_ui=4.0, est=4.2785714285714285, details={'was_impossible': True, 'reason': 'User and/or item is unkown.'})]"
      ]
     },
     "execution_count": 81,
     "metadata": {},
     "output_type": "execute_result"
    },
    {
     "name": "stdout",
     "output_type": "stream",
     "text": [
      "time: 6.46 ms\n"
     ]
    }
   ],
   "source": [
    "test_pred[:3]"
   ]
  },
  {
   "cell_type": "markdown",
   "metadata": {},
   "source": [
    "## Get RMSE"
   ]
  },
  {
   "cell_type": "code",
   "execution_count": 82,
   "metadata": {},
   "outputs": [
    {
     "name": "stdout",
     "output_type": "stream",
     "text": [
      "Item-based Model : Test Set\n",
      "RMSE: 1.1183\n"
     ]
    },
    {
     "data": {
      "text/plain": [
       "1.1183111830840666"
      ]
     },
     "execution_count": 82,
     "metadata": {},
     "output_type": "execute_result"
    },
    {
     "name": "stdout",
     "output_type": "stream",
     "text": [
      "time: 16.6 ms\n"
     ]
    }
   ],
   "source": [
    "print(\"Item-based Model : Test Set\")\n",
    "accuracy.rmse(test_pred, verbose=True)"
   ]
  },
  {
   "cell_type": "markdown",
   "metadata": {},
   "source": [
    "# 3. Model-based collaborative filtering system\n",
    "\n",
    "- These methods are based on machine learning and data mining techniques. \n",
    "- The goal is to train models to be able to make predictions. \n",
    "- For example, we could use existing user-item interactions to train a model to predict the top-5 items that a user might like the most. \n",
    "- One advantage of these methods is that they are able to recommend a larger number of items to a larger number of users, compared to other methods like memory based approach. - They have large coverage, even when working with large sparse matrices."
   ]
  },
  {
   "cell_type": "code",
   "execution_count": 84,
   "metadata": {},
   "outputs": [
    {
     "name": "stdout",
     "output_type": "stream",
     "text": [
      "size of sample_df:  (10000, 3)\n"
     ]
    },
    {
     "data": {
      "text/html": [
       "<div>\n",
       "<style scoped>\n",
       "    .dataframe tbody tr th:only-of-type {\n",
       "        vertical-align: middle;\n",
       "    }\n",
       "\n",
       "    .dataframe tbody tr th {\n",
       "        vertical-align: top;\n",
       "    }\n",
       "\n",
       "    .dataframe thead th {\n",
       "        text-align: right;\n",
       "    }\n",
       "</style>\n",
       "<table border=\"1\" class=\"dataframe\">\n",
       "  <thead>\n",
       "    <tr style=\"text-align: right;\">\n",
       "      <th>asin</th>\n",
       "      <th>B00001TOXD</th>\n",
       "      <th>B0000696B9</th>\n",
       "      <th>B00006XXGO</th>\n",
       "      <th>B000072UMN</th>\n",
       "      <th>B000072US4</th>\n",
       "      <th>B00007GDAL</th>\n",
       "      <th>B0000865II</th>\n",
       "      <th>B0000868IP</th>\n",
       "      <th>B00008KZCG</th>\n",
       "      <th>B00008L1ST</th>\n",
       "      <th>...</th>\n",
       "      <th>B01H7Z5TMY</th>\n",
       "      <th>B01HBBUR9O</th>\n",
       "      <th>B01HBGC0SK</th>\n",
       "      <th>B01HBXYO4G</th>\n",
       "      <th>B01HCF5794</th>\n",
       "      <th>B01HCN0ZRU</th>\n",
       "      <th>B01HD4Z44W</th>\n",
       "      <th>B01HEWU0ME</th>\n",
       "      <th>B01HIACCKA</th>\n",
       "      <th>B01HJCLLP4</th>\n",
       "    </tr>\n",
       "    <tr>\n",
       "      <th>reviewerID</th>\n",
       "      <th></th>\n",
       "      <th></th>\n",
       "      <th></th>\n",
       "      <th></th>\n",
       "      <th></th>\n",
       "      <th></th>\n",
       "      <th></th>\n",
       "      <th></th>\n",
       "      <th></th>\n",
       "      <th></th>\n",
       "      <th></th>\n",
       "      <th></th>\n",
       "      <th></th>\n",
       "      <th></th>\n",
       "      <th></th>\n",
       "      <th></th>\n",
       "      <th></th>\n",
       "      <th></th>\n",
       "      <th></th>\n",
       "      <th></th>\n",
       "      <th></th>\n",
       "    </tr>\n",
       "  </thead>\n",
       "  <tbody>\n",
       "    <tr>\n",
       "      <th>A0282090CIJJZ4Q86K0L</th>\n",
       "      <td>0</td>\n",
       "      <td>0</td>\n",
       "      <td>0</td>\n",
       "      <td>0</td>\n",
       "      <td>0</td>\n",
       "      <td>0</td>\n",
       "      <td>0</td>\n",
       "      <td>0</td>\n",
       "      <td>0</td>\n",
       "      <td>0</td>\n",
       "      <td>...</td>\n",
       "      <td>0</td>\n",
       "      <td>0</td>\n",
       "      <td>0</td>\n",
       "      <td>0</td>\n",
       "      <td>0</td>\n",
       "      <td>0</td>\n",
       "      <td>0</td>\n",
       "      <td>0</td>\n",
       "      <td>0</td>\n",
       "      <td>0</td>\n",
       "    </tr>\n",
       "    <tr>\n",
       "      <th>A0410220OUSXMEM9LGTD</th>\n",
       "      <td>0</td>\n",
       "      <td>0</td>\n",
       "      <td>0</td>\n",
       "      <td>0</td>\n",
       "      <td>0</td>\n",
       "      <td>0</td>\n",
       "      <td>0</td>\n",
       "      <td>0</td>\n",
       "      <td>0</td>\n",
       "      <td>0</td>\n",
       "      <td>...</td>\n",
       "      <td>0</td>\n",
       "      <td>0</td>\n",
       "      <td>0</td>\n",
       "      <td>0</td>\n",
       "      <td>0</td>\n",
       "      <td>0</td>\n",
       "      <td>0</td>\n",
       "      <td>0</td>\n",
       "      <td>0</td>\n",
       "      <td>0</td>\n",
       "    </tr>\n",
       "    <tr>\n",
       "      <th>A0623663I1MJP742T29P</th>\n",
       "      <td>0</td>\n",
       "      <td>0</td>\n",
       "      <td>0</td>\n",
       "      <td>0</td>\n",
       "      <td>0</td>\n",
       "      <td>0</td>\n",
       "      <td>0</td>\n",
       "      <td>0</td>\n",
       "      <td>0</td>\n",
       "      <td>0</td>\n",
       "      <td>...</td>\n",
       "      <td>0</td>\n",
       "      <td>0</td>\n",
       "      <td>0</td>\n",
       "      <td>0</td>\n",
       "      <td>0</td>\n",
       "      <td>0</td>\n",
       "      <td>0</td>\n",
       "      <td>0</td>\n",
       "      <td>0</td>\n",
       "      <td>0</td>\n",
       "    </tr>\n",
       "    <tr>\n",
       "      <th>A0663178OQ5O5VTCCA0U</th>\n",
       "      <td>0</td>\n",
       "      <td>0</td>\n",
       "      <td>0</td>\n",
       "      <td>0</td>\n",
       "      <td>0</td>\n",
       "      <td>0</td>\n",
       "      <td>0</td>\n",
       "      <td>0</td>\n",
       "      <td>0</td>\n",
       "      <td>0</td>\n",
       "      <td>...</td>\n",
       "      <td>0</td>\n",
       "      <td>0</td>\n",
       "      <td>0</td>\n",
       "      <td>0</td>\n",
       "      <td>0</td>\n",
       "      <td>0</td>\n",
       "      <td>0</td>\n",
       "      <td>0</td>\n",
       "      <td>0</td>\n",
       "      <td>0</td>\n",
       "    </tr>\n",
       "    <tr>\n",
       "      <th>A0794484ESPQUQ75G4X7</th>\n",
       "      <td>0</td>\n",
       "      <td>0</td>\n",
       "      <td>0</td>\n",
       "      <td>0</td>\n",
       "      <td>0</td>\n",
       "      <td>0</td>\n",
       "      <td>0</td>\n",
       "      <td>0</td>\n",
       "      <td>0</td>\n",
       "      <td>0</td>\n",
       "      <td>...</td>\n",
       "      <td>0</td>\n",
       "      <td>0</td>\n",
       "      <td>0</td>\n",
       "      <td>0</td>\n",
       "      <td>0</td>\n",
       "      <td>0</td>\n",
       "      <td>0</td>\n",
       "      <td>0</td>\n",
       "      <td>0</td>\n",
       "      <td>0</td>\n",
       "    </tr>\n",
       "  </tbody>\n",
       "</table>\n",
       "<p>5 rows × 7214 columns</p>\n",
       "</div>"
      ],
      "text/plain": [
       "asin                  B00001TOXD  B0000696B9  B00006XXGO  B000072UMN  \\\n",
       "reviewerID                                                             \n",
       "A0282090CIJJZ4Q86K0L           0           0           0           0   \n",
       "A0410220OUSXMEM9LGTD           0           0           0           0   \n",
       "A0623663I1MJP742T29P           0           0           0           0   \n",
       "A0663178OQ5O5VTCCA0U           0           0           0           0   \n",
       "A0794484ESPQUQ75G4X7           0           0           0           0   \n",
       "\n",
       "asin                  B000072US4  B00007GDAL  B0000865II  B0000868IP  \\\n",
       "reviewerID                                                             \n",
       "A0282090CIJJZ4Q86K0L           0           0           0           0   \n",
       "A0410220OUSXMEM9LGTD           0           0           0           0   \n",
       "A0623663I1MJP742T29P           0           0           0           0   \n",
       "A0663178OQ5O5VTCCA0U           0           0           0           0   \n",
       "A0794484ESPQUQ75G4X7           0           0           0           0   \n",
       "\n",
       "asin                  B00008KZCG  B00008L1ST  ...  B01H7Z5TMY  B01HBBUR9O  \\\n",
       "reviewerID                                    ...                           \n",
       "A0282090CIJJZ4Q86K0L           0           0  ...           0           0   \n",
       "A0410220OUSXMEM9LGTD           0           0  ...           0           0   \n",
       "A0623663I1MJP742T29P           0           0  ...           0           0   \n",
       "A0663178OQ5O5VTCCA0U           0           0  ...           0           0   \n",
       "A0794484ESPQUQ75G4X7           0           0  ...           0           0   \n",
       "\n",
       "asin                  B01HBGC0SK  B01HBXYO4G  B01HCF5794  B01HCN0ZRU  \\\n",
       "reviewerID                                                             \n",
       "A0282090CIJJZ4Q86K0L           0           0           0           0   \n",
       "A0410220OUSXMEM9LGTD           0           0           0           0   \n",
       "A0623663I1MJP742T29P           0           0           0           0   \n",
       "A0663178OQ5O5VTCCA0U           0           0           0           0   \n",
       "A0794484ESPQUQ75G4X7           0           0           0           0   \n",
       "\n",
       "asin                  B01HD4Z44W  B01HEWU0ME  B01HIACCKA  B01HJCLLP4  \n",
       "reviewerID                                                            \n",
       "A0282090CIJJZ4Q86K0L           0           0           0           0  \n",
       "A0410220OUSXMEM9LGTD           0           0           0           0  \n",
       "A0623663I1MJP742T29P           0           0           0           0  \n",
       "A0663178OQ5O5VTCCA0U           0           0           0           0  \n",
       "A0794484ESPQUQ75G4X7           0           0           0           0  \n",
       "\n",
       "[5 rows x 7214 columns]"
      ]
     },
     "execution_count": 84,
     "metadata": {},
     "output_type": "execute_result"
    },
    {
     "name": "stdout",
     "output_type": "stream",
     "text": [
      "time: 4.45 s\n"
     ]
    }
   ],
   "source": [
    "print(\"size of sample_df: \", sample_df.shape)\n",
    "ratings_matrix = sample_df.pivot_table(values='overall', index='reviewerID', columns='asin', fill_value=0)\n",
    "ratings_matrix.head()"
   ]
  },
  {
   "cell_type": "markdown",
   "metadata": {},
   "source": [
    "#### As expected, the utility matrix obtaned above is sparce, I have filled up the unknown values wth 0."
   ]
  },
  {
   "cell_type": "code",
   "execution_count": 85,
   "metadata": {},
   "outputs": [
    {
     "data": {
      "text/plain": [
       "(9930, 7214)"
      ]
     },
     "execution_count": 85,
     "metadata": {},
     "output_type": "execute_result"
    },
    {
     "name": "stdout",
     "output_type": "stream",
     "text": [
      "time: 1.55 ms\n"
     ]
    }
   ],
   "source": [
    "ratings_matrix.shape"
   ]
  },
  {
   "cell_type": "markdown",
   "metadata": {},
   "source": [
    "- Transposing the matrix"
   ]
  },
  {
   "cell_type": "code",
   "execution_count": 86,
   "metadata": {},
   "outputs": [
    {
     "data": {
      "text/html": [
       "<div>\n",
       "<style scoped>\n",
       "    .dataframe tbody tr th:only-of-type {\n",
       "        vertical-align: middle;\n",
       "    }\n",
       "\n",
       "    .dataframe tbody tr th {\n",
       "        vertical-align: top;\n",
       "    }\n",
       "\n",
       "    .dataframe thead th {\n",
       "        text-align: right;\n",
       "    }\n",
       "</style>\n",
       "<table border=\"1\" class=\"dataframe\">\n",
       "  <thead>\n",
       "    <tr style=\"text-align: right;\">\n",
       "      <th>reviewerID</th>\n",
       "      <th>A0282090CIJJZ4Q86K0L</th>\n",
       "      <th>A0410220OUSXMEM9LGTD</th>\n",
       "      <th>A0623663I1MJP742T29P</th>\n",
       "      <th>A0663178OQ5O5VTCCA0U</th>\n",
       "      <th>A0794484ESPQUQ75G4X7</th>\n",
       "      <th>A100CCTHOI884M</th>\n",
       "      <th>A100CY2GX76UVK</th>\n",
       "      <th>A100Y3EBB716SM</th>\n",
       "      <th>A100ZQDV7L8PVV</th>\n",
       "      <th>A101OA2MYY5PVO</th>\n",
       "      <th>...</th>\n",
       "      <th>AZVNHZXSJ5DLA</th>\n",
       "      <th>AZVV7FD5IIJJP</th>\n",
       "      <th>AZW0F8B8Z7XIX</th>\n",
       "      <th>AZW12HU1KU8NI</th>\n",
       "      <th>AZW3FZ3HSFD60</th>\n",
       "      <th>AZXOKPFOS84XR</th>\n",
       "      <th>AZY8NR2Y1D4ZU</th>\n",
       "      <th>AZZ1IY6MTVHT1</th>\n",
       "      <th>AZZOR8FDX1OQN</th>\n",
       "      <th>AZZVLL8QF9TKK</th>\n",
       "    </tr>\n",
       "    <tr>\n",
       "      <th>asin</th>\n",
       "      <th></th>\n",
       "      <th></th>\n",
       "      <th></th>\n",
       "      <th></th>\n",
       "      <th></th>\n",
       "      <th></th>\n",
       "      <th></th>\n",
       "      <th></th>\n",
       "      <th></th>\n",
       "      <th></th>\n",
       "      <th></th>\n",
       "      <th></th>\n",
       "      <th></th>\n",
       "      <th></th>\n",
       "      <th></th>\n",
       "      <th></th>\n",
       "      <th></th>\n",
       "      <th></th>\n",
       "      <th></th>\n",
       "      <th></th>\n",
       "      <th></th>\n",
       "    </tr>\n",
       "  </thead>\n",
       "  <tbody>\n",
       "    <tr>\n",
       "      <th>B00001TOXD</th>\n",
       "      <td>0</td>\n",
       "      <td>0</td>\n",
       "      <td>0</td>\n",
       "      <td>0</td>\n",
       "      <td>0</td>\n",
       "      <td>0</td>\n",
       "      <td>0</td>\n",
       "      <td>0</td>\n",
       "      <td>0</td>\n",
       "      <td>0</td>\n",
       "      <td>...</td>\n",
       "      <td>0</td>\n",
       "      <td>0</td>\n",
       "      <td>0</td>\n",
       "      <td>0</td>\n",
       "      <td>0</td>\n",
       "      <td>0</td>\n",
       "      <td>0</td>\n",
       "      <td>0</td>\n",
       "      <td>0</td>\n",
       "      <td>0</td>\n",
       "    </tr>\n",
       "    <tr>\n",
       "      <th>B0000696B9</th>\n",
       "      <td>0</td>\n",
       "      <td>0</td>\n",
       "      <td>0</td>\n",
       "      <td>0</td>\n",
       "      <td>0</td>\n",
       "      <td>0</td>\n",
       "      <td>0</td>\n",
       "      <td>0</td>\n",
       "      <td>0</td>\n",
       "      <td>0</td>\n",
       "      <td>...</td>\n",
       "      <td>0</td>\n",
       "      <td>0</td>\n",
       "      <td>0</td>\n",
       "      <td>0</td>\n",
       "      <td>0</td>\n",
       "      <td>0</td>\n",
       "      <td>0</td>\n",
       "      <td>0</td>\n",
       "      <td>0</td>\n",
       "      <td>0</td>\n",
       "    </tr>\n",
       "    <tr>\n",
       "      <th>B00006XXGO</th>\n",
       "      <td>0</td>\n",
       "      <td>0</td>\n",
       "      <td>0</td>\n",
       "      <td>0</td>\n",
       "      <td>0</td>\n",
       "      <td>0</td>\n",
       "      <td>0</td>\n",
       "      <td>0</td>\n",
       "      <td>0</td>\n",
       "      <td>0</td>\n",
       "      <td>...</td>\n",
       "      <td>0</td>\n",
       "      <td>0</td>\n",
       "      <td>0</td>\n",
       "      <td>0</td>\n",
       "      <td>0</td>\n",
       "      <td>0</td>\n",
       "      <td>0</td>\n",
       "      <td>0</td>\n",
       "      <td>0</td>\n",
       "      <td>0</td>\n",
       "    </tr>\n",
       "    <tr>\n",
       "      <th>B000072UMN</th>\n",
       "      <td>0</td>\n",
       "      <td>0</td>\n",
       "      <td>0</td>\n",
       "      <td>0</td>\n",
       "      <td>0</td>\n",
       "      <td>0</td>\n",
       "      <td>0</td>\n",
       "      <td>0</td>\n",
       "      <td>0</td>\n",
       "      <td>0</td>\n",
       "      <td>...</td>\n",
       "      <td>0</td>\n",
       "      <td>0</td>\n",
       "      <td>0</td>\n",
       "      <td>0</td>\n",
       "      <td>0</td>\n",
       "      <td>0</td>\n",
       "      <td>0</td>\n",
       "      <td>0</td>\n",
       "      <td>0</td>\n",
       "      <td>0</td>\n",
       "    </tr>\n",
       "    <tr>\n",
       "      <th>B000072US4</th>\n",
       "      <td>0</td>\n",
       "      <td>0</td>\n",
       "      <td>0</td>\n",
       "      <td>0</td>\n",
       "      <td>0</td>\n",
       "      <td>0</td>\n",
       "      <td>0</td>\n",
       "      <td>0</td>\n",
       "      <td>0</td>\n",
       "      <td>0</td>\n",
       "      <td>...</td>\n",
       "      <td>0</td>\n",
       "      <td>0</td>\n",
       "      <td>0</td>\n",
       "      <td>0</td>\n",
       "      <td>0</td>\n",
       "      <td>0</td>\n",
       "      <td>0</td>\n",
       "      <td>0</td>\n",
       "      <td>0</td>\n",
       "      <td>0</td>\n",
       "    </tr>\n",
       "  </tbody>\n",
       "</table>\n",
       "<p>5 rows × 9930 columns</p>\n",
       "</div>"
      ],
      "text/plain": [
       "reviewerID  A0282090CIJJZ4Q86K0L  A0410220OUSXMEM9LGTD  A0623663I1MJP742T29P  \\\n",
       "asin                                                                           \n",
       "B00001TOXD                     0                     0                     0   \n",
       "B0000696B9                     0                     0                     0   \n",
       "B00006XXGO                     0                     0                     0   \n",
       "B000072UMN                     0                     0                     0   \n",
       "B000072US4                     0                     0                     0   \n",
       "\n",
       "reviewerID  A0663178OQ5O5VTCCA0U  A0794484ESPQUQ75G4X7  A100CCTHOI884M  \\\n",
       "asin                                                                     \n",
       "B00001TOXD                     0                     0               0   \n",
       "B0000696B9                     0                     0               0   \n",
       "B00006XXGO                     0                     0               0   \n",
       "B000072UMN                     0                     0               0   \n",
       "B000072US4                     0                     0               0   \n",
       "\n",
       "reviewerID  A100CY2GX76UVK  A100Y3EBB716SM  A100ZQDV7L8PVV  A101OA2MYY5PVO  \\\n",
       "asin                                                                         \n",
       "B00001TOXD               0               0               0               0   \n",
       "B0000696B9               0               0               0               0   \n",
       "B00006XXGO               0               0               0               0   \n",
       "B000072UMN               0               0               0               0   \n",
       "B000072US4               0               0               0               0   \n",
       "\n",
       "reviewerID  ...  AZVNHZXSJ5DLA  AZVV7FD5IIJJP  AZW0F8B8Z7XIX  AZW12HU1KU8NI  \\\n",
       "asin        ...                                                               \n",
       "B00001TOXD  ...              0              0              0              0   \n",
       "B0000696B9  ...              0              0              0              0   \n",
       "B00006XXGO  ...              0              0              0              0   \n",
       "B000072UMN  ...              0              0              0              0   \n",
       "B000072US4  ...              0              0              0              0   \n",
       "\n",
       "reviewerID  AZW3FZ3HSFD60  AZXOKPFOS84XR  AZY8NR2Y1D4ZU  AZZ1IY6MTVHT1  \\\n",
       "asin                                                                     \n",
       "B00001TOXD              0              0              0              0   \n",
       "B0000696B9              0              0              0              0   \n",
       "B00006XXGO              0              0              0              0   \n",
       "B000072UMN              0              0              0              0   \n",
       "B000072US4              0              0              0              0   \n",
       "\n",
       "reviewerID  AZZOR8FDX1OQN  AZZVLL8QF9TKK  \n",
       "asin                                      \n",
       "B00001TOXD              0              0  \n",
       "B0000696B9              0              0  \n",
       "B00006XXGO              0              0  \n",
       "B000072UMN              0              0  \n",
       "B000072US4              0              0  \n",
       "\n",
       "[5 rows x 9930 columns]"
      ]
     },
     "execution_count": 86,
     "metadata": {},
     "output_type": "execute_result"
    },
    {
     "name": "stdout",
     "output_type": "stream",
     "text": [
      "time: 32.6 ms\n"
     ]
    }
   ],
   "source": [
    "X = ratings_matrix.T\n",
    "X.head()"
   ]
  },
  {
   "cell_type": "code",
   "execution_count": 87,
   "metadata": {},
   "outputs": [
    {
     "data": {
      "text/plain": [
       "(7214, 9930)"
      ]
     },
     "execution_count": 87,
     "metadata": {},
     "output_type": "execute_result"
    },
    {
     "name": "stdout",
     "output_type": "stream",
     "text": [
      "time: 1.26 ms\n"
     ]
    }
   ],
   "source": [
    "X.shape"
   ]
  },
  {
   "cell_type": "markdown",
   "metadata": {},
   "source": [
    "- Unique products in subset of data"
   ]
  },
  {
   "cell_type": "code",
   "execution_count": 88,
   "metadata": {},
   "outputs": [
    {
     "name": "stdout",
     "output_type": "stream",
     "text": [
      "time: 307 µs\n"
     ]
    }
   ],
   "source": [
    "X1 = X"
   ]
  },
  {
   "cell_type": "markdown",
   "metadata": {},
   "source": [
    "### Decomposing the Matrix"
   ]
  },
  {
   "cell_type": "code",
   "execution_count": 89,
   "metadata": {},
   "outputs": [
    {
     "data": {
      "text/plain": [
       "(7214, 10)"
      ]
     },
     "execution_count": 89,
     "metadata": {},
     "output_type": "execute_result"
    },
    {
     "name": "stdout",
     "output_type": "stream",
     "text": [
      "time: 3.16 s\n"
     ]
    }
   ],
   "source": [
    "from sklearn.decomposition import TruncatedSVD\n",
    "\n",
    "SVD = TruncatedSVD(n_components=10)\n",
    "decomposed_matrix = SVD.fit_transform(X)\n",
    "decomposed_matrix.shape"
   ]
  },
  {
   "cell_type": "markdown",
   "metadata": {},
   "source": [
    "### Correlation Matrix"
   ]
  },
  {
   "cell_type": "code",
   "execution_count": 90,
   "metadata": {},
   "outputs": [
    {
     "data": {
      "text/plain": [
       "(7214, 7214)"
      ]
     },
     "execution_count": 90,
     "metadata": {},
     "output_type": "execute_result"
    },
    {
     "name": "stdout",
     "output_type": "stream",
     "text": [
      "time: 346 ms\n"
     ]
    }
   ],
   "source": [
    "correlation_matrix = np.corrcoef(decomposed_matrix)\n",
    "correlation_matrix.shape"
   ]
  },
  {
   "cell_type": "markdown",
   "metadata": {},
   "source": [
    "## Prediction: \n",
    "Index # of product ID purchased by customer"
   ]
  },
  {
   "cell_type": "code",
   "execution_count": 101,
   "metadata": {},
   "outputs": [
    {
     "name": "stdout",
     "output_type": "stream",
     "text": [
      "Index # of producnt ID purchased by customer:  B0002NYQO6\n",
      "https://www.amazon.com/dp/B0002NYQO6\n",
      "time: 1.35 ms\n"
     ]
    }
   ],
   "source": [
    "product_id = X.index[75]\n",
    "print(\"Index # of producnt ID purchased by customer: \", product_id)\n",
    "print(\"https://www.amazon.com/dp/\"+product_id)"
   ]
  },
  {
   "cell_type": "markdown",
   "metadata": {},
   "source": [
    "https://www.amazon.com/dp/B0002NYQO6\n",
    "\n",
    "\n",
    "<img src=\"./refer_pics/input_1.png\">  "
   ]
  },
  {
   "cell_type": "code",
   "execution_count": 94,
   "metadata": {},
   "outputs": [
    {
     "data": {
      "text/plain": [
       "75"
      ]
     },
     "execution_count": 94,
     "metadata": {},
     "output_type": "execute_result"
    },
    {
     "name": "stdout",
     "output_type": "stream",
     "text": [
      "time: 9.49 ms\n"
     ]
    }
   ],
   "source": [
    "product_names = list(X.index)\n",
    "product_ID = product_names.index(product_id)\n",
    "product_ID"
   ]
  },
  {
   "cell_type": "markdown",
   "metadata": {},
   "source": [
    "#### Correlation for all items with the item purchased by this customer based on items rated by other customers people who bought the same product"
   ]
  },
  {
   "cell_type": "code",
   "execution_count": 96,
   "metadata": {},
   "outputs": [
    {
     "data": {
      "text/plain": [
       "(7214,)"
      ]
     },
     "execution_count": 96,
     "metadata": {},
     "output_type": "execute_result"
    },
    {
     "name": "stdout",
     "output_type": "stream",
     "text": [
      "time: 6.22 ms\n"
     ]
    }
   ],
   "source": [
    "correlation_product_ID = correlation_matrix[product_ID]\n",
    "correlation_product_ID.shape"
   ]
  },
  {
   "cell_type": "markdown",
   "metadata": {},
   "source": [
    "#### Recommending top 25 highly correlated products in sequence"
   ]
  },
  {
   "cell_type": "markdown",
   "metadata": {},
   "source": [
    "### Here are the top 10 products to be displayed by the recommendation system to the above customer based on the purchase history of other customers in the website."
   ]
  },
  {
   "cell_type": "code",
   "execution_count": 100,
   "metadata": {},
   "outputs": [
    {
     "data": {
      "text/plain": [
       "['B0000AFSY8',\n",
       " 'B0001YRE04',\n",
       " 'B0002FHJ66',\n",
       " 'B0002LTJN6',\n",
       " 'B0002LY3CS',\n",
       " 'B0002M8QZM',\n",
       " 'B0002MB0DM',\n",
       " 'B0002QTQA2',\n",
       " 'B0002RZPRY',\n",
       " 'B0002THZL6',\n",
       " 'B0002ZROS4',\n",
       " 'B0006LNU82',\n",
       " 'B0006VBFM0',\n",
       " 'B000798IGC',\n",
       " 'B0007KPPAS',\n",
       " 'B0007LIA18',\n",
       " 'B0007MFW8Q',\n",
       " 'B0007SZ4YW',\n",
       " 'B0007T5JF0',\n",
       " 'B0009AZU0G',\n",
       " 'B0009MK8HO',\n",
       " 'B0009MZVVC',\n",
       " 'B0009O12OA',\n",
       " 'B000A83T6O']"
      ]
     },
     "execution_count": 100,
     "metadata": {},
     "output_type": "execute_result"
    },
    {
     "name": "stdout",
     "output_type": "stream",
     "text": [
      "https://www.amazon.com/dp/B0000AFSY8\n",
      "https://www.amazon.com/dp/B0001YRE04\n",
      "https://www.amazon.com/dp/B0002FHJ66\n",
      "https://www.amazon.com/dp/B0002LTJN6\n",
      "https://www.amazon.com/dp/B0002LY3CS\n",
      "https://www.amazon.com/dp/B0002M8QZM\n",
      "https://www.amazon.com/dp/B0002MB0DM\n",
      "https://www.amazon.com/dp/B0002QTQA2\n",
      "https://www.amazon.com/dp/B0002RZPRY\n",
      "https://www.amazon.com/dp/B0002THZL6\n",
      "https://www.amazon.com/dp/B0002ZROS4\n",
      "https://www.amazon.com/dp/B0006LNU82\n",
      "https://www.amazon.com/dp/B0006VBFM0\n",
      "https://www.amazon.com/dp/B000798IGC\n",
      "https://www.amazon.com/dp/B0007KPPAS\n",
      "https://www.amazon.com/dp/B0007LIA18\n",
      "https://www.amazon.com/dp/B0007MFW8Q\n",
      "https://www.amazon.com/dp/B0007SZ4YW\n",
      "https://www.amazon.com/dp/B0007T5JF0\n",
      "https://www.amazon.com/dp/B0009AZU0G\n",
      "https://www.amazon.com/dp/B0009MK8HO\n",
      "https://www.amazon.com/dp/B0009MZVVC\n",
      "https://www.amazon.com/dp/B0009O12OA\n",
      "https://www.amazon.com/dp/B000A83T6O\n",
      "time: 6.04 ms\n"
     ]
    }
   ],
   "source": [
    "Recommend = list(X.index[correlation_product_ID > 0.65])\n",
    "\n",
    "# Removes the item already bought by the customer\n",
    "Recommend.remove(product_id) \n",
    "\n",
    "Recommend[0:24]\n",
    "\n",
    "for p_id in Recommend[0:24]:\n",
    "    print(\"https://www.amazon.com/dp/\"+p_id)"
   ]
  },
  {
   "cell_type": "markdown",
   "metadata": {},
   "source": [
    "- https://www.amazon.com/dp/B0000AFSY8\n",
    "\n",
    "<img src=\"./refer_pics/out_1.png\">  \n",
    "\n",
    "- https://www.amazon.com/dp/B0001YRE04\n",
    "\n",
    "<img src=\"./refer_pics/out_2.png\">  \n",
    "\n",
    "- https://www.amazon.com/dp/B0002FHJ66    \n",
    "\n",
    "<img src=\"./refer_pics/out_3.png\"> "
   ]
  },
  {
   "cell_type": "code",
   "execution_count": null,
   "metadata": {},
   "outputs": [],
   "source": []
  }
 ],
 "metadata": {
  "kernelspec": {
   "display_name": "Python 3",
   "language": "python",
   "name": "python3"
  },
  "language_info": {
   "codemirror_mode": {
    "name": "ipython",
    "version": 3
   },
   "file_extension": ".py",
   "mimetype": "text/x-python",
   "name": "python",
   "nbconvert_exporter": "python",
   "pygments_lexer": "ipython3",
   "version": "3.7.6"
  }
 },
 "nbformat": 4,
 "nbformat_minor": 4
}
