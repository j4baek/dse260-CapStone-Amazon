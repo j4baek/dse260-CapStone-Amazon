{
 "cells": [
  {
   "cell_type": "markdown",
   "metadata": {},
   "source": [
    "# dense_2_Meta_Concatenate_15_embeddings_50_epochs-DropOut0.6 with Adding Dropout after Input\n",
    "\n",
    "# Deep recommender on top of Amason’s Clean Clothing Shoes and Jewelry explicit rating dataset\n",
    "\n",
    "Frame the recommendation system as a rating prediction machine learning problem and create a hybrid architecture that mixes the collaborative and content based filtering approaches:\n",
    "- Collaborative part: Predict items ratings in order to recommend to the user items that he is likely to rate high.\n",
    "- Content based: use metadata inputs (such as price and title) about items to find similar items to recommend.\n",
    "\n",
    "### - Create 2 explicit recommendation engine models based on 2 machine learning architecture using Keras: \n",
    "    1. a matrix factorization model  \n",
    "    2. a deep neural network model.\n",
    "\n",
    "\n",
    "### Compare the results of the different models and configurations to find the \"best\" predicting model\n",
    "\n",
    "### Used the best model for recommending items to users"
   ]
  },
  {
   "cell_type": "code",
   "execution_count": 1,
   "metadata": {},
   "outputs": [],
   "source": [
    "### name of model\n",
    "modname = 'dense_2_Meta_Concatenate_15_embeddings_30_epochs-DropOut0.6'\n",
    "\n",
    "### size of embedding\n",
    "embedding_size = 15\n",
    "\n",
    "### number of epochs\n",
    "num_epochs = 30\n",
    "\n",
    "# dropout value: 0.8 for input and 0.5 for hidden layers\n"
   ]
  },
  {
   "cell_type": "code",
   "execution_count": 2,
   "metadata": {},
   "outputs": [],
   "source": [
    "# import sys\n",
    "\n",
    "# !{sys.executable} -m pip install --upgrade pip\n",
    "# !{sys.executable} -m pip install sagemaker-experiments\n",
    "# !{sys.executable} -m pip install pandas\n",
    "# !{sys.executable} -m pip install numpy\n",
    "# !{sys.executable} -m pip install matplotlib\n",
    "# !{sys.executable} -m pip install boto3\n",
    "# !{sys.executable} -m pip install sagemaker\n",
    "# !{sys.executable} -m pip install pyspark\n",
    "# !{sys.executable} -m pip install ipython-autotime\n",
    "# !{sys.executable} -m pip install surprise\n",
    "# !{sys.executable} -m pip install smart_open\n",
    "# !{sys.executable} -m pip install pyarrow\n",
    "# !{sys.executable} -m pip install fastparquet"
   ]
  },
  {
   "cell_type": "code",
   "execution_count": 3,
   "metadata": {},
   "outputs": [],
   "source": [
    "# Check Jave version \n",
    "# !sudo yum -y update"
   ]
  },
  {
   "cell_type": "code",
   "execution_count": 4,
   "metadata": {},
   "outputs": [],
   "source": [
    "# # Need to use Java 1.8.0\n",
    "# !sudo yum remove jre-1.7.0-openjdk -y"
   ]
  },
  {
   "cell_type": "code",
   "execution_count": 5,
   "metadata": {},
   "outputs": [
    {
     "name": "stdout",
     "output_type": "stream",
     "text": [
      "openjdk version \"11.0.1\" 2018-10-16 LTS\n",
      "OpenJDK Runtime Environment Zulu11.2+3 (build 11.0.1+13-LTS)\n",
      "OpenJDK 64-Bit Server VM Zulu11.2+3 (build 11.0.1+13-LTS, mixed mode)\n"
     ]
    }
   ],
   "source": [
    "!java -version"
   ]
  },
  {
   "cell_type": "code",
   "execution_count": 6,
   "metadata": {},
   "outputs": [],
   "source": [
    "# !sudo update-alternatives --config java"
   ]
  },
  {
   "cell_type": "code",
   "execution_count": 7,
   "metadata": {},
   "outputs": [],
   "source": [
    "# !pip install pyarrow fastparquet\n",
    "# !pip install ipython-autotime\n",
    "# !pip install tqdm pydot pydotplus pydot_ng"
   ]
  },
  {
   "cell_type": "code",
   "execution_count": 8,
   "metadata": {},
   "outputs": [],
   "source": [
    "#### To measure all running time\n",
    "# https://github.com/cpcloud/ipython-autotime\n",
    "\n",
    "%load_ext autotime"
   ]
  },
  {
   "cell_type": "code",
   "execution_count": 9,
   "metadata": {},
   "outputs": [
    {
     "name": "stdout",
     "output_type": "stream",
     "text": [
      "Populating the interactive namespace from numpy and matplotlib\n",
      "WARNING:tensorflow:From /home/ec2-user/anaconda3/envs/tensorflow_p36/lib/python3.6/site-packages/tensorflow_core/__init__.py:1467: The name tf.estimator.inputs is deprecated. Please use tf.compat.v1.estimator.inputs instead.\n",
      "\n",
      "time: 3.09 s\n"
     ]
    },
    {
     "name": "stderr",
     "output_type": "stream",
     "text": [
      "Using TensorFlow backend.\n"
     ]
    }
   ],
   "source": [
    "%pylab inline\n",
    "import warnings\n",
    "warnings.filterwarnings(\"ignore\")\n",
    "%matplotlib inline\n",
    "import re\n",
    "import seaborn as sbn\n",
    "import nltk\n",
    "import tqdm as tqdm\n",
    "import sqlite3\n",
    "import pandas as pd\n",
    "import numpy as np\n",
    "from pandas import DataFrame \n",
    "import string\n",
    "import pydot \n",
    "import pydotplus\n",
    "import pydot_ng\n",
    "import pickle\n",
    "import time\n",
    "import gzip\n",
    "import os\n",
    "os.getcwd()\n",
    "    \n",
    "import matplotlib.pyplot as plt\n",
    "from math import floor,ceil\n",
    "\n",
    "#from nltk.corpus import stopwords\n",
    "#stop = stopwords.words(\"english\")\n",
    "from nltk.stem.porter import PorterStemmer\n",
    "english_stemmer=nltk.stem.SnowballStemmer('english')\n",
    "from nltk.tokenize import word_tokenize\n",
    "\n",
    "from sklearn.metrics import accuracy_score, confusion_matrix,roc_curve, auc,classification_report, mean_squared_error, mean_absolute_error\n",
    "from sklearn.feature_extraction.text import CountVectorizer, TfidfTransformer\n",
    "from sklearn.model_selection  import train_test_split\n",
    "from sklearn import metrics\n",
    "from sklearn.svm import LinearSVC\n",
    "from sklearn.neighbors import NearestNeighbors\n",
    "from sklearn.linear_model import LogisticRegression\n",
    "from sklearn import neighbors\n",
    "from scipy.spatial.distance import cosine\n",
    "from sklearn.feature_selection import SelectKBest\n",
    "from IPython.display import SVG\n",
    "\n",
    "# Tensorflow\n",
    "import tensorflow as tf\n",
    "\n",
    "#Keras\n",
    "from keras.models import Sequential, Model, load_model, save_model\n",
    "from keras.callbacks import ModelCheckpoint\n",
    "from keras.layers import Dense, Activation, Dropout, Input, Masking, TimeDistributed, LSTM, Conv1D, Embedding\n",
    "from keras.layers import GRU, Bidirectional, BatchNormalization, Reshape\n",
    "from keras.optimizers import Adam\n",
    "from keras.layers.core import Reshape, Dropout, Dense\n",
    "from keras.layers.merge import Multiply, Dot, Concatenate\n",
    "from keras.layers.embeddings import Embedding\n",
    "from keras import optimizers\n",
    "from keras.callbacks import ModelCheckpoint\n",
    "from keras.utils.vis_utils import model_to_dot"
   ]
  },
  {
   "cell_type": "markdown",
   "metadata": {},
   "source": [
    "### Set and Check GPUs"
   ]
  },
  {
   "cell_type": "code",
   "execution_count": 10,
   "metadata": {},
   "outputs": [
    {
     "name": "stdout",
     "output_type": "stream",
     "text": [
      "time: 5.56 ms\n"
     ]
    }
   ],
   "source": [
    "#Session\n",
    "from keras import backend as K\n",
    "\n",
    "def set_check_gpu():\n",
    "    cfg = K.tf.ConfigProto()\n",
    "    cfg.gpu_options.per_process_gpu_memory_fraction =1 # allow all of the GPU memory to be allocated\n",
    "    # for 8 GPUs\n",
    "    # cfg.gpu_options.visible_device_list = \"0,1,2,3,4,5,6,7\" # \"0,1\"\n",
    "    # for 1 GPU\n",
    "    cfg.gpu_options.visible_device_list = \"0\"\n",
    "    #cfg.gpu_options.allow_growth = True  # # Don't pre-allocate memory; dynamically allocate the memory used on the GPU as-needed\n",
    "    #cfg.log_device_placement = True  # to log device placement (on which device the operation ran)\n",
    "    sess = K.tf.Session(config=cfg)\n",
    "    K.set_session(sess)  # set this TensorFlow session as the default session for Keras\n",
    "\n",
    "    print(\"* TF version: \", [tf.__version__, tf.test.is_gpu_available()])\n",
    "    print(\"* List of GPU(s): \", tf.config.experimental.list_physical_devices() )\n",
    "    print(\"* Num GPUs Available: \", len(tf.config.experimental.list_physical_devices('GPU'))) \n",
    "  \n",
    "    \n",
    "    os.environ[\"CUDA_DEVICE_ORDER\"] = \"PCI_BUS_ID\";\n",
    "    # set for 8 GPUs\n",
    "#     os.environ[\"CUDA_VISIBLE_DEVICES\"] = \"0,1,2,3,4,5,6,7\";\n",
    "    # set for 1 GPU\n",
    "    os.environ[\"CUDA_VISIBLE_DEVICES\"] = \"0\";\n",
    "\n",
    "    # Tf debugging option\n",
    "    tf.debugging.set_log_device_placement(True)\n",
    "\n",
    "    gpus = tf.config.experimental.list_physical_devices('GPU')\n",
    "\n",
    "    if gpus:\n",
    "        try:\n",
    "            # Currently, memory growth needs to be the same across GPUs\n",
    "            for gpu in gpus:\n",
    "                tf.config.experimental.set_memory_growth(gpu, True)\n",
    "            logical_gpus = tf.config.experimental.list_logical_devices('GPU')\n",
    "            print(len(gpus), \"Physical GPUs,\", len(logical_gpus), \"Logical GPUs\")\n",
    "        except RuntimeError as e:\n",
    "            # Memory growth must be set before GPUs have been initialized\n",
    "            print(e)\n",
    "\n",
    "#     print(tf.config.list_logical_devices('GPU'))\n",
    "    print(tf.config.experimental.list_physical_devices('GPU'))\n",
    "    print(\"Num GPUs Available: \", len(tf.config.experimental.list_physical_devices('GPU')))"
   ]
  },
  {
   "cell_type": "code",
   "execution_count": 11,
   "metadata": {},
   "outputs": [
    {
     "name": "stdout",
     "output_type": "stream",
     "text": [
      "* TF version:  ['1.15.2', True]\n",
      "* List of GPU(s):  [PhysicalDevice(name='/physical_device:CPU:0', device_type='CPU'), PhysicalDevice(name='/physical_device:XLA_CPU:0', device_type='XLA_CPU'), PhysicalDevice(name='/physical_device:XLA_GPU:0', device_type='XLA_GPU'), PhysicalDevice(name='/physical_device:GPU:0', device_type='GPU')]\n",
      "* Num GPUs Available:  1\n",
      "1 Physical GPUs, 1 Logical GPUs\n",
      "[PhysicalDevice(name='/physical_device:GPU:0', device_type='GPU')]\n",
      "Num GPUs Available:  1\n",
      "time: 198 ms\n"
     ]
    }
   ],
   "source": [
    "set_check_gpu()"
   ]
  },
  {
   "cell_type": "code",
   "execution_count": 12,
   "metadata": {},
   "outputs": [
    {
     "name": "stdout",
     "output_type": "stream",
     "text": [
      "time: 2.59 ms\n"
     ]
    }
   ],
   "source": [
    "# reset GPU memory& Keras Session\n",
    "def reset_keras():\n",
    "    try:\n",
    "        del classifier\n",
    "        del model    \n",
    "    except:\n",
    "        pass\n",
    "\n",
    "    K.clear_session()\n",
    " \n",
    "    K.get_session().close()\n",
    "#    sess = K.get_session()\n",
    "\n",
    "    cfg = K.tf.ConfigProto()\n",
    "    cfg.gpu_options.per_process_gpu_memory_fraction \n",
    "#     cfg.gpu_options.visible_device_list = \"0,1,2,3,4,5,6,7\" # \"0,1\"\n",
    "    cfg.gpu_options.visible_device_list = \"0\" # \"0,1\"\n",
    "    cfg.gpu_options.allow_growth = True  # dynamically grow the memory used on the GPU\n",
    "\n",
    "    sess = K.tf.Session(config=cfg)\n",
    "    K.set_session(sess)  # set this TensorFlow session as the default session for Keras\n",
    "    "
   ]
  },
  {
   "cell_type": "markdown",
   "metadata": {},
   "source": [
    "## Load dataset and analysis using Spark"
   ]
  },
  {
   "cell_type": "markdown",
   "metadata": {},
   "source": [
    "## Download and prepare Data:\n",
    "#### 1. Read the data:\n",
    "#### Read the data from the reviews dataset of amazon. \n",
    "#### Use the dastaset in which all users and items have at least 5 reviews. \n",
    "\n",
    "### Location of dataset: https://nijianmo.github.io/amazon/index.html"
   ]
  },
  {
   "cell_type": "code",
   "execution_count": 13,
   "metadata": {},
   "outputs": [
    {
     "name": "stdout",
     "output_type": "stream",
     "text": [
      "time: 461 ms\n"
     ]
    }
   ],
   "source": [
    "import pandas as pd\n",
    "\n",
    "import boto3\n",
    "import sagemaker\n",
    "from sagemaker import get_execution_role\n",
    "from sagemaker.session import Session\n",
    "from sagemaker.analytics import ExperimentAnalytics\n",
    "\n",
    "import gzip\n",
    "import json\n",
    "\n",
    "from pyspark.ml import Pipeline\n",
    "from pyspark.sql.types import StructField, StructType, StringType, DoubleType\n",
    "from pyspark.ml.feature import StringIndexer, VectorIndexer, OneHotEncoder, VectorAssembler\n",
    "from pyspark.sql.functions import *\n",
    "\n",
    "# spark imports\n",
    "from pyspark.sql import SparkSession\n",
    "from pyspark.sql.functions import UserDefinedFunction, explode, desc\n",
    "from pyspark.sql.types import StringType, ArrayType\n",
    "from pyspark.ml.evaluation import RegressionEvaluator\n",
    "\n",
    "import os\n",
    "import pandas as pd\n",
    "import pyarrow\n",
    "import fastparquet\n",
    "\n",
    "# from pandas_profiling import ProfileReport"
   ]
  },
  {
   "cell_type": "code",
   "execution_count": 14,
   "metadata": {},
   "outputs": [
    {
     "name": "stdout",
     "output_type": "stream",
     "text": [
      "time: 749 µs\n"
     ]
    }
   ],
   "source": [
    "# !aws s3 cp s3://dse-cohort5-group1/2-Keras-DeepRecommender/dataset/Clean_Clothing_Shoes_and_Jewelry_5_clean.parquet ./data/"
   ]
  },
  {
   "cell_type": "code",
   "execution_count": 15,
   "metadata": {},
   "outputs": [
    {
     "name": "stdout",
     "output_type": "stream",
     "text": [
      "total 3.3G\n",
      "drwxrwxr-x 5 ec2-user ec2-user 4.0K May 26 16:08 .\n",
      "drwxrwxr-x 8 ec2-user ec2-user 4.0K May 27 00:24 ..\n",
      "-rw-rw-r-- 1 ec2-user ec2-user 308M May 26 15:35 Clean_Clothing_Shoes_and_Jewelry_5_clean.parquet\n",
      "drwxrwxr-x 2 ec2-user ec2-user 4.0K May 26 15:46 Cleaned_meta_Clothing_Shoes_and_Jewelry.parquet\n",
      "-rw-rw-r-- 1 ec2-user ec2-user 1.2G Nov 21  2019 Clothing_Shoes_and_Jewelry_5.json.gz\n",
      "drwxrwxr-x 2 ec2-user ec2-user 4.0K May 26 15:34 Clothing_Shoes_and_Jewelry_5.parquet\n",
      "-rw-rw-r-- 1 ec2-user ec2-user   31 May 26 15:34 for_dataset.txt\n",
      "drwxrwxr-x 2 ec2-user ec2-user 4.0K May 26 15:34 .ipynb_checkpoints\n",
      "-rw-rw-r-- 1 ec2-user ec2-user 1.5G Oct 15  2019 meta_Clothing_Shoes_and_Jewelry.json.gz\n",
      "-rw-rw-r-- 1 ec2-user ec2-user  71M May 26 16:08 ratings_test.parquet\n",
      "-rw-rw-r-- 1 ec2-user ec2-user 282M May 26 16:08 ratings_train.parquet\n",
      "time: 135 ms\n"
     ]
    }
   ],
   "source": [
    "!ls -alh ./data"
   ]
  },
  {
   "cell_type": "markdown",
   "metadata": {},
   "source": [
    "### Read clened dataset from parquet files"
   ]
  },
  {
   "cell_type": "code",
   "execution_count": 16,
   "metadata": {},
   "outputs": [
    {
     "name": "stdout",
     "output_type": "stream",
     "text": [
      "time: 4.1 s\n"
     ]
    }
   ],
   "source": [
    "review_data = pd.read_parquet(\"./data/Clean_Clothing_Shoes_and_Jewelry_5_clean.parquet\")"
   ]
  },
  {
   "cell_type": "code",
   "execution_count": 17,
   "metadata": {},
   "outputs": [
    {
     "data": {
      "text/html": [
       "<div>\n",
       "<style scoped>\n",
       "    .dataframe tbody tr th:only-of-type {\n",
       "        vertical-align: middle;\n",
       "    }\n",
       "\n",
       "    .dataframe tbody tr th {\n",
       "        vertical-align: top;\n",
       "    }\n",
       "\n",
       "    .dataframe thead th {\n",
       "        text-align: right;\n",
       "    }\n",
       "</style>\n",
       "<table border=\"1\" class=\"dataframe\">\n",
       "  <thead>\n",
       "    <tr style=\"text-align: right;\">\n",
       "      <th></th>\n",
       "      <th>asin</th>\n",
       "      <th>image</th>\n",
       "      <th>overall</th>\n",
       "      <th>reviewText</th>\n",
       "      <th>reviewTime</th>\n",
       "      <th>reviewerID</th>\n",
       "      <th>reviewerName</th>\n",
       "      <th>summary</th>\n",
       "    </tr>\n",
       "  </thead>\n",
       "  <tbody>\n",
       "    <tr>\n",
       "      <th>0</th>\n",
       "      <td>0871167042</td>\n",
       "      <td>None</td>\n",
       "      <td>5.0</td>\n",
       "      <td>This book has beautiful photos, good and under...</td>\n",
       "      <td>05 4, 2014</td>\n",
       "      <td>A2IC3NZN488KWK</td>\n",
       "      <td>Ruby Tulip</td>\n",
       "      <td>Unique designs</td>\n",
       "    </tr>\n",
       "    <tr>\n",
       "      <th>1</th>\n",
       "      <td>0871167042</td>\n",
       "      <td>None</td>\n",
       "      <td>3.0</td>\n",
       "      <td>If you're an experienced wire jewelry maker, t...</td>\n",
       "      <td>07 23, 2014</td>\n",
       "      <td>A1YIEW86G14BHP</td>\n",
       "      <td>Aldne Now</td>\n",
       "      <td>OK Jewelry Book</td>\n",
       "    </tr>\n",
       "    <tr>\n",
       "      <th>2</th>\n",
       "      <td>0871167042</td>\n",
       "      <td>None</td>\n",
       "      <td>4.0</td>\n",
       "      <td>Hi, have been making jewelry now for the last ...</td>\n",
       "      <td>06 5, 2014</td>\n",
       "      <td>AA7PNT2OPS3RP</td>\n",
       "      <td>Catherine Franz</td>\n",
       "      <td>Organic and upcycling jewelry maker</td>\n",
       "    </tr>\n",
       "  </tbody>\n",
       "</table>\n",
       "</div>"
      ],
      "text/plain": [
       "         asin image  overall  \\\n",
       "0  0871167042  None      5.0   \n",
       "1  0871167042  None      3.0   \n",
       "2  0871167042  None      4.0   \n",
       "\n",
       "                                          reviewText   reviewTime  \\\n",
       "0  This book has beautiful photos, good and under...   05 4, 2014   \n",
       "1  If you're an experienced wire jewelry maker, t...  07 23, 2014   \n",
       "2  Hi, have been making jewelry now for the last ...   06 5, 2014   \n",
       "\n",
       "       reviewerID     reviewerName                              summary  \n",
       "0  A2IC3NZN488KWK       Ruby Tulip                       Unique designs  \n",
       "1  A1YIEW86G14BHP        Aldne Now                      OK Jewelry Book  \n",
       "2   AA7PNT2OPS3RP  Catherine Franz  Organic and upcycling jewelry maker  "
      ]
     },
     "execution_count": 17,
     "metadata": {},
     "output_type": "execute_result"
    },
    {
     "name": "stdout",
     "output_type": "stream",
     "text": [
      "time: 25.5 ms\n"
     ]
    }
   ],
   "source": [
    "review_data[:3]"
   ]
  },
  {
   "cell_type": "code",
   "execution_count": 18,
   "metadata": {},
   "outputs": [
    {
     "data": {
      "text/plain": [
       "(1069568, 8)"
      ]
     },
     "execution_count": 18,
     "metadata": {},
     "output_type": "execute_result"
    },
    {
     "name": "stdout",
     "output_type": "stream",
     "text": [
      "time: 2.79 ms\n"
     ]
    }
   ],
   "source": [
    "review_data.shape"
   ]
  },
  {
   "cell_type": "markdown",
   "metadata": {},
   "source": [
    "### 2. Arrange and clean the data"
   ]
  },
  {
   "cell_type": "markdown",
   "metadata": {},
   "source": [
    "Rearrange the columns by relevance and rename column names"
   ]
  },
  {
   "cell_type": "code",
   "execution_count": 19,
   "metadata": {},
   "outputs": [
    {
     "data": {
      "text/plain": [
       "Index(['asin', 'image', 'overall', 'reviewText', 'reviewTime', 'reviewerID',\n",
       "       'reviewerName', 'summary'],\n",
       "      dtype='object')"
      ]
     },
     "execution_count": 19,
     "metadata": {},
     "output_type": "execute_result"
    },
    {
     "name": "stdout",
     "output_type": "stream",
     "text": [
      "time: 3.14 ms\n"
     ]
    }
   ],
   "source": [
    "review_data.columns"
   ]
  },
  {
   "cell_type": "code",
   "execution_count": 20,
   "metadata": {},
   "outputs": [
    {
     "data": {
      "text/plain": [
       "['asin',\n",
       " 'image',\n",
       " 'summary',\n",
       " 'reviewText',\n",
       " 'score',\n",
       " 'user_id',\n",
       " 'user_name',\n",
       " 'reviewTime']"
      ]
     },
     "execution_count": 20,
     "metadata": {},
     "output_type": "execute_result"
    },
    {
     "name": "stdout",
     "output_type": "stream",
     "text": [
      "time: 902 ms\n"
     ]
    }
   ],
   "source": [
    "review_data = review_data[['asin', 'image', 'summary', 'reviewText', 'overall', 'reviewerID', 'reviewerName', 'reviewTime']]\n",
    "\n",
    "review_data.rename(columns={ 'overall': 'score','reviewerID': 'user_id', 'reviewerName': 'user_name'}, inplace=True)\n",
    "\n",
    "#the variables names after rename in the modified data frame\n",
    "list(review_data)"
   ]
  },
  {
   "cell_type": "markdown",
   "metadata": {},
   "source": [
    "# Add Metadata \n",
    "\n",
    "### Metadata includes descriptions, price, sales-rank, brand info, and co-purchasing links\n",
    "- asin - ID of the product, e.g. 0000031852\n",
    "- title - name of the product\n",
    "- price - price in US dollars (at time of crawl)\n",
    "- imUrl - url of the product image\n",
    "- related - related products (also bought, also viewed, bought together, buy after viewing)\n",
    "- salesRank - sales rank information\n",
    "- brand - brand name\n",
    "- categories - list of categories the product belongs to"
   ]
  },
  {
   "cell_type": "code",
   "execution_count": 21,
   "metadata": {},
   "outputs": [
    {
     "name": "stdout",
     "output_type": "stream",
     "text": [
      "time: 736 µs\n"
     ]
    }
   ],
   "source": [
    "# !aws s3 cp s3://dse-cohort5-group1/2-Keras-DeepRecommender/dataset/Cleaned_meta_Clothing_Shoes_and_Jewelry.parquet ./data/"
   ]
  },
  {
   "cell_type": "code",
   "execution_count": 22,
   "metadata": {},
   "outputs": [
    {
     "name": "stdout",
     "output_type": "stream",
     "text": [
      "time: 36.2 s\n"
     ]
    }
   ],
   "source": [
    "all_info = pd.read_parquet(\"./data/Cleaned_meta_Clothing_Shoes_and_Jewelry.parquet\")"
   ]
  },
  {
   "cell_type": "code",
   "execution_count": 23,
   "metadata": {},
   "outputs": [
    {
     "data": {
      "text/html": [
       "<div>\n",
       "<style scoped>\n",
       "    .dataframe tbody tr th:only-of-type {\n",
       "        vertical-align: middle;\n",
       "    }\n",
       "\n",
       "    .dataframe tbody tr th {\n",
       "        vertical-align: top;\n",
       "    }\n",
       "\n",
       "    .dataframe thead th {\n",
       "        text-align: right;\n",
       "    }\n",
       "</style>\n",
       "<table border=\"1\" class=\"dataframe\">\n",
       "  <thead>\n",
       "    <tr style=\"text-align: right;\">\n",
       "      <th></th>\n",
       "      <th>also_buy</th>\n",
       "      <th>also_view</th>\n",
       "      <th>asin</th>\n",
       "      <th>brand</th>\n",
       "      <th>category</th>\n",
       "      <th>description</th>\n",
       "      <th>image</th>\n",
       "      <th>price</th>\n",
       "      <th>title</th>\n",
       "    </tr>\n",
       "  </thead>\n",
       "  <tbody>\n",
       "    <tr>\n",
       "      <th>0</th>\n",
       "      <td>None</td>\n",
       "      <td>None</td>\n",
       "      <td>0000037214</td>\n",
       "      <td>Big Dreams</td>\n",
       "      <td>[Clothing, Shoes &amp; Jewelry, Costumes &amp; Accesso...</td>\n",
       "      <td>[6\" long, stretched waist measures 11 1/2\" acr...</td>\n",
       "      <td>None</td>\n",
       "      <td>None</td>\n",
       "      <td>Purple Sequin Tiny Dancer Tutu Ballet Dance Fa...</td>\n",
       "    </tr>\n",
       "    <tr>\n",
       "      <th>1</th>\n",
       "      <td>None</td>\n",
       "      <td>None</td>\n",
       "      <td>0201377179</td>\n",
       "      <td>Anello</td>\n",
       "      <td>[Clothing, Shoes &amp; Jewelry, Luggage &amp; Travel G...</td>\n",
       "      <td>[The Hottest Bag in Town! Brand: Anello Condit...</td>\n",
       "      <td>[https://images-na.ssl-images-amazon.com/image...</td>\n",
       "      <td>None</td>\n",
       "      <td>Japan Anello Backpack Unisex LARGE LIGHT GRAY ...</td>\n",
       "    </tr>\n",
       "    <tr>\n",
       "      <th>2</th>\n",
       "      <td>None</td>\n",
       "      <td>[B07CJF5HLR, B01EBI8UH6, B01N1LR908, B074M4QKG...</td>\n",
       "      <td>0204444454</td>\n",
       "      <td>Anello</td>\n",
       "      <td>[Clothing, Shoes &amp; Jewelry, Luggage &amp; Travel G...</td>\n",
       "      <td>[The Hottest Bag in Town! Brand: Anello Condit...</td>\n",
       "      <td>[https://images-na.ssl-images-amazon.com/image...</td>\n",
       "      <td>$70.00</td>\n",
       "      <td>Japan Anello Backpack Unisex PINK BEIGE LARGE ...</td>\n",
       "    </tr>\n",
       "    <tr>\n",
       "      <th>3</th>\n",
       "      <td>None</td>\n",
       "      <td>[B01DLVYOPG, B07CJF5HLR, B01MSS59Y6, B071YBC1J...</td>\n",
       "      <td>0204444403</td>\n",
       "      <td>Anello</td>\n",
       "      <td>[Clothing, Shoes &amp; Jewelry, Luggage &amp; Travel G...</td>\n",
       "      <td>[The Hottest Bag in Town! Brand: Anello Condit...</td>\n",
       "      <td>[https://images-na.ssl-images-amazon.com/image...</td>\n",
       "      <td>$65.99</td>\n",
       "      <td>Japan Anello Backpack Unisex BLACK LARGE PU LE...</td>\n",
       "    </tr>\n",
       "    <tr>\n",
       "      <th>4</th>\n",
       "      <td>None</td>\n",
       "      <td>[B00VGT93YS, B07FTY87LM, B01IKVOY8E, B01GF6C6F...</td>\n",
       "      <td>0206313535</td>\n",
       "      <td>bettyhome</td>\n",
       "      <td>[Clothing, Shoes &amp; Jewelry, Novelty &amp; More, Cl...</td>\n",
       "      <td>[Brand New.  Hat Centre Length: adult about 8c...</td>\n",
       "      <td>[https://images-na.ssl-images-amazon.com/image...</td>\n",
       "      <td>$18.99</td>\n",
       "      <td>bettyhome Unisex Adult Winter Spring Thicken C...</td>\n",
       "    </tr>\n",
       "  </tbody>\n",
       "</table>\n",
       "</div>"
      ],
      "text/plain": [
       "  also_buy                                          also_view        asin  \\\n",
       "0     None                                               None  0000037214   \n",
       "1     None                                               None  0201377179   \n",
       "2     None  [B07CJF5HLR, B01EBI8UH6, B01N1LR908, B074M4QKG...  0204444454   \n",
       "3     None  [B01DLVYOPG, B07CJF5HLR, B01MSS59Y6, B071YBC1J...  0204444403   \n",
       "4     None  [B00VGT93YS, B07FTY87LM, B01IKVOY8E, B01GF6C6F...  0206313535   \n",
       "\n",
       "        brand                                           category  \\\n",
       "0  Big Dreams  [Clothing, Shoes & Jewelry, Costumes & Accesso...   \n",
       "1      Anello  [Clothing, Shoes & Jewelry, Luggage & Travel G...   \n",
       "2      Anello  [Clothing, Shoes & Jewelry, Luggage & Travel G...   \n",
       "3      Anello  [Clothing, Shoes & Jewelry, Luggage & Travel G...   \n",
       "4   bettyhome  [Clothing, Shoes & Jewelry, Novelty & More, Cl...   \n",
       "\n",
       "                                         description  \\\n",
       "0  [6\" long, stretched waist measures 11 1/2\" acr...   \n",
       "1  [The Hottest Bag in Town! Brand: Anello Condit...   \n",
       "2  [The Hottest Bag in Town! Brand: Anello Condit...   \n",
       "3  [The Hottest Bag in Town! Brand: Anello Condit...   \n",
       "4  [Brand New.  Hat Centre Length: adult about 8c...   \n",
       "\n",
       "                                               image   price  \\\n",
       "0                                               None    None   \n",
       "1  [https://images-na.ssl-images-amazon.com/image...    None   \n",
       "2  [https://images-na.ssl-images-amazon.com/image...  $70.00   \n",
       "3  [https://images-na.ssl-images-amazon.com/image...  $65.99   \n",
       "4  [https://images-na.ssl-images-amazon.com/image...  $18.99   \n",
       "\n",
       "                                               title  \n",
       "0  Purple Sequin Tiny Dancer Tutu Ballet Dance Fa...  \n",
       "1  Japan Anello Backpack Unisex LARGE LIGHT GRAY ...  \n",
       "2  Japan Anello Backpack Unisex PINK BEIGE LARGE ...  \n",
       "3  Japan Anello Backpack Unisex BLACK LARGE PU LE...  \n",
       "4  bettyhome Unisex Adult Winter Spring Thicken C...  "
      ]
     },
     "execution_count": 23,
     "metadata": {},
     "output_type": "execute_result"
    },
    {
     "name": "stdout",
     "output_type": "stream",
     "text": [
      "time: 18.6 ms\n"
     ]
    }
   ],
   "source": [
    "all_info.head(n=5)"
   ]
  },
  {
   "cell_type": "markdown",
   "metadata": {},
   "source": [
    "### Arrange and clean the data"
   ]
  },
  {
   "cell_type": "markdown",
   "metadata": {},
   "source": [
    "- Cleaning, handling missing data, normalization, etc:\n",
    "- For the algorithm in keras to work,  remap all item_ids and user_ids to an interger between 0 and the total number of users or the total number of items"
   ]
  },
  {
   "cell_type": "code",
   "execution_count": 24,
   "metadata": {},
   "outputs": [
    {
     "data": {
      "text/plain": [
       "Index(['also_buy', 'also_view', 'asin', 'brand', 'category', 'description',\n",
       "       'image', 'price', 'title'],\n",
       "      dtype='object')"
      ]
     },
     "execution_count": 24,
     "metadata": {},
     "output_type": "execute_result"
    },
    {
     "name": "stdout",
     "output_type": "stream",
     "text": [
      "time: 3.41 ms\n"
     ]
    }
   ],
   "source": [
    "all_info.columns"
   ]
  },
  {
   "cell_type": "code",
   "execution_count": 25,
   "metadata": {},
   "outputs": [
    {
     "name": "stdout",
     "output_type": "stream",
     "text": [
      "We have 2681355 unique items in metadata \n",
      "time: 10.4 s\n"
     ]
    }
   ],
   "source": [
    "items = all_info.asin.unique()\n",
    "item_map = {i:val for i,val in enumerate(items)}\n",
    "inverse_item_map = {val:i for i,val in enumerate(items)}\n",
    "all_info[\"old_item_id\"] = all_info[\"asin\"] # copying for join with metadata\n",
    "all_info[\"item_id\"] = all_info[\"asin\"].map(inverse_item_map)\n",
    "items = all_info.item_id.unique()\n",
    "print (\"We have %d unique items in metadata \"%items.shape[0])"
   ]
  },
  {
   "cell_type": "code",
   "execution_count": 26,
   "metadata": {},
   "outputs": [
    {
     "name": "stdout",
     "output_type": "stream",
     "text": [
      "time: 54.3 s\n"
     ]
    }
   ],
   "source": [
    "all_info['description'] = all_info['description'].fillna(all_info['title'].fillna('no_data'))\n",
    "all_info['title'] = all_info['title'].fillna(all_info['description'].fillna('no_data').apply(str).str[:20])\n",
    "all_info['image'] = all_info['image'].fillna('no_data')\n",
    "all_info['price'] = pd.to_numeric(all_info['price'],errors=\"coerce\")\n",
    "all_info['price'] = all_info['price'].fillna(all_info['price'].median()) "
   ]
  },
  {
   "cell_type": "code",
   "execution_count": 27,
   "metadata": {},
   "outputs": [
    {
     "name": "stdout",
     "output_type": "stream",
     "text": [
      "time: 9.92 s\n"
     ]
    }
   ],
   "source": [
    "users = review_data.user_id.unique()\n",
    "user_map = {i:val for i,val in enumerate(users)}\n",
    "inverse_user_map = {val:i for i,val in enumerate(users)}\n",
    "review_data[\"old_user_id\"] = review_data[\"user_id\"] \n",
    "review_data[\"user_id\"] = review_data[\"user_id\"].map(inverse_user_map)\n",
    "\n",
    "items_reviewed = review_data.asin.unique()\n",
    "review_data[\"old_item_id\"] = review_data[\"asin\"] # copying for join with metadata\n",
    "review_data[\"item_id\"] = review_data[\"asin\"].map(inverse_item_map)\n",
    "\n",
    "items_reviewed = review_data.item_id.unique()\n",
    "users = review_data.user_id.unique()"
   ]
  },
  {
   "cell_type": "code",
   "execution_count": 28,
   "metadata": {},
   "outputs": [
    {
     "name": "stdout",
     "output_type": "stream",
     "text": [
      "We have 513010 unique users\n",
      "We have 245636 unique items reviewed\n",
      "time: 1.48 ms\n"
     ]
    }
   ],
   "source": [
    "print (\"We have %d unique users\"%users.shape[0])\n",
    "print (\"We have %d unique items reviewed\"%items_reviewed.shape[0])\n",
    "# We have 192403 unique users in the \"small\" dataset\n",
    "# We have 63001 unique items reviewed in the \"small\" dataset"
   ]
  },
  {
   "cell_type": "code",
   "execution_count": 29,
   "metadata": {},
   "outputs": [
    {
     "data": {
      "text/html": [
       "<div>\n",
       "<style scoped>\n",
       "    .dataframe tbody tr th:only-of-type {\n",
       "        vertical-align: middle;\n",
       "    }\n",
       "\n",
       "    .dataframe tbody tr th {\n",
       "        vertical-align: top;\n",
       "    }\n",
       "\n",
       "    .dataframe thead th {\n",
       "        text-align: right;\n",
       "    }\n",
       "</style>\n",
       "<table border=\"1\" class=\"dataframe\">\n",
       "  <thead>\n",
       "    <tr style=\"text-align: right;\">\n",
       "      <th></th>\n",
       "      <th>asin</th>\n",
       "      <th>image</th>\n",
       "      <th>summary</th>\n",
       "      <th>reviewText</th>\n",
       "      <th>score</th>\n",
       "      <th>user_id</th>\n",
       "      <th>user_name</th>\n",
       "      <th>reviewTime</th>\n",
       "      <th>old_user_id</th>\n",
       "      <th>old_item_id</th>\n",
       "      <th>item_id</th>\n",
       "    </tr>\n",
       "  </thead>\n",
       "  <tbody>\n",
       "    <tr>\n",
       "      <th>0</th>\n",
       "      <td>0871167042</td>\n",
       "      <td>None</td>\n",
       "      <td>Unique designs</td>\n",
       "      <td>This book has beautiful photos, good and under...</td>\n",
       "      <td>5.0</td>\n",
       "      <td>0</td>\n",
       "      <td>Ruby Tulip</td>\n",
       "      <td>05 4, 2014</td>\n",
       "      <td>A2IC3NZN488KWK</td>\n",
       "      <td>0871167042</td>\n",
       "      <td>12</td>\n",
       "    </tr>\n",
       "    <tr>\n",
       "      <th>1</th>\n",
       "      <td>0871167042</td>\n",
       "      <td>None</td>\n",
       "      <td>OK Jewelry Book</td>\n",
       "      <td>If you're an experienced wire jewelry maker, t...</td>\n",
       "      <td>3.0</td>\n",
       "      <td>1</td>\n",
       "      <td>Aldne Now</td>\n",
       "      <td>07 23, 2014</td>\n",
       "      <td>A1YIEW86G14BHP</td>\n",
       "      <td>0871167042</td>\n",
       "      <td>12</td>\n",
       "    </tr>\n",
       "    <tr>\n",
       "      <th>2</th>\n",
       "      <td>0871167042</td>\n",
       "      <td>None</td>\n",
       "      <td>Organic and upcycling jewelry maker</td>\n",
       "      <td>Hi, have been making jewelry now for the last ...</td>\n",
       "      <td>4.0</td>\n",
       "      <td>2</td>\n",
       "      <td>Catherine Franz</td>\n",
       "      <td>06 5, 2014</td>\n",
       "      <td>AA7PNT2OPS3RP</td>\n",
       "      <td>0871167042</td>\n",
       "      <td>12</td>\n",
       "    </tr>\n",
       "  </tbody>\n",
       "</table>\n",
       "</div>"
      ],
      "text/plain": [
       "         asin image                              summary  \\\n",
       "0  0871167042  None                       Unique designs   \n",
       "1  0871167042  None                      OK Jewelry Book   \n",
       "2  0871167042  None  Organic and upcycling jewelry maker   \n",
       "\n",
       "                                          reviewText  score  user_id  \\\n",
       "0  This book has beautiful photos, good and under...    5.0        0   \n",
       "1  If you're an experienced wire jewelry maker, t...    3.0        1   \n",
       "2  Hi, have been making jewelry now for the last ...    4.0        2   \n",
       "\n",
       "         user_name   reviewTime     old_user_id old_item_id  item_id  \n",
       "0       Ruby Tulip   05 4, 2014  A2IC3NZN488KWK  0871167042       12  \n",
       "1        Aldne Now  07 23, 2014  A1YIEW86G14BHP  0871167042       12  \n",
       "2  Catherine Franz   06 5, 2014   AA7PNT2OPS3RP  0871167042       12  "
      ]
     },
     "execution_count": 29,
     "metadata": {},
     "output_type": "execute_result"
    },
    {
     "name": "stdout",
     "output_type": "stream",
     "text": [
      "time: 21.6 ms\n"
     ]
    }
   ],
   "source": [
    "review_data.head(3)"
   ]
  },
  {
   "cell_type": "markdown",
   "metadata": {},
   "source": [
    "## Adding the review count and avarage to the metadata"
   ]
  },
  {
   "cell_type": "code",
   "execution_count": 30,
   "metadata": {},
   "outputs": [
    {
     "data": {
      "text/plain": [
       "count    245636.000000\n",
       "mean          4.354280\n",
       "std           8.406209\n",
       "min           1.000000\n",
       "25%           1.000000\n",
       "50%           2.000000\n",
       "75%           5.000000\n",
       "max         548.000000\n",
       "Name: num_ratings, dtype: float64"
      ]
     },
     "execution_count": 30,
     "metadata": {},
     "output_type": "execute_result"
    },
    {
     "name": "stdout",
     "output_type": "stream",
     "text": [
      "time: 1.84 s\n"
     ]
    }
   ],
   "source": [
    "#items_nb = review_data['old_item_id'].value_counts().reset_index()\n",
    "items_avg = review_data.drop(['summary','reviewText','user_id','asin','user_name','reviewTime','old_user_id','item_id'],axis=1).groupby('old_item_id').agg(['count','mean']).reset_index()\n",
    "items_avg.columns= ['old_item_id','num_ratings','avg_rating']\n",
    "#items_avg.head(5)\n",
    "items_avg['num_ratings'].describe()"
   ]
  },
  {
   "cell_type": "code",
   "execution_count": 31,
   "metadata": {},
   "outputs": [
    {
     "data": {
      "text/html": [
       "<div>\n",
       "<style scoped>\n",
       "    .dataframe tbody tr th:only-of-type {\n",
       "        vertical-align: middle;\n",
       "    }\n",
       "\n",
       "    .dataframe tbody tr th {\n",
       "        vertical-align: top;\n",
       "    }\n",
       "\n",
       "    .dataframe thead th {\n",
       "        text-align: right;\n",
       "    }\n",
       "</style>\n",
       "<table border=\"1\" class=\"dataframe\">\n",
       "  <thead>\n",
       "    <tr style=\"text-align: right;\">\n",
       "      <th></th>\n",
       "      <th>also_buy</th>\n",
       "      <th>also_view</th>\n",
       "      <th>asin</th>\n",
       "      <th>brand</th>\n",
       "      <th>category</th>\n",
       "      <th>description</th>\n",
       "      <th>image</th>\n",
       "      <th>price</th>\n",
       "      <th>title</th>\n",
       "      <th>old_item_id_x</th>\n",
       "      <th>item_id</th>\n",
       "      <th>old_item_id_y</th>\n",
       "      <th>num_ratings</th>\n",
       "      <th>avg_rating</th>\n",
       "    </tr>\n",
       "  </thead>\n",
       "  <tbody>\n",
       "    <tr>\n",
       "      <th>0</th>\n",
       "      <td>None</td>\n",
       "      <td>None</td>\n",
       "      <td>0000037214</td>\n",
       "      <td>Big Dreams</td>\n",
       "      <td>[Clothing, Shoes &amp; Jewelry, Costumes &amp; Accessories, Kids &amp; Baby, Girls, Accessories, 3 layers of...</td>\n",
       "      <td>[6\" long, stretched waist measures 11 1/2\" across. Fits up to 7 years.]</td>\n",
       "      <td>no_data</td>\n",
       "      <td>NaN</td>\n",
       "      <td>Purple Sequin Tiny Dancer Tutu Ballet Dance Fairy Princess Costume Accessory</td>\n",
       "      <td>0000037214</td>\n",
       "      <td>0</td>\n",
       "      <td>NaN</td>\n",
       "      <td>NaN</td>\n",
       "      <td>NaN</td>\n",
       "    </tr>\n",
       "    <tr>\n",
       "      <th>1</th>\n",
       "      <td>None</td>\n",
       "      <td>None</td>\n",
       "      <td>0201377179</td>\n",
       "      <td>Anello</td>\n",
       "      <td>[Clothing, Shoes &amp; Jewelry, Luggage &amp; Travel Gear, Backpacks, Casual Daypacks, Polyester Canvas ...</td>\n",
       "      <td>[The Hottest Bag in Town! Brand: Anello Condition: 100% brand new Size: Large Simplistic Japanes...</td>\n",
       "      <td>[https://images-na.ssl-images-amazon.com/images/I/51RJoBQ2ANL._SR38,50_.jpg, https://images-na.s...</td>\n",
       "      <td>NaN</td>\n",
       "      <td>Japan Anello Backpack Unisex LARGE LIGHT GRAY BLACK Rucksack Waterproof Canvas Bag</td>\n",
       "      <td>0201377179</td>\n",
       "      <td>1</td>\n",
       "      <td>NaN</td>\n",
       "      <td>NaN</td>\n",
       "      <td>NaN</td>\n",
       "    </tr>\n",
       "  </tbody>\n",
       "</table>\n",
       "</div>"
      ],
      "text/plain": [
       "  also_buy also_view        asin       brand  \\\n",
       "0     None      None  0000037214  Big Dreams   \n",
       "1     None      None  0201377179      Anello   \n",
       "\n",
       "                                                                                              category  \\\n",
       "0  [Clothing, Shoes & Jewelry, Costumes & Accessories, Kids & Baby, Girls, Accessories, 3 layers of...   \n",
       "1  [Clothing, Shoes & Jewelry, Luggage & Travel Gear, Backpacks, Casual Daypacks, Polyester Canvas ...   \n",
       "\n",
       "                                                                                           description  \\\n",
       "0                              [6\" long, stretched waist measures 11 1/2\" across. Fits up to 7 years.]   \n",
       "1  [The Hottest Bag in Town! Brand: Anello Condition: 100% brand new Size: Large Simplistic Japanes...   \n",
       "\n",
       "                                                                                                 image  \\\n",
       "0                                                                                              no_data   \n",
       "1  [https://images-na.ssl-images-amazon.com/images/I/51RJoBQ2ANL._SR38,50_.jpg, https://images-na.s...   \n",
       "\n",
       "   price  \\\n",
       "0    NaN   \n",
       "1    NaN   \n",
       "\n",
       "                                                                                title  \\\n",
       "0        Purple Sequin Tiny Dancer Tutu Ballet Dance Fairy Princess Costume Accessory   \n",
       "1  Japan Anello Backpack Unisex LARGE LIGHT GRAY BLACK Rucksack Waterproof Canvas Bag   \n",
       "\n",
       "  old_item_id_x  item_id old_item_id_y  num_ratings  avg_rating  \n",
       "0    0000037214        0           NaN          NaN         NaN  \n",
       "1    0201377179        1           NaN          NaN         NaN  "
      ]
     },
     "execution_count": 31,
     "metadata": {},
     "output_type": "execute_result"
    },
    {
     "name": "stdout",
     "output_type": "stream",
     "text": [
      "time: 5.26 s\n"
     ]
    }
   ],
   "source": [
    "all_info =  pd.merge(all_info,items_avg,how='left',left_on='asin',right_on='old_item_id')\n",
    "pd.set_option('display.max_colwidth', 100)\n",
    "all_info.head(2)"
   ]
  },
  {
   "cell_type": "markdown",
   "metadata": {},
   "source": [
    "# Explicit feedback (Reviewed Dataset) Recommender System"
   ]
  },
  {
   "cell_type": "markdown",
   "metadata": {},
   "source": [
    "### Explicit feedback is when users gives voluntarily the rating information on what they like and dislike.\n",
    "\n",
    "- In this case, I have explicit item ratings ranging from one to five.\n",
    "- Framed the recommendation system as a rating prediction machine learning problem: \n",
    "    - Predict an item's ratings in order to be able to recommend to a user an item that he is likely to rate high if he buys it. `\n",
    "\n",
    "### To evaluate the model, I randomly separate the data into a training and test set. "
   ]
  },
  {
   "cell_type": "code",
   "execution_count": 32,
   "metadata": {},
   "outputs": [
    {
     "name": "stdout",
     "output_type": "stream",
     "text": [
      "time: 1.73 s\n"
     ]
    }
   ],
   "source": [
    "ratings_train, ratings_test = train_test_split( review_data, test_size=0.1, random_state=0)"
   ]
  },
  {
   "cell_type": "code",
   "execution_count": 33,
   "metadata": {},
   "outputs": [
    {
     "data": {
      "text/plain": [
       "(962611, 11)"
      ]
     },
     "execution_count": 33,
     "metadata": {},
     "output_type": "execute_result"
    },
    {
     "name": "stdout",
     "output_type": "stream",
     "text": [
      "time: 2.49 ms\n"
     ]
    }
   ],
   "source": [
    "ratings_train.shape"
   ]
  },
  {
   "cell_type": "code",
   "execution_count": 34,
   "metadata": {},
   "outputs": [
    {
     "data": {
      "text/plain": [
       "(106957, 11)"
      ]
     },
     "execution_count": 34,
     "metadata": {},
     "output_type": "execute_result"
    },
    {
     "name": "stdout",
     "output_type": "stream",
     "text": [
      "time: 2.61 ms\n"
     ]
    }
   ],
   "source": [
    "ratings_test.shape"
   ]
  },
  {
   "cell_type": "markdown",
   "metadata": {},
   "source": [
    "## Adding Metadata to the train set\n",
    "Create an architecture that mixes the collaborative and content based filtering approaches:\n",
    "```\n",
    "- Collaborative Part: Predict items ratings to recommend to the user items which he is likely to rate high according to learnt item & user embeddings (learn similarity from interactions).\n",
    "- Content based part: Use metadata inputs (such as price and title) about items to recommend to the user contents similar to those he rated high (learn similarity of item attributes).\n",
    "```\n",
    "\n",
    "#### Adding the title and price - Add the metadata of the items in the training and test datasets."
   ]
  },
  {
   "cell_type": "code",
   "execution_count": 35,
   "metadata": {},
   "outputs": [
    {
     "name": "stdout",
     "output_type": "stream",
     "text": [
      "time: 2.07 ms\n"
     ]
    }
   ],
   "source": [
    "# # creating metadata mappings \n",
    "# titles = all_info['title'].unique()\n",
    "# titles_map = {i:val for i,val in enumerate(titles)}\n",
    "# inverse_titles_map = {val:i for i,val in enumerate(titles)}\n",
    "\n",
    "# price = all_info['price'].unique()\n",
    "# price_map = {i:val for i,val in enumerate(price)}\n",
    "# inverse_price_map = {val:i for i,val in enumerate(price)}\n",
    "\n",
    "# print (\"We have %d prices\" %price.shape)\n",
    "# print (\"We have %d titles\" %titles.shape)\n",
    "\n",
    "\n",
    "# all_info['price_id'] = all_info['price'].map(inverse_price_map)\n",
    "# all_info['title_id'] = all_info['title'].map(inverse_titles_map)\n",
    "\n",
    "# # creating dict from \n",
    "# item2prices = {}\n",
    "# for val in all_info[['item_id','price_id']].dropna().drop_duplicates().iterrows():\n",
    "#     item2prices[val[1][\"item_id\"]] = val[1][\"price_id\"]\n",
    "\n",
    "# item2titles = {}\n",
    "# for val in all_info[['item_id','title_id']].dropna().drop_duplicates().iterrows():\n",
    "#     item2titles[val[1][\"item_id\"]] = val[1][\"title_id\"]\n",
    "        \n",
    "\n",
    "\n",
    "# # populating the rating dataset with item metadata info\n",
    "# ratings_train[\"price_id\"] = ratings_train[\"item_id\"].map(lambda x : item2prices[x])\n",
    "# ratings_train[\"title_id\"] = ratings_train[\"item_id\"].map(lambda x : item2titles[x])\n",
    "\n",
    "\n",
    "# # populating the test dataset with item metadata info\n",
    "# ratings_test[\"price_id\"] = ratings_test[\"item_id\"].map(lambda x : item2prices[x])\n",
    "# ratings_test[\"title_id\"] = ratings_test[\"item_id\"].map(lambda x : item2titles[x])\n"
   ]
  },
  {
   "cell_type": "markdown",
   "metadata": {},
   "source": [
    "## create rating train/test dataset and upload into S3"
   ]
  },
  {
   "cell_type": "code",
   "execution_count": 36,
   "metadata": {},
   "outputs": [
    {
     "name": "stdout",
     "output_type": "stream",
     "text": [
      "time: 3.82 ms\n"
     ]
    }
   ],
   "source": [
    "# !aws s3 cp s3://dse-cohort5-group1/2-Keras-DeepRecommender/dataset/ratings_test.parquet ./data/\n",
    "# !aws s3 cp s3://dse-cohort5-group1/2-Keras-DeepRecommender/dataset/ratings_train.parquet ./data/"
   ]
  },
  {
   "cell_type": "code",
   "execution_count": 37,
   "metadata": {},
   "outputs": [
    {
     "name": "stdout",
     "output_type": "stream",
     "text": [
      "time: 4.76 s\n"
     ]
    }
   ],
   "source": [
    "ratings_test = pd.read_parquet('./data/ratings_test.parquet')\n",
    "ratings_train = pd.read_parquet('./data/ratings_train.parquet')"
   ]
  },
  {
   "cell_type": "code",
   "execution_count": 38,
   "metadata": {},
   "outputs": [
    {
     "data": {
      "text/html": [
       "<div>\n",
       "<style scoped>\n",
       "    .dataframe tbody tr th:only-of-type {\n",
       "        vertical-align: middle;\n",
       "    }\n",
       "\n",
       "    .dataframe tbody tr th {\n",
       "        vertical-align: top;\n",
       "    }\n",
       "\n",
       "    .dataframe thead th {\n",
       "        text-align: right;\n",
       "    }\n",
       "</style>\n",
       "<table border=\"1\" class=\"dataframe\">\n",
       "  <thead>\n",
       "    <tr style=\"text-align: right;\">\n",
       "      <th></th>\n",
       "      <th>asin</th>\n",
       "      <th>image</th>\n",
       "      <th>summary</th>\n",
       "      <th>reviewText</th>\n",
       "      <th>score</th>\n",
       "      <th>user_id</th>\n",
       "      <th>user_name</th>\n",
       "      <th>reviewTime</th>\n",
       "      <th>old_user_id</th>\n",
       "      <th>old_item_id</th>\n",
       "      <th>item_id</th>\n",
       "      <th>price_id</th>\n",
       "      <th>title_id</th>\n",
       "    </tr>\n",
       "  </thead>\n",
       "  <tbody>\n",
       "    <tr>\n",
       "      <th>162810</th>\n",
       "      <td>B003XKNC0Y</td>\n",
       "      <td>None</td>\n",
       "      <td>Cuter than I expected</td>\n",
       "      <td>The material could be softer, but some at home fabric softening should do the trick. I wish the ...</td>\n",
       "      <td>4.0</td>\n",
       "      <td>108108</td>\n",
       "      <td>Jas P</td>\n",
       "      <td>10 6, 2012</td>\n",
       "      <td>A36P85ZAIO9O5Z</td>\n",
       "      <td>B003XKNC0Y</td>\n",
       "      <td>243589</td>\n",
       "      <td>0</td>\n",
       "      <td>232003</td>\n",
       "    </tr>\n",
       "    <tr>\n",
       "      <th>866194</th>\n",
       "      <td>B019DG4ALQ</td>\n",
       "      <td>None</td>\n",
       "      <td>these jeans are adorable, the cotton fabric is soft</td>\n",
       "      <td>these jeans are adorable, the cotton fabric is soft, comfortable and thick as i like them. This ...</td>\n",
       "      <td>5.0</td>\n",
       "      <td>270025</td>\n",
       "      <td>kamaljeet</td>\n",
       "      <td>07 21, 2016</td>\n",
       "      <td>A2IQRPJO6WP94M</td>\n",
       "      <td>B019DG4ALQ</td>\n",
       "      <td>2331139</td>\n",
       "      <td>0</td>\n",
       "      <td>2181670</td>\n",
       "    </tr>\n",
       "    <tr>\n",
       "      <th>148573</th>\n",
       "      <td>B003AXXUII</td>\n",
       "      <td>None</td>\n",
       "      <td>LOVE 'EM UNDIES</td>\n",
       "      <td>This is my second order of Bali's Skamp briefs for women.  There are very few manufacturers who ...</td>\n",
       "      <td>5.0</td>\n",
       "      <td>98493</td>\n",
       "      <td>GreenEggsnHam</td>\n",
       "      <td>12 7, 2014</td>\n",
       "      <td>A1OMS90ARBURNK</td>\n",
       "      <td>B003AXXUII</td>\n",
       "      <td>211033</td>\n",
       "      <td>0</td>\n",
       "      <td>200873</td>\n",
       "    </tr>\n",
       "  </tbody>\n",
       "</table>\n",
       "</div>"
      ],
      "text/plain": [
       "              asin image                                              summary  \\\n",
       "162810  B003XKNC0Y  None                                Cuter than I expected   \n",
       "866194  B019DG4ALQ  None  these jeans are adorable, the cotton fabric is soft   \n",
       "148573  B003AXXUII  None                                      LOVE 'EM UNDIES   \n",
       "\n",
       "                                                                                                 reviewText  \\\n",
       "162810  The material could be softer, but some at home fabric softening should do the trick. I wish the ...   \n",
       "866194  these jeans are adorable, the cotton fabric is soft, comfortable and thick as i like them. This ...   \n",
       "148573  This is my second order of Bali's Skamp briefs for women.  There are very few manufacturers who ...   \n",
       "\n",
       "        score  user_id      user_name   reviewTime     old_user_id  \\\n",
       "162810    4.0   108108          Jas P   10 6, 2012  A36P85ZAIO9O5Z   \n",
       "866194    5.0   270025      kamaljeet  07 21, 2016  A2IQRPJO6WP94M   \n",
       "148573    5.0    98493  GreenEggsnHam   12 7, 2014  A1OMS90ARBURNK   \n",
       "\n",
       "       old_item_id  item_id  price_id  title_id  \n",
       "162810  B003XKNC0Y   243589         0    232003  \n",
       "866194  B019DG4ALQ  2331139         0   2181670  \n",
       "148573  B003AXXUII   211033         0    200873  "
      ]
     },
     "execution_count": 38,
     "metadata": {},
     "output_type": "execute_result"
    },
    {
     "name": "stdout",
     "output_type": "stream",
     "text": [
      "time: 16.4 ms\n"
     ]
    }
   ],
   "source": [
    "ratings_train[:3]"
   ]
  },
  {
   "cell_type": "code",
   "execution_count": 39,
   "metadata": {},
   "outputs": [
    {
     "data": {
      "text/plain": [
       "(855654, 13)"
      ]
     },
     "execution_count": 39,
     "metadata": {},
     "output_type": "execute_result"
    },
    {
     "name": "stdout",
     "output_type": "stream",
     "text": [
      "time: 3.26 ms\n"
     ]
    }
   ],
   "source": [
    "ratings_train.shape"
   ]
  },
  {
   "cell_type": "markdown",
   "metadata": {},
   "source": [
    "# **Define embeddings\n",
    "### The $\\underline{embeddings}$ are low-dimensional hidden representations of users and items, \n",
    "### i.e. for each item I can find its properties and for each user I can encode how much they like those properties so I can determine attitudes or preferences of users by a small number of hidden factors \n",
    "\n",
    "### Throughout the training, I learn two new low-dimensional dense representations: one embedding for the users and another one for the items.\n"
   ]
  },
  {
   "cell_type": "code",
   "execution_count": 40,
   "metadata": {},
   "outputs": [
    {
     "name": "stdout",
     "output_type": "stream",
     "text": [
      "time: 6.81 s\n"
     ]
    }
   ],
   "source": [
    "price = all_info['price'].unique()\n",
    "titles = all_info['title'].unique()"
   ]
  },
  {
   "cell_type": "code",
   "execution_count": 41,
   "metadata": {},
   "outputs": [
    {
     "name": "stdout",
     "output_type": "stream",
     "text": [
      "WARNING:tensorflow:From /home/ec2-user/anaconda3/envs/tensorflow_p36/lib/python3.6/site-packages/keras/backend/tensorflow_backend.py:517: The name tf.placeholder is deprecated. Please use tf.compat.v1.placeholder instead.\n",
      "\n",
      "WARNING:tensorflow:From /home/ec2-user/anaconda3/envs/tensorflow_p36/lib/python3.6/site-packages/keras/backend/tensorflow_backend.py:4138: The name tf.random_uniform is deprecated. Please use tf.random.uniform instead.\n",
      "\n",
      "WARNING:tensorflow:From /home/ec2-user/anaconda3/envs/tensorflow_p36/lib/python3.6/site-packages/keras/backend/tensorflow_backend.py:74: The name tf.get_default_graph is deprecated. Please use tf.compat.v1.get_default_graph instead.\n",
      "\n",
      "WARNING:tensorflow:From /home/ec2-user/anaconda3/envs/tensorflow_p36/lib/python3.6/site-packages/keras/backend/tensorflow_backend.py:133: The name tf.placeholder_with_default is deprecated. Please use tf.compat.v1.placeholder_with_default instead.\n",
      "\n",
      "WARNING:tensorflow:From /home/ec2-user/anaconda3/envs/tensorflow_p36/lib/python3.6/site-packages/keras/backend/tensorflow_backend.py:3445: calling dropout (from tensorflow.python.ops.nn_ops) with keep_prob is deprecated and will be removed in a future version.\n",
      "Instructions for updating:\n",
      "Please use `rate` instead of `keep_prob`. Rate should be set to `rate = 1 - keep_prob`.\n",
      "WARNING:tensorflow:Large dropout rate: 0.8 (>0.5). In TensorFlow 2.x, dropout() uses dropout rate instead of keep_prob. Please ensure that this is intended.\n",
      "WARNING:tensorflow:Large dropout rate: 0.8 (>0.5). In TensorFlow 2.x, dropout() uses dropout rate instead of keep_prob. Please ensure that this is intended.\n",
      "WARNING:tensorflow:Large dropout rate: 0.8 (>0.5). In TensorFlow 2.x, dropout() uses dropout rate instead of keep_prob. Please ensure that this is intended.\n",
      "WARNING:tensorflow:Large dropout rate: 0.8 (>0.5). In TensorFlow 2.x, dropout() uses dropout rate instead of keep_prob. Please ensure that this is intended.\n",
      "time: 167 ms\n"
     ]
    }
   ],
   "source": [
    "# declare input embeddings to the model\n",
    "\n",
    "# User input\n",
    "user_id_input = Input(shape=[1], name='user')\n",
    "# Item Input\n",
    "item_id_input = Input(shape=[1], name='item')\n",
    "# price Input\n",
    "price_id_input = Input(shape=[1], name='price')\n",
    "# Title input\n",
    "title_id_input = Input(shape=[1], name='title')\n",
    "\n",
    "# define the size of embeddings as a parameter\n",
    "# Check 5, 10 , 15, 20, 50\n",
    "user_embedding_size = embedding_size \n",
    "item_embedding_size = embedding_size\n",
    "price_embedding_size = embedding_size\n",
    "title_embedding_size = embedding_size\n",
    "\n",
    "# apply an embedding layer to all inputs\n",
    "user_embedding = Embedding(output_dim=user_embedding_size, input_dim=users.shape[0],\n",
    "                               input_length=1, name='user_embedding')(user_id_input)\n",
    "\n",
    "item_embedding = Embedding(output_dim=item_embedding_size, input_dim=items_reviewed.shape[0],\n",
    "                               input_length=1, name='item_embedding')(item_id_input)\n",
    "\n",
    "price_embedding = Embedding(output_dim=price_embedding_size, input_dim=price.shape[0],\n",
    "                           input_length=1, name='price_embedding')(price_id_input)\n",
    "\n",
    "title_embedding = Embedding(output_dim=title_embedding_size, input_dim=titles.shape[0],\n",
    "                           input_length=1, name='title_embedding')(title_id_input)\n",
    "\n",
    "# reshape from shape (batch_size, input_length,embedding_size) to (batch_size, embedding_size). \n",
    "user_vecs = Reshape([user_embedding_size])(user_embedding)\n",
    "# dropout to reduce overfit\n",
    "user_vecs = Dropout(0.8)(user_vecs)\n",
    "\n",
    "item_vecs = Reshape([item_embedding_size])(item_embedding)\n",
    "# dropout to reduce overfit\n",
    "item_vecs = Dropout(0.8)(item_vecs)\n",
    "\n",
    "price_vecs = Reshape([price_embedding_size])(price_embedding)\n",
    "# dropout to reduce overfit\n",
    "price_vecs = Dropout(0.8)(price_vecs)\n",
    "\n",
    "title_vecs = Reshape([title_embedding_size])(title_embedding)\n",
    "# dropout to reduce overfit\n",
    "title_vecs = Dropout(0.8)(title_vecs)"
   ]
  },
  {
   "attachments": {
    "image.png": {
     "image/png": "[encoded data removed]"
    }
   },
   "cell_type": "markdown",
   "metadata": {},
   "source": [
    "# 2. Deep Recommender\n",
    "\n",
    "### Instead of taking a dot product of the user and the item embedding, concatenate or multiply them and use them as features for a neural network. \n",
    "### Thus, we are not constrained to the dot product way of combining the embeddings, and can learn complex non-linear relationships.\n",
    "\n",
    "![image.png](attachment:image.png)\n",
    "\n",
    "\n",
    "\n",
    "\n"
   ]
  },
  {
   "cell_type": "code",
   "execution_count": 42,
   "metadata": {},
   "outputs": [
    {
     "name": "stdout",
     "output_type": "stream",
     "text": [
      "time: 434 ms\n"
     ]
    }
   ],
   "source": [
    "!mkdir -p ./models"
   ]
  },
  {
   "cell_type": "code",
   "execution_count": 43,
   "metadata": {},
   "outputs": [
    {
     "name": "stdout",
     "output_type": "stream",
     "text": [
      "time: 58.8 ms\n"
     ]
    }
   ],
   "source": [
    "# Try add dense layers on top of the embeddings before merging (Comment to drop this idea.)\n",
    "user_vecs = Dense(64, activation='relu')(user_vecs) \n",
    "item_vecs = Dense(64, activation='relu')(item_vecs)\n",
    "price_vecs = Dense(64, activation='relu')(price_vecs) \n",
    "title_vecs = Dense(64, activation='relu')(title_vecs)"
   ]
  },
  {
   "cell_type": "markdown",
   "metadata": {},
   "source": [
    "### Reference: https://machinelearningmastery.com/dropout-for-regularizing-deep-neural-networks/\n",
    "\n",
    "- A good value for dropout in a hidden layer is between 0.5 and 0.8. Input layers use a larger dropout rate, such as of 0.8."
   ]
  },
  {
   "cell_type": "code",
   "execution_count": 44,
   "metadata": {},
   "outputs": [
    {
     "name": "stdout",
     "output_type": "stream",
     "text": [
      "WARNING:tensorflow:Large dropout rate: 0.6 (>0.5). In TensorFlow 2.x, dropout() uses dropout rate instead of keep_prob. Please ensure that this is intended.\n",
      "time: 119 ms\n"
     ]
    }
   ],
   "source": [
    "# Concatenate the item embeddings to include Metadata:\n",
    "item_vecs_complete  = Concatenate()([item_vecs, price_vecs,title_vecs])\n",
    "# Concatenate user and item embeddings and use them as features for the neural network:\n",
    "input_vecs = Concatenate()([user_vecs, item_vecs_complete]) # can be changed by Multiply\n",
    "\n",
    "#input_vecs = Concatenate()([user_vecs, item_vecs]) # can be changed by Multiply\n",
    "\n",
    "# Multiply user and item embeddings and use them as features for the neural network:\n",
    "# input_vecs = Multiply()([user_vecs, item_vecs]) # can be changed by concat \n",
    "\n",
    "# Dropout is a technique where randomly selected neurons are ignored during training to prevent overfitting \n",
    "input_vecs = Dropout(0.6)(input_vecs)  \n",
    "\n",
    "# Check one dense 128 or two dense layers (128,128) or (128,64) or three denses layers (128,64,32))\n",
    "\n",
    "# First layer\n",
    "# Dense(128) is a fully-connected layer with 128 hidden units.\n",
    "# Use rectified linear units (ReLU) f(x)=max(0,x) as an activation function.\n",
    "x = Dense(128, activation='relu')(input_vecs)\n",
    "x = Dropout(0.6)(x) # Add droupout or not # To improve the performance\n",
    "\n",
    "# Next Layers\n",
    "x = Dense(128, activation='relu')(x) # Add dense again or not \n",
    "x = Dropout(0.6)(x) # Add droupout or not # To improve the performance\n",
    "# x = Dense(64, activation='relu')(x) # Add dense again or not \n",
    "# x = Dropout(0.1)(x) # Add droupout or not # To improve the performance\n",
    "# x = Dense(32, activation='relu')(x) # Add dense again or not #\n",
    "x = Dropout(0.6)(x) # Add droupout or not # To improve the performance\n",
    "\n",
    "# The output\n",
    "y = Dense(1)(x)"
   ]
  },
  {
   "cell_type": "code",
   "execution_count": 45,
   "metadata": {},
   "outputs": [
    {
     "name": "stdout",
     "output_type": "stream",
     "text": [
      "WARNING:tensorflow:From /home/ec2-user/anaconda3/envs/tensorflow_p36/lib/python3.6/site-packages/keras/optimizers.py:790: The name tf.train.Optimizer is deprecated. Please use tf.compat.v1.train.Optimizer instead.\n",
      "\n",
      "WARNING:tensorflow:From /home/ec2-user/anaconda3/envs/tensorflow_p36/lib/python3.6/site-packages/keras/backend/tensorflow_backend.py:986: The name tf.assign_add is deprecated. Please use tf.compat.v1.assign_add instead.\n",
      "\n",
      "WARNING:tensorflow:From /home/ec2-user/anaconda3/envs/tensorflow_p36/lib/python3.6/site-packages/keras/backend/tensorflow_backend.py:973: The name tf.assign is deprecated. Please use tf.compat.v1.assign instead.\n",
      "\n",
      "Train on 770088 samples, validate on 85566 samples\n",
      "Epoch 1/30\n",
      "WARNING:tensorflow:From /home/ec2-user/anaconda3/envs/tensorflow_p36/lib/python3.6/site-packages/keras/backend/tensorflow_backend.py:174: The name tf.get_default_session is deprecated. Please use tf.compat.v1.get_default_session instead.\n",
      "\n",
      "WARNING:tensorflow:From /home/ec2-user/anaconda3/envs/tensorflow_p36/lib/python3.6/site-packages/keras/backend/tensorflow_backend.py:190: The name tf.global_variables is deprecated. Please use tf.compat.v1.global_variables instead.\n",
      "\n",
      "WARNING:tensorflow:From /home/ec2-user/anaconda3/envs/tensorflow_p36/lib/python3.6/site-packages/keras/backend/tensorflow_backend.py:199: The name tf.is_variable_initialized is deprecated. Please use tf.compat.v1.is_variable_initialized instead.\n",
      "\n",
      "WARNING:tensorflow:From /home/ec2-user/anaconda3/envs/tensorflow_p36/lib/python3.6/site-packages/keras/backend/tensorflow_backend.py:206: The name tf.variables_initializer is deprecated. Please use tf.compat.v1.variables_initializer instead.\n",
      "\n",
      "770088/770088 [==============================] - 260s 338us/step - loss: 2.0335 - val_loss: 1.6820\n",
      "Epoch 2/30\n",
      "770088/770088 [==============================] - 181s 235us/step - loss: 1.6931 - val_loss: 1.6761\n",
      "Epoch 3/30\n",
      "770088/770088 [==============================] - 181s 235us/step - loss: 1.6285 - val_loss: 1.6725\n",
      "Epoch 4/30\n",
      "770088/770088 [==============================] - 183s 238us/step - loss: 1.5568 - val_loss: 1.6876\n",
      "Epoch 5/30\n",
      "770088/770088 [==============================] - 181s 235us/step - loss: 1.4901 - val_loss: 1.6841\n",
      "Epoch 6/30\n",
      "770088/770088 [==============================] - 181s 235us/step - loss: 1.4284 - val_loss: 1.6870\n",
      "Epoch 7/30\n",
      "770088/770088 [==============================] - 181s 236us/step - loss: 1.3774 - val_loss: 1.6801\n",
      "Epoch 8/30\n",
      "770088/770088 [==============================] - 181s 235us/step - loss: 1.3369 - val_loss: 1.7003\n",
      "Epoch 9/30\n",
      "770088/770088 [==============================] - 181s 235us/step - loss: 1.3033 - val_loss: 1.7280\n",
      "Epoch 10/30\n",
      "770088/770088 [==============================] - 182s 236us/step - loss: 1.2738 - val_loss: 1.7384\n",
      "Epoch 11/30\n",
      "770088/770088 [==============================] - 181s 235us/step - loss: 1.2513 - val_loss: 1.7183\n",
      "Epoch 12/30\n",
      "770088/770088 [==============================] - 182s 236us/step - loss: 1.2269 - val_loss: 1.7380\n",
      "Epoch 13/30\n",
      "770088/770088 [==============================] - 181s 235us/step - loss: 1.2138 - val_loss: 1.7714\n",
      "Epoch 14/30\n",
      "770088/770088 [==============================] - 181s 235us/step - loss: 1.1974 - val_loss: 1.7240\n",
      "Epoch 15/30\n",
      "770088/770088 [==============================] - 181s 235us/step - loss: 1.1834 - val_loss: 1.7242\n",
      "Epoch 16/30\n",
      "770088/770088 [==============================] - 182s 236us/step - loss: 1.1713 - val_loss: 1.7612\n",
      "Epoch 17/30\n",
      "770088/770088 [==============================] - 182s 236us/step - loss: 1.1564 - val_loss: 1.7924\n",
      "Epoch 18/30\n",
      "770088/770088 [==============================] - 181s 235us/step - loss: 1.1478 - val_loss: 1.7910\n",
      "Epoch 19/30\n",
      "770088/770088 [==============================] - 182s 236us/step - loss: 1.1411 - val_loss: 1.7815\n",
      "Epoch 20/30\n",
      "770088/770088 [==============================] - 182s 236us/step - loss: 1.1308 - val_loss: 1.7716\n",
      "Epoch 21/30\n",
      "770088/770088 [==============================] - 183s 237us/step - loss: 1.1220 - val_loss: 1.7947\n",
      "Epoch 22/30\n",
      "770088/770088 [==============================] - 183s 238us/step - loss: 1.1151 - val_loss: 1.8192\n",
      "Epoch 23/30\n",
      "770088/770088 [==============================] - 186s 241us/step - loss: 1.1084 - val_loss: 1.7824\n",
      "Epoch 24/30\n",
      "770088/770088 [==============================] - 188s 244us/step - loss: 1.1045 - val_loss: 1.8814\n",
      "Epoch 25/30\n",
      "770088/770088 [==============================] - 189s 245us/step - loss: 1.0993 - val_loss: 1.8438\n",
      "Epoch 26/30\n",
      "770088/770088 [==============================] - 189s 245us/step - loss: 1.0930 - val_loss: 1.8312\n",
      "Epoch 27/30\n",
      "770088/770088 [==============================] - 188s 244us/step - loss: 1.0896 - val_loss: 1.7766\n",
      "Epoch 28/30\n",
      "770088/770088 [==============================] - 182s 236us/step - loss: 1.0835 - val_loss: 1.8115\n",
      "Epoch 29/30\n",
      "770088/770088 [==============================] - 182s 236us/step - loss: 1.0776 - val_loss: 1.9063\n",
      "Epoch 30/30\n",
      "770088/770088 [==============================] - 181s 236us/step - loss: 1.0748 - val_loss: 1.7788\n",
      "time: 1h 32min 43s\n"
     ]
    }
   ],
   "source": [
    "# create model\n",
    "model = Model(inputs=\n",
    "                    [\n",
    "                      user_id_input,\n",
    "                      item_id_input,\n",
    "                      price_id_input,\n",
    "                      title_id_input,\n",
    "                    ], \n",
    "              outputs=y)\n",
    "\n",
    "# compile model\n",
    "model.compile(loss='mse',\n",
    "              optimizer=\"adam\" )\n",
    "\n",
    "# set save location for model\n",
    "save_path = \"./models\"\n",
    "thename = save_path + '/' + modname + '.h5'\n",
    "mcheck = ModelCheckpoint(thename, monitor='val_loss', save_best_only=True)\n",
    "\n",
    "# fit model\n",
    "history = model.fit([ratings_train[\"user_id\"]\n",
    "                    , ratings_train[\"item_id\"]\n",
    "                    , ratings_train[\"price_id\"]\n",
    "                    , ratings_train[\"title_id\"]\n",
    "                    ]\n",
    "                    , ratings_train[\"score\"]\n",
    "                    , batch_size=64\n",
    "                    , epochs=num_epochs\n",
    "                    , validation_split=0.1\n",
    "                    , callbacks=[mcheck]\n",
    "                    , shuffle=True)"
   ]
  },
  {
   "cell_type": "code",
   "execution_count": 46,
   "metadata": {},
   "outputs": [
    {
     "name": "stdout",
     "output_type": "stream",
     "text": [
      "Save history in  ./histories/dense_2_Meta_Concatenate_15_embeddings_30_epochs-DropOut0.6.pkl\n",
      "time: 2.17 ms\n"
     ]
    }
   ],
   "source": [
    "# Save the fitted model history to a file\n",
    "with open('./histories/' + modname + '.pkl' , 'wb') as file_pi:  pickle.dump(history.history, file_pi)\n",
    "    \n",
    "print(\"Save history in \", './histories/' + modname + '.pkl')"
   ]
  },
  {
   "cell_type": "code",
   "execution_count": 47,
   "metadata": {},
   "outputs": [
    {
     "name": "stdout",
     "output_type": "stream",
     "text": [
      "time: 2.44 ms\n"
     ]
    }
   ],
   "source": [
    "def disp_model(path,file,suffix):\n",
    "    model = load_model(path+file+suffix)    \n",
    "    ## Summarise the model \n",
    "    model.summary()    \n",
    "    # Extract the learnt user and item embeddings, i.e., a table with number of items and users rows and columns, with number of columns is the dimension of the trained embedding.\n",
    "    # In our case, the embeddings correspond exactly to the weights of the model:\n",
    "    weights = model.get_weights()\n",
    "    print (\"embeddings \\ weights shapes\",[w.shape for w in weights])    \n",
    "    return model\n",
    "    \n",
    "model_path = \"./models/\""
   ]
  },
  {
   "cell_type": "code",
   "execution_count": 48,
   "metadata": {},
   "outputs": [
    {
     "name": "stdout",
     "output_type": "stream",
     "text": [
      "time: 2.49 ms\n"
     ]
    }
   ],
   "source": [
    "def plt_pickle(path,file,suffix):\n",
    "    with open(path+file+suffix , 'rb') as file_pi: \n",
    "        thepickle= pickle.load(file_pi)\n",
    "        plot(thepickle[\"loss\"],label ='Train Error ' + file,linestyle=\"--\")\n",
    "        plot(thepickle[\"val_loss\"],label='Validation Error ' + file) \n",
    "        plt.legend()\n",
    "        plt.xlabel(\"Epoch\")\n",
    "        plt.ylabel(\"Error\")  \n",
    "        ##plt.ylim(0, 0.1)\n",
    "    return pd.DataFrame(thepickle,columns =['loss','val_loss'])\n",
    "\n",
    "hist_path = \"./histories/\""
   ]
  },
  {
   "cell_type": "code",
   "execution_count": 49,
   "metadata": {},
   "outputs": [
    {
     "name": "stdout",
     "output_type": "stream",
     "text": [
      "./models/\n",
      "dense_2_Meta_Concatenate_15_embeddings_30_epochs-DropOut0.6\n",
      "__________________________________________________________________________________________________\n",
      "Layer (type)                    Output Shape         Param #     Connected to                     \n",
      "==================================================================================================\n",
      "item (InputLayer)               (None, 1)            0                                            \n",
      "__________________________________________________________________________________________________\n",
      "price (InputLayer)              (None, 1)            0                                            \n",
      "__________________________________________________________________________________________________\n",
      "title (InputLayer)              (None, 1)            0                                            \n",
      "__________________________________________________________________________________________________\n",
      "user (InputLayer)               (None, 1)            0                                            \n",
      "__________________________________________________________________________________________________\n",
      "item_embedding (Embedding)      (None, 1, 15)        3684540     item[0][0]                       \n",
      "__________________________________________________________________________________________________\n",
      "price_embedding (Embedding)     (None, 1, 15)        15          price[0][0]                      \n",
      "__________________________________________________________________________________________________\n",
      "title_embedding (Embedding)     (None, 1, 15)        37608825    title[0][0]                      \n",
      "__________________________________________________________________________________________________\n",
      "user_embedding (Embedding)      (None, 1, 15)        7695150     user[0][0]                       \n",
      "__________________________________________________________________________________________________\n",
      "reshape_2 (Reshape)             (None, 15)           0           item_embedding[0][0]             \n",
      "__________________________________________________________________________________________________\n",
      "reshape_3 (Reshape)             (None, 15)           0           price_embedding[0][0]            \n",
      "__________________________________________________________________________________________________\n",
      "reshape_4 (Reshape)             (None, 15)           0           title_embedding[0][0]            \n",
      "__________________________________________________________________________________________________\n",
      "reshape_1 (Reshape)             (None, 15)           0           user_embedding[0][0]             \n",
      "__________________________________________________________________________________________________\n",
      "dropout_2 (Dropout)             (None, 15)           0           reshape_2[0][0]                  \n",
      "__________________________________________________________________________________________________\n",
      "dropout_3 (Dropout)             (None, 15)           0           reshape_3[0][0]                  \n",
      "__________________________________________________________________________________________________\n",
      "dropout_4 (Dropout)             (None, 15)           0           reshape_4[0][0]                  \n",
      "__________________________________________________________________________________________________\n",
      "dropout_1 (Dropout)             (None, 15)           0           reshape_1[0][0]                  \n",
      "__________________________________________________________________________________________________\n",
      "dense_2 (Dense)                 (None, 64)           1024        dropout_2[0][0]                  \n",
      "__________________________________________________________________________________________________\n",
      "dense_3 (Dense)                 (None, 64)           1024        dropout_3[0][0]                  \n",
      "__________________________________________________________________________________________________\n",
      "dense_4 (Dense)                 (None, 64)           1024        dropout_4[0][0]                  \n",
      "__________________________________________________________________________________________________\n",
      "dense_1 (Dense)                 (None, 64)           1024        dropout_1[0][0]                  \n",
      "__________________________________________________________________________________________________\n",
      "concatenate_1 (Concatenate)     (None, 192)          0           dense_2[0][0]                    \n",
      "                                                                 dense_3[0][0]                    \n",
      "                                                                 dense_4[0][0]                    \n",
      "__________________________________________________________________________________________________\n",
      "concatenate_2 (Concatenate)     (None, 256)          0           dense_1[0][0]                    \n",
      "                                                                 concatenate_1[0][0]              \n",
      "__________________________________________________________________________________________________\n",
      "dropout_5 (Dropout)             (None, 256)          0           concatenate_2[0][0]              \n",
      "__________________________________________________________________________________________________\n",
      "dense_5 (Dense)                 (None, 128)          32896       dropout_5[0][0]                  \n",
      "__________________________________________________________________________________________________\n",
      "dropout_6 (Dropout)             (None, 128)          0           dense_5[0][0]                    \n",
      "__________________________________________________________________________________________________\n",
      "dense_6 (Dense)                 (None, 128)          16512       dropout_6[0][0]                  \n",
      "__________________________________________________________________________________________________\n",
      "dropout_7 (Dropout)             (None, 128)          0           dense_6[0][0]                    \n",
      "__________________________________________________________________________________________________\n",
      "dropout_8 (Dropout)             (None, 128)          0           dropout_7[0][0]                  \n",
      "__________________________________________________________________________________________________\n",
      "dense_7 (Dense)                 (None, 1)            129         dropout_8[0][0]                  \n",
      "==================================================================================================\n",
      "Total params: 49,042,163\n",
      "Trainable params: 49,042,163\n",
      "Non-trainable params: 0\n",
      "__________________________________________________________________________________________________\n",
      "embeddings \\ weights shapes [(245636, 15), (1, 15), (2507255, 15), (513010, 15), (15, 64), (64,), (15, 64), (64,), (15, 64), (64,), (15, 64), (64,), (256, 128), (128,), (128, 128), (128,), (128, 1), (1,)]\n",
      "time: 5.42 s\n"
     ]
    }
   ],
   "source": [
    "print(model_path)\n",
    "print(modname)\n",
    "model=disp_model(model_path, modname, '.h5')"
   ]
  },
  {
   "cell_type": "code",
   "execution_count": 50,
   "metadata": {},
   "outputs": [
    {
     "data": {
      "image/svg+xml": [
       "<svg height=\"994pt\" viewBox=\"0.00 0.00 718.00 994.00\" width=\"718pt\" xmlns=\"http://www.w3.org/2000/svg\" xmlns:xlink=\"http://www.w3.org/1999/xlink\">\n",
       "<g class=\"graph\" id=\"graph0\" transform=\"scale(1 1) rotate(0) translate(4 990)\">\n",
       "<title>G</title>\n",
       "<polygon fill=\"#ffffff\" points=\"-4,4 -4,-990 714,-990 714,4 -4,4\" stroke=\"transparent\"/>\n",
       "<!-- 139784213793480 -->\n",
       "<g class=\"node\" id=\"node1\">\n",
       "<title>139784213793480</title>\n",
       "<polygon fill=\"none\" points=\"566,-949.5 566,-985.5 675,-985.5 675,-949.5 566,-949.5\" stroke=\"#000000\"/>\n",
       "<text fill=\"#000000\" font-family=\"Times,serif\" font-size=\"14.00\" text-anchor=\"middle\" x=\"620.5\" y=\"-963.8\">item: InputLayer</text>\n",
       "</g>\n",
       "<!-- 139784213793200 -->\n",
       "<g class=\"node\" id=\"node5\">\n",
       "<title>139784213793200</title>\n",
       "<polygon fill=\"none\" points=\"531,-876.5 531,-912.5 710,-912.5 710,-876.5 531,-876.5\" stroke=\"#000000\"/>\n",
       "<text fill=\"#000000\" font-family=\"Times,serif\" font-size=\"14.00\" text-anchor=\"middle\" x=\"620.5\" y=\"-890.8\">item_embedding: Embedding</text>\n",
       "</g>\n",
       "<!-- 139784213793480&#45;&gt;139784213793200 -->\n",
       "<g class=\"edge\" id=\"edge1\">\n",
       "<title>139784213793480-&gt;139784213793200</title>\n",
       "<path d=\"M620.5,-949.4551C620.5,-941.3828 620.5,-931.6764 620.5,-922.6817\" fill=\"none\" stroke=\"#000000\"/>\n",
       "<polygon fill=\"#000000\" points=\"624.0001,-922.5903 620.5,-912.5904 617.0001,-922.5904 624.0001,-922.5903\" stroke=\"#000000\"/>\n",
       "</g>\n",
       "<!-- 139784213793368 -->\n",
       "<g class=\"node\" id=\"node2\">\n",
       "<title>139784213793368</title>\n",
       "<polygon fill=\"none\" points=\"172,-949.5 172,-985.5 283,-985.5 283,-949.5 172,-949.5\" stroke=\"#000000\"/>\n",
       "<text fill=\"#000000\" font-family=\"Times,serif\" font-size=\"14.00\" text-anchor=\"middle\" x=\"227.5\" y=\"-963.8\">price: InputLayer</text>\n",
       "</g>\n",
       "<!-- 139784213791968 -->\n",
       "<g class=\"node\" id=\"node6\">\n",
       "<title>139784213791968</title>\n",
       "<polygon fill=\"none\" points=\"136.5,-876.5 136.5,-912.5 318.5,-912.5 318.5,-876.5 136.5,-876.5\" stroke=\"#000000\"/>\n",
       "<text fill=\"#000000\" font-family=\"Times,serif\" font-size=\"14.00\" text-anchor=\"middle\" x=\"227.5\" y=\"-890.8\">price_embedding: Embedding</text>\n",
       "</g>\n",
       "<!-- 139784213793368&#45;&gt;139784213791968 -->\n",
       "<g class=\"edge\" id=\"edge2\">\n",
       "<title>139784213793368-&gt;139784213791968</title>\n",
       "<path d=\"M227.5,-949.4551C227.5,-941.3828 227.5,-931.6764 227.5,-922.6817\" fill=\"none\" stroke=\"#000000\"/>\n",
       "<polygon fill=\"#000000\" points=\"231.0001,-922.5903 227.5,-912.5904 224.0001,-922.5904 231.0001,-922.5903\" stroke=\"#000000\"/>\n",
       "</g>\n",
       "<!-- 139784213793256 -->\n",
       "<g class=\"node\" id=\"node3\">\n",
       "<title>139784213793256</title>\n",
       "<polygon fill=\"none\" points=\"372,-949.5 372,-985.5 477,-985.5 477,-949.5 372,-949.5\" stroke=\"#000000\"/>\n",
       "<text fill=\"#000000\" font-family=\"Times,serif\" font-size=\"14.00\" text-anchor=\"middle\" x=\"424.5\" y=\"-963.8\">title: InputLayer</text>\n",
       "</g>\n",
       "<!-- 139784213793088 -->\n",
       "<g class=\"node\" id=\"node7\">\n",
       "<title>139784213793088</title>\n",
       "<polygon fill=\"none\" points=\"336.5,-876.5 336.5,-912.5 512.5,-912.5 512.5,-876.5 336.5,-876.5\" stroke=\"#000000\"/>\n",
       "<text fill=\"#000000\" font-family=\"Times,serif\" font-size=\"14.00\" text-anchor=\"middle\" x=\"424.5\" y=\"-890.8\">title_embedding: Embedding</text>\n",
       "</g>\n",
       "<!-- 139784213793256&#45;&gt;139784213793088 -->\n",
       "<g class=\"edge\" id=\"edge3\">\n",
       "<title>139784213793256-&gt;139784213793088</title>\n",
       "<path d=\"M424.5,-949.4551C424.5,-941.3828 424.5,-931.6764 424.5,-922.6817\" fill=\"none\" stroke=\"#000000\"/>\n",
       "<polygon fill=\"#000000\" points=\"428.0001,-922.5903 424.5,-912.5904 421.0001,-922.5904 428.0001,-922.5903\" stroke=\"#000000\"/>\n",
       "</g>\n",
       "<!-- 139784213793312 -->\n",
       "<g class=\"node\" id=\"node4\">\n",
       "<title>139784213793312</title>\n",
       "<polygon fill=\"none\" points=\"11,-876.5 11,-912.5 118,-912.5 118,-876.5 11,-876.5\" stroke=\"#000000\"/>\n",
       "<text fill=\"#000000\" font-family=\"Times,serif\" font-size=\"14.00\" text-anchor=\"middle\" x=\"64.5\" y=\"-890.8\">user: InputLayer</text>\n",
       "</g>\n",
       "<!-- 139784213792192 -->\n",
       "<g class=\"node\" id=\"node8\">\n",
       "<title>139784213792192</title>\n",
       "<polygon fill=\"none\" points=\"0,-803.5 0,-839.5 177,-839.5 177,-803.5 0,-803.5\" stroke=\"#000000\"/>\n",
       "<text fill=\"#000000\" font-family=\"Times,serif\" font-size=\"14.00\" text-anchor=\"middle\" x=\"88.5\" y=\"-817.8\">user_embedding: Embedding</text>\n",
       "</g>\n",
       "<!-- 139784213793312&#45;&gt;139784213792192 -->\n",
       "<g class=\"edge\" id=\"edge4\">\n",
       "<title>139784213793312-&gt;139784213792192</title>\n",
       "<path d=\"M70.4326,-876.4551C73.1442,-868.2074 76.4166,-858.2536 79.4273,-849.0962\" fill=\"none\" stroke=\"#000000\"/>\n",
       "<polygon fill=\"#000000\" points=\"82.7541,-850.1833 82.5525,-839.5904 76.1043,-847.997 82.7541,-850.1833\" stroke=\"#000000\"/>\n",
       "</g>\n",
       "<!-- 139784225710488 -->\n",
       "<g class=\"node\" id=\"node9\">\n",
       "<title>139784225710488</title>\n",
       "<polygon fill=\"none\" points=\"507,-803.5 507,-839.5 632,-839.5 632,-803.5 507,-803.5\" stroke=\"#000000\"/>\n",
       "<text fill=\"#000000\" font-family=\"Times,serif\" font-size=\"14.00\" text-anchor=\"middle\" x=\"569.5\" y=\"-817.8\">reshape_2: Reshape</text>\n",
       "</g>\n",
       "<!-- 139784213793200&#45;&gt;139784225710488 -->\n",
       "<g class=\"edge\" id=\"edge5\">\n",
       "<title>139784213793200-&gt;139784225710488</title>\n",
       "<path d=\"M607.8933,-876.4551C601.886,-867.8564 594.5832,-857.4034 587.9659,-847.9316\" fill=\"none\" stroke=\"#000000\"/>\n",
       "<polygon fill=\"#000000\" points=\"590.7348,-845.7835 582.1385,-839.5904 584.9964,-849.7925 590.7348,-845.7835\" stroke=\"#000000\"/>\n",
       "</g>\n",
       "<!-- 139784225710432 -->\n",
       "<g class=\"node\" id=\"node10\">\n",
       "<title>139784225710432</title>\n",
       "<polygon fill=\"none\" points=\"196,-803.5 196,-839.5 321,-839.5 321,-803.5 196,-803.5\" stroke=\"#000000\"/>\n",
       "<text fill=\"#000000\" font-family=\"Times,serif\" font-size=\"14.00\" text-anchor=\"middle\" x=\"258.5\" y=\"-817.8\">reshape_3: Reshape</text>\n",
       "</g>\n",
       "<!-- 139784213791968&#45;&gt;139784225710432 -->\n",
       "<g class=\"edge\" id=\"edge6\">\n",
       "<title>139784213791968-&gt;139784225710432</title>\n",
       "<path d=\"M235.1629,-876.4551C238.7026,-868.1196 242.9823,-858.0416 246.9051,-848.8042\" fill=\"none\" stroke=\"#000000\"/>\n",
       "<polygon fill=\"#000000\" points=\"250.1306,-850.1629 250.8178,-839.5904 243.6874,-847.4267 250.1306,-850.1629\" stroke=\"#000000\"/>\n",
       "</g>\n",
       "<!-- 139784225710880 -->\n",
       "<g class=\"node\" id=\"node11\">\n",
       "<title>139784225710880</title>\n",
       "<polygon fill=\"none\" points=\"357,-803.5 357,-839.5 482,-839.5 482,-803.5 357,-803.5\" stroke=\"#000000\"/>\n",
       "<text fill=\"#000000\" font-family=\"Times,serif\" font-size=\"14.00\" text-anchor=\"middle\" x=\"419.5\" y=\"-817.8\">reshape_4: Reshape</text>\n",
       "</g>\n",
       "<!-- 139784213793088&#45;&gt;139784225710880 -->\n",
       "<g class=\"edge\" id=\"edge7\">\n",
       "<title>139784213793088-&gt;139784225710880</title>\n",
       "<path d=\"M423.264,-876.4551C422.7112,-868.3828 422.0463,-858.6764 421.4303,-849.6817\" fill=\"none\" stroke=\"#000000\"/>\n",
       "<polygon fill=\"#000000\" points=\"424.9143,-849.3278 420.7391,-839.5904 417.9307,-849.8062 424.9143,-849.3278\" stroke=\"#000000\"/>\n",
       "</g>\n",
       "<!-- 139784225710936 -->\n",
       "<g class=\"node\" id=\"node12\">\n",
       "<title>139784225710936</title>\n",
       "<polygon fill=\"none\" points=\"44,-730.5 44,-766.5 169,-766.5 169,-730.5 44,-730.5\" stroke=\"#000000\"/>\n",
       "<text fill=\"#000000\" font-family=\"Times,serif\" font-size=\"14.00\" text-anchor=\"middle\" x=\"106.5\" y=\"-744.8\">reshape_1: Reshape</text>\n",
       "</g>\n",
       "<!-- 139784213792192&#45;&gt;139784225710936 -->\n",
       "<g class=\"edge\" id=\"edge8\">\n",
       "<title>139784213792192-&gt;139784225710936</title>\n",
       "<path d=\"M92.9494,-803.4551C94.9615,-795.2951 97.3853,-785.4652 99.6233,-776.3887\" fill=\"none\" stroke=\"#000000\"/>\n",
       "<polygon fill=\"#000000\" points=\"103.0435,-777.1375 102.0394,-766.5904 96.247,-775.4616 103.0435,-777.1375\" stroke=\"#000000\"/>\n",
       "</g>\n",
       "<!-- 139784225710992 -->\n",
       "<g class=\"node\" id=\"node13\">\n",
       "<title>139784225710992</title>\n",
       "<polygon fill=\"none\" points=\"495,-730.5 495,-766.5 620,-766.5 620,-730.5 495,-730.5\" stroke=\"#000000\"/>\n",
       "<text fill=\"#000000\" font-family=\"Times,serif\" font-size=\"14.00\" text-anchor=\"middle\" x=\"557.5\" y=\"-744.8\">dropout_2: Dropout</text>\n",
       "</g>\n",
       "<!-- 139784225710488&#45;&gt;139784225710992 -->\n",
       "<g class=\"edge\" id=\"edge9\">\n",
       "<title>139784225710488-&gt;139784225710992</title>\n",
       "<path d=\"M566.5337,-803.4551C565.2068,-795.3828 563.6112,-785.6764 562.1326,-776.6817\" fill=\"none\" stroke=\"#000000\"/>\n",
       "<polygon fill=\"#000000\" points=\"565.5496,-775.8902 560.4738,-766.5904 558.6423,-777.0257 565.5496,-775.8902\" stroke=\"#000000\"/>\n",
       "</g>\n",
       "<!-- 139784225711048 -->\n",
       "<g class=\"node\" id=\"node14\">\n",
       "<title>139784225711048</title>\n",
       "<polygon fill=\"none\" points=\"200,-730.5 200,-766.5 325,-766.5 325,-730.5 200,-730.5\" stroke=\"#000000\"/>\n",
       "<text fill=\"#000000\" font-family=\"Times,serif\" font-size=\"14.00\" text-anchor=\"middle\" x=\"262.5\" y=\"-744.8\">dropout_3: Dropout</text>\n",
       "</g>\n",
       "<!-- 139784225710432&#45;&gt;139784225711048 -->\n",
       "<g class=\"edge\" id=\"edge10\">\n",
       "<title>139784225710432-&gt;139784225711048</title>\n",
       "<path d=\"M259.4888,-803.4551C259.9311,-795.3828 260.4629,-785.6764 260.9558,-776.6817\" fill=\"none\" stroke=\"#000000\"/>\n",
       "<polygon fill=\"#000000\" points=\"264.4563,-776.7669 261.5087,-766.5904 257.4668,-776.3839 264.4563,-776.7669\" stroke=\"#000000\"/>\n",
       "</g>\n",
       "<!-- 139784225711104 -->\n",
       "<g class=\"node\" id=\"node15\">\n",
       "<title>139784225711104</title>\n",
       "<polygon fill=\"none\" points=\"349,-730.5 349,-766.5 474,-766.5 474,-730.5 349,-730.5\" stroke=\"#000000\"/>\n",
       "<text fill=\"#000000\" font-family=\"Times,serif\" font-size=\"14.00\" text-anchor=\"middle\" x=\"411.5\" y=\"-744.8\">dropout_4: Dropout</text>\n",
       "</g>\n",
       "<!-- 139784225710880&#45;&gt;139784225711104 -->\n",
       "<g class=\"edge\" id=\"edge11\">\n",
       "<title>139784225710880-&gt;139784225711104</title>\n",
       "<path d=\"M417.5225,-803.4551C416.6378,-795.3828 415.5741,-785.6764 414.5884,-776.6817\" fill=\"none\" stroke=\"#000000\"/>\n",
       "<polygon fill=\"#000000\" points=\"418.0511,-776.1495 413.4825,-766.5904 411.0928,-776.9122 418.0511,-776.1495\" stroke=\"#000000\"/>\n",
       "</g>\n",
       "<!-- 139784225711160 -->\n",
       "<g class=\"node\" id=\"node16\">\n",
       "<title>139784225711160</title>\n",
       "<polygon fill=\"none\" points=\"72,-657.5 72,-693.5 197,-693.5 197,-657.5 72,-657.5\" stroke=\"#000000\"/>\n",
       "<text fill=\"#000000\" font-family=\"Times,serif\" font-size=\"14.00\" text-anchor=\"middle\" x=\"134.5\" y=\"-671.8\">dropout_1: Dropout</text>\n",
       "</g>\n",
       "<!-- 139784225710936&#45;&gt;139784225711160 -->\n",
       "<g class=\"edge\" id=\"edge12\">\n",
       "<title>139784225710936-&gt;139784225711160</title>\n",
       "<path d=\"M113.4214,-730.4551C116.5849,-722.2074 120.4027,-712.2536 123.9152,-703.0962\" fill=\"none\" stroke=\"#000000\"/>\n",
       "<polygon fill=\"#000000\" points=\"127.2478,-704.1806 127.5612,-693.5904 120.7121,-701.6737 127.2478,-704.1806\" stroke=\"#000000\"/>\n",
       "</g>\n",
       "<!-- 139784225711216 -->\n",
       "<g class=\"node\" id=\"node17\">\n",
       "<title>139784225711216</title>\n",
       "<polygon fill=\"none\" points=\"488.5,-657.5 488.5,-693.5 590.5,-693.5 590.5,-657.5 488.5,-657.5\" stroke=\"#000000\"/>\n",
       "<text fill=\"#000000\" font-family=\"Times,serif\" font-size=\"14.00\" text-anchor=\"middle\" x=\"539.5\" y=\"-671.8\">dense_2: Dense</text>\n",
       "</g>\n",
       "<!-- 139784225710992&#45;&gt;139784225711216 -->\n",
       "<g class=\"edge\" id=\"edge13\">\n",
       "<title>139784225710992-&gt;139784225711216</title>\n",
       "<path d=\"M553.0506,-730.4551C551.0385,-722.2951 548.6147,-712.4652 546.3767,-703.3887\" fill=\"none\" stroke=\"#000000\"/>\n",
       "<polygon fill=\"#000000\" points=\"549.753,-702.4616 543.9606,-693.5904 542.9565,-704.1375 549.753,-702.4616\" stroke=\"#000000\"/>\n",
       "</g>\n",
       "<!-- 139784225711552 -->\n",
       "<g class=\"node\" id=\"node18\">\n",
       "<title>139784225711552</title>\n",
       "<polygon fill=\"none\" points=\"220.5,-657.5 220.5,-693.5 322.5,-693.5 322.5,-657.5 220.5,-657.5\" stroke=\"#000000\"/>\n",
       "<text fill=\"#000000\" font-family=\"Times,serif\" font-size=\"14.00\" text-anchor=\"middle\" x=\"271.5\" y=\"-671.8\">dense_3: Dense</text>\n",
       "</g>\n",
       "<!-- 139784225711048&#45;&gt;139784225711552 -->\n",
       "<g class=\"edge\" id=\"edge14\">\n",
       "<title>139784225711048-&gt;139784225711552</title>\n",
       "<path d=\"M264.7247,-730.4551C265.7199,-722.3828 266.9166,-712.6764 268.0255,-703.6817\" fill=\"none\" stroke=\"#000000\"/>\n",
       "<polygon fill=\"#000000\" points=\"271.5197,-703.9435 269.2697,-693.5904 264.5723,-703.0869 271.5197,-703.9435\" stroke=\"#000000\"/>\n",
       "</g>\n",
       "<!-- 139784225711888 -->\n",
       "<g class=\"node\" id=\"node19\">\n",
       "<title>139784225711888</title>\n",
       "<polygon fill=\"none\" points=\"351.5,-657.5 351.5,-693.5 453.5,-693.5 453.5,-657.5 351.5,-657.5\" stroke=\"#000000\"/>\n",
       "<text fill=\"#000000\" font-family=\"Times,serif\" font-size=\"14.00\" text-anchor=\"middle\" x=\"402.5\" y=\"-671.8\">dense_4: Dense</text>\n",
       "</g>\n",
       "<!-- 139784225711104&#45;&gt;139784225711888 -->\n",
       "<g class=\"edge\" id=\"edge15\">\n",
       "<title>139784225711104-&gt;139784225711888</title>\n",
       "<path d=\"M409.2753,-730.4551C408.2801,-722.3828 407.0834,-712.6764 405.9745,-703.6817\" fill=\"none\" stroke=\"#000000\"/>\n",
       "<polygon fill=\"#000000\" points=\"409.4277,-703.0869 404.7303,-693.5904 402.4803,-703.9435 409.4277,-703.0869\" stroke=\"#000000\"/>\n",
       "</g>\n",
       "<!-- 139784225712224 -->\n",
       "<g class=\"node\" id=\"node20\">\n",
       "<title>139784225712224</title>\n",
       "<polygon fill=\"none\" points=\"132.5,-584.5 132.5,-620.5 234.5,-620.5 234.5,-584.5 132.5,-584.5\" stroke=\"#000000\"/>\n",
       "<text fill=\"#000000\" font-family=\"Times,serif\" font-size=\"14.00\" text-anchor=\"middle\" x=\"183.5\" y=\"-598.8\">dense_1: Dense</text>\n",
       "</g>\n",
       "<!-- 139784225711160&#45;&gt;139784225712224 -->\n",
       "<g class=\"edge\" id=\"edge16\">\n",
       "<title>139784225711160-&gt;139784225712224</title>\n",
       "<path d=\"M146.6124,-657.4551C152.3841,-648.8564 159.4005,-638.4034 165.7582,-628.9316\" fill=\"none\" stroke=\"#000000\"/>\n",
       "<polygon fill=\"#000000\" points=\"168.6899,-630.844 171.3572,-620.5904 162.8778,-626.9427 168.6899,-630.844\" stroke=\"#000000\"/>\n",
       "</g>\n",
       "<!-- 139784225712560 -->\n",
       "<g class=\"node\" id=\"node21\">\n",
       "<title>139784225712560</title>\n",
       "<polygon fill=\"none\" points=\"277.5,-584.5 277.5,-620.5 445.5,-620.5 445.5,-584.5 277.5,-584.5\" stroke=\"#000000\"/>\n",
       "<text fill=\"#000000\" font-family=\"Times,serif\" font-size=\"14.00\" text-anchor=\"middle\" x=\"361.5\" y=\"-598.8\">concatenate_1: Concatenate</text>\n",
       "</g>\n",
       "<!-- 139784225711216&#45;&gt;139784225712560 -->\n",
       "<g class=\"edge\" id=\"edge17\">\n",
       "<title>139784225711216-&gt;139784225712560</title>\n",
       "<path d=\"M495.5,-657.4551C471.2172,-647.4964 440.8695,-635.0504 415.1982,-624.5223\" fill=\"none\" stroke=\"#000000\"/>\n",
       "<polygon fill=\"#000000\" points=\"416.191,-621.1466 405.6107,-620.5904 413.5348,-627.6231 416.191,-621.1466\" stroke=\"#000000\"/>\n",
       "</g>\n",
       "<!-- 139784225711552&#45;&gt;139784225712560 -->\n",
       "<g class=\"edge\" id=\"edge18\">\n",
       "<title>139784225711552-&gt;139784225712560</title>\n",
       "<path d=\"M293.7472,-657.4551C305.1055,-648.2422 319.0883,-636.9006 331.3956,-626.918\" fill=\"none\" stroke=\"#000000\"/>\n",
       "<polygon fill=\"#000000\" points=\"333.6352,-629.6081 339.1968,-620.5904 329.2256,-624.1716 333.6352,-629.6081\" stroke=\"#000000\"/>\n",
       "</g>\n",
       "<!-- 139784225711888&#45;&gt;139784225712560 -->\n",
       "<g class=\"edge\" id=\"edge19\">\n",
       "<title>139784225711888-&gt;139784225712560</title>\n",
       "<path d=\"M392.3652,-657.4551C387.6343,-649.0319 381.9041,-638.8292 376.6715,-629.5128\" fill=\"none\" stroke=\"#000000\"/>\n",
       "<polygon fill=\"#000000\" points=\"379.609,-627.5954 371.6603,-620.5904 373.5057,-631.0233 379.609,-627.5954\" stroke=\"#000000\"/>\n",
       "</g>\n",
       "<!-- 139784225712616 -->\n",
       "<g class=\"node\" id=\"node22\">\n",
       "<title>139784225712616</title>\n",
       "<polygon fill=\"none\" points=\"175.5,-511.5 175.5,-547.5 343.5,-547.5 343.5,-511.5 175.5,-511.5\" stroke=\"#000000\"/>\n",
       "<text fill=\"#000000\" font-family=\"Times,serif\" font-size=\"14.00\" text-anchor=\"middle\" x=\"259.5\" y=\"-525.8\">concatenate_2: Concatenate</text>\n",
       "</g>\n",
       "<!-- 139784225712224&#45;&gt;139784225712616 -->\n",
       "<g class=\"edge\" id=\"edge20\">\n",
       "<title>139784225712224-&gt;139784225712616</title>\n",
       "<path d=\"M202.2865,-584.4551C211.6039,-575.5054 223.0127,-564.547 233.1843,-554.7769\" fill=\"none\" stroke=\"#000000\"/>\n",
       "<polygon fill=\"#000000\" points=\"235.8788,-557.0419 240.6662,-547.5904 231.0296,-551.9935 235.8788,-557.0419\" stroke=\"#000000\"/>\n",
       "</g>\n",
       "<!-- 139784225712560&#45;&gt;139784225712616 -->\n",
       "<g class=\"edge\" id=\"edge21\">\n",
       "<title>139784225712560-&gt;139784225712616</title>\n",
       "<path d=\"M336.2865,-584.4551C323.2912,-575.1545 307.2645,-563.6844 293.2204,-553.6332\" fill=\"none\" stroke=\"#000000\"/>\n",
       "<polygon fill=\"#000000\" points=\"294.9459,-550.5641 284.7769,-547.5904 290.8719,-556.2565 294.9459,-550.5641\" stroke=\"#000000\"/>\n",
       "</g>\n",
       "<!-- 139784225712672 -->\n",
       "<g class=\"node\" id=\"node23\">\n",
       "<title>139784225712672</title>\n",
       "<polygon fill=\"none\" points=\"197,-438.5 197,-474.5 322,-474.5 322,-438.5 197,-438.5\" stroke=\"#000000\"/>\n",
       "<text fill=\"#000000\" font-family=\"Times,serif\" font-size=\"14.00\" text-anchor=\"middle\" x=\"259.5\" y=\"-452.8\">dropout_5: Dropout</text>\n",
       "</g>\n",
       "<!-- 139784225712616&#45;&gt;139784225712672 -->\n",
       "<g class=\"edge\" id=\"edge22\">\n",
       "<title>139784225712616-&gt;139784225712672</title>\n",
       "<path d=\"M259.5,-511.4551C259.5,-503.3828 259.5,-493.6764 259.5,-484.6817\" fill=\"none\" stroke=\"#000000\"/>\n",
       "<polygon fill=\"#000000\" points=\"263.0001,-484.5903 259.5,-474.5904 256.0001,-484.5904 263.0001,-484.5903\" stroke=\"#000000\"/>\n",
       "</g>\n",
       "<!-- 139784225712728 -->\n",
       "<g class=\"node\" id=\"node24\">\n",
       "<title>139784225712728</title>\n",
       "<polygon fill=\"none\" points=\"208.5,-365.5 208.5,-401.5 310.5,-401.5 310.5,-365.5 208.5,-365.5\" stroke=\"#000000\"/>\n",
       "<text fill=\"#000000\" font-family=\"Times,serif\" font-size=\"14.00\" text-anchor=\"middle\" x=\"259.5\" y=\"-379.8\">dense_5: Dense</text>\n",
       "</g>\n",
       "<!-- 139784225712672&#45;&gt;139784225712728 -->\n",
       "<g class=\"edge\" id=\"edge23\">\n",
       "<title>139784225712672-&gt;139784225712728</title>\n",
       "<path d=\"M259.5,-438.4551C259.5,-430.3828 259.5,-420.6764 259.5,-411.6817\" fill=\"none\" stroke=\"#000000\"/>\n",
       "<polygon fill=\"#000000\" points=\"263.0001,-411.5903 259.5,-401.5904 256.0001,-411.5904 263.0001,-411.5903\" stroke=\"#000000\"/>\n",
       "</g>\n",
       "<!-- 139784225713064 -->\n",
       "<g class=\"node\" id=\"node25\">\n",
       "<title>139784225713064</title>\n",
       "<polygon fill=\"none\" points=\"197,-292.5 197,-328.5 322,-328.5 322,-292.5 197,-292.5\" stroke=\"#000000\"/>\n",
       "<text fill=\"#000000\" font-family=\"Times,serif\" font-size=\"14.00\" text-anchor=\"middle\" x=\"259.5\" y=\"-306.8\">dropout_6: Dropout</text>\n",
       "</g>\n",
       "<!-- 139784225712728&#45;&gt;139784225713064 -->\n",
       "<g class=\"edge\" id=\"edge24\">\n",
       "<title>139784225712728-&gt;139784225713064</title>\n",
       "<path d=\"M259.5,-365.4551C259.5,-357.3828 259.5,-347.6764 259.5,-338.6817\" fill=\"none\" stroke=\"#000000\"/>\n",
       "<polygon fill=\"#000000\" points=\"263.0001,-338.5903 259.5,-328.5904 256.0001,-338.5904 263.0001,-338.5903\" stroke=\"#000000\"/>\n",
       "</g>\n",
       "<!-- 139784225713120 -->\n",
       "<g class=\"node\" id=\"node26\">\n",
       "<title>139784225713120</title>\n",
       "<polygon fill=\"none\" points=\"208.5,-219.5 208.5,-255.5 310.5,-255.5 310.5,-219.5 208.5,-219.5\" stroke=\"#000000\"/>\n",
       "<text fill=\"#000000\" font-family=\"Times,serif\" font-size=\"14.00\" text-anchor=\"middle\" x=\"259.5\" y=\"-233.8\">dense_6: Dense</text>\n",
       "</g>\n",
       "<!-- 139784225713064&#45;&gt;139784225713120 -->\n",
       "<g class=\"edge\" id=\"edge25\">\n",
       "<title>139784225713064-&gt;139784225713120</title>\n",
       "<path d=\"M259.5,-292.4551C259.5,-284.3828 259.5,-274.6764 259.5,-265.6817\" fill=\"none\" stroke=\"#000000\"/>\n",
       "<polygon fill=\"#000000\" points=\"263.0001,-265.5903 259.5,-255.5904 256.0001,-265.5904 263.0001,-265.5903\" stroke=\"#000000\"/>\n",
       "</g>\n",
       "<!-- 139784225713456 -->\n",
       "<g class=\"node\" id=\"node27\">\n",
       "<title>139784225713456</title>\n",
       "<polygon fill=\"none\" points=\"197,-146.5 197,-182.5 322,-182.5 322,-146.5 197,-146.5\" stroke=\"#000000\"/>\n",
       "<text fill=\"#000000\" font-family=\"Times,serif\" font-size=\"14.00\" text-anchor=\"middle\" x=\"259.5\" y=\"-160.8\">dropout_7: Dropout</text>\n",
       "</g>\n",
       "<!-- 139784225713120&#45;&gt;139784225713456 -->\n",
       "<g class=\"edge\" id=\"edge26\">\n",
       "<title>139784225713120-&gt;139784225713456</title>\n",
       "<path d=\"M259.5,-219.4551C259.5,-211.3828 259.5,-201.6764 259.5,-192.6817\" fill=\"none\" stroke=\"#000000\"/>\n",
       "<polygon fill=\"#000000\" points=\"263.0001,-192.5903 259.5,-182.5904 256.0001,-192.5904 263.0001,-192.5903\" stroke=\"#000000\"/>\n",
       "</g>\n",
       "<!-- 139784225713512 -->\n",
       "<g class=\"node\" id=\"node28\">\n",
       "<title>139784225713512</title>\n",
       "<polygon fill=\"none\" points=\"197,-73.5 197,-109.5 322,-109.5 322,-73.5 197,-73.5\" stroke=\"#000000\"/>\n",
       "<text fill=\"#000000\" font-family=\"Times,serif\" font-size=\"14.00\" text-anchor=\"middle\" x=\"259.5\" y=\"-87.8\">dropout_8: Dropout</text>\n",
       "</g>\n",
       "<!-- 139784225713456&#45;&gt;139784225713512 -->\n",
       "<g class=\"edge\" id=\"edge27\">\n",
       "<title>139784225713456-&gt;139784225713512</title>\n",
       "<path d=\"M259.5,-146.4551C259.5,-138.3828 259.5,-128.6764 259.5,-119.6817\" fill=\"none\" stroke=\"#000000\"/>\n",
       "<polygon fill=\"#000000\" points=\"263.0001,-119.5903 259.5,-109.5904 256.0001,-119.5904 263.0001,-119.5903\" stroke=\"#000000\"/>\n",
       "</g>\n",
       "<!-- 139784225713568 -->\n",
       "<g class=\"node\" id=\"node29\">\n",
       "<title>139784225713568</title>\n",
       "<polygon fill=\"none\" points=\"208.5,-.5 208.5,-36.5 310.5,-36.5 310.5,-.5 208.5,-.5\" stroke=\"#000000\"/>\n",
       "<text fill=\"#000000\" font-family=\"Times,serif\" font-size=\"14.00\" text-anchor=\"middle\" x=\"259.5\" y=\"-14.8\">dense_7: Dense</text>\n",
       "</g>\n",
       "<!-- 139784225713512&#45;&gt;139784225713568 -->\n",
       "<g class=\"edge\" id=\"edge28\">\n",
       "<title>139784225713512-&gt;139784225713568</title>\n",
       "<path d=\"M259.5,-73.4551C259.5,-65.3828 259.5,-55.6764 259.5,-46.6817\" fill=\"none\" stroke=\"#000000\"/>\n",
       "<polygon fill=\"#000000\" points=\"263.0001,-46.5903 259.5,-36.5904 256.0001,-46.5904 263.0001,-46.5903\" stroke=\"#000000\"/>\n",
       "</g>\n",
       "</g>\n",
       "</svg>"
      ],
      "text/plain": [
       "<IPython.core.display.SVG object>"
      ]
     },
     "execution_count": 50,
     "metadata": {},
     "output_type": "execute_result"
    },
    {
     "name": "stdout",
     "output_type": "stream",
     "text": [
      "time: 747 ms\n"
     ]
    }
   ],
   "source": [
    "# Display the model using keras\n",
    "SVG(model_to_dot(model).create(prog='dot', format='svg'))"
   ]
  },
  {
   "cell_type": "code",
   "execution_count": 51,
   "metadata": {},
   "outputs": [
    {
     "data": {
      "text/html": [
       "<div>\n",
       "<style scoped>\n",
       "    .dataframe tbody tr th:only-of-type {\n",
       "        vertical-align: middle;\n",
       "    }\n",
       "\n",
       "    .dataframe tbody tr th {\n",
       "        vertical-align: top;\n",
       "    }\n",
       "\n",
       "    .dataframe thead th {\n",
       "        text-align: right;\n",
       "    }\n",
       "</style>\n",
       "<table border=\"1\" class=\"dataframe\">\n",
       "  <thead>\n",
       "    <tr style=\"text-align: right;\">\n",
       "      <th></th>\n",
       "      <th>0</th>\n",
       "      <th>1</th>\n",
       "      <th>2</th>\n",
       "      <th>3</th>\n",
       "      <th>4</th>\n",
       "      <th>5</th>\n",
       "      <th>6</th>\n",
       "      <th>7</th>\n",
       "      <th>8</th>\n",
       "      <th>9</th>\n",
       "      <th>10</th>\n",
       "      <th>11</th>\n",
       "      <th>12</th>\n",
       "      <th>13</th>\n",
       "      <th>14</th>\n",
       "      <th>15</th>\n",
       "      <th>16</th>\n",
       "      <th>17</th>\n",
       "      <th>18</th>\n",
       "      <th>19</th>\n",
       "    </tr>\n",
       "  </thead>\n",
       "  <tbody>\n",
       "    <tr>\n",
       "      <th>loss</th>\n",
       "      <td>2.033471</td>\n",
       "      <td>1.693072</td>\n",
       "      <td>1.628455</td>\n",
       "      <td>1.556790</td>\n",
       "      <td>1.490085</td>\n",
       "      <td>1.428441</td>\n",
       "      <td>1.377395</td>\n",
       "      <td>1.336916</td>\n",
       "      <td>1.303303</td>\n",
       "      <td>1.273827</td>\n",
       "      <td>1.251302</td>\n",
       "      <td>1.226918</td>\n",
       "      <td>1.213800</td>\n",
       "      <td>1.197411</td>\n",
       "      <td>1.183395</td>\n",
       "      <td>1.171347</td>\n",
       "      <td>1.156379</td>\n",
       "      <td>1.147791</td>\n",
       "      <td>1.141103</td>\n",
       "      <td>1.130847</td>\n",
       "    </tr>\n",
       "    <tr>\n",
       "      <th>val_loss</th>\n",
       "      <td>1.681969</td>\n",
       "      <td>1.676074</td>\n",
       "      <td>1.672508</td>\n",
       "      <td>1.687619</td>\n",
       "      <td>1.684051</td>\n",
       "      <td>1.686999</td>\n",
       "      <td>1.680106</td>\n",
       "      <td>1.700346</td>\n",
       "      <td>1.728000</td>\n",
       "      <td>1.738382</td>\n",
       "      <td>1.718254</td>\n",
       "      <td>1.737997</td>\n",
       "      <td>1.771377</td>\n",
       "      <td>1.723980</td>\n",
       "      <td>1.724175</td>\n",
       "      <td>1.761182</td>\n",
       "      <td>1.792389</td>\n",
       "      <td>1.790982</td>\n",
       "      <td>1.781516</td>\n",
       "      <td>1.771621</td>\n",
       "    </tr>\n",
       "  </tbody>\n",
       "</table>\n",
       "</div>"
      ],
      "text/plain": [
       "                0         1         2         3         4         5   \\\n",
       "loss      2.033471  1.693072  1.628455  1.556790  1.490085  1.428441   \n",
       "val_loss  1.681969  1.676074  1.672508  1.687619  1.684051  1.686999   \n",
       "\n",
       "                6         7         8         9         10        11  \\\n",
       "loss      1.377395  1.336916  1.303303  1.273827  1.251302  1.226918   \n",
       "val_loss  1.680106  1.700346  1.728000  1.738382  1.718254  1.737997   \n",
       "\n",
       "                12        13        14        15        16        17  \\\n",
       "loss      1.213800  1.197411  1.183395  1.171347  1.156379  1.147791   \n",
       "val_loss  1.771377  1.723980  1.724175  1.761182  1.792389  1.790982   \n",
       "\n",
       "                18        19  \n",
       "loss      1.141103  1.130847  \n",
       "val_loss  1.781516  1.771621  "
      ]
     },
     "execution_count": 51,
     "metadata": {},
     "output_type": "execute_result"
    },
    {
     "data": {
      "image/png": "[encoded data removed]",
      "text/plain": [
       "<Figure size 432x288 with 1 Axes>"
      ]
     },
     "metadata": {},
     "output_type": "display_data"
    },
    {
     "name": "stdout",
     "output_type": "stream",
     "text": [
      "time: 282 ms\n"
     ]
    }
   ],
   "source": [
    "x=plt_pickle(hist_path , modname , '.pkl')\n",
    "x.head(20).transpose()"
   ]
  },
  {
   "cell_type": "code",
   "execution_count": null,
   "metadata": {},
   "outputs": [],
   "source": []
  },
  {
   "cell_type": "code",
   "execution_count": null,
   "metadata": {},
   "outputs": [],
   "source": []
  }
 ],
 "metadata": {
  "kernelspec": {
   "display_name": "conda_tensorflow_p36",
   "language": "python",
   "name": "conda_tensorflow_p36"
  },
  "language_info": {
   "codemirror_mode": {
    "name": "ipython",
    "version": 3
   },
   "file_extension": ".py",
   "mimetype": "text/x-python",
   "name": "python",
   "nbconvert_exporter": "python",
   "pygments_lexer": "ipython3",
   "version": "3.6.6"
  }
 },
 "nbformat": 4,
 "nbformat_minor": 4
}
