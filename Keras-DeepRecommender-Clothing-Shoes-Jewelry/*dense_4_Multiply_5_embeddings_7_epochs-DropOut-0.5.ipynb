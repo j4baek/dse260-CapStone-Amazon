{
 "cells": [
  {
   "cell_type": "markdown",
   "metadata": {},
   "source": [
    "# dense_4_Multiply_5_embeddings_7_epochs-DropOut0.5\n",
    "\n",
    "# Deep recommender on top of Amason’s Clean Clothing Shoes and Jewelry explicit rating dataset\n",
    "\n",
    "Frame the recommendation system as a rating prediction machine learning problem and create a hybrid architecture that mixes the collaborative and content based filtering approaches:\n",
    "- Collaborative part: Predict items ratings in order to recommend to the user items that he is likely to rate high.\n",
    "- Content based: use metadata inputs (such as price and title) about items to find similar items to recommend.\n",
    "\n",
    "### - Create 2 explicit recommendation engine models based on 2 machine learning architecture using Keras: \n",
    "    1. a matrix factorization model  \n",
    "    2. a deep neural network model.\n",
    "\n",
    "\n",
    "### Compare the results of the different models and configurations to find the \"best\" predicting model\n",
    "\n",
    "### Used the best model for recommending items to users"
   ]
  },
  {
   "cell_type": "code",
   "execution_count": 1,
   "metadata": {},
   "outputs": [],
   "source": [
    "### name of model\n",
    "modname = 'dense_4_Multiply_5_embeddings_7_epochs-DropOut-0.8'\n",
    "\n",
    "### size of embedding\n",
    "embedding_size = 5\n",
    "\n",
    "### number of epochs\n",
    "num_epochs = 7\n",
    "\n",
    "# dropout value: 0.5\n"
   ]
  },
  {
   "cell_type": "code",
   "execution_count": 2,
   "metadata": {},
   "outputs": [],
   "source": [
    "# import sys\n",
    "\n",
    "# !{sys.executable} -m pip install --upgrade pip\n",
    "# !{sys.executable} -m pip install sagemaker-experiments\n",
    "# !{sys.executable} -m pip install pandas\n",
    "# !{sys.executable} -m pip install numpy\n",
    "# !{sys.executable} -m pip install matplotlib\n",
    "# !{sys.executable} -m pip install boto3\n",
    "# !{sys.executable} -m pip install sagemaker\n",
    "# !{sys.executable} -m pip install pyspark\n",
    "# !{sys.executable} -m pip install ipython-autotime\n",
    "# !{sys.executable} -m pip install surprise\n",
    "# !{sys.executable} -m pip install smart_open\n",
    "# !{sys.executable} -m pip install pyarrow\n",
    "# !{sys.executable} -m pip install fastparquet"
   ]
  },
  {
   "cell_type": "code",
   "execution_count": 3,
   "metadata": {},
   "outputs": [],
   "source": [
    "# Check Jave version \n",
    "# !sudo yum -y update"
   ]
  },
  {
   "cell_type": "code",
   "execution_count": 4,
   "metadata": {},
   "outputs": [],
   "source": [
    "# # Need to use Java 1.8.0\n",
    "# !sudo yum remove jre-1.7.0-openjdk -y"
   ]
  },
  {
   "cell_type": "code",
   "execution_count": 5,
   "metadata": {},
   "outputs": [
    {
     "name": "stdout",
     "output_type": "stream",
     "text": [
      "openjdk version \"11.0.1\" 2018-10-16 LTS\n",
      "OpenJDK Runtime Environment Zulu11.2+3 (build 11.0.1+13-LTS)\n",
      "OpenJDK 64-Bit Server VM Zulu11.2+3 (build 11.0.1+13-LTS, mixed mode)\n"
     ]
    }
   ],
   "source": [
    "!java -version"
   ]
  },
  {
   "cell_type": "code",
   "execution_count": 6,
   "metadata": {},
   "outputs": [],
   "source": [
    "# !sudo update-alternatives --config java"
   ]
  },
  {
   "cell_type": "code",
   "execution_count": 7,
   "metadata": {},
   "outputs": [],
   "source": [
    "# !pip install pyarrow fastparquet\n",
    "# !pip install ipython-autotime\n",
    "# !pip install tqdm pydot pydotplus pydot_ng"
   ]
  },
  {
   "cell_type": "code",
   "execution_count": 8,
   "metadata": {},
   "outputs": [],
   "source": [
    "#### To measure all running time\n",
    "# https://github.com/cpcloud/ipython-autotime\n",
    "\n",
    "%load_ext autotime"
   ]
  },
  {
   "cell_type": "code",
   "execution_count": 9,
   "metadata": {},
   "outputs": [
    {
     "name": "stdout",
     "output_type": "stream",
     "text": [
      "Populating the interactive namespace from numpy and matplotlib\n",
      "WARNING:tensorflow:From /home/ec2-user/anaconda3/envs/tensorflow_p36/lib/python3.6/site-packages/tensorflow_core/__init__.py:1467: The name tf.estimator.inputs is deprecated. Please use tf.compat.v1.estimator.inputs instead.\n",
      "\n",
      "time: 3.12 s\n"
     ]
    },
    {
     "name": "stderr",
     "output_type": "stream",
     "text": [
      "Using TensorFlow backend.\n"
     ]
    }
   ],
   "source": [
    "%pylab inline\n",
    "import warnings\n",
    "warnings.filterwarnings(\"ignore\")\n",
    "%matplotlib inline\n",
    "import re\n",
    "import seaborn as sbn\n",
    "import nltk\n",
    "import tqdm as tqdm\n",
    "import sqlite3\n",
    "import pandas as pd\n",
    "import numpy as np\n",
    "from pandas import DataFrame \n",
    "import string\n",
    "import pydot \n",
    "import pydotplus\n",
    "import pydot_ng\n",
    "import pickle\n",
    "import time\n",
    "import gzip\n",
    "import os\n",
    "os.getcwd()\n",
    "    \n",
    "import matplotlib.pyplot as plt\n",
    "from math import floor,ceil\n",
    "\n",
    "#from nltk.corpus import stopwords\n",
    "#stop = stopwords.words(\"english\")\n",
    "from nltk.stem.porter import PorterStemmer\n",
    "english_stemmer=nltk.stem.SnowballStemmer('english')\n",
    "from nltk.tokenize import word_tokenize\n",
    "\n",
    "from sklearn.metrics import accuracy_score, confusion_matrix,roc_curve, auc,classification_report, mean_squared_error, mean_absolute_error\n",
    "from sklearn.feature_extraction.text import CountVectorizer, TfidfTransformer\n",
    "from sklearn.model_selection  import train_test_split\n",
    "from sklearn import metrics\n",
    "from sklearn.svm import LinearSVC\n",
    "from sklearn.neighbors import NearestNeighbors\n",
    "from sklearn.linear_model import LogisticRegression\n",
    "from sklearn import neighbors\n",
    "from scipy.spatial.distance import cosine\n",
    "from sklearn.feature_selection import SelectKBest\n",
    "from IPython.display import SVG\n",
    "\n",
    "# Tensorflow\n",
    "import tensorflow as tf\n",
    "\n",
    "#Keras\n",
    "from keras.models import Sequential, Model, load_model, save_model\n",
    "from keras.callbacks import ModelCheckpoint\n",
    "from keras.layers import Dense, Activation, Dropout, Input, Masking, TimeDistributed, LSTM, Conv1D, Embedding\n",
    "from keras.layers import GRU, Bidirectional, BatchNormalization, Reshape\n",
    "from keras.optimizers import Adam\n",
    "from keras.layers.core import Reshape, Dropout, Dense\n",
    "from keras.layers.merge import Multiply, Dot, Concatenate\n",
    "from keras.layers.embeddings import Embedding\n",
    "from keras import optimizers\n",
    "from keras.callbacks import ModelCheckpoint\n",
    "from keras.utils.vis_utils import model_to_dot"
   ]
  },
  {
   "cell_type": "markdown",
   "metadata": {},
   "source": [
    "### Set and Check GPUs"
   ]
  },
  {
   "cell_type": "code",
   "execution_count": 10,
   "metadata": {},
   "outputs": [
    {
     "name": "stdout",
     "output_type": "stream",
     "text": [
      "time: 5.49 ms\n"
     ]
    }
   ],
   "source": [
    "#Session\n",
    "from keras import backend as K\n",
    "\n",
    "def set_check_gpu():\n",
    "    cfg = K.tf.ConfigProto()\n",
    "    cfg.gpu_options.per_process_gpu_memory_fraction =1 # allow all of the GPU memory to be allocated\n",
    "    # for 8 GPUs\n",
    "    # cfg.gpu_options.visible_device_list = \"0,1,2,3,4,5,6,7\" # \"0,1\"\n",
    "    # for 1 GPU\n",
    "    cfg.gpu_options.visible_device_list = \"0\"\n",
    "    #cfg.gpu_options.allow_growth = True  # # Don't pre-allocate memory; dynamically allocate the memory used on the GPU as-needed\n",
    "    #cfg.log_device_placement = True  # to log device placement (on which device the operation ran)\n",
    "    sess = K.tf.Session(config=cfg)\n",
    "    K.set_session(sess)  # set this TensorFlow session as the default session for Keras\n",
    "\n",
    "    print(\"* TF version: \", [tf.__version__, tf.test.is_gpu_available()])\n",
    "    print(\"* List of GPU(s): \", tf.config.experimental.list_physical_devices() )\n",
    "    print(\"* Num GPUs Available: \", len(tf.config.experimental.list_physical_devices('GPU'))) \n",
    "  \n",
    "    \n",
    "    os.environ[\"CUDA_DEVICE_ORDER\"] = \"PCI_BUS_ID\";\n",
    "    # set for 8 GPUs\n",
    "#     os.environ[\"CUDA_VISIBLE_DEVICES\"] = \"0,1,2,3,4,5,6,7\";\n",
    "    # set for 1 GPU\n",
    "    os.environ[\"CUDA_VISIBLE_DEVICES\"] = \"0\";\n",
    "\n",
    "    # Tf debugging option\n",
    "    tf.debugging.set_log_device_placement(True)\n",
    "\n",
    "    gpus = tf.config.experimental.list_physical_devices('GPU')\n",
    "\n",
    "    if gpus:\n",
    "        try:\n",
    "            # Currently, memory growth needs to be the same across GPUs\n",
    "            for gpu in gpus:\n",
    "                tf.config.experimental.set_memory_growth(gpu, True)\n",
    "            logical_gpus = tf.config.experimental.list_logical_devices('GPU')\n",
    "            print(len(gpus), \"Physical GPUs,\", len(logical_gpus), \"Logical GPUs\")\n",
    "        except RuntimeError as e:\n",
    "            # Memory growth must be set before GPUs have been initialized\n",
    "            print(e)\n",
    "\n",
    "#     print(tf.config.list_logical_devices('GPU'))\n",
    "    print(tf.config.experimental.list_physical_devices('GPU'))\n",
    "    print(\"Num GPUs Available: \", len(tf.config.experimental.list_physical_devices('GPU')))"
   ]
  },
  {
   "cell_type": "code",
   "execution_count": 11,
   "metadata": {},
   "outputs": [
    {
     "name": "stdout",
     "output_type": "stream",
     "text": [
      "* TF version:  ['1.15.2', True]\n",
      "* List of GPU(s):  [PhysicalDevice(name='/physical_device:CPU:0', device_type='CPU'), PhysicalDevice(name='/physical_device:XLA_CPU:0', device_type='XLA_CPU'), PhysicalDevice(name='/physical_device:XLA_GPU:0', device_type='XLA_GPU'), PhysicalDevice(name='/physical_device:GPU:0', device_type='GPU')]\n",
      "* Num GPUs Available:  1\n",
      "1 Physical GPUs, 1 Logical GPUs\n",
      "[PhysicalDevice(name='/physical_device:GPU:0', device_type='GPU')]\n",
      "Num GPUs Available:  1\n",
      "time: 268 ms\n"
     ]
    }
   ],
   "source": [
    "set_check_gpu()"
   ]
  },
  {
   "cell_type": "code",
   "execution_count": 12,
   "metadata": {},
   "outputs": [
    {
     "name": "stdout",
     "output_type": "stream",
     "text": [
      "time: 2.38 ms\n"
     ]
    }
   ],
   "source": [
    "# reset GPU memory& Keras Session\n",
    "def reset_keras():\n",
    "    try:\n",
    "        del classifier\n",
    "        del model    \n",
    "    except:\n",
    "        pass\n",
    "\n",
    "    K.clear_session()\n",
    " \n",
    "    K.get_session().close()\n",
    "#    sess = K.get_session()\n",
    "\n",
    "    cfg = K.tf.ConfigProto()\n",
    "    cfg.gpu_options.per_process_gpu_memory_fraction \n",
    "#     cfg.gpu_options.visible_device_list = \"0,1,2,3,4,5,6,7\" # \"0,1\"\n",
    "    cfg.gpu_options.visible_device_list = \"0\" # \"0,1\"\n",
    "    cfg.gpu_options.allow_growth = True  # dynamically grow the memory used on the GPU\n",
    "\n",
    "    sess = K.tf.Session(config=cfg)\n",
    "    K.set_session(sess)  # set this TensorFlow session as the default session for Keras\n",
    "    "
   ]
  },
  {
   "cell_type": "markdown",
   "metadata": {},
   "source": [
    "## Load dataset and analysis using Spark"
   ]
  },
  {
   "cell_type": "markdown",
   "metadata": {},
   "source": [
    "## Download and prepare Data:\n",
    "#### 1. Read the data:\n",
    "#### Read the data from the reviews dataset of amazon. \n",
    "#### Use the dastaset in which all users and items have at least 5 reviews. \n",
    "\n",
    "### Location of dataset: https://nijianmo.github.io/amazon/index.html"
   ]
  },
  {
   "cell_type": "code",
   "execution_count": 13,
   "metadata": {},
   "outputs": [
    {
     "name": "stdout",
     "output_type": "stream",
     "text": [
      "time: 465 ms\n"
     ]
    }
   ],
   "source": [
    "import pandas as pd\n",
    "\n",
    "import boto3\n",
    "import sagemaker\n",
    "from sagemaker import get_execution_role\n",
    "from sagemaker.session import Session\n",
    "from sagemaker.analytics import ExperimentAnalytics\n",
    "\n",
    "import gzip\n",
    "import json\n",
    "\n",
    "from pyspark.ml import Pipeline\n",
    "from pyspark.sql.types import StructField, StructType, StringType, DoubleType\n",
    "from pyspark.ml.feature import StringIndexer, VectorIndexer, OneHotEncoder, VectorAssembler\n",
    "from pyspark.sql.functions import *\n",
    "\n",
    "# spark imports\n",
    "from pyspark.sql import SparkSession\n",
    "from pyspark.sql.functions import UserDefinedFunction, explode, desc\n",
    "from pyspark.sql.types import StringType, ArrayType\n",
    "from pyspark.ml.evaluation import RegressionEvaluator\n",
    "\n",
    "import os\n",
    "import pandas as pd\n",
    "import pyarrow\n",
    "import fastparquet\n",
    "\n",
    "# from pandas_profiling import ProfileReport"
   ]
  },
  {
   "cell_type": "code",
   "execution_count": 14,
   "metadata": {},
   "outputs": [
    {
     "name": "stdout",
     "output_type": "stream",
     "text": [
      "time: 846 µs\n"
     ]
    }
   ],
   "source": [
    "# !aws s3 cp s3://dse-cohort5-group1/2-Keras-DeepRecommender/dataset/Clean_Clothing_Shoes_and_Jewelry_5_clean.parquet ./data/"
   ]
  },
  {
   "cell_type": "code",
   "execution_count": 15,
   "metadata": {},
   "outputs": [
    {
     "name": "stdout",
     "output_type": "stream",
     "text": [
      "total 3.3G\n",
      "drwxrwxr-x 5 ec2-user ec2-user 4.0K May 26 16:08 .\n",
      "drwxrwxr-x 8 ec2-user ec2-user 4.0K May 26 20:59 ..\n",
      "-rw-rw-r-- 1 ec2-user ec2-user 308M May 26 15:35 Clean_Clothing_Shoes_and_Jewelry_5_clean.parquet\n",
      "drwxrwxr-x 2 ec2-user ec2-user 4.0K May 26 15:46 Cleaned_meta_Clothing_Shoes_and_Jewelry.parquet\n",
      "-rw-rw-r-- 1 ec2-user ec2-user 1.2G Nov 21  2019 Clothing_Shoes_and_Jewelry_5.json.gz\n",
      "drwxrwxr-x 2 ec2-user ec2-user 4.0K May 26 15:34 Clothing_Shoes_and_Jewelry_5.parquet\n",
      "-rw-rw-r-- 1 ec2-user ec2-user   31 May 26 15:34 for_dataset.txt\n",
      "drwxrwxr-x 2 ec2-user ec2-user 4.0K May 26 15:34 .ipynb_checkpoints\n",
      "-rw-rw-r-- 1 ec2-user ec2-user 1.5G Oct 15  2019 meta_Clothing_Shoes_and_Jewelry.json.gz\n",
      "-rw-rw-r-- 1 ec2-user ec2-user  71M May 26 16:08 ratings_test.parquet\n",
      "-rw-rw-r-- 1 ec2-user ec2-user 282M May 26 16:08 ratings_train.parquet\n",
      "time: 135 ms\n"
     ]
    }
   ],
   "source": [
    "!ls -alh ./data"
   ]
  },
  {
   "cell_type": "markdown",
   "metadata": {},
   "source": [
    "### Read clened dataset from parquet files"
   ]
  },
  {
   "cell_type": "code",
   "execution_count": 16,
   "metadata": {},
   "outputs": [
    {
     "name": "stdout",
     "output_type": "stream",
     "text": [
      "time: 4.07 s\n"
     ]
    }
   ],
   "source": [
    "review_data = pd.read_parquet(\"./data/Clean_Clothing_Shoes_and_Jewelry_5_clean.parquet\")"
   ]
  },
  {
   "cell_type": "code",
   "execution_count": 17,
   "metadata": {},
   "outputs": [
    {
     "data": {
      "text/html": [
       "<div>\n",
       "<style scoped>\n",
       "    .dataframe tbody tr th:only-of-type {\n",
       "        vertical-align: middle;\n",
       "    }\n",
       "\n",
       "    .dataframe tbody tr th {\n",
       "        vertical-align: top;\n",
       "    }\n",
       "\n",
       "    .dataframe thead th {\n",
       "        text-align: right;\n",
       "    }\n",
       "</style>\n",
       "<table border=\"1\" class=\"dataframe\">\n",
       "  <thead>\n",
       "    <tr style=\"text-align: right;\">\n",
       "      <th></th>\n",
       "      <th>asin</th>\n",
       "      <th>image</th>\n",
       "      <th>overall</th>\n",
       "      <th>reviewText</th>\n",
       "      <th>reviewTime</th>\n",
       "      <th>reviewerID</th>\n",
       "      <th>reviewerName</th>\n",
       "      <th>summary</th>\n",
       "    </tr>\n",
       "  </thead>\n",
       "  <tbody>\n",
       "    <tr>\n",
       "      <th>0</th>\n",
       "      <td>0871167042</td>\n",
       "      <td>None</td>\n",
       "      <td>5.0</td>\n",
       "      <td>This book has beautiful photos, good and under...</td>\n",
       "      <td>05 4, 2014</td>\n",
       "      <td>A2IC3NZN488KWK</td>\n",
       "      <td>Ruby Tulip</td>\n",
       "      <td>Unique designs</td>\n",
       "    </tr>\n",
       "    <tr>\n",
       "      <th>1</th>\n",
       "      <td>0871167042</td>\n",
       "      <td>None</td>\n",
       "      <td>3.0</td>\n",
       "      <td>If you're an experienced wire jewelry maker, t...</td>\n",
       "      <td>07 23, 2014</td>\n",
       "      <td>A1YIEW86G14BHP</td>\n",
       "      <td>Aldne Now</td>\n",
       "      <td>OK Jewelry Book</td>\n",
       "    </tr>\n",
       "    <tr>\n",
       "      <th>2</th>\n",
       "      <td>0871167042</td>\n",
       "      <td>None</td>\n",
       "      <td>4.0</td>\n",
       "      <td>Hi, have been making jewelry now for the last ...</td>\n",
       "      <td>06 5, 2014</td>\n",
       "      <td>AA7PNT2OPS3RP</td>\n",
       "      <td>Catherine Franz</td>\n",
       "      <td>Organic and upcycling jewelry maker</td>\n",
       "    </tr>\n",
       "  </tbody>\n",
       "</table>\n",
       "</div>"
      ],
      "text/plain": [
       "         asin image  overall  \\\n",
       "0  0871167042  None      5.0   \n",
       "1  0871167042  None      3.0   \n",
       "2  0871167042  None      4.0   \n",
       "\n",
       "                                          reviewText   reviewTime  \\\n",
       "0  This book has beautiful photos, good and under...   05 4, 2014   \n",
       "1  If you're an experienced wire jewelry maker, t...  07 23, 2014   \n",
       "2  Hi, have been making jewelry now for the last ...   06 5, 2014   \n",
       "\n",
       "       reviewerID     reviewerName                              summary  \n",
       "0  A2IC3NZN488KWK       Ruby Tulip                       Unique designs  \n",
       "1  A1YIEW86G14BHP        Aldne Now                      OK Jewelry Book  \n",
       "2   AA7PNT2OPS3RP  Catherine Franz  Organic and upcycling jewelry maker  "
      ]
     },
     "execution_count": 17,
     "metadata": {},
     "output_type": "execute_result"
    },
    {
     "name": "stdout",
     "output_type": "stream",
     "text": [
      "time: 25.3 ms\n"
     ]
    }
   ],
   "source": [
    "review_data[:3]"
   ]
  },
  {
   "cell_type": "code",
   "execution_count": 18,
   "metadata": {},
   "outputs": [
    {
     "data": {
      "text/plain": [
       "(1069568, 8)"
      ]
     },
     "execution_count": 18,
     "metadata": {},
     "output_type": "execute_result"
    },
    {
     "name": "stdout",
     "output_type": "stream",
     "text": [
      "time: 2.78 ms\n"
     ]
    }
   ],
   "source": [
    "review_data.shape"
   ]
  },
  {
   "cell_type": "markdown",
   "metadata": {},
   "source": [
    "### 2. Arrange and clean the data"
   ]
  },
  {
   "cell_type": "markdown",
   "metadata": {},
   "source": [
    "Rearrange the columns by relevance and rename column names"
   ]
  },
  {
   "cell_type": "code",
   "execution_count": 19,
   "metadata": {},
   "outputs": [
    {
     "data": {
      "text/plain": [
       "Index(['asin', 'image', 'overall', 'reviewText', 'reviewTime', 'reviewerID',\n",
       "       'reviewerName', 'summary'],\n",
       "      dtype='object')"
      ]
     },
     "execution_count": 19,
     "metadata": {},
     "output_type": "execute_result"
    },
    {
     "name": "stdout",
     "output_type": "stream",
     "text": [
      "time: 3.2 ms\n"
     ]
    }
   ],
   "source": [
    "review_data.columns"
   ]
  },
  {
   "cell_type": "code",
   "execution_count": 20,
   "metadata": {},
   "outputs": [
    {
     "data": {
      "text/plain": [
       "['asin',\n",
       " 'image',\n",
       " 'summary',\n",
       " 'reviewText',\n",
       " 'score',\n",
       " 'user_id',\n",
       " 'user_name',\n",
       " 'reviewTime']"
      ]
     },
     "execution_count": 20,
     "metadata": {},
     "output_type": "execute_result"
    },
    {
     "name": "stdout",
     "output_type": "stream",
     "text": [
      "time: 896 ms\n"
     ]
    }
   ],
   "source": [
    "review_data = review_data[['asin', 'image', 'summary', 'reviewText', 'overall', 'reviewerID', 'reviewerName', 'reviewTime']]\n",
    "\n",
    "review_data.rename(columns={ 'overall': 'score','reviewerID': 'user_id', 'reviewerName': 'user_name'}, inplace=True)\n",
    "\n",
    "#the variables names after rename in the modified data frame\n",
    "list(review_data)"
   ]
  },
  {
   "cell_type": "markdown",
   "metadata": {},
   "source": [
    "# Add Metadata \n",
    "\n",
    "### Metadata includes descriptions, price, sales-rank, brand info, and co-purchasing links\n",
    "- asin - ID of the product, e.g. 0000031852\n",
    "- title - name of the product\n",
    "- price - price in US dollars (at time of crawl)\n",
    "- imUrl - url of the product image\n",
    "- related - related products (also bought, also viewed, bought together, buy after viewing)\n",
    "- salesRank - sales rank information\n",
    "- brand - brand name\n",
    "- categories - list of categories the product belongs to"
   ]
  },
  {
   "cell_type": "code",
   "execution_count": 21,
   "metadata": {},
   "outputs": [
    {
     "name": "stdout",
     "output_type": "stream",
     "text": [
      "time: 842 µs\n"
     ]
    }
   ],
   "source": [
    "# !aws s3 cp s3://dse-cohort5-group1/2-Keras-DeepRecommender/dataset/Cleaned_meta_Clothing_Shoes_and_Jewelry.parquet ./data/"
   ]
  },
  {
   "cell_type": "code",
   "execution_count": 22,
   "metadata": {},
   "outputs": [
    {
     "name": "stdout",
     "output_type": "stream",
     "text": [
      "time: 36.8 s\n"
     ]
    }
   ],
   "source": [
    "all_info = pd.read_parquet(\"./data/Cleaned_meta_Clothing_Shoes_and_Jewelry.parquet\")"
   ]
  },
  {
   "cell_type": "code",
   "execution_count": 23,
   "metadata": {},
   "outputs": [
    {
     "data": {
      "text/html": [
       "<div>\n",
       "<style scoped>\n",
       "    .dataframe tbody tr th:only-of-type {\n",
       "        vertical-align: middle;\n",
       "    }\n",
       "\n",
       "    .dataframe tbody tr th {\n",
       "        vertical-align: top;\n",
       "    }\n",
       "\n",
       "    .dataframe thead th {\n",
       "        text-align: right;\n",
       "    }\n",
       "</style>\n",
       "<table border=\"1\" class=\"dataframe\">\n",
       "  <thead>\n",
       "    <tr style=\"text-align: right;\">\n",
       "      <th></th>\n",
       "      <th>also_buy</th>\n",
       "      <th>also_view</th>\n",
       "      <th>asin</th>\n",
       "      <th>brand</th>\n",
       "      <th>category</th>\n",
       "      <th>description</th>\n",
       "      <th>image</th>\n",
       "      <th>price</th>\n",
       "      <th>title</th>\n",
       "    </tr>\n",
       "  </thead>\n",
       "  <tbody>\n",
       "    <tr>\n",
       "      <th>0</th>\n",
       "      <td>None</td>\n",
       "      <td>None</td>\n",
       "      <td>0000037214</td>\n",
       "      <td>Big Dreams</td>\n",
       "      <td>[Clothing, Shoes &amp; Jewelry, Costumes &amp; Accesso...</td>\n",
       "      <td>[6\" long, stretched waist measures 11 1/2\" acr...</td>\n",
       "      <td>None</td>\n",
       "      <td>None</td>\n",
       "      <td>Purple Sequin Tiny Dancer Tutu Ballet Dance Fa...</td>\n",
       "    </tr>\n",
       "    <tr>\n",
       "      <th>1</th>\n",
       "      <td>None</td>\n",
       "      <td>None</td>\n",
       "      <td>0201377179</td>\n",
       "      <td>Anello</td>\n",
       "      <td>[Clothing, Shoes &amp; Jewelry, Luggage &amp; Travel G...</td>\n",
       "      <td>[The Hottest Bag in Town! Brand: Anello Condit...</td>\n",
       "      <td>[https://images-na.ssl-images-amazon.com/image...</td>\n",
       "      <td>None</td>\n",
       "      <td>Japan Anello Backpack Unisex LARGE LIGHT GRAY ...</td>\n",
       "    </tr>\n",
       "    <tr>\n",
       "      <th>2</th>\n",
       "      <td>None</td>\n",
       "      <td>[B07CJF5HLR, B01EBI8UH6, B01N1LR908, B074M4QKG...</td>\n",
       "      <td>0204444454</td>\n",
       "      <td>Anello</td>\n",
       "      <td>[Clothing, Shoes &amp; Jewelry, Luggage &amp; Travel G...</td>\n",
       "      <td>[The Hottest Bag in Town! Brand: Anello Condit...</td>\n",
       "      <td>[https://images-na.ssl-images-amazon.com/image...</td>\n",
       "      <td>$70.00</td>\n",
       "      <td>Japan Anello Backpack Unisex PINK BEIGE LARGE ...</td>\n",
       "    </tr>\n",
       "    <tr>\n",
       "      <th>3</th>\n",
       "      <td>None</td>\n",
       "      <td>[B01DLVYOPG, B07CJF5HLR, B01MSS59Y6, B071YBC1J...</td>\n",
       "      <td>0204444403</td>\n",
       "      <td>Anello</td>\n",
       "      <td>[Clothing, Shoes &amp; Jewelry, Luggage &amp; Travel G...</td>\n",
       "      <td>[The Hottest Bag in Town! Brand: Anello Condit...</td>\n",
       "      <td>[https://images-na.ssl-images-amazon.com/image...</td>\n",
       "      <td>$65.99</td>\n",
       "      <td>Japan Anello Backpack Unisex BLACK LARGE PU LE...</td>\n",
       "    </tr>\n",
       "    <tr>\n",
       "      <th>4</th>\n",
       "      <td>None</td>\n",
       "      <td>[B00VGT93YS, B07FTY87LM, B01IKVOY8E, B01GF6C6F...</td>\n",
       "      <td>0206313535</td>\n",
       "      <td>bettyhome</td>\n",
       "      <td>[Clothing, Shoes &amp; Jewelry, Novelty &amp; More, Cl...</td>\n",
       "      <td>[Brand New.  Hat Centre Length: adult about 8c...</td>\n",
       "      <td>[https://images-na.ssl-images-amazon.com/image...</td>\n",
       "      <td>$18.99</td>\n",
       "      <td>bettyhome Unisex Adult Winter Spring Thicken C...</td>\n",
       "    </tr>\n",
       "  </tbody>\n",
       "</table>\n",
       "</div>"
      ],
      "text/plain": [
       "  also_buy                                          also_view        asin  \\\n",
       "0     None                                               None  0000037214   \n",
       "1     None                                               None  0201377179   \n",
       "2     None  [B07CJF5HLR, B01EBI8UH6, B01N1LR908, B074M4QKG...  0204444454   \n",
       "3     None  [B01DLVYOPG, B07CJF5HLR, B01MSS59Y6, B071YBC1J...  0204444403   \n",
       "4     None  [B00VGT93YS, B07FTY87LM, B01IKVOY8E, B01GF6C6F...  0206313535   \n",
       "\n",
       "        brand                                           category  \\\n",
       "0  Big Dreams  [Clothing, Shoes & Jewelry, Costumes & Accesso...   \n",
       "1      Anello  [Clothing, Shoes & Jewelry, Luggage & Travel G...   \n",
       "2      Anello  [Clothing, Shoes & Jewelry, Luggage & Travel G...   \n",
       "3      Anello  [Clothing, Shoes & Jewelry, Luggage & Travel G...   \n",
       "4   bettyhome  [Clothing, Shoes & Jewelry, Novelty & More, Cl...   \n",
       "\n",
       "                                         description  \\\n",
       "0  [6\" long, stretched waist measures 11 1/2\" acr...   \n",
       "1  [The Hottest Bag in Town! Brand: Anello Condit...   \n",
       "2  [The Hottest Bag in Town! Brand: Anello Condit...   \n",
       "3  [The Hottest Bag in Town! Brand: Anello Condit...   \n",
       "4  [Brand New.  Hat Centre Length: adult about 8c...   \n",
       "\n",
       "                                               image   price  \\\n",
       "0                                               None    None   \n",
       "1  [https://images-na.ssl-images-amazon.com/image...    None   \n",
       "2  [https://images-na.ssl-images-amazon.com/image...  $70.00   \n",
       "3  [https://images-na.ssl-images-amazon.com/image...  $65.99   \n",
       "4  [https://images-na.ssl-images-amazon.com/image...  $18.99   \n",
       "\n",
       "                                               title  \n",
       "0  Purple Sequin Tiny Dancer Tutu Ballet Dance Fa...  \n",
       "1  Japan Anello Backpack Unisex LARGE LIGHT GRAY ...  \n",
       "2  Japan Anello Backpack Unisex PINK BEIGE LARGE ...  \n",
       "3  Japan Anello Backpack Unisex BLACK LARGE PU LE...  \n",
       "4  bettyhome Unisex Adult Winter Spring Thicken C...  "
      ]
     },
     "execution_count": 23,
     "metadata": {},
     "output_type": "execute_result"
    },
    {
     "name": "stdout",
     "output_type": "stream",
     "text": [
      "time: 19.2 ms\n"
     ]
    }
   ],
   "source": [
    "all_info.head(n=5)"
   ]
  },
  {
   "cell_type": "markdown",
   "metadata": {},
   "source": [
    "### Arrange and clean the data"
   ]
  },
  {
   "cell_type": "markdown",
   "metadata": {},
   "source": [
    "- Cleaning, handling missing data, normalization, etc:\n",
    "- For the algorithm in keras to work,  remap all item_ids and user_ids to an interger between 0 and the total number of users or the total number of items"
   ]
  },
  {
   "cell_type": "code",
   "execution_count": 24,
   "metadata": {},
   "outputs": [
    {
     "data": {
      "text/plain": [
       "Index(['also_buy', 'also_view', 'asin', 'brand', 'category', 'description',\n",
       "       'image', 'price', 'title'],\n",
       "      dtype='object')"
      ]
     },
     "execution_count": 24,
     "metadata": {},
     "output_type": "execute_result"
    },
    {
     "name": "stdout",
     "output_type": "stream",
     "text": [
      "time: 2.88 ms\n"
     ]
    }
   ],
   "source": [
    "all_info.columns"
   ]
  },
  {
   "cell_type": "code",
   "execution_count": 25,
   "metadata": {},
   "outputs": [
    {
     "name": "stdout",
     "output_type": "stream",
     "text": [
      "We have 2681355 unique items in metadata \n",
      "time: 10.6 s\n"
     ]
    }
   ],
   "source": [
    "items = all_info.asin.unique()\n",
    "item_map = {i:val for i,val in enumerate(items)}\n",
    "inverse_item_map = {val:i for i,val in enumerate(items)}\n",
    "all_info[\"old_item_id\"] = all_info[\"asin\"] # copying for join with metadata\n",
    "all_info[\"item_id\"] = all_info[\"asin\"].map(inverse_item_map)\n",
    "items = all_info.item_id.unique()\n",
    "print (\"We have %d unique items in metadata \"%items.shape[0])"
   ]
  },
  {
   "cell_type": "code",
   "execution_count": 26,
   "metadata": {},
   "outputs": [
    {
     "name": "stdout",
     "output_type": "stream",
     "text": [
      "time: 53.5 s\n"
     ]
    }
   ],
   "source": [
    "all_info['description'] = all_info['description'].fillna(all_info['title'].fillna('no_data'))\n",
    "all_info['title'] = all_info['title'].fillna(all_info['description'].fillna('no_data').apply(str).str[:20])\n",
    "all_info['image'] = all_info['image'].fillna('no_data')\n",
    "all_info['price'] = pd.to_numeric(all_info['price'],errors=\"coerce\")\n",
    "all_info['price'] = all_info['price'].fillna(all_info['price'].median()) "
   ]
  },
  {
   "cell_type": "code",
   "execution_count": 27,
   "metadata": {},
   "outputs": [
    {
     "name": "stdout",
     "output_type": "stream",
     "text": [
      "time: 9.91 s\n"
     ]
    }
   ],
   "source": [
    "users = review_data.user_id.unique()\n",
    "user_map = {i:val for i,val in enumerate(users)}\n",
    "inverse_user_map = {val:i for i,val in enumerate(users)}\n",
    "review_data[\"old_user_id\"] = review_data[\"user_id\"] \n",
    "review_data[\"user_id\"] = review_data[\"user_id\"].map(inverse_user_map)\n",
    "\n",
    "items_reviewed = review_data.asin.unique()\n",
    "review_data[\"old_item_id\"] = review_data[\"asin\"] # copying for join with metadata\n",
    "review_data[\"item_id\"] = review_data[\"asin\"].map(inverse_item_map)\n",
    "\n",
    "items_reviewed = review_data.item_id.unique()\n",
    "users = review_data.user_id.unique()"
   ]
  },
  {
   "cell_type": "code",
   "execution_count": 28,
   "metadata": {},
   "outputs": [
    {
     "name": "stdout",
     "output_type": "stream",
     "text": [
      "We have 513010 unique users\n",
      "We have 245636 unique items reviewed\n",
      "time: 1.25 ms\n"
     ]
    }
   ],
   "source": [
    "print (\"We have %d unique users\"%users.shape[0])\n",
    "print (\"We have %d unique items reviewed\"%items_reviewed.shape[0])\n",
    "# We have 192403 unique users in the \"small\" dataset\n",
    "# We have 63001 unique items reviewed in the \"small\" dataset"
   ]
  },
  {
   "cell_type": "code",
   "execution_count": 29,
   "metadata": {},
   "outputs": [
    {
     "data": {
      "text/html": [
       "<div>\n",
       "<style scoped>\n",
       "    .dataframe tbody tr th:only-of-type {\n",
       "        vertical-align: middle;\n",
       "    }\n",
       "\n",
       "    .dataframe tbody tr th {\n",
       "        vertical-align: top;\n",
       "    }\n",
       "\n",
       "    .dataframe thead th {\n",
       "        text-align: right;\n",
       "    }\n",
       "</style>\n",
       "<table border=\"1\" class=\"dataframe\">\n",
       "  <thead>\n",
       "    <tr style=\"text-align: right;\">\n",
       "      <th></th>\n",
       "      <th>asin</th>\n",
       "      <th>image</th>\n",
       "      <th>summary</th>\n",
       "      <th>reviewText</th>\n",
       "      <th>score</th>\n",
       "      <th>user_id</th>\n",
       "      <th>user_name</th>\n",
       "      <th>reviewTime</th>\n",
       "      <th>old_user_id</th>\n",
       "      <th>old_item_id</th>\n",
       "      <th>item_id</th>\n",
       "    </tr>\n",
       "  </thead>\n",
       "  <tbody>\n",
       "    <tr>\n",
       "      <th>0</th>\n",
       "      <td>0871167042</td>\n",
       "      <td>None</td>\n",
       "      <td>Unique designs</td>\n",
       "      <td>This book has beautiful photos, good and under...</td>\n",
       "      <td>5.0</td>\n",
       "      <td>0</td>\n",
       "      <td>Ruby Tulip</td>\n",
       "      <td>05 4, 2014</td>\n",
       "      <td>A2IC3NZN488KWK</td>\n",
       "      <td>0871167042</td>\n",
       "      <td>12</td>\n",
       "    </tr>\n",
       "    <tr>\n",
       "      <th>1</th>\n",
       "      <td>0871167042</td>\n",
       "      <td>None</td>\n",
       "      <td>OK Jewelry Book</td>\n",
       "      <td>If you're an experienced wire jewelry maker, t...</td>\n",
       "      <td>3.0</td>\n",
       "      <td>1</td>\n",
       "      <td>Aldne Now</td>\n",
       "      <td>07 23, 2014</td>\n",
       "      <td>A1YIEW86G14BHP</td>\n",
       "      <td>0871167042</td>\n",
       "      <td>12</td>\n",
       "    </tr>\n",
       "    <tr>\n",
       "      <th>2</th>\n",
       "      <td>0871167042</td>\n",
       "      <td>None</td>\n",
       "      <td>Organic and upcycling jewelry maker</td>\n",
       "      <td>Hi, have been making jewelry now for the last ...</td>\n",
       "      <td>4.0</td>\n",
       "      <td>2</td>\n",
       "      <td>Catherine Franz</td>\n",
       "      <td>06 5, 2014</td>\n",
       "      <td>AA7PNT2OPS3RP</td>\n",
       "      <td>0871167042</td>\n",
       "      <td>12</td>\n",
       "    </tr>\n",
       "  </tbody>\n",
       "</table>\n",
       "</div>"
      ],
      "text/plain": [
       "         asin image                              summary  \\\n",
       "0  0871167042  None                       Unique designs   \n",
       "1  0871167042  None                      OK Jewelry Book   \n",
       "2  0871167042  None  Organic and upcycling jewelry maker   \n",
       "\n",
       "                                          reviewText  score  user_id  \\\n",
       "0  This book has beautiful photos, good and under...    5.0        0   \n",
       "1  If you're an experienced wire jewelry maker, t...    3.0        1   \n",
       "2  Hi, have been making jewelry now for the last ...    4.0        2   \n",
       "\n",
       "         user_name   reviewTime     old_user_id old_item_id  item_id  \n",
       "0       Ruby Tulip   05 4, 2014  A2IC3NZN488KWK  0871167042       12  \n",
       "1        Aldne Now  07 23, 2014  A1YIEW86G14BHP  0871167042       12  \n",
       "2  Catherine Franz   06 5, 2014   AA7PNT2OPS3RP  0871167042       12  "
      ]
     },
     "execution_count": 29,
     "metadata": {},
     "output_type": "execute_result"
    },
    {
     "name": "stdout",
     "output_type": "stream",
     "text": [
      "time: 16.7 ms\n"
     ]
    }
   ],
   "source": [
    "review_data.head(3)"
   ]
  },
  {
   "cell_type": "markdown",
   "metadata": {},
   "source": [
    "## Adding the review count and avarage to the metadata"
   ]
  },
  {
   "cell_type": "code",
   "execution_count": 30,
   "metadata": {},
   "outputs": [
    {
     "data": {
      "text/plain": [
       "count    245636.000000\n",
       "mean          4.354280\n",
       "std           8.406209\n",
       "min           1.000000\n",
       "25%           1.000000\n",
       "50%           2.000000\n",
       "75%           5.000000\n",
       "max         548.000000\n",
       "Name: num_ratings, dtype: float64"
      ]
     },
     "execution_count": 30,
     "metadata": {},
     "output_type": "execute_result"
    },
    {
     "name": "stdout",
     "output_type": "stream",
     "text": [
      "time: 1.66 s\n"
     ]
    }
   ],
   "source": [
    "#items_nb = review_data['old_item_id'].value_counts().reset_index()\n",
    "items_avg = review_data.drop(['summary','reviewText','user_id','asin','user_name','reviewTime','old_user_id','item_id'],axis=1).groupby('old_item_id').agg(['count','mean']).reset_index()\n",
    "items_avg.columns= ['old_item_id','num_ratings','avg_rating']\n",
    "#items_avg.head(5)\n",
    "items_avg['num_ratings'].describe()"
   ]
  },
  {
   "cell_type": "code",
   "execution_count": 31,
   "metadata": {},
   "outputs": [
    {
     "data": {
      "text/html": [
       "<div>\n",
       "<style scoped>\n",
       "    .dataframe tbody tr th:only-of-type {\n",
       "        vertical-align: middle;\n",
       "    }\n",
       "\n",
       "    .dataframe tbody tr th {\n",
       "        vertical-align: top;\n",
       "    }\n",
       "\n",
       "    .dataframe thead th {\n",
       "        text-align: right;\n",
       "    }\n",
       "</style>\n",
       "<table border=\"1\" class=\"dataframe\">\n",
       "  <thead>\n",
       "    <tr style=\"text-align: right;\">\n",
       "      <th></th>\n",
       "      <th>also_buy</th>\n",
       "      <th>also_view</th>\n",
       "      <th>asin</th>\n",
       "      <th>brand</th>\n",
       "      <th>category</th>\n",
       "      <th>description</th>\n",
       "      <th>image</th>\n",
       "      <th>price</th>\n",
       "      <th>title</th>\n",
       "      <th>old_item_id_x</th>\n",
       "      <th>item_id</th>\n",
       "      <th>old_item_id_y</th>\n",
       "      <th>num_ratings</th>\n",
       "      <th>avg_rating</th>\n",
       "    </tr>\n",
       "  </thead>\n",
       "  <tbody>\n",
       "    <tr>\n",
       "      <th>0</th>\n",
       "      <td>None</td>\n",
       "      <td>None</td>\n",
       "      <td>0000037214</td>\n",
       "      <td>Big Dreams</td>\n",
       "      <td>[Clothing, Shoes &amp; Jewelry, Costumes &amp; Accessories, Kids &amp; Baby, Girls, Accessories, 3 layers of...</td>\n",
       "      <td>[6\" long, stretched waist measures 11 1/2\" across. Fits up to 7 years.]</td>\n",
       "      <td>no_data</td>\n",
       "      <td>NaN</td>\n",
       "      <td>Purple Sequin Tiny Dancer Tutu Ballet Dance Fairy Princess Costume Accessory</td>\n",
       "      <td>0000037214</td>\n",
       "      <td>0</td>\n",
       "      <td>NaN</td>\n",
       "      <td>NaN</td>\n",
       "      <td>NaN</td>\n",
       "    </tr>\n",
       "    <tr>\n",
       "      <th>1</th>\n",
       "      <td>None</td>\n",
       "      <td>None</td>\n",
       "      <td>0201377179</td>\n",
       "      <td>Anello</td>\n",
       "      <td>[Clothing, Shoes &amp; Jewelry, Luggage &amp; Travel Gear, Backpacks, Casual Daypacks, Polyester Canvas ...</td>\n",
       "      <td>[The Hottest Bag in Town! Brand: Anello Condition: 100% brand new Size: Large Simplistic Japanes...</td>\n",
       "      <td>[https://images-na.ssl-images-amazon.com/images/I/51RJoBQ2ANL._SR38,50_.jpg, https://images-na.s...</td>\n",
       "      <td>NaN</td>\n",
       "      <td>Japan Anello Backpack Unisex LARGE LIGHT GRAY BLACK Rucksack Waterproof Canvas Bag</td>\n",
       "      <td>0201377179</td>\n",
       "      <td>1</td>\n",
       "      <td>NaN</td>\n",
       "      <td>NaN</td>\n",
       "      <td>NaN</td>\n",
       "    </tr>\n",
       "  </tbody>\n",
       "</table>\n",
       "</div>"
      ],
      "text/plain": [
       "  also_buy also_view        asin       brand  \\\n",
       "0     None      None  0000037214  Big Dreams   \n",
       "1     None      None  0201377179      Anello   \n",
       "\n",
       "                                                                                              category  \\\n",
       "0  [Clothing, Shoes & Jewelry, Costumes & Accessories, Kids & Baby, Girls, Accessories, 3 layers of...   \n",
       "1  [Clothing, Shoes & Jewelry, Luggage & Travel Gear, Backpacks, Casual Daypacks, Polyester Canvas ...   \n",
       "\n",
       "                                                                                           description  \\\n",
       "0                              [6\" long, stretched waist measures 11 1/2\" across. Fits up to 7 years.]   \n",
       "1  [The Hottest Bag in Town! Brand: Anello Condition: 100% brand new Size: Large Simplistic Japanes...   \n",
       "\n",
       "                                                                                                 image  \\\n",
       "0                                                                                              no_data   \n",
       "1  [https://images-na.ssl-images-amazon.com/images/I/51RJoBQ2ANL._SR38,50_.jpg, https://images-na.s...   \n",
       "\n",
       "   price  \\\n",
       "0    NaN   \n",
       "1    NaN   \n",
       "\n",
       "                                                                                title  \\\n",
       "0        Purple Sequin Tiny Dancer Tutu Ballet Dance Fairy Princess Costume Accessory   \n",
       "1  Japan Anello Backpack Unisex LARGE LIGHT GRAY BLACK Rucksack Waterproof Canvas Bag   \n",
       "\n",
       "  old_item_id_x  item_id old_item_id_y  num_ratings  avg_rating  \n",
       "0    0000037214        0           NaN          NaN         NaN  \n",
       "1    0201377179        1           NaN          NaN         NaN  "
      ]
     },
     "execution_count": 31,
     "metadata": {},
     "output_type": "execute_result"
    },
    {
     "name": "stdout",
     "output_type": "stream",
     "text": [
      "time: 5.13 s\n"
     ]
    }
   ],
   "source": [
    "all_info =  pd.merge(all_info,items_avg,how='left',left_on='asin',right_on='old_item_id')\n",
    "pd.set_option('display.max_colwidth', 100)\n",
    "all_info.head(2)"
   ]
  },
  {
   "cell_type": "markdown",
   "metadata": {},
   "source": [
    "# Explicit feedback (Reviewed Dataset) Recommender System"
   ]
  },
  {
   "cell_type": "markdown",
   "metadata": {},
   "source": [
    "### Explicit feedback is when users gives voluntarily the rating information on what they like and dislike.\n",
    "\n",
    "- In this case, I have explicit item ratings ranging from one to five.\n",
    "- Framed the recommendation system as a rating prediction machine learning problem: \n",
    "    - Predict an item's ratings in order to be able to recommend to a user an item that he is likely to rate high if he buys it. `\n",
    "\n",
    "### To evaluate the model, I randomly separate the data into a training and test set. "
   ]
  },
  {
   "cell_type": "code",
   "execution_count": 32,
   "metadata": {},
   "outputs": [
    {
     "name": "stdout",
     "output_type": "stream",
     "text": [
      "time: 1.67 s\n"
     ]
    }
   ],
   "source": [
    "ratings_train, ratings_test = train_test_split( review_data, test_size=0.1, random_state=0)"
   ]
  },
  {
   "cell_type": "code",
   "execution_count": 33,
   "metadata": {},
   "outputs": [
    {
     "data": {
      "text/plain": [
       "(962611, 11)"
      ]
     },
     "execution_count": 33,
     "metadata": {},
     "output_type": "execute_result"
    },
    {
     "name": "stdout",
     "output_type": "stream",
     "text": [
      "time: 3.18 ms\n"
     ]
    }
   ],
   "source": [
    "ratings_train.shape"
   ]
  },
  {
   "cell_type": "code",
   "execution_count": 34,
   "metadata": {},
   "outputs": [
    {
     "data": {
      "text/plain": [
       "(106957, 11)"
      ]
     },
     "execution_count": 34,
     "metadata": {},
     "output_type": "execute_result"
    },
    {
     "name": "stdout",
     "output_type": "stream",
     "text": [
      "time: 2.59 ms\n"
     ]
    }
   ],
   "source": [
    "ratings_test.shape"
   ]
  },
  {
   "cell_type": "markdown",
   "metadata": {},
   "source": [
    "## Adding Metadata to the train set\n",
    "Create an architecture that mixes the collaborative and content based filtering approaches:\n",
    "```\n",
    "- Collaborative Part: Predict items ratings to recommend to the user items which he is likely to rate high according to learnt item & user embeddings (learn similarity from interactions).\n",
    "- Content based part: Use metadata inputs (such as price and title) about items to recommend to the user contents similar to those he rated high (learn similarity of item attributes).\n",
    "```\n",
    "\n",
    "#### Adding the title and price - Add the metadata of the items in the training and test datasets."
   ]
  },
  {
   "cell_type": "code",
   "execution_count": 35,
   "metadata": {},
   "outputs": [
    {
     "name": "stdout",
     "output_type": "stream",
     "text": [
      "time: 2.01 ms\n"
     ]
    }
   ],
   "source": [
    "# # creating metadata mappings \n",
    "# titles = all_info['title'].unique()\n",
    "# titles_map = {i:val for i,val in enumerate(titles)}\n",
    "# inverse_titles_map = {val:i for i,val in enumerate(titles)}\n",
    "\n",
    "# price = all_info['price'].unique()\n",
    "# price_map = {i:val for i,val in enumerate(price)}\n",
    "# inverse_price_map = {val:i for i,val in enumerate(price)}\n",
    "\n",
    "# print (\"We have %d prices\" %price.shape)\n",
    "# print (\"We have %d titles\" %titles.shape)\n",
    "\n",
    "\n",
    "# all_info['price_id'] = all_info['price'].map(inverse_price_map)\n",
    "# all_info['title_id'] = all_info['title'].map(inverse_titles_map)\n",
    "\n",
    "# # creating dict from \n",
    "# item2prices = {}\n",
    "# for val in all_info[['item_id','price_id']].dropna().drop_duplicates().iterrows():\n",
    "#     item2prices[val[1][\"item_id\"]] = val[1][\"price_id\"]\n",
    "\n",
    "# item2titles = {}\n",
    "# for val in all_info[['item_id','title_id']].dropna().drop_duplicates().iterrows():\n",
    "#     item2titles[val[1][\"item_id\"]] = val[1][\"title_id\"]\n",
    "        \n",
    "\n",
    "\n",
    "# # populating the rating dataset with item metadata info\n",
    "# ratings_train[\"price_id\"] = ratings_train[\"item_id\"].map(lambda x : item2prices[x])\n",
    "# ratings_train[\"title_id\"] = ratings_train[\"item_id\"].map(lambda x : item2titles[x])\n",
    "\n",
    "\n",
    "# # populating the test dataset with item metadata info\n",
    "# ratings_test[\"price_id\"] = ratings_test[\"item_id\"].map(lambda x : item2prices[x])\n",
    "# ratings_test[\"title_id\"] = ratings_test[\"item_id\"].map(lambda x : item2titles[x])\n"
   ]
  },
  {
   "cell_type": "markdown",
   "metadata": {},
   "source": [
    "## create rating train/test dataset and upload into S3"
   ]
  },
  {
   "cell_type": "code",
   "execution_count": 36,
   "metadata": {},
   "outputs": [
    {
     "name": "stdout",
     "output_type": "stream",
     "text": [
      "time: 2.6 ms\n"
     ]
    }
   ],
   "source": [
    "# !aws s3 cp s3://dse-cohort5-group1/2-Keras-DeepRecommender/dataset/ratings_test.parquet ./data/\n",
    "# !aws s3 cp s3://dse-cohort5-group1/2-Keras-DeepRecommender/dataset/ratings_train.parquet ./data/"
   ]
  },
  {
   "cell_type": "code",
   "execution_count": 37,
   "metadata": {},
   "outputs": [
    {
     "name": "stdout",
     "output_type": "stream",
     "text": [
      "time: 4.85 s\n"
     ]
    }
   ],
   "source": [
    "ratings_test = pd.read_parquet('./data/ratings_test.parquet')\n",
    "ratings_train = pd.read_parquet('./data/ratings_train.parquet')"
   ]
  },
  {
   "cell_type": "code",
   "execution_count": 38,
   "metadata": {},
   "outputs": [
    {
     "data": {
      "text/html": [
       "<div>\n",
       "<style scoped>\n",
       "    .dataframe tbody tr th:only-of-type {\n",
       "        vertical-align: middle;\n",
       "    }\n",
       "\n",
       "    .dataframe tbody tr th {\n",
       "        vertical-align: top;\n",
       "    }\n",
       "\n",
       "    .dataframe thead th {\n",
       "        text-align: right;\n",
       "    }\n",
       "</style>\n",
       "<table border=\"1\" class=\"dataframe\">\n",
       "  <thead>\n",
       "    <tr style=\"text-align: right;\">\n",
       "      <th></th>\n",
       "      <th>asin</th>\n",
       "      <th>image</th>\n",
       "      <th>summary</th>\n",
       "      <th>reviewText</th>\n",
       "      <th>score</th>\n",
       "      <th>user_id</th>\n",
       "      <th>user_name</th>\n",
       "      <th>reviewTime</th>\n",
       "      <th>old_user_id</th>\n",
       "      <th>old_item_id</th>\n",
       "      <th>item_id</th>\n",
       "      <th>price_id</th>\n",
       "      <th>title_id</th>\n",
       "    </tr>\n",
       "  </thead>\n",
       "  <tbody>\n",
       "    <tr>\n",
       "      <th>162810</th>\n",
       "      <td>B003XKNC0Y</td>\n",
       "      <td>None</td>\n",
       "      <td>Cuter than I expected</td>\n",
       "      <td>The material could be softer, but some at home fabric softening should do the trick. I wish the ...</td>\n",
       "      <td>4.0</td>\n",
       "      <td>108108</td>\n",
       "      <td>Jas P</td>\n",
       "      <td>10 6, 2012</td>\n",
       "      <td>A36P85ZAIO9O5Z</td>\n",
       "      <td>B003XKNC0Y</td>\n",
       "      <td>243589</td>\n",
       "      <td>0</td>\n",
       "      <td>232003</td>\n",
       "    </tr>\n",
       "    <tr>\n",
       "      <th>866194</th>\n",
       "      <td>B019DG4ALQ</td>\n",
       "      <td>None</td>\n",
       "      <td>these jeans are adorable, the cotton fabric is soft</td>\n",
       "      <td>these jeans are adorable, the cotton fabric is soft, comfortable and thick as i like them. This ...</td>\n",
       "      <td>5.0</td>\n",
       "      <td>270025</td>\n",
       "      <td>kamaljeet</td>\n",
       "      <td>07 21, 2016</td>\n",
       "      <td>A2IQRPJO6WP94M</td>\n",
       "      <td>B019DG4ALQ</td>\n",
       "      <td>2331139</td>\n",
       "      <td>0</td>\n",
       "      <td>2181670</td>\n",
       "    </tr>\n",
       "    <tr>\n",
       "      <th>148573</th>\n",
       "      <td>B003AXXUII</td>\n",
       "      <td>None</td>\n",
       "      <td>LOVE 'EM UNDIES</td>\n",
       "      <td>This is my second order of Bali's Skamp briefs for women.  There are very few manufacturers who ...</td>\n",
       "      <td>5.0</td>\n",
       "      <td>98493</td>\n",
       "      <td>GreenEggsnHam</td>\n",
       "      <td>12 7, 2014</td>\n",
       "      <td>A1OMS90ARBURNK</td>\n",
       "      <td>B003AXXUII</td>\n",
       "      <td>211033</td>\n",
       "      <td>0</td>\n",
       "      <td>200873</td>\n",
       "    </tr>\n",
       "  </tbody>\n",
       "</table>\n",
       "</div>"
      ],
      "text/plain": [
       "              asin image                                              summary  \\\n",
       "162810  B003XKNC0Y  None                                Cuter than I expected   \n",
       "866194  B019DG4ALQ  None  these jeans are adorable, the cotton fabric is soft   \n",
       "148573  B003AXXUII  None                                      LOVE 'EM UNDIES   \n",
       "\n",
       "                                                                                                 reviewText  \\\n",
       "162810  The material could be softer, but some at home fabric softening should do the trick. I wish the ...   \n",
       "866194  these jeans are adorable, the cotton fabric is soft, comfortable and thick as i like them. This ...   \n",
       "148573  This is my second order of Bali's Skamp briefs for women.  There are very few manufacturers who ...   \n",
       "\n",
       "        score  user_id      user_name   reviewTime     old_user_id  \\\n",
       "162810    4.0   108108          Jas P   10 6, 2012  A36P85ZAIO9O5Z   \n",
       "866194    5.0   270025      kamaljeet  07 21, 2016  A2IQRPJO6WP94M   \n",
       "148573    5.0    98493  GreenEggsnHam   12 7, 2014  A1OMS90ARBURNK   \n",
       "\n",
       "       old_item_id  item_id  price_id  title_id  \n",
       "162810  B003XKNC0Y   243589         0    232003  \n",
       "866194  B019DG4ALQ  2331139         0   2181670  \n",
       "148573  B003AXXUII   211033         0    200873  "
      ]
     },
     "execution_count": 38,
     "metadata": {},
     "output_type": "execute_result"
    },
    {
     "name": "stdout",
     "output_type": "stream",
     "text": [
      "time: 16 ms\n"
     ]
    }
   ],
   "source": [
    "ratings_train[:3]"
   ]
  },
  {
   "cell_type": "code",
   "execution_count": 39,
   "metadata": {},
   "outputs": [
    {
     "data": {
      "text/plain": [
       "(855654, 13)"
      ]
     },
     "execution_count": 39,
     "metadata": {},
     "output_type": "execute_result"
    },
    {
     "name": "stdout",
     "output_type": "stream",
     "text": [
      "time: 2.5 ms\n"
     ]
    }
   ],
   "source": [
    "ratings_train.shape"
   ]
  },
  {
   "cell_type": "markdown",
   "metadata": {},
   "source": [
    "# **Define embeddings\n",
    "### The $\\underline{embeddings}$ are low-dimensional hidden representations of users and items, \n",
    "### i.e. for each item I can find its properties and for each user I can encode how much they like those properties so I can determine attitudes or preferences of users by a small number of hidden factors \n",
    "\n",
    "### Throughout the training, I learn two new low-dimensional dense representations: one embedding for the users and another one for the items.\n"
   ]
  },
  {
   "cell_type": "code",
   "execution_count": 40,
   "metadata": {},
   "outputs": [
    {
     "name": "stdout",
     "output_type": "stream",
     "text": [
      "time: 6.76 s\n"
     ]
    }
   ],
   "source": [
    "price = all_info['price'].unique()\n",
    "titles = all_info['title'].unique()"
   ]
  },
  {
   "cell_type": "code",
   "execution_count": 41,
   "metadata": {},
   "outputs": [
    {
     "name": "stdout",
     "output_type": "stream",
     "text": [
      "WARNING:tensorflow:From /home/ec2-user/anaconda3/envs/tensorflow_p36/lib/python3.6/site-packages/keras/backend/tensorflow_backend.py:517: The name tf.placeholder is deprecated. Please use tf.compat.v1.placeholder instead.\n",
      "\n",
      "WARNING:tensorflow:From /home/ec2-user/anaconda3/envs/tensorflow_p36/lib/python3.6/site-packages/keras/backend/tensorflow_backend.py:4138: The name tf.random_uniform is deprecated. Please use tf.random.uniform instead.\n",
      "\n",
      "WARNING:tensorflow:From /home/ec2-user/anaconda3/envs/tensorflow_p36/lib/python3.6/site-packages/keras/backend/tensorflow_backend.py:74: The name tf.get_default_graph is deprecated. Please use tf.compat.v1.get_default_graph instead.\n",
      "\n",
      "time: 82.5 ms\n"
     ]
    }
   ],
   "source": [
    "# declare input embeddings to the model\n",
    "# User input\n",
    "user_id_input = Input(shape=[1], name='user')\n",
    "# Item Input\n",
    "item_id_input = Input(shape=[1], name='item')\n",
    "price_id_input = Input(shape=[1], name='price')\n",
    "title_id_input = Input(shape=[1], name='title')\n",
    "\n",
    "# define the size of embeddings as a parameter\n",
    "# Check 5, 10 , 15, 20, 50\n",
    "user_embedding_size = embedding_size \n",
    "item_embedding_size = embedding_size\n",
    "price_embedding_size = embedding_size\n",
    "title_embedding_size = embedding_size\n",
    "\n",
    "# apply an embedding layer to all inputs\n",
    "user_embedding = Embedding(output_dim=user_embedding_size, input_dim=users.shape[0],\n",
    "                               input_length=1, name='user_embedding')(user_id_input)\n",
    "\n",
    "item_embedding = Embedding(output_dim=item_embedding_size, input_dim=items_reviewed.shape[0],\n",
    "                               input_length=1, name='item_embedding')(item_id_input)\n",
    "\n",
    "price_embedding = Embedding(output_dim=price_embedding_size, input_dim=price.shape[0],\n",
    "                           input_length=1, name='price_embedding')(price_id_input)\n",
    "\n",
    "title_embedding = Embedding(output_dim=title_embedding_size, input_dim=titles.shape[0],\n",
    "                           input_length=1, name='title_embedding')(title_id_input)\n",
    "\n",
    "# reshape from shape (batch_size, input_length,embedding_size) to (batch_size, embedding_size). \n",
    "user_vecs = Reshape([user_embedding_size])(user_embedding)\n",
    "item_vecs = Reshape([item_embedding_size])(item_embedding)\n",
    "price_vecs = Reshape([price_embedding_size])(price_embedding)\n",
    "title_vecs = Reshape([title_embedding_size])(title_embedding)"
   ]
  },
  {
   "attachments": {
    "image.png": {
     "image/png": "[encoded data removed]"
    }
   },
   "cell_type": "markdown",
   "metadata": {},
   "source": [
    "# 2. Deep Recommender\n",
    "\n",
    "### Instead of taking a dot product of the user and the item embedding, concatenate or multiply them and use them as features for a neural network. \n",
    "### Thus, we are not constrained to the dot product way of combining the embeddings, and can learn complex non-linear relationships.\n",
    "\n",
    "![image.png](attachment:image.png)\n",
    "\n",
    "\n",
    "\n",
    "\n"
   ]
  },
  {
   "cell_type": "code",
   "execution_count": 42,
   "metadata": {},
   "outputs": [
    {
     "name": "stdout",
     "output_type": "stream",
     "text": [
      "time: 438 ms\n"
     ]
    }
   ],
   "source": [
    "!mkdir -p ./models"
   ]
  },
  {
   "cell_type": "code",
   "execution_count": 43,
   "metadata": {},
   "outputs": [
    {
     "name": "stdout",
     "output_type": "stream",
     "text": [
      "time: 33.2 ms\n"
     ]
    }
   ],
   "source": [
    "# Try add dense layers on top of the embeddings before merging (Comment to drop this idea.)\n",
    "user_vecs = Dense(64, activation='relu')(user_vecs) \n",
    "item_vecs = Dense(64, activation='relu')(item_vecs)\n",
    "# price_vecs = Dense(64, activation='relu')(price_vecs) \n",
    "# title_vecs = Dense(64, activation='relu')(title_vecs)"
   ]
  },
  {
   "cell_type": "markdown",
   "metadata": {},
   "source": [
    "### Reference: https://machinelearningmastery.com/dropout-for-regularizing-deep-neural-networks/\n",
    "\n",
    "- A good value for dropout in a hidden layer is between 0.5 and 0.8. Input layers use a larger dropout rate, such as of 0.8."
   ]
  },
  {
   "cell_type": "code",
   "execution_count": 44,
   "metadata": {},
   "outputs": [
    {
     "name": "stdout",
     "output_type": "stream",
     "text": [
      "WARNING:tensorflow:From /home/ec2-user/anaconda3/envs/tensorflow_p36/lib/python3.6/site-packages/keras/backend/tensorflow_backend.py:133: The name tf.placeholder_with_default is deprecated. Please use tf.compat.v1.placeholder_with_default instead.\n",
      "\n",
      "WARNING:tensorflow:From /home/ec2-user/anaconda3/envs/tensorflow_p36/lib/python3.6/site-packages/keras/backend/tensorflow_backend.py:3445: calling dropout (from tensorflow.python.ops.nn_ops) with keep_prob is deprecated and will be removed in a future version.\n",
      "Instructions for updating:\n",
      "Please use `rate` instead of `keep_prob`. Rate should be set to `rate = 1 - keep_prob`.\n",
      "time: 124 ms\n"
     ]
    }
   ],
   "source": [
    "# Concatenate the item embeddings :\n",
    "# item_vecs_complete  = Concatenate()([item_vecs, price_vecs,title_vecs])\n",
    "\n",
    "# Concatenate user and item embeddings and use them as features for the neural network:\n",
    "# input_vecs = Concatenate()([user_vecs, item_vecs_complete]) # can be changed by Multiply\n",
    "#input_vecs = Concatenate()([user_vecs, item_vecs]) # can be changed by Multiply\n",
    "\n",
    "# Multiply user and item embeddings and use them as features for the neural network:\n",
    "input_vecs = Multiply()([user_vecs, item_vecs]) # can be changed by concat \n",
    "\n",
    "# Dropout is a technique where randomly selected neurons are ignored during training to prevent overfitting \n",
    "input_vecs = Dropout(0.5)(input_vecs)  \n",
    "\n",
    "# Check one dense 128 or two dense layers (128,128) or (128,64) or three denses layers (128,64,32))\n",
    "\n",
    "# First layer\n",
    "# Dense(128) is a fully-connected layer with 128 hidden units.\n",
    "# Use rectified linear units (ReLU) f(x)=max(0,x) as an activation function.\n",
    "x = Dense(128, activation='relu')(input_vecs)\n",
    "x = Dropout(0.5)(x) # Add droupout or not # To improve the performance\n",
    "\n",
    "# Next Layers\n",
    "x = Dense(128, activation='relu')(x) # Add dense again or not \n",
    "x = Dropout(0.5)(x) # Add droupout or not # To improve the performance\n",
    "# x = Dense(64, activation='relu')(x) # Add dense again or not \n",
    "# x = Dropout(0.1)(x) # Add droupout or not # To improve the performance\n",
    "# x = Dense(32, activation='relu')(x) # Add dense again or not #\n",
    "x = Dropout(0.5)(x) # Add droupout or not # To improve the performance\n",
    "\n",
    "# The output\n",
    "y = Dense(1)(x)"
   ]
  },
  {
   "cell_type": "code",
   "execution_count": 45,
   "metadata": {},
   "outputs": [
    {
     "name": "stdout",
     "output_type": "stream",
     "text": [
      "WARNING:tensorflow:From /home/ec2-user/anaconda3/envs/tensorflow_p36/lib/python3.6/site-packages/keras/optimizers.py:790: The name tf.train.Optimizer is deprecated. Please use tf.compat.v1.train.Optimizer instead.\n",
      "\n",
      "WARNING:tensorflow:From /home/ec2-user/anaconda3/envs/tensorflow_p36/lib/python3.6/site-packages/keras/backend/tensorflow_backend.py:986: The name tf.assign_add is deprecated. Please use tf.compat.v1.assign_add instead.\n",
      "\n",
      "WARNING:tensorflow:From /home/ec2-user/anaconda3/envs/tensorflow_p36/lib/python3.6/site-packages/keras/backend/tensorflow_backend.py:973: The name tf.assign is deprecated. Please use tf.compat.v1.assign instead.\n",
      "\n",
      "Train on 770088 samples, validate on 85566 samples\n",
      "Epoch 1/7\n",
      "WARNING:tensorflow:From /home/ec2-user/anaconda3/envs/tensorflow_p36/lib/python3.6/site-packages/keras/backend/tensorflow_backend.py:174: The name tf.get_default_session is deprecated. Please use tf.compat.v1.get_default_session instead.\n",
      "\n",
      "WARNING:tensorflow:From /home/ec2-user/anaconda3/envs/tensorflow_p36/lib/python3.6/site-packages/keras/backend/tensorflow_backend.py:190: The name tf.global_variables is deprecated. Please use tf.compat.v1.global_variables instead.\n",
      "\n",
      "WARNING:tensorflow:From /home/ec2-user/anaconda3/envs/tensorflow_p36/lib/python3.6/site-packages/keras/backend/tensorflow_backend.py:199: The name tf.is_variable_initialized is deprecated. Please use tf.compat.v1.is_variable_initialized instead.\n",
      "\n",
      "WARNING:tensorflow:From /home/ec2-user/anaconda3/envs/tensorflow_p36/lib/python3.6/site-packages/keras/backend/tensorflow_backend.py:206: The name tf.variables_initializer is deprecated. Please use tf.compat.v1.variables_initializer instead.\n",
      "\n",
      "770088/770088 [==============================] - 87s 113us/step - loss: 1.9321 - val_loss: 1.5551\n",
      "Epoch 2/7\n",
      "770088/770088 [==============================] - 58s 75us/step - loss: 1.1527 - val_loss: 1.6217\n",
      "Epoch 3/7\n",
      "770088/770088 [==============================] - 59s 76us/step - loss: 0.9156 - val_loss: 1.6209\n",
      "Epoch 4/7\n",
      "770088/770088 [==============================] - 59s 77us/step - loss: 0.8176 - val_loss: 1.6821\n",
      "Epoch 5/7\n",
      "770088/770088 [==============================] - 59s 76us/step - loss: 0.7688 - val_loss: 1.7271\n",
      "Epoch 6/7\n",
      "770088/770088 [==============================] - 59s 77us/step - loss: 0.7378 - val_loss: 1.6951\n",
      "Epoch 7/7\n",
      "770088/770088 [==============================] - 59s 76us/step - loss: 0.7126 - val_loss: 1.7387\n",
      "time: 7min 20s\n"
     ]
    }
   ],
   "source": [
    "# create model\n",
    "model = Model(inputs=\n",
    "                    [\n",
    "                      user_id_input,\n",
    "                      item_id_input\n",
    "                    ], \n",
    "              outputs=y)\n",
    "\n",
    "# compile model\n",
    "model.compile(loss='mse',\n",
    "              optimizer=\"adam\" )\n",
    "\n",
    "# set save location for model\n",
    "save_path = \"./models\"\n",
    "thename = save_path + '/' + modname + '.h5'\n",
    "mcheck = ModelCheckpoint(thename, monitor='val_loss', save_best_only=True)\n",
    "\n",
    "# fit model\n",
    "history = model.fit([ratings_train[\"user_id\"]\n",
    "                    , ratings_train[\"item_id\"]\n",
    "                    ]\n",
    "                    , ratings_train[\"score\"]\n",
    "                    , batch_size=64\n",
    "                    , epochs=num_epochs\n",
    "                    , validation_split=0.1\n",
    "                    , callbacks=[mcheck]\n",
    "                    , shuffle=True)"
   ]
  },
  {
   "cell_type": "code",
   "execution_count": 46,
   "metadata": {},
   "outputs": [
    {
     "name": "stdout",
     "output_type": "stream",
     "text": [
      "Save history in  ./histories/dense_4_Multiply_5_embeddings_7_epochs-DropOut-0.8.pkl\n",
      "time: 2.96 ms\n"
     ]
    }
   ],
   "source": [
    "# Save the fitted model history to a file\n",
    "with open('./histories/' + modname + '.pkl' , 'wb') as file_pi:  pickle.dump(history.history, file_pi)\n",
    "    \n",
    "print(\"Save history in \", './histories/' + modname + '.pkl')"
   ]
  },
  {
   "cell_type": "code",
   "execution_count": 47,
   "metadata": {},
   "outputs": [
    {
     "name": "stdout",
     "output_type": "stream",
     "text": [
      "time: 2.91 ms\n"
     ]
    }
   ],
   "source": [
    "def disp_model(path,file,suffix):\n",
    "    model = load_model(path+file+suffix)    \n",
    "    ## Summarise the model \n",
    "    model.summary()    \n",
    "    # Extract the learnt user and item embeddings, i.e., a table with number of items and users rows and columns, with number of columns is the dimension of the trained embedding.\n",
    "    # In our case, the embeddings correspond exactly to the weights of the model:\n",
    "    weights = model.get_weights()\n",
    "    print (\"embeddings \\ weights shapes\",[w.shape for w in weights])    \n",
    "    return model\n",
    "    \n",
    "model_path = \"./models/\""
   ]
  },
  {
   "cell_type": "code",
   "execution_count": 48,
   "metadata": {},
   "outputs": [
    {
     "name": "stdout",
     "output_type": "stream",
     "text": [
      "time: 3.75 ms\n"
     ]
    }
   ],
   "source": [
    "def plt_pickle(path,file,suffix):\n",
    "    with open(path+file+suffix , 'rb') as file_pi: \n",
    "        thepickle= pickle.load(file_pi)\n",
    "        plot(thepickle[\"loss\"],label ='Train Error ' + file,linestyle=\"--\")\n",
    "        plot(thepickle[\"val_loss\"],label='Validation Error ' + file) \n",
    "        plt.legend()\n",
    "        plt.xlabel(\"Epoch\")\n",
    "        plt.ylabel(\"Error\")  \n",
    "        ##plt.ylim(0, 0.1)\n",
    "    return pd.DataFrame(thepickle,columns =['loss','val_loss'])\n",
    "\n",
    "hist_path = \"./histories/\""
   ]
  },
  {
   "cell_type": "code",
   "execution_count": 49,
   "metadata": {},
   "outputs": [
    {
     "name": "stdout",
     "output_type": "stream",
     "text": [
      "./models/\n",
      "dense_4_Multiply_5_embeddings_7_epochs-DropOut-0.8\n",
      "__________________________________________________________________________________________________\n",
      "Layer (type)                    Output Shape         Param #     Connected to                     \n",
      "==================================================================================================\n",
      "user (InputLayer)               (None, 1)            0                                            \n",
      "__________________________________________________________________________________________________\n",
      "item (InputLayer)               (None, 1)            0                                            \n",
      "__________________________________________________________________________________________________\n",
      "user_embedding (Embedding)      (None, 1, 5)         2565050     user[0][0]                       \n",
      "__________________________________________________________________________________________________\n",
      "item_embedding (Embedding)      (None, 1, 5)         1228180     item[0][0]                       \n",
      "__________________________________________________________________________________________________\n",
      "reshape_1 (Reshape)             (None, 5)            0           user_embedding[0][0]             \n",
      "__________________________________________________________________________________________________\n",
      "reshape_2 (Reshape)             (None, 5)            0           item_embedding[0][0]             \n",
      "__________________________________________________________________________________________________\n",
      "dense_1 (Dense)                 (None, 64)           384         reshape_1[0][0]                  \n",
      "__________________________________________________________________________________________________\n",
      "dense_2 (Dense)                 (None, 64)           384         reshape_2[0][0]                  \n",
      "__________________________________________________________________________________________________\n",
      "multiply_1 (Multiply)           (None, 64)           0           dense_1[0][0]                    \n",
      "                                                                 dense_2[0][0]                    \n",
      "__________________________________________________________________________________________________\n",
      "dropout_1 (Dropout)             (None, 64)           0           multiply_1[0][0]                 \n",
      "__________________________________________________________________________________________________\n",
      "dense_3 (Dense)                 (None, 128)          8320        dropout_1[0][0]                  \n",
      "__________________________________________________________________________________________________\n",
      "dropout_2 (Dropout)             (None, 128)          0           dense_3[0][0]                    \n",
      "__________________________________________________________________________________________________\n",
      "dense_4 (Dense)                 (None, 128)          16512       dropout_2[0][0]                  \n",
      "__________________________________________________________________________________________________\n",
      "dropout_3 (Dropout)             (None, 128)          0           dense_4[0][0]                    \n",
      "__________________________________________________________________________________________________\n",
      "dropout_4 (Dropout)             (None, 128)          0           dropout_3[0][0]                  \n",
      "__________________________________________________________________________________________________\n",
      "dense_5 (Dense)                 (None, 1)            129         dropout_4[0][0]                  \n",
      "==================================================================================================\n",
      "Total params: 3,818,959\n",
      "Trainable params: 3,818,959\n",
      "Non-trainable params: 0\n",
      "__________________________________________________________________________________________________\n",
      "embeddings \\ weights shapes [(513010, 5), (245636, 5), (5, 64), (64,), (5, 64), (64,), (64, 128), (128,), (128, 128), (128,), (128, 1), (1,)]\n",
      "time: 1.95 s\n"
     ]
    }
   ],
   "source": [
    "print(model_path)\n",
    "print(modname)\n",
    "model=disp_model(model_path, modname, '.h5')"
   ]
  },
  {
   "cell_type": "code",
   "execution_count": 50,
   "metadata": {},
   "outputs": [
    {
     "data": {
      "image/svg+xml": [
       "<svg height=\"848pt\" viewBox=\"0.00 0.00 382.00 848.00\" width=\"382pt\" xmlns=\"http://www.w3.org/2000/svg\" xmlns:xlink=\"http://www.w3.org/1999/xlink\">\n",
       "<g class=\"graph\" id=\"graph0\" transform=\"scale(1 1) rotate(0) translate(4 844)\">\n",
       "<title>G</title>\n",
       "<polygon fill=\"#ffffff\" points=\"-4,4 -4,-844 378,-844 378,4 -4,4\" stroke=\"transparent\"/>\n",
       "<!-- 139847261779112 -->\n",
       "<g class=\"node\" id=\"node1\">\n",
       "<title>139847261779112</title>\n",
       "<polygon fill=\"none\" points=\"35,-803.5 35,-839.5 142,-839.5 142,-803.5 35,-803.5\" stroke=\"#000000\"/>\n",
       "<text fill=\"#000000\" font-family=\"Times,serif\" font-size=\"14.00\" text-anchor=\"middle\" x=\"88.5\" y=\"-817.8\">user: InputLayer</text>\n",
       "</g>\n",
       "<!-- 139847261779504 -->\n",
       "<g class=\"node\" id=\"node3\">\n",
       "<title>139847261779504</title>\n",
       "<polygon fill=\"none\" points=\"0,-730.5 0,-766.5 177,-766.5 177,-730.5 0,-730.5\" stroke=\"#000000\"/>\n",
       "<text fill=\"#000000\" font-family=\"Times,serif\" font-size=\"14.00\" text-anchor=\"middle\" x=\"88.5\" y=\"-744.8\">user_embedding: Embedding</text>\n",
       "</g>\n",
       "<!-- 139847261779112&#45;&gt;139847261779504 -->\n",
       "<g class=\"edge\" id=\"edge1\">\n",
       "<title>139847261779112-&gt;139847261779504</title>\n",
       "<path d=\"M88.5,-803.4551C88.5,-795.3828 88.5,-785.6764 88.5,-776.6817\" fill=\"none\" stroke=\"#000000\"/>\n",
       "<polygon fill=\"#000000\" points=\"92.0001,-776.5903 88.5,-766.5904 85.0001,-776.5904 92.0001,-776.5903\" stroke=\"#000000\"/>\n",
       "</g>\n",
       "<!-- 139847261779056 -->\n",
       "<g class=\"node\" id=\"node2\">\n",
       "<title>139847261779056</title>\n",
       "<polygon fill=\"none\" points=\"230,-803.5 230,-839.5 339,-839.5 339,-803.5 230,-803.5\" stroke=\"#000000\"/>\n",
       "<text fill=\"#000000\" font-family=\"Times,serif\" font-size=\"14.00\" text-anchor=\"middle\" x=\"284.5\" y=\"-817.8\">item: InputLayer</text>\n",
       "</g>\n",
       "<!-- 139847261779448 -->\n",
       "<g class=\"node\" id=\"node4\">\n",
       "<title>139847261779448</title>\n",
       "<polygon fill=\"none\" points=\"195,-730.5 195,-766.5 374,-766.5 374,-730.5 195,-730.5\" stroke=\"#000000\"/>\n",
       "<text fill=\"#000000\" font-family=\"Times,serif\" font-size=\"14.00\" text-anchor=\"middle\" x=\"284.5\" y=\"-744.8\">item_embedding: Embedding</text>\n",
       "</g>\n",
       "<!-- 139847261779056&#45;&gt;139847261779448 -->\n",
       "<g class=\"edge\" id=\"edge2\">\n",
       "<title>139847261779056-&gt;139847261779448</title>\n",
       "<path d=\"M284.5,-803.4551C284.5,-795.3828 284.5,-785.6764 284.5,-776.6817\" fill=\"none\" stroke=\"#000000\"/>\n",
       "<polygon fill=\"#000000\" points=\"288.0001,-776.5903 284.5,-766.5904 281.0001,-776.5904 288.0001,-776.5903\" stroke=\"#000000\"/>\n",
       "</g>\n",
       "<!-- 139847261780344 -->\n",
       "<g class=\"node\" id=\"node5\">\n",
       "<title>139847261780344</title>\n",
       "<polygon fill=\"none\" points=\"52,-657.5 52,-693.5 177,-693.5 177,-657.5 52,-657.5\" stroke=\"#000000\"/>\n",
       "<text fill=\"#000000\" font-family=\"Times,serif\" font-size=\"14.00\" text-anchor=\"middle\" x=\"114.5\" y=\"-671.8\">reshape_1: Reshape</text>\n",
       "</g>\n",
       "<!-- 139847261779504&#45;&gt;139847261780344 -->\n",
       "<g class=\"edge\" id=\"edge3\">\n",
       "<title>139847261779504-&gt;139847261780344</title>\n",
       "<path d=\"M94.927,-730.4551C97.8645,-722.2074 101.4097,-712.2536 104.6712,-703.0962\" fill=\"none\" stroke=\"#000000\"/>\n",
       "<polygon fill=\"#000000\" points=\"107.9987,-704.185 108.0569,-693.5904 101.4045,-701.8364 107.9987,-704.185\" stroke=\"#000000\"/>\n",
       "</g>\n",
       "<!-- 139847261780064 -->\n",
       "<g class=\"node\" id=\"node6\">\n",
       "<title>139847261780064</title>\n",
       "<polygon fill=\"none\" points=\"208,-657.5 208,-693.5 333,-693.5 333,-657.5 208,-657.5\" stroke=\"#000000\"/>\n",
       "<text fill=\"#000000\" font-family=\"Times,serif\" font-size=\"14.00\" text-anchor=\"middle\" x=\"270.5\" y=\"-671.8\">reshape_2: Reshape</text>\n",
       "</g>\n",
       "<!-- 139847261779448&#45;&gt;139847261780064 -->\n",
       "<g class=\"edge\" id=\"edge4\">\n",
       "<title>139847261779448-&gt;139847261780064</title>\n",
       "<path d=\"M281.0393,-730.4551C279.4912,-722.3828 277.6297,-712.6764 275.9047,-703.6817\" fill=\"none\" stroke=\"#000000\"/>\n",
       "<polygon fill=\"#000000\" points=\"279.2903,-702.7521 273.9694,-693.5904 272.4156,-704.0706 279.2903,-702.7521\" stroke=\"#000000\"/>\n",
       "</g>\n",
       "<!-- 139847261779392 -->\n",
       "<g class=\"node\" id=\"node7\">\n",
       "<title>139847261779392</title>\n",
       "<polygon fill=\"none\" points=\"74.5,-584.5 74.5,-620.5 176.5,-620.5 176.5,-584.5 74.5,-584.5\" stroke=\"#000000\"/>\n",
       "<text fill=\"#000000\" font-family=\"Times,serif\" font-size=\"14.00\" text-anchor=\"middle\" x=\"125.5\" y=\"-598.8\">dense_1: Dense</text>\n",
       "</g>\n",
       "<!-- 139847261780344&#45;&gt;139847261779392 -->\n",
       "<g class=\"edge\" id=\"edge5\">\n",
       "<title>139847261780344-&gt;139847261779392</title>\n",
       "<path d=\"M117.2191,-657.4551C118.4355,-649.3828 119.8981,-639.6764 121.2534,-630.6817\" fill=\"none\" stroke=\"#000000\"/>\n",
       "<polygon fill=\"#000000\" points=\"124.7449,-631.0003 122.7741,-620.5904 117.823,-629.9572 124.7449,-631.0003\" stroke=\"#000000\"/>\n",
       "</g>\n",
       "<!-- 139847261779616 -->\n",
       "<g class=\"node\" id=\"node8\">\n",
       "<title>139847261779616</title>\n",
       "<polygon fill=\"none\" points=\"200.5,-584.5 200.5,-620.5 302.5,-620.5 302.5,-584.5 200.5,-584.5\" stroke=\"#000000\"/>\n",
       "<text fill=\"#000000\" font-family=\"Times,serif\" font-size=\"14.00\" text-anchor=\"middle\" x=\"251.5\" y=\"-598.8\">dense_2: Dense</text>\n",
       "</g>\n",
       "<!-- 139847261780064&#45;&gt;139847261779616 -->\n",
       "<g class=\"edge\" id=\"edge6\">\n",
       "<title>139847261780064-&gt;139847261779616</title>\n",
       "<path d=\"M265.8034,-657.4551C263.6795,-649.2951 261.1211,-639.4652 258.7587,-630.3887\" fill=\"none\" stroke=\"#000000\"/>\n",
       "<polygon fill=\"#000000\" points=\"262.1145,-629.3863 256.2084,-620.5904 255.3402,-631.1496 262.1145,-629.3863\" stroke=\"#000000\"/>\n",
       "</g>\n",
       "<!-- 139847261780848 -->\n",
       "<g class=\"node\" id=\"node9\">\n",
       "<title>139847261780848</title>\n",
       "<polygon fill=\"none\" points=\"119.5,-511.5 119.5,-547.5 251.5,-547.5 251.5,-511.5 119.5,-511.5\" stroke=\"#000000\"/>\n",
       "<text fill=\"#000000\" font-family=\"Times,serif\" font-size=\"14.00\" text-anchor=\"middle\" x=\"185.5\" y=\"-525.8\">multiply_1: Multiply</text>\n",
       "</g>\n",
       "<!-- 139847261779392&#45;&gt;139847261780848 -->\n",
       "<g class=\"edge\" id=\"edge7\">\n",
       "<title>139847261779392-&gt;139847261780848</title>\n",
       "<path d=\"M140.3315,-584.4551C147.5431,-575.6809 156.3417,-564.9759 164.251,-555.353\" fill=\"none\" stroke=\"#000000\"/>\n",
       "<polygon fill=\"#000000\" points=\"166.9854,-557.5382 170.6312,-547.5904 161.5776,-553.0934 166.9854,-557.5382\" stroke=\"#000000\"/>\n",
       "</g>\n",
       "<!-- 139847261779616&#45;&gt;139847261780848 -->\n",
       "<g class=\"edge\" id=\"edge8\">\n",
       "<title>139847261779616-&gt;139847261780848</title>\n",
       "<path d=\"M235.1854,-584.4551C227.1733,-575.5932 217.3804,-564.7616 208.6132,-555.0646\" fill=\"none\" stroke=\"#000000\"/>\n",
       "<polygon fill=\"#000000\" points=\"211.1584,-552.6609 201.8557,-547.5904 205.9659,-557.3554 211.1584,-552.6609\" stroke=\"#000000\"/>\n",
       "</g>\n",
       "<!-- 139847261781184 -->\n",
       "<g class=\"node\" id=\"node10\">\n",
       "<title>139847261781184</title>\n",
       "<polygon fill=\"none\" points=\"123,-438.5 123,-474.5 248,-474.5 248,-438.5 123,-438.5\" stroke=\"#000000\"/>\n",
       "<text fill=\"#000000\" font-family=\"Times,serif\" font-size=\"14.00\" text-anchor=\"middle\" x=\"185.5\" y=\"-452.8\">dropout_1: Dropout</text>\n",
       "</g>\n",
       "<!-- 139847261780848&#45;&gt;139847261781184 -->\n",
       "<g class=\"edge\" id=\"edge9\">\n",
       "<title>139847261780848-&gt;139847261781184</title>\n",
       "<path d=\"M185.5,-511.4551C185.5,-503.3828 185.5,-493.6764 185.5,-484.6817\" fill=\"none\" stroke=\"#000000\"/>\n",
       "<polygon fill=\"#000000\" points=\"189.0001,-484.5903 185.5,-474.5904 182.0001,-484.5904 189.0001,-484.5903\" stroke=\"#000000\"/>\n",
       "</g>\n",
       "<!-- 139847261781240 -->\n",
       "<g class=\"node\" id=\"node11\">\n",
       "<title>139847261781240</title>\n",
       "<polygon fill=\"none\" points=\"134.5,-365.5 134.5,-401.5 236.5,-401.5 236.5,-365.5 134.5,-365.5\" stroke=\"#000000\"/>\n",
       "<text fill=\"#000000\" font-family=\"Times,serif\" font-size=\"14.00\" text-anchor=\"middle\" x=\"185.5\" y=\"-379.8\">dense_3: Dense</text>\n",
       "</g>\n",
       "<!-- 139847261781184&#45;&gt;139847261781240 -->\n",
       "<g class=\"edge\" id=\"edge10\">\n",
       "<title>139847261781184-&gt;139847261781240</title>\n",
       "<path d=\"M185.5,-438.4551C185.5,-430.3828 185.5,-420.6764 185.5,-411.6817\" fill=\"none\" stroke=\"#000000\"/>\n",
       "<polygon fill=\"#000000\" points=\"189.0001,-411.5903 185.5,-401.5904 182.0001,-411.5904 189.0001,-411.5903\" stroke=\"#000000\"/>\n",
       "</g>\n",
       "<!-- 139847261781296 -->\n",
       "<g class=\"node\" id=\"node12\">\n",
       "<title>139847261781296</title>\n",
       "<polygon fill=\"none\" points=\"123,-292.5 123,-328.5 248,-328.5 248,-292.5 123,-292.5\" stroke=\"#000000\"/>\n",
       "<text fill=\"#000000\" font-family=\"Times,serif\" font-size=\"14.00\" text-anchor=\"middle\" x=\"185.5\" y=\"-306.8\">dropout_2: Dropout</text>\n",
       "</g>\n",
       "<!-- 139847261781240&#45;&gt;139847261781296 -->\n",
       "<g class=\"edge\" id=\"edge11\">\n",
       "<title>139847261781240-&gt;139847261781296</title>\n",
       "<path d=\"M185.5,-365.4551C185.5,-357.3828 185.5,-347.6764 185.5,-338.6817\" fill=\"none\" stroke=\"#000000\"/>\n",
       "<polygon fill=\"#000000\" points=\"189.0001,-338.5903 185.5,-328.5904 182.0001,-338.5904 189.0001,-338.5903\" stroke=\"#000000\"/>\n",
       "</g>\n",
       "<!-- 139847261781688 -->\n",
       "<g class=\"node\" id=\"node13\">\n",
       "<title>139847261781688</title>\n",
       "<polygon fill=\"none\" points=\"134.5,-219.5 134.5,-255.5 236.5,-255.5 236.5,-219.5 134.5,-219.5\" stroke=\"#000000\"/>\n",
       "<text fill=\"#000000\" font-family=\"Times,serif\" font-size=\"14.00\" text-anchor=\"middle\" x=\"185.5\" y=\"-233.8\">dense_4: Dense</text>\n",
       "</g>\n",
       "<!-- 139847261781296&#45;&gt;139847261781688 -->\n",
       "<g class=\"edge\" id=\"edge12\">\n",
       "<title>139847261781296-&gt;139847261781688</title>\n",
       "<path d=\"M185.5,-292.4551C185.5,-284.3828 185.5,-274.6764 185.5,-265.6817\" fill=\"none\" stroke=\"#000000\"/>\n",
       "<polygon fill=\"#000000\" points=\"189.0001,-265.5903 185.5,-255.5904 182.0001,-265.5904 189.0001,-265.5903\" stroke=\"#000000\"/>\n",
       "</g>\n",
       "<!-- 139847262023752 -->\n",
       "<g class=\"node\" id=\"node14\">\n",
       "<title>139847262023752</title>\n",
       "<polygon fill=\"none\" points=\"123,-146.5 123,-182.5 248,-182.5 248,-146.5 123,-146.5\" stroke=\"#000000\"/>\n",
       "<text fill=\"#000000\" font-family=\"Times,serif\" font-size=\"14.00\" text-anchor=\"middle\" x=\"185.5\" y=\"-160.8\">dropout_3: Dropout</text>\n",
       "</g>\n",
       "<!-- 139847261781688&#45;&gt;139847262023752 -->\n",
       "<g class=\"edge\" id=\"edge13\">\n",
       "<title>139847261781688-&gt;139847262023752</title>\n",
       "<path d=\"M185.5,-219.4551C185.5,-211.3828 185.5,-201.6764 185.5,-192.6817\" fill=\"none\" stroke=\"#000000\"/>\n",
       "<polygon fill=\"#000000\" points=\"189.0001,-192.5903 185.5,-182.5904 182.0001,-192.5904 189.0001,-192.5903\" stroke=\"#000000\"/>\n",
       "</g>\n",
       "<!-- 139847262023808 -->\n",
       "<g class=\"node\" id=\"node15\">\n",
       "<title>139847262023808</title>\n",
       "<polygon fill=\"none\" points=\"123,-73.5 123,-109.5 248,-109.5 248,-73.5 123,-73.5\" stroke=\"#000000\"/>\n",
       "<text fill=\"#000000\" font-family=\"Times,serif\" font-size=\"14.00\" text-anchor=\"middle\" x=\"185.5\" y=\"-87.8\">dropout_4: Dropout</text>\n",
       "</g>\n",
       "<!-- 139847262023752&#45;&gt;139847262023808 -->\n",
       "<g class=\"edge\" id=\"edge14\">\n",
       "<title>139847262023752-&gt;139847262023808</title>\n",
       "<path d=\"M185.5,-146.4551C185.5,-138.3828 185.5,-128.6764 185.5,-119.6817\" fill=\"none\" stroke=\"#000000\"/>\n",
       "<polygon fill=\"#000000\" points=\"189.0001,-119.5903 185.5,-109.5904 182.0001,-119.5904 189.0001,-119.5903\" stroke=\"#000000\"/>\n",
       "</g>\n",
       "<!-- 139847262023864 -->\n",
       "<g class=\"node\" id=\"node16\">\n",
       "<title>139847262023864</title>\n",
       "<polygon fill=\"none\" points=\"134.5,-.5 134.5,-36.5 236.5,-36.5 236.5,-.5 134.5,-.5\" stroke=\"#000000\"/>\n",
       "<text fill=\"#000000\" font-family=\"Times,serif\" font-size=\"14.00\" text-anchor=\"middle\" x=\"185.5\" y=\"-14.8\">dense_5: Dense</text>\n",
       "</g>\n",
       "<!-- 139847262023808&#45;&gt;139847262023864 -->\n",
       "<g class=\"edge\" id=\"edge15\">\n",
       "<title>139847262023808-&gt;139847262023864</title>\n",
       "<path d=\"M185.5,-73.4551C185.5,-65.3828 185.5,-55.6764 185.5,-46.6817\" fill=\"none\" stroke=\"#000000\"/>\n",
       "<polygon fill=\"#000000\" points=\"189.0001,-46.5903 185.5,-36.5904 182.0001,-46.5904 189.0001,-46.5903\" stroke=\"#000000\"/>\n",
       "</g>\n",
       "</g>\n",
       "</svg>"
      ],
      "text/plain": [
       "<IPython.core.display.SVG object>"
      ]
     },
     "execution_count": 50,
     "metadata": {},
     "output_type": "execute_result"
    },
    {
     "name": "stdout",
     "output_type": "stream",
     "text": [
      "time: 745 ms\n"
     ]
    }
   ],
   "source": [
    "# Display the model using keras\n",
    "SVG(model_to_dot(model).create(prog='dot', format='svg'))"
   ]
  },
  {
   "cell_type": "code",
   "execution_count": 51,
   "metadata": {},
   "outputs": [
    {
     "data": {
      "text/html": [
       "<div>\n",
       "<style scoped>\n",
       "    .dataframe tbody tr th:only-of-type {\n",
       "        vertical-align: middle;\n",
       "    }\n",
       "\n",
       "    .dataframe tbody tr th {\n",
       "        vertical-align: top;\n",
       "    }\n",
       "\n",
       "    .dataframe thead th {\n",
       "        text-align: right;\n",
       "    }\n",
       "</style>\n",
       "<table border=\"1\" class=\"dataframe\">\n",
       "  <thead>\n",
       "    <tr style=\"text-align: right;\">\n",
       "      <th></th>\n",
       "      <th>0</th>\n",
       "      <th>1</th>\n",
       "      <th>2</th>\n",
       "      <th>3</th>\n",
       "      <th>4</th>\n",
       "      <th>5</th>\n",
       "      <th>6</th>\n",
       "    </tr>\n",
       "  </thead>\n",
       "  <tbody>\n",
       "    <tr>\n",
       "      <th>loss</th>\n",
       "      <td>1.932148</td>\n",
       "      <td>1.152746</td>\n",
       "      <td>0.915643</td>\n",
       "      <td>0.817624</td>\n",
       "      <td>0.768788</td>\n",
       "      <td>0.737762</td>\n",
       "      <td>0.712627</td>\n",
       "    </tr>\n",
       "    <tr>\n",
       "      <th>val_loss</th>\n",
       "      <td>1.555063</td>\n",
       "      <td>1.621706</td>\n",
       "      <td>1.620877</td>\n",
       "      <td>1.682113</td>\n",
       "      <td>1.727079</td>\n",
       "      <td>1.695124</td>\n",
       "      <td>1.738714</td>\n",
       "    </tr>\n",
       "  </tbody>\n",
       "</table>\n",
       "</div>"
      ],
      "text/plain": [
       "                 0         1         2         3         4         5         6\n",
       "loss      1.932148  1.152746  0.915643  0.817624  0.768788  0.737762  0.712627\n",
       "val_loss  1.555063  1.621706  1.620877  1.682113  1.727079  1.695124  1.738714"
      ]
     },
     "execution_count": 51,
     "metadata": {},
     "output_type": "execute_result"
    },
    {
     "data": {
      "image/png": "[encoded data removed]",
      "text/plain": [
       "<Figure size 432x288 with 1 Axes>"
      ]
     },
     "metadata": {},
     "output_type": "display_data"
    },
    {
     "name": "stdout",
     "output_type": "stream",
     "text": [
      "time: 268 ms\n"
     ]
    }
   ],
   "source": [
    "x=plt_pickle(hist_path , modname , '.pkl')\n",
    "x.head(20).transpose()"
   ]
  },
  {
   "cell_type": "code",
   "execution_count": null,
   "metadata": {},
   "outputs": [],
   "source": []
  },
  {
   "cell_type": "code",
   "execution_count": null,
   "metadata": {},
   "outputs": [],
   "source": []
  }
 ],
 "metadata": {
  "kernelspec": {
   "display_name": "conda_tensorflow_p36",
   "language": "python",
   "name": "conda_tensorflow_p36"
  },
  "language_info": {
   "codemirror_mode": {
    "name": "ipython",
    "version": 3
   },
   "file_extension": ".py",
   "mimetype": "text/x-python",
   "name": "python",
   "nbconvert_exporter": "python",
   "pygments_lexer": "ipython3",
   "version": "3.6.6"
  }
 },
 "nbformat": 4,
 "nbformat_minor": 4
}
