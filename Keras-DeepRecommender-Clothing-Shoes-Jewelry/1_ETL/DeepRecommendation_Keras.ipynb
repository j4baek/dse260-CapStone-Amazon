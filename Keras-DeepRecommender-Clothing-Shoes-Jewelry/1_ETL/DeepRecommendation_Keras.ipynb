{
 "cells": [
  {
   "cell_type": "markdown",
   "metadata": {},
   "source": [
    "# Deep recommender on top of Amason’s Clean Clothing Shoes and Jewelry explicit rating dataset\n",
    "\n",
    "Frame the recommendation system as a rating prediction machine learning problem and create a hybrid architecture that mixes the collaborative and content based filtering approaches:\n",
    "- Collaborative part: Predict items ratings in order to recommend to the user items that he is likely to rate high.\n",
    "- Content based: use metadata inputs (such as price and title) about items to find similar items to recommend.\n",
    "\n",
    "### - Create 2 explicit recommendation engine models based on 2 machine learning architecture using Keras: \n",
    "    1. a matrix factorization model  \n",
    "    2. a deep neural network model.\n",
    "\n",
    "\n",
    "### Compare the results of the different models and configurations to find the \"best\" predicting model\n",
    "\n",
    "### Used the best model for recommending items to users"
   ]
  },
  {
   "cell_type": "code",
   "execution_count": 1,
   "metadata": {},
   "outputs": [
    {
     "name": "stdout",
     "output_type": "stream",
     "text": [
      "Collecting pip\n",
      "\u001b[?25l  Downloading https://files.pythonhosted.org/packages/43/84/23ed6a1796480a6f1a2d38f2802901d078266bda38388954d01d3f2e821d/pip-20.1.1-py2.py3-none-any.whl (1.5MB)\n",
      "\u001b[K     |████████████████████████████████| 1.5MB 22.6MB/s eta 0:00:01\n",
      "\u001b[?25hInstalling collected packages: pip\n",
      "  Found existing installation: pip 19.3.1\n",
      "    Uninstalling pip-19.3.1:\n",
      "      Successfully uninstalled pip-19.3.1\n",
      "Successfully installed pip-20.1.1\n",
      "Collecting sagemaker-experiments\n",
      "  Using cached sagemaker_experiments-0.1.13-py3-none-any.whl (35 kB)\n",
      "Requirement already satisfied: boto3>=1.12.8 in /home/ec2-user/anaconda3/envs/tensorflow_p36/lib/python3.6/site-packages (from sagemaker-experiments) (1.12.39)\n",
      "Requirement already satisfied: jmespath<1.0.0,>=0.7.1 in /home/ec2-user/anaconda3/envs/tensorflow_p36/lib/python3.6/site-packages (from boto3>=1.12.8->sagemaker-experiments) (0.9.4)\n",
      "Requirement already satisfied: botocore<1.16.0,>=1.15.39 in /home/ec2-user/anaconda3/envs/tensorflow_p36/lib/python3.6/site-packages (from boto3>=1.12.8->sagemaker-experiments) (1.15.39)\n",
      "Requirement already satisfied: s3transfer<0.4.0,>=0.3.0 in /home/ec2-user/anaconda3/envs/tensorflow_p36/lib/python3.6/site-packages (from boto3>=1.12.8->sagemaker-experiments) (0.3.3)\n",
      "Requirement already satisfied: docutils<0.16,>=0.10 in /home/ec2-user/anaconda3/envs/tensorflow_p36/lib/python3.6/site-packages (from botocore<1.16.0,>=1.15.39->boto3>=1.12.8->sagemaker-experiments) (0.14)\n",
      "Requirement already satisfied: python-dateutil<3.0.0,>=2.1 in /home/ec2-user/anaconda3/envs/tensorflow_p36/lib/python3.6/site-packages (from botocore<1.16.0,>=1.15.39->boto3>=1.12.8->sagemaker-experiments) (2.7.3)\n",
      "Requirement already satisfied: urllib3<1.26,>=1.20; python_version != \"3.4\" in /home/ec2-user/anaconda3/envs/tensorflow_p36/lib/python3.6/site-packages (from botocore<1.16.0,>=1.15.39->boto3>=1.12.8->sagemaker-experiments) (1.23)\n",
      "Requirement already satisfied: six>=1.5 in /home/ec2-user/anaconda3/envs/tensorflow_p36/lib/python3.6/site-packages (from python-dateutil<3.0.0,>=2.1->botocore<1.16.0,>=1.15.39->boto3>=1.12.8->sagemaker-experiments) (1.11.0)\n",
      "Installing collected packages: sagemaker-experiments\n",
      "Successfully installed sagemaker-experiments-0.1.13\n",
      "Requirement already satisfied: pandas in /home/ec2-user/anaconda3/envs/tensorflow_p36/lib/python3.6/site-packages (0.24.2)\n",
      "Requirement already satisfied: python-dateutil>=2.5.0 in /home/ec2-user/anaconda3/envs/tensorflow_p36/lib/python3.6/site-packages (from pandas) (2.7.3)\n",
      "Requirement already satisfied: numpy>=1.12.0 in /home/ec2-user/anaconda3/envs/tensorflow_p36/lib/python3.6/site-packages (from pandas) (1.16.4)\n",
      "Requirement already satisfied: pytz>=2011k in /home/ec2-user/anaconda3/envs/tensorflow_p36/lib/python3.6/site-packages (from pandas) (2018.4)\n",
      "Requirement already satisfied: six>=1.5 in /home/ec2-user/anaconda3/envs/tensorflow_p36/lib/python3.6/site-packages (from python-dateutil>=2.5.0->pandas) (1.11.0)\n",
      "Requirement already satisfied: numpy in /home/ec2-user/anaconda3/envs/tensorflow_p36/lib/python3.6/site-packages (1.16.4)\n",
      "Requirement already satisfied: matplotlib in /home/ec2-user/anaconda3/envs/tensorflow_p36/lib/python3.6/site-packages (3.0.3)\n",
      "Requirement already satisfied: cycler>=0.10 in /home/ec2-user/anaconda3/envs/tensorflow_p36/lib/python3.6/site-packages (from matplotlib) (0.10.0)\n",
      "Requirement already satisfied: pyparsing!=2.0.4,!=2.1.2,!=2.1.6,>=2.0.1 in /home/ec2-user/anaconda3/envs/tensorflow_p36/lib/python3.6/site-packages (from matplotlib) (2.2.0)\n",
      "Requirement already satisfied: python-dateutil>=2.1 in /home/ec2-user/anaconda3/envs/tensorflow_p36/lib/python3.6/site-packages (from matplotlib) (2.7.3)\n",
      "Requirement already satisfied: kiwisolver>=1.0.1 in /home/ec2-user/anaconda3/envs/tensorflow_p36/lib/python3.6/site-packages (from matplotlib) (1.0.1)\n",
      "Requirement already satisfied: numpy>=1.10.0 in /home/ec2-user/anaconda3/envs/tensorflow_p36/lib/python3.6/site-packages (from matplotlib) (1.16.4)\n",
      "Requirement already satisfied: six in /home/ec2-user/anaconda3/envs/tensorflow_p36/lib/python3.6/site-packages (from cycler>=0.10->matplotlib) (1.11.0)\n",
      "Requirement already satisfied: setuptools in /home/ec2-user/anaconda3/envs/tensorflow_p36/lib/python3.6/site-packages (from kiwisolver>=1.0.1->matplotlib) (45.2.0)\n",
      "Requirement already satisfied: boto3 in /home/ec2-user/anaconda3/envs/tensorflow_p36/lib/python3.6/site-packages (1.12.39)\n",
      "Requirement already satisfied: botocore<1.16.0,>=1.15.39 in /home/ec2-user/anaconda3/envs/tensorflow_p36/lib/python3.6/site-packages (from boto3) (1.15.39)\n",
      "Requirement already satisfied: s3transfer<0.4.0,>=0.3.0 in /home/ec2-user/anaconda3/envs/tensorflow_p36/lib/python3.6/site-packages (from boto3) (0.3.3)\n",
      "Requirement already satisfied: jmespath<1.0.0,>=0.7.1 in /home/ec2-user/anaconda3/envs/tensorflow_p36/lib/python3.6/site-packages (from boto3) (0.9.4)\n",
      "Requirement already satisfied: python-dateutil<3.0.0,>=2.1 in /home/ec2-user/anaconda3/envs/tensorflow_p36/lib/python3.6/site-packages (from botocore<1.16.0,>=1.15.39->boto3) (2.7.3)\n",
      "Requirement already satisfied: docutils<0.16,>=0.10 in /home/ec2-user/anaconda3/envs/tensorflow_p36/lib/python3.6/site-packages (from botocore<1.16.0,>=1.15.39->boto3) (0.14)\n",
      "Requirement already satisfied: urllib3<1.26,>=1.20; python_version != \"3.4\" in /home/ec2-user/anaconda3/envs/tensorflow_p36/lib/python3.6/site-packages (from botocore<1.16.0,>=1.15.39->boto3) (1.23)\n",
      "Requirement already satisfied: six>=1.5 in /home/ec2-user/anaconda3/envs/tensorflow_p36/lib/python3.6/site-packages (from python-dateutil<3.0.0,>=2.1->botocore<1.16.0,>=1.15.39->boto3) (1.11.0)\n",
      "Requirement already satisfied: sagemaker in /home/ec2-user/anaconda3/envs/tensorflow_p36/lib/python3.6/site-packages (1.55.3)\n",
      "Requirement already satisfied: smdebug-rulesconfig==0.1.2 in /home/ec2-user/anaconda3/envs/tensorflow_p36/lib/python3.6/site-packages (from sagemaker) (0.1.2)\n",
      "Requirement already satisfied: boto3>=1.10.44 in /home/ec2-user/anaconda3/envs/tensorflow_p36/lib/python3.6/site-packages (from sagemaker) (1.12.39)\n",
      "Requirement already satisfied: protobuf>=3.1 in /home/ec2-user/anaconda3/envs/tensorflow_p36/lib/python3.6/site-packages (from sagemaker) (3.8.0)\n",
      "Requirement already satisfied: importlib-metadata>=1.4.0 in /home/ec2-user/anaconda3/envs/tensorflow_p36/lib/python3.6/site-packages (from sagemaker) (1.5.0)\n",
      "Requirement already satisfied: scipy>=0.19.0 in /home/ec2-user/anaconda3/envs/tensorflow_p36/lib/python3.6/site-packages (from sagemaker) (1.4.1)\n",
      "Requirement already satisfied: protobuf3-to-dict>=0.1.5 in /home/ec2-user/anaconda3/envs/tensorflow_p36/lib/python3.6/site-packages (from sagemaker) (0.1.5)\n",
      "Requirement already satisfied: packaging>=20.0 in /home/ec2-user/anaconda3/envs/tensorflow_p36/lib/python3.6/site-packages (from sagemaker) (20.1)\n",
      "Requirement already satisfied: numpy>=1.9.0 in /home/ec2-user/anaconda3/envs/tensorflow_p36/lib/python3.6/site-packages (from sagemaker) (1.16.4)\n",
      "Requirement already satisfied: jmespath<1.0.0,>=0.7.1 in /home/ec2-user/anaconda3/envs/tensorflow_p36/lib/python3.6/site-packages (from boto3>=1.10.44->sagemaker) (0.9.4)\n",
      "Requirement already satisfied: s3transfer<0.4.0,>=0.3.0 in /home/ec2-user/anaconda3/envs/tensorflow_p36/lib/python3.6/site-packages (from boto3>=1.10.44->sagemaker) (0.3.3)\n",
      "Requirement already satisfied: botocore<1.16.0,>=1.15.39 in /home/ec2-user/anaconda3/envs/tensorflow_p36/lib/python3.6/site-packages (from boto3>=1.10.44->sagemaker) (1.15.39)\n",
      "Requirement already satisfied: six>=1.9 in /home/ec2-user/anaconda3/envs/tensorflow_p36/lib/python3.6/site-packages (from protobuf>=3.1->sagemaker) (1.11.0)\n",
      "Requirement already satisfied: setuptools in /home/ec2-user/anaconda3/envs/tensorflow_p36/lib/python3.6/site-packages (from protobuf>=3.1->sagemaker) (45.2.0)\n",
      "Requirement already satisfied: zipp>=0.5 in /home/ec2-user/anaconda3/envs/tensorflow_p36/lib/python3.6/site-packages (from importlib-metadata>=1.4.0->sagemaker) (3.0.0)\n",
      "Requirement already satisfied: pyparsing>=2.0.2 in /home/ec2-user/anaconda3/envs/tensorflow_p36/lib/python3.6/site-packages (from packaging>=20.0->sagemaker) (2.2.0)\n",
      "Requirement already satisfied: urllib3<1.26,>=1.20; python_version != \"3.4\" in /home/ec2-user/anaconda3/envs/tensorflow_p36/lib/python3.6/site-packages (from botocore<1.16.0,>=1.15.39->boto3>=1.10.44->sagemaker) (1.23)\n",
      "Requirement already satisfied: python-dateutil<3.0.0,>=2.1 in /home/ec2-user/anaconda3/envs/tensorflow_p36/lib/python3.6/site-packages (from botocore<1.16.0,>=1.15.39->boto3>=1.10.44->sagemaker) (2.7.3)\n",
      "Requirement already satisfied: docutils<0.16,>=0.10 in /home/ec2-user/anaconda3/envs/tensorflow_p36/lib/python3.6/site-packages (from botocore<1.16.0,>=1.15.39->boto3>=1.10.44->sagemaker) (0.14)\n",
      "Requirement already satisfied: pyspark in /home/ec2-user/anaconda3/envs/tensorflow_p36/lib/python3.6/site-packages (2.3.4)\n",
      "Requirement already satisfied: py4j==0.10.7 in /home/ec2-user/anaconda3/envs/tensorflow_p36/lib/python3.6/site-packages (from pyspark) (0.10.7)\n",
      "Collecting ipython-autotime\n",
      "  Downloading ipython-autotime-0.1.tar.bz2 (1.2 kB)\n",
      "Building wheels for collected packages: ipython-autotime\n",
      "  Building wheel for ipython-autotime (setup.py) ... \u001b[?25ldone\n",
      "\u001b[?25h  Created wheel for ipython-autotime: filename=ipython_autotime-0.1-py3-none-any.whl size=1837 sha256=78c82fa14a954eea42450ea1c3f94181b51b66758a84343cbd7ff19722cffc2f\n",
      "  Stored in directory: /home/ec2-user/.cache/pip/wheels/28/3a/38/7ecc013df8b58518cf859fb86c67c53df318426e96bb9fe1c0\n",
      "Successfully built ipython-autotime\n",
      "Installing collected packages: ipython-autotime\n",
      "Successfully installed ipython-autotime-0.1\n",
      "Collecting surprise\n",
      "  Downloading surprise-0.1-py2.py3-none-any.whl (1.8 kB)\n",
      "Collecting scikit-surprise\n",
      "  Downloading scikit-surprise-1.1.0.tar.gz (6.4 MB)\n",
      "\u001b[K     |████████████████████████████████| 6.4 MB 13.7 MB/s eta 0:00:01\n",
      "\u001b[?25hRequirement already satisfied: joblib>=0.11 in /home/ec2-user/anaconda3/envs/tensorflow_p36/lib/python3.6/site-packages (from scikit-surprise->surprise) (0.14.1)\n",
      "Requirement already satisfied: numpy>=1.11.2 in /home/ec2-user/anaconda3/envs/tensorflow_p36/lib/python3.6/site-packages (from scikit-surprise->surprise) (1.16.4)\n",
      "Requirement already satisfied: scipy>=1.0.0 in /home/ec2-user/anaconda3/envs/tensorflow_p36/lib/python3.6/site-packages (from scikit-surprise->surprise) (1.4.1)\n",
      "Requirement already satisfied: six>=1.10.0 in /home/ec2-user/anaconda3/envs/tensorflow_p36/lib/python3.6/site-packages (from scikit-surprise->surprise) (1.11.0)\n",
      "Building wheels for collected packages: scikit-surprise\n",
      "  Building wheel for scikit-surprise (setup.py) ... \u001b[?25ldone\n",
      "\u001b[?25h  Created wheel for scikit-surprise: filename=scikit_surprise-1.1.0-cp36-cp36m-linux_x86_64.whl size=1778041 sha256=a48cabecbbe38deafd0cfd714523367e18b679302d2d93171b9f557a6226bd3d\n",
      "  Stored in directory: /home/ec2-user/.cache/pip/wheels/f3/97/d9/6a242e5e3bb89377d4f575af72d14af0d54ebd90a525a4c2f9\n",
      "Successfully built scikit-surprise\n",
      "Installing collected packages: scikit-surprise, surprise\n",
      "Successfully installed scikit-surprise-1.1.0 surprise-0.1\n",
      "Collecting smart_open\n",
      "  Downloading smart_open-2.0.0.tar.gz (103 kB)\n",
      "\u001b[K     |████████████████████████████████| 103 kB 10.4 MB/s eta 0:00:01\n",
      "\u001b[?25hRequirement already satisfied: requests in /home/ec2-user/anaconda3/envs/tensorflow_p36/lib/python3.6/site-packages (from smart_open) (2.20.0)\n",
      "Requirement already satisfied: boto in /home/ec2-user/anaconda3/envs/tensorflow_p36/lib/python3.6/site-packages (from smart_open) (2.48.0)\n",
      "Requirement already satisfied: boto3 in /home/ec2-user/anaconda3/envs/tensorflow_p36/lib/python3.6/site-packages (from smart_open) (1.12.39)\n",
      "Requirement already satisfied: urllib3<1.25,>=1.21.1 in /home/ec2-user/anaconda3/envs/tensorflow_p36/lib/python3.6/site-packages (from requests->smart_open) (1.23)\n",
      "Requirement already satisfied: idna<2.8,>=2.5 in /home/ec2-user/anaconda3/envs/tensorflow_p36/lib/python3.6/site-packages (from requests->smart_open) (2.6)\n",
      "Requirement already satisfied: chardet<3.1.0,>=3.0.2 in /home/ec2-user/anaconda3/envs/tensorflow_p36/lib/python3.6/site-packages (from requests->smart_open) (3.0.4)\n",
      "Requirement already satisfied: certifi>=2017.4.17 in /home/ec2-user/anaconda3/envs/tensorflow_p36/lib/python3.6/site-packages (from requests->smart_open) (2019.11.28)\n",
      "Requirement already satisfied: botocore<1.16.0,>=1.15.39 in /home/ec2-user/anaconda3/envs/tensorflow_p36/lib/python3.6/site-packages (from boto3->smart_open) (1.15.39)\n",
      "Requirement already satisfied: s3transfer<0.4.0,>=0.3.0 in /home/ec2-user/anaconda3/envs/tensorflow_p36/lib/python3.6/site-packages (from boto3->smart_open) (0.3.3)\n",
      "Requirement already satisfied: jmespath<1.0.0,>=0.7.1 in /home/ec2-user/anaconda3/envs/tensorflow_p36/lib/python3.6/site-packages (from boto3->smart_open) (0.9.4)\n",
      "Requirement already satisfied: python-dateutil<3.0.0,>=2.1 in /home/ec2-user/anaconda3/envs/tensorflow_p36/lib/python3.6/site-packages (from botocore<1.16.0,>=1.15.39->boto3->smart_open) (2.7.3)\n",
      "Requirement already satisfied: docutils<0.16,>=0.10 in /home/ec2-user/anaconda3/envs/tensorflow_p36/lib/python3.6/site-packages (from botocore<1.16.0,>=1.15.39->boto3->smart_open) (0.14)\n",
      "Requirement already satisfied: six>=1.5 in /home/ec2-user/anaconda3/envs/tensorflow_p36/lib/python3.6/site-packages (from python-dateutil<3.0.0,>=2.1->botocore<1.16.0,>=1.15.39->boto3->smart_open) (1.11.0)\n",
      "Building wheels for collected packages: smart-open\n",
      "  Building wheel for smart-open (setup.py) ... \u001b[?25ldone\n",
      "\u001b[?25h  Created wheel for smart-open: filename=smart_open-2.0.0-py3-none-any.whl size=100514 sha256=ea1253fab5a3e79347bd2d7782efb82561036b38d5d89cbd89c3019580c9af3c\n",
      "  Stored in directory: /home/ec2-user/.cache/pip/wheels/16/64/85/f3205b74e01a98fb81e081c0d61c2ecd04e4645a986db3726e\n",
      "Successfully built smart-open\n",
      "Installing collected packages: smart-open\n",
      "Successfully installed smart-open-2.0.0\n",
      "Collecting pyarrow\n",
      "  Downloading pyarrow-0.17.1-cp36-cp36m-manylinux2014_x86_64.whl (63.8 MB)\n",
      "\u001b[K     |████████████████████████████████| 63.8 MB 49 kB/s s eta 0:00:01\n",
      "\u001b[?25hRequirement already satisfied: numpy>=1.14 in /home/ec2-user/anaconda3/envs/tensorflow_p36/lib/python3.6/site-packages (from pyarrow) (1.16.4)\n",
      "Installing collected packages: pyarrow\n",
      "Successfully installed pyarrow-0.17.1\n",
      "Collecting fastparquet\n",
      "  Downloading fastparquet-0.4.0.tar.gz (152 kB)\n",
      "\u001b[K     |████████████████████████████████| 152 kB 22.7 MB/s eta 0:00:01\n",
      "\u001b[?25hRequirement already satisfied: pandas>=0.19 in /home/ec2-user/anaconda3/envs/tensorflow_p36/lib/python3.6/site-packages (from fastparquet) (0.24.2)\n",
      "Requirement already satisfied: numba>=0.28 in /home/ec2-user/anaconda3/envs/tensorflow_p36/lib/python3.6/site-packages (from fastparquet) (0.38.0)\n",
      "Requirement already satisfied: numpy>=1.11 in /home/ec2-user/anaconda3/envs/tensorflow_p36/lib/python3.6/site-packages (from fastparquet) (1.16.4)\n",
      "Collecting thrift>=0.11.0\n",
      "  Downloading thrift-0.13.0.tar.gz (59 kB)\n",
      "\u001b[K     |████████████████████████████████| 59 kB 9.4 MB/s  eta 0:00:01\n",
      "\u001b[?25hRequirement already satisfied: six in /home/ec2-user/anaconda3/envs/tensorflow_p36/lib/python3.6/site-packages (from fastparquet) (1.11.0)\n",
      "Requirement already satisfied: python-dateutil>=2.5.0 in /home/ec2-user/anaconda3/envs/tensorflow_p36/lib/python3.6/site-packages (from pandas>=0.19->fastparquet) (2.7.3)\n",
      "Requirement already satisfied: pytz>=2011k in /home/ec2-user/anaconda3/envs/tensorflow_p36/lib/python3.6/site-packages (from pandas>=0.19->fastparquet) (2018.4)\n",
      "Requirement already satisfied: llvmlite>=0.23.0dev0 in /home/ec2-user/anaconda3/envs/tensorflow_p36/lib/python3.6/site-packages (from numba>=0.28->fastparquet) (0.23.1)\n",
      "Building wheels for collected packages: fastparquet, thrift\n",
      "  Building wheel for fastparquet (setup.py) ... \u001b[?25ldone\n",
      "\u001b[?25h  Created wheel for fastparquet: filename=fastparquet-0.4.0-cp36-cp36m-linux_x86_64.whl size=245986 sha256=38649e61da4cf7e07590f14fffc6f32b68c3fe910716a17c51eeddb846983131\n",
      "  Stored in directory: /home/ec2-user/.cache/pip/wheels/1b/4a/72/04de2f772018fd937958b847780cc99c9542d28de18693d9c1\n",
      "  Building wheel for thrift (setup.py) ... \u001b[?25ldone\n",
      "\u001b[?25h  Created wheel for thrift: filename=thrift-0.13.0-cp36-cp36m-linux_x86_64.whl size=388947 sha256=56b76d805983f7faecd98bcc83a81364afa6b0d041866efa1007779d386b0728\n",
      "  Stored in directory: /home/ec2-user/.cache/pip/wheels/e0/38/fc/472fe18756b177b42096961f8bd3ff2dc5c5620ac399fce52d\n",
      "Successfully built fastparquet thrift\n",
      "Installing collected packages: thrift, fastparquet\n",
      "Successfully installed fastparquet-0.4.0 thrift-0.13.0\n"
     ]
    }
   ],
   "source": [
    "import sys\n",
    "\n",
    "!{sys.executable} -m pip install --upgrade pip\n",
    "!{sys.executable} -m pip install sagemaker-experiments\n",
    "!{sys.executable} -m pip install pandas\n",
    "!{sys.executable} -m pip install numpy\n",
    "!{sys.executable} -m pip install matplotlib\n",
    "!{sys.executable} -m pip install boto3\n",
    "!{sys.executable} -m pip install sagemaker\n",
    "!{sys.executable} -m pip install pyspark\n",
    "!{sys.executable} -m pip install ipython-autotime\n",
    "!{sys.executable} -m pip install surprise\n",
    "!{sys.executable} -m pip install smart_open\n",
    "!{sys.executable} -m pip install pyarrow\n",
    "!{sys.executable} -m pip install fastparquet"
   ]
  },
  {
   "cell_type": "code",
   "execution_count": null,
   "metadata": {},
   "outputs": [],
   "source": [
    "# Check Jave version \n",
    "# !sudo yum -y update"
   ]
  },
  {
   "cell_type": "code",
   "execution_count": 2,
   "metadata": {},
   "outputs": [
    {
     "name": "stdout",
     "output_type": "stream",
     "text": [
      "Loaded plugins: dkms-build-requires, priorities, update-motd, upgrade-helper,\n",
      "              : versionlock\n",
      "Resolving Dependencies\n",
      "--> Running transaction check\n",
      "---> Package java-1.7.0-openjdk.x86_64 1:1.7.0.251-2.6.21.0.82.amzn1 will be erased\n",
      "--> Finished Dependency Resolution\n",
      "\n",
      "Dependencies Resolved\n",
      "\n",
      "================================================================================\n",
      " Package            Arch   Version                          Repository     Size\n",
      "================================================================================\n",
      "Removing:\n",
      " java-1.7.0-openjdk x86_64 1:1.7.0.251-2.6.21.0.82.amzn1    @amzn-updates  91 M\n",
      "\n",
      "Transaction Summary\n",
      "================================================================================\n",
      "Remove  1 Package\n",
      "\n",
      "Installed size: 91 M\n",
      "Downloading packages:\n",
      "Running transaction check\n",
      "Running transaction test\n",
      "Transaction test succeeded\n",
      "Running transaction\n",
      "Warning: RPMDB altered outside of yum.\n",
      "  Erasing    : 1:java-1.7.0-openjdk-1.7.0.251-2.6.21.0.82.amzn1.x86_64      1/1 \n",
      "  Verifying  : 1:java-1.7.0-openjdk-1.7.0.251-2.6.21.0.82.amzn1.x86_64      1/1 \n",
      "\n",
      "Removed:\n",
      "  java-1.7.0-openjdk.x86_64 1:1.7.0.251-2.6.21.0.82.amzn1                       \n",
      "\n",
      "Complete!\n"
     ]
    }
   ],
   "source": [
    "# Need to use Java 1.8.0\n",
    "!sudo yum remove jre-1.7.0-openjdk -y"
   ]
  },
  {
   "cell_type": "code",
   "execution_count": 3,
   "metadata": {},
   "outputs": [
    {
     "name": "stdout",
     "output_type": "stream",
     "text": [
      "openjdk version \"11.0.1\" 2018-10-16 LTS\n",
      "OpenJDK Runtime Environment Zulu11.2+3 (build 11.0.1+13-LTS)\n",
      "OpenJDK 64-Bit Server VM Zulu11.2+3 (build 11.0.1+13-LTS, mixed mode)\n"
     ]
    }
   ],
   "source": [
    "!java -version"
   ]
  },
  {
   "cell_type": "code",
   "execution_count": null,
   "metadata": {},
   "outputs": [],
   "source": [
    "# !sudo update-alternatives --config java"
   ]
  },
  {
   "cell_type": "code",
   "execution_count": 4,
   "metadata": {},
   "outputs": [
    {
     "name": "stdout",
     "output_type": "stream",
     "text": [
      "Requirement already satisfied: pyarrow in /home/ec2-user/anaconda3/envs/tensorflow_p36/lib/python3.6/site-packages (0.17.1)\n",
      "Requirement already satisfied: fastparquet in /home/ec2-user/anaconda3/envs/tensorflow_p36/lib/python3.6/site-packages (0.4.0)\n",
      "Requirement already satisfied: numpy>=1.14 in /home/ec2-user/anaconda3/envs/tensorflow_p36/lib/python3.6/site-packages (from pyarrow) (1.16.4)\n",
      "Requirement already satisfied: pandas>=0.19 in /home/ec2-user/anaconda3/envs/tensorflow_p36/lib/python3.6/site-packages (from fastparquet) (0.24.2)\n",
      "Requirement already satisfied: six in /home/ec2-user/anaconda3/envs/tensorflow_p36/lib/python3.6/site-packages (from fastparquet) (1.11.0)\n",
      "Requirement already satisfied: thrift>=0.11.0 in /home/ec2-user/anaconda3/envs/tensorflow_p36/lib/python3.6/site-packages (from fastparquet) (0.13.0)\n",
      "Requirement already satisfied: numba>=0.28 in /home/ec2-user/anaconda3/envs/tensorflow_p36/lib/python3.6/site-packages (from fastparquet) (0.38.0)\n",
      "Requirement already satisfied: python-dateutil>=2.5.0 in /home/ec2-user/anaconda3/envs/tensorflow_p36/lib/python3.6/site-packages (from pandas>=0.19->fastparquet) (2.7.3)\n",
      "Requirement already satisfied: pytz>=2011k in /home/ec2-user/anaconda3/envs/tensorflow_p36/lib/python3.6/site-packages (from pandas>=0.19->fastparquet) (2018.4)\n",
      "Requirement already satisfied: llvmlite>=0.23.0dev0 in /home/ec2-user/anaconda3/envs/tensorflow_p36/lib/python3.6/site-packages (from numba>=0.28->fastparquet) (0.23.1)\n"
     ]
    }
   ],
   "source": [
    "!pip install pyarrow fastparquet"
   ]
  },
  {
   "cell_type": "code",
   "execution_count": 5,
   "metadata": {},
   "outputs": [
    {
     "name": "stdout",
     "output_type": "stream",
     "text": [
      "Requirement already satisfied: ipython-autotime in /home/ec2-user/anaconda3/envs/tensorflow_p36/lib/python3.6/site-packages (0.1)\n"
     ]
    }
   ],
   "source": [
    "!pip install ipython-autotime"
   ]
  },
  {
   "cell_type": "code",
   "execution_count": 7,
   "metadata": {},
   "outputs": [
    {
     "name": "stdout",
     "output_type": "stream",
     "text": [
      "Collecting tqdm\n",
      "  Downloading tqdm-4.46.0-py2.py3-none-any.whl (63 kB)\n",
      "\u001b[K     |████████████████████████████████| 63 kB 3.2 MB/s  eta 0:00:01\n",
      "\u001b[?25hCollecting pydot\n",
      "  Downloading pydot-1.4.1-py2.py3-none-any.whl (19 kB)\n",
      "Collecting pydotplus\n",
      "  Downloading pydotplus-2.0.2.tar.gz (278 kB)\n",
      "\u001b[K     |████████████████████████████████| 278 kB 10.7 MB/s eta 0:00:01\n",
      "\u001b[?25hCollecting pydot_ng\n",
      "  Downloading pydot_ng-2.0.0-py2.py3-none-any.whl (20 kB)\n",
      "Requirement already satisfied: pyparsing>=2.1.4 in /home/ec2-user/anaconda3/envs/tensorflow_p36/lib/python3.6/site-packages (from pydot) (2.2.0)\n",
      "Building wheels for collected packages: pydotplus\n",
      "  Building wheel for pydotplus (setup.py) ... \u001b[?25ldone\n",
      "\u001b[?25h  Created wheel for pydotplus: filename=pydotplus-2.0.2-py3-none-any.whl size=23680 sha256=35b9c49f5d505b13fad6526b5948565f9973bb5b42efcce76c7f89e3b2025a92\n",
      "  Stored in directory: /home/ec2-user/.cache/pip/wheels/1f/5c/ba/f931f74fcac8f48b18ae597279203b1c1f92fc76249c2b6f66\n",
      "Successfully built pydotplus\n",
      "Installing collected packages: tqdm, pydot, pydotplus, pydot-ng\n",
      "Successfully installed pydot-1.4.1 pydot-ng-2.0.0 pydotplus-2.0.2 tqdm-4.46.0\n",
      "time: 3.89 s\n"
     ]
    }
   ],
   "source": [
    "!pip install tqdm pydot pydotplus pydot_ng"
   ]
  },
  {
   "cell_type": "code",
   "execution_count": 6,
   "metadata": {},
   "outputs": [],
   "source": [
    "#### To measure all running time\n",
    "# https://github.com/cpcloud/ipython-autotime\n",
    "\n",
    "%load_ext autotime"
   ]
  },
  {
   "cell_type": "code",
   "execution_count": 10,
   "metadata": {},
   "outputs": [
    {
     "name": "stdout",
     "output_type": "stream",
     "text": [
      "Populating the interactive namespace from numpy and matplotlib\n"
     ]
    },
    {
     "name": "stderr",
     "output_type": "stream",
     "text": [
      "/home/ec2-user/anaconda3/envs/tensorflow_p36/lib/python3.6/site-packages/IPython/core/magics/pylab.py:160: UserWarning: pylab import has clobbered these variables: ['ceil', 'floor']\n",
      "`%matplotlib` prevents importing * from pylab and numpy\n",
      "  \"\\n`%matplotlib` prevents importing * from pylab and numpy\"\n"
     ]
    },
    {
     "name": "stdout",
     "output_type": "stream",
     "text": [
      "WARNING:tensorflow:From /home/ec2-user/anaconda3/envs/tensorflow_p36/lib/python3.6/site-packages/tensorflow_core/__init__.py:1467: The name tf.estimator.inputs is deprecated. Please use tf.compat.v1.estimator.inputs instead.\n",
      "\n",
      "time: 18.6 s\n"
     ]
    },
    {
     "name": "stderr",
     "output_type": "stream",
     "text": [
      "Using TensorFlow backend.\n"
     ]
    }
   ],
   "source": [
    "%pylab inline\n",
    "import warnings\n",
    "warnings.filterwarnings(\"ignore\")\n",
    "%matplotlib inline\n",
    "import re\n",
    "import seaborn as sbn\n",
    "import nltk\n",
    "import tqdm as tqdm\n",
    "import sqlite3\n",
    "import pandas as pd\n",
    "import numpy as np\n",
    "from pandas import DataFrame \n",
    "import string\n",
    "import pydot \n",
    "import pydotplus\n",
    "import pydot_ng\n",
    "import pickle\n",
    "import time\n",
    "import gzip\n",
    "import os\n",
    "os.getcwd()\n",
    "    \n",
    "import matplotlib.pyplot as plt\n",
    "from math import floor,ceil\n",
    "\n",
    "#from nltk.corpus import stopwords\n",
    "#stop = stopwords.words(\"english\")\n",
    "from nltk.stem.porter import PorterStemmer\n",
    "english_stemmer=nltk.stem.SnowballStemmer('english')\n",
    "from nltk.tokenize import word_tokenize\n",
    "\n",
    "from sklearn.metrics import accuracy_score, confusion_matrix,roc_curve, auc,classification_report, mean_squared_error, mean_absolute_error\n",
    "from sklearn.feature_extraction.text import CountVectorizer, TfidfTransformer\n",
    "from sklearn.model_selection  import train_test_split\n",
    "from sklearn import metrics\n",
    "from sklearn.svm import LinearSVC\n",
    "from sklearn.neighbors import NearestNeighbors\n",
    "from sklearn.linear_model import LogisticRegression\n",
    "from sklearn import neighbors\n",
    "from scipy.spatial.distance import cosine\n",
    "from sklearn.feature_selection import SelectKBest\n",
    "from IPython.display import SVG\n",
    "\n",
    "# Tensorflow\n",
    "import tensorflow as tf\n",
    "\n",
    "#Keras\n",
    "from keras.models import Sequential, Model, load_model, save_model\n",
    "from keras.callbacks import ModelCheckpoint\n",
    "from keras.layers import Dense, Activation, Dropout, Input, Masking, TimeDistributed, LSTM, Conv1D, Embedding\n",
    "from keras.layers import GRU, Bidirectional, BatchNormalization, Reshape\n",
    "from keras.optimizers import Adam\n",
    "from keras.layers.core import Reshape, Dropout, Dense\n",
    "from keras.layers.merge import Multiply, Dot, Concatenate\n",
    "from keras.layers.embeddings import Embedding\n",
    "from keras import optimizers\n",
    "from keras.callbacks import ModelCheckpoint\n",
    "from keras.utils.vis_utils import model_to_dot"
   ]
  },
  {
   "cell_type": "markdown",
   "metadata": {},
   "source": [
    "### Set and Check GPUs"
   ]
  },
  {
   "cell_type": "code",
   "execution_count": 12,
   "metadata": {},
   "outputs": [
    {
     "name": "stdout",
     "output_type": "stream",
     "text": [
      "time: 5.53 ms\n"
     ]
    }
   ],
   "source": [
    "#Session\n",
    "from keras import backend as K\n",
    "\n",
    "def set_check_gpu():\n",
    "    cfg = K.tf.ConfigProto()\n",
    "    cfg.gpu_options.per_process_gpu_memory_fraction =1 # allow all of the GPU memory to be allocated\n",
    "    # for 8 GPUs\n",
    "    # cfg.gpu_options.visible_device_list = \"0,1,2,3,4,5,6,7\" # \"0,1\"\n",
    "    # for 1 GPU\n",
    "    cfg.gpu_options.visible_device_list = \"0\"\n",
    "    #cfg.gpu_options.allow_growth = True  # # Don't pre-allocate memory; dynamically allocate the memory used on the GPU as-needed\n",
    "    #cfg.log_device_placement = True  # to log device placement (on which device the operation ran)\n",
    "    sess = K.tf.Session(config=cfg)\n",
    "    K.set_session(sess)  # set this TensorFlow session as the default session for Keras\n",
    "\n",
    "    print(\"* TF version: \", [tf.__version__, tf.test.is_gpu_available()])\n",
    "    print(\"* List of GPU(s): \", tf.config.experimental.list_physical_devices() )\n",
    "    print(\"* Num GPUs Available: \", len(tf.config.experimental.list_physical_devices('GPU'))) \n",
    "  \n",
    "    \n",
    "    os.environ[\"CUDA_DEVICE_ORDER\"] = \"PCI_BUS_ID\";\n",
    "    # set for 8 GPUs\n",
    "#     os.environ[\"CUDA_VISIBLE_DEVICES\"] = \"0,1,2,3,4,5,6,7\";\n",
    "    # set for 1 GPU\n",
    "    os.environ[\"CUDA_VISIBLE_DEVICES\"] = \"0\";\n",
    "\n",
    "    # Tf debugging option\n",
    "    tf.debugging.set_log_device_placement(True)\n",
    "\n",
    "    gpus = tf.config.experimental.list_physical_devices('GPU')\n",
    "\n",
    "    if gpus:\n",
    "        try:\n",
    "            # Currently, memory growth needs to be the same across GPUs\n",
    "            for gpu in gpus:\n",
    "                tf.config.experimental.set_memory_growth(gpu, True)\n",
    "            logical_gpus = tf.config.experimental.list_logical_devices('GPU')\n",
    "            print(len(gpus), \"Physical GPUs,\", len(logical_gpus), \"Logical GPUs\")\n",
    "        except RuntimeError as e:\n",
    "            # Memory growth must be set before GPUs have been initialized\n",
    "            print(e)\n",
    "\n",
    "#     print(tf.config.list_logical_devices('GPU'))\n",
    "    print(tf.config.experimental.list_physical_devices('GPU'))\n",
    "    print(\"Num GPUs Available: \", len(tf.config.experimental.list_physical_devices('GPU')))"
   ]
  },
  {
   "cell_type": "code",
   "execution_count": 13,
   "metadata": {},
   "outputs": [
    {
     "name": "stdout",
     "output_type": "stream",
     "text": [
      "* TF version:  ['1.15.2', True]\n",
      "* List of GPU(s):  [PhysicalDevice(name='/physical_device:CPU:0', device_type='CPU'), PhysicalDevice(name='/physical_device:XLA_CPU:0', device_type='XLA_CPU'), PhysicalDevice(name='/physical_device:XLA_GPU:0', device_type='XLA_GPU'), PhysicalDevice(name='/physical_device:GPU:0', device_type='GPU')]\n",
      "* Num GPUs Available:  1\n",
      "1 Physical GPUs, 1 Logical GPUs\n",
      "[PhysicalDevice(name='/physical_device:GPU:0', device_type='GPU')]\n",
      "Num GPUs Available:  1\n",
      "time: 5.87 s\n"
     ]
    }
   ],
   "source": [
    "set_check_gpu()"
   ]
  },
  {
   "cell_type": "code",
   "execution_count": 15,
   "metadata": {},
   "outputs": [
    {
     "name": "stdout",
     "output_type": "stream",
     "text": [
      "time: 2.4 ms\n"
     ]
    }
   ],
   "source": [
    "# reset GPU memory& Keras Session\n",
    "def reset_keras():\n",
    "    try:\n",
    "        del classifier\n",
    "        del model    \n",
    "    except:\n",
    "        pass\n",
    "\n",
    "    K.clear_session()\n",
    " \n",
    "    K.get_session().close()\n",
    "#    sess = K.get_session()\n",
    "\n",
    "    cfg = K.tf.ConfigProto()\n",
    "    cfg.gpu_options.per_process_gpu_memory_fraction \n",
    "#     cfg.gpu_options.visible_device_list = \"0,1,2,3,4,5,6,7\" # \"0,1\"\n",
    "    cfg.gpu_options.visible_device_list = \"0\" # \"0,1\"\n",
    "    cfg.gpu_options.allow_growth = True  # dynamically grow the memory used on the GPU\n",
    "\n",
    "    sess = K.tf.Session(config=cfg)\n",
    "    K.set_session(sess)  # set this TensorFlow session as the default session for Keras\n",
    "    "
   ]
  },
  {
   "cell_type": "markdown",
   "metadata": {},
   "source": [
    "## Load dataset and analysis using Spark"
   ]
  },
  {
   "cell_type": "markdown",
   "metadata": {},
   "source": [
    "## Download and prepare Data:\n",
    "#### 1. Read the data:\n",
    "#### Read the data from the reviews dataset of amazon. \n",
    "#### Use the dastaset in which all users and items have at least 5 reviews. \n",
    "\n",
    "### Location of dataset: https://nijianmo.github.io/amazon/index.html"
   ]
  },
  {
   "cell_type": "code",
   "execution_count": 16,
   "metadata": {},
   "outputs": [
    {
     "name": "stdout",
     "output_type": "stream",
     "text": [
      "time: 4.63 s\n"
     ]
    }
   ],
   "source": [
    "import pandas as pd\n",
    "\n",
    "import boto3\n",
    "import sagemaker\n",
    "from sagemaker import get_execution_role\n",
    "from sagemaker.session import Session\n",
    "from sagemaker.analytics import ExperimentAnalytics\n",
    "\n",
    "import gzip\n",
    "import json\n",
    "\n",
    "from pyspark.ml import Pipeline\n",
    "from pyspark.sql.types import StructField, StructType, StringType, DoubleType\n",
    "from pyspark.ml.feature import StringIndexer, VectorIndexer, OneHotEncoder, VectorAssembler\n",
    "from pyspark.sql.functions import *\n",
    "\n",
    "# spark imports\n",
    "from pyspark.sql import SparkSession\n",
    "from pyspark.sql.functions import UserDefinedFunction, explode, desc\n",
    "from pyspark.sql.types import StringType, ArrayType\n",
    "from pyspark.ml.evaluation import RegressionEvaluator\n",
    "\n",
    "import os\n",
    "import pandas as pd\n",
    "import pyarrow\n",
    "import fastparquet\n",
    "\n",
    "# from pandas_profiling import ProfileReport"
   ]
  },
  {
   "cell_type": "code",
   "execution_count": 18,
   "metadata": {},
   "outputs": [
    {
     "name": "stdout",
     "output_type": "stream",
     "text": [
      "/home/ec2-user/SageMaker/dse260-CapStone-Amazon/2-**Final-Keras-DeepRecommender\n",
      "time: 125 ms\n"
     ]
    }
   ],
   "source": [
    "!pwd"
   ]
  },
  {
   "cell_type": "code",
   "execution_count": 17,
   "metadata": {},
   "outputs": [
    {
     "name": "stdout",
     "output_type": "stream",
     "text": [
      "--2020-05-26 15:27:54--  http://deepyeti.ucsd.edu/jianmo/amazon/categoryFilesSmall/Clothing_Shoes_and_Jewelry_5.json.gz\n",
      "Resolving deepyeti.ucsd.edu (deepyeti.ucsd.edu)... 169.228.63.50\n",
      "Connecting to deepyeti.ucsd.edu (deepyeti.ucsd.edu)|169.228.63.50|:80... connected.\n",
      "HTTP request sent, awaiting response... 200 OK\n",
      "Length: 1262892731 (1.2G) [application/octet-stream]\n",
      "Saving to: ‘Clothing_Shoes_and_Jewelry_5.json.gz’\n",
      "\n",
      "lothing_Shoes_and_J 100%[===================>]   1.18G  12.0MB/s    in 60s     \n",
      "\n",
      "2020-05-26 15:28:54 (20.1 MB/s) - ‘Clothing_Shoes_and_Jewelry_5.json.gz’ saved [1262892731/1262892731]\n",
      "\n",
      "--2020-05-26 15:28:54--  http://./data\n",
      "Resolving . (.)... failed: No address associated with hostname.\n",
      "wget: unable to resolve host address ‘.’\n",
      "FINISHED --2020-05-26 15:28:54--\n",
      "Total wall clock time: 1m 0s\n",
      "Downloaded: 1 files, 1.2G in 1m 0s (20.1 MB/s)\n",
      "time: 1min\n"
     ]
    }
   ],
   "source": [
    "# Download Clothing_Shoes_and_Jewelry_5.json.gz\n",
    "!wget http://deepyeti.ucsd.edu/jianmo/amazon/categoryFilesSmall/Clothing_Shoes_and_Jewelry_5.json.gz -P /home/ec2-user/SageMaker/dse260-CapStone-Amazon/2-**Final-Keras-DeepRecommender/data/"
   ]
  },
  {
   "cell_type": "code",
   "execution_count": 19,
   "metadata": {},
   "outputs": [
    {
     "name": "stdout",
     "output_type": "stream",
     "text": [
      "time: 14.7 s\n"
     ]
    }
   ],
   "source": [
    "number_cores = 16\n",
    "memory_gb = 64\n",
    "\n",
    "spark = SparkSession \\\n",
    "    .builder \\\n",
    "    .appName(\"amazon recommendation\") \\\n",
    "    .config(\"spark.driver.memory\", '{}g'.format(memory_gb)) \\\n",
    "    .config(\"spark.master\", 'local[{}]'.format(number_cores)) \\\n",
    "    .getOrCreate()\n",
    "\n",
    "# get spark context\n",
    "sc = spark.sparkContext"
   ]
  },
  {
   "cell_type": "markdown",
   "metadata": {},
   "source": [
    "#### Loading Clothing_Shoes_and_Jewelry_5.json.gz"
   ]
  },
  {
   "cell_type": "code",
   "execution_count": 20,
   "metadata": {},
   "outputs": [
    {
     "name": "stdout",
     "output_type": "stream",
     "text": [
      "+----------+-----+-------+--------------------+-----------+--------------+------------+--------------------+--------------+--------------+--------+----+\n",
      "|      asin|image|overall|          reviewText| reviewTime|    reviewerID|reviewerName|               style|       summary|unixReviewTime|verified|vote|\n",
      "+----------+-----+-------+--------------------+-----------+--------------+------------+--------------------+--------------+--------------+--------+----+\n",
      "|0871167042| null|    5.0|This book has bea...| 05 4, 2014|A2IC3NZN488KWK|  Ruby Tulip|[,,,,,,,,  Paperb...|Unique designs|    1399161600|    true|   2|\n",
      "|0871167042| null|    5.0|Loved their appro...|03 31, 2014|A30FG02C424EJ5|NWCancerBaby|[,,,,,,,,  Paperb...|    Great Book|    1396224000|    true|null|\n",
      "|0871167042| null|    5.0|               great|05 30, 2015|A2G9GWQEWWNQUB| Pamelarenee|[,,,,,,,,  Paperb...|    Five Stars|    1432944000|    true|null|\n",
      "+----------+-----+-------+--------------------+-----------+--------------+------------+--------------------+--------------+--------------+--------+----+\n",
      "only showing top 3 rows\n",
      "\n",
      "None\n",
      "<class 'pyspark.sql.dataframe.DataFrame'>\n",
      "[Row(asin='0871167042', image=None, overall=5.0, reviewText='This book has beautiful photos, good and understandable directions, and many different kinds of jewelry.  Wire working and metalsmithing jewelry are covered.  Highly recommend this book.', reviewTime='05 4, 2014', reviewerID='A2IC3NZN488KWK', reviewerName='Ruby Tulip', style=Row(Capacity:=None, Color Name:=None, Color:=None, Design:=None, Diameter:=None, Edition:=None, Flavor Name:=None, Flavor:=None, Format:=' Paperback', Gem Type:=None, Grip Type:=None, Initial:=None, Item Display Length:=None, Item Package Quantity:=None, Length:=None, Material Type:=None, Material:=None, Metal Stamp:=None, Metal Type:=None, Model Number:=None, Number of Items:=None, Package Quantity:=None, Package Type:=None, Pattern:=None, Primary Stone Gem Type:=None, Product Packaging:=None, Scent Name:=None, Shape:=None, Size Name:=None, Size per Pearl:=None, Size:=None, Style Name:=None, Style:=None, Team Name:=None, Total Diamond Weight:=None, Width:=None), summary='Unique designs', unixReviewTime=1399161600, verified=True, vote='2'), Row(asin='0871167042', image=None, overall=5.0, reviewText='Loved their approach in this book and that it was a \"paperback\".  Easy to use and inspiring me to use up my beachcombing finds.', reviewTime='03 31, 2014', reviewerID='A30FG02C424EJ5', reviewerName='NWCancerBaby', style=Row(Capacity:=None, Color Name:=None, Color:=None, Design:=None, Diameter:=None, Edition:=None, Flavor Name:=None, Flavor:=None, Format:=' Paperback', Gem Type:=None, Grip Type:=None, Initial:=None, Item Display Length:=None, Item Package Quantity:=None, Length:=None, Material Type:=None, Material:=None, Metal Stamp:=None, Metal Type:=None, Model Number:=None, Number of Items:=None, Package Quantity:=None, Package Type:=None, Pattern:=None, Primary Stone Gem Type:=None, Product Packaging:=None, Scent Name:=None, Shape:=None, Size Name:=None, Size per Pearl:=None, Size:=None, Style Name:=None, Style:=None, Team Name:=None, Total Diamond Weight:=None, Width:=None), summary='Great Book', unixReviewTime=1396224000, verified=True, vote=None)]\n",
      "time: 1min 53s\n"
     ]
    }
   ],
   "source": [
    "DATA_PATH = './data/'\n",
    "REVIEW_DATA = 'Clothing_Shoes_and_Jewelry_5.json.gz'\n",
    "\n",
    "ratings = spark.read.load(DATA_PATH+REVIEW_DATA, format='json', header=True, inferSchema=True)\n",
    "print(ratings.show(3))\n",
    "print(type(ratings))\n",
    "print(ratings.head(n=2))"
   ]
  },
  {
   "cell_type": "markdown",
   "metadata": {},
   "source": [
    "### Drop unuseful columns\n",
    "-  'helpful'\n",
    "- 'unixReviewTime'\n",
    "- 'style'\n",
    "- 'verified'\n",
    "- 'vote'"
   ]
  },
  {
   "cell_type": "code",
   "execution_count": 21,
   "metadata": {},
   "outputs": [
    {
     "name": "stdout",
     "output_type": "stream",
     "text": [
      "['asin', 'image', 'overall', 'reviewText', 'reviewTime', 'reviewerID', 'reviewerName', 'style', 'summary', 'unixReviewTime', 'verified', 'vote']\n",
      "time: 61.9 ms\n"
     ]
    }
   ],
   "source": [
    "clean_ratings = ratings.na.drop(how='any', subset='vote')\n",
    "print(clean_ratings.columns)\n",
    "product_ratings = clean_ratings.drop(\n",
    "'helpful',\n",
    "'unixReviewTime',\n",
    "'style',\n",
    "'verified',\n",
    "'vote'\n",
    ")"
   ]
  },
  {
   "cell_type": "code",
   "execution_count": 22,
   "metadata": {},
   "outputs": [
    {
     "name": "stdout",
     "output_type": "stream",
     "text": [
      "['asin', 'image', 'overall', 'reviewText', 'reviewTime', 'reviewerID', 'reviewerName', 'summary']\n",
      "+----------+-----+-------+--------------------+-----------+--------------+---------------+--------------------+\n",
      "|      asin|image|overall|          reviewText| reviewTime|    reviewerID|   reviewerName|             summary|\n",
      "+----------+-----+-------+--------------------+-----------+--------------+---------------+--------------------+\n",
      "|0871167042| null|    5.0|This book has bea...| 05 4, 2014|A2IC3NZN488KWK|     Ruby Tulip|      Unique designs|\n",
      "|0871167042| null|    3.0|If you're an expe...|07 23, 2014|A1YIEW86G14BHP|      Aldne Now|     OK Jewelry Book|\n",
      "|0871167042| null|    4.0|Hi, have been mak...| 06 5, 2014| AA7PNT2OPS3RP|Catherine Franz|Organic and upcyc...|\n",
      "+----------+-----+-------+--------------------+-----------+--------------+---------------+--------------------+\n",
      "only showing top 3 rows\n",
      "\n",
      "None\n",
      "<class 'pyspark.sql.dataframe.DataFrame'>\n",
      "time: 191 ms\n"
     ]
    }
   ],
   "source": [
    "print(product_ratings.columns)\n",
    "print(product_ratings.show(3))\n",
    "print(type(product_ratings))"
   ]
  },
  {
   "cell_type": "code",
   "execution_count": 23,
   "metadata": {},
   "outputs": [
    {
     "name": "stdout",
     "output_type": "stream",
     "text": [
      "time: 130 ms\n"
     ]
    }
   ],
   "source": [
    "!rm -rf output"
   ]
  },
  {
   "cell_type": "code",
   "execution_count": null,
   "metadata": {},
   "outputs": [],
   "source": [
    "## DONOT USE CSV..... SUCKS....\n",
    "## create csv file\n",
    "# product_ratings.write.csv(\"./Clean_Clothing_Shoes_and_Jewelry_5_clean\")b"
   ]
  },
  {
   "cell_type": "markdown",
   "metadata": {},
   "source": [
    "### CSV file format has limitation to hanlde big and complicated string data. Parquest is stong format."
   ]
  },
  {
   "cell_type": "code",
   "execution_count": 24,
   "metadata": {},
   "outputs": [
    {
     "name": "stdout",
     "output_type": "stream",
     "text": [
      "time: 1min 7s\n"
     ]
    }
   ],
   "source": [
    "product_ratings.write.parquet(\"data/Clothing_Shoes_and_Jewelry_5.parquet\")"
   ]
  },
  {
   "cell_type": "code",
   "execution_count": 25,
   "metadata": {},
   "outputs": [
    {
     "name": "stdout",
     "output_type": "stream",
     "text": [
      "total 310M\n",
      "drwxrwxr-x 2 ec2-user ec2-user 4.0K May 26 15:34 .\n",
      "drwxrwxr-x 4 ec2-user ec2-user 4.0K May 26 15:34 ..\n",
      "-rw-r--r-- 1 ec2-user ec2-user 308M May 26 15:34 part-00000-2aae770e-5bd6-4aab-a74f-4dcb2218473b-c000.snappy.parquet\n",
      "-rw-r--r-- 1 ec2-user ec2-user 2.4M May 26 15:34 .part-00000-2aae770e-5bd6-4aab-a74f-4dcb2218473b-c000.snappy.parquet.crc\n",
      "-rw-r--r-- 1 ec2-user ec2-user    0 May 26 15:34 _SUCCESS\n",
      "-rw-r--r-- 1 ec2-user ec2-user    8 May 26 15:34 ._SUCCESS.crc\n",
      "time: 126 ms\n"
     ]
    }
   ],
   "source": [
    "!ls -ahl data/Clothing_Shoes_and_Jewelry_5.parquet"
   ]
  },
  {
   "cell_type": "markdown",
   "metadata": {},
   "source": [
    "### Upload parquet files into S3"
   ]
  },
  {
   "cell_type": "code",
   "execution_count": 26,
   "metadata": {},
   "outputs": [
    {
     "name": "stdout",
     "output_type": "stream",
     "text": [
      "upload: data/Clothing_Shoes_and_Jewelry_5.parquet/part-00000-2aae770e-5bd6-4aab-a74f-4dcb2218473b-c000.snappy.parquet to s3://dse-cohort5-group1/2-Keras-DeepRecommender/dataset/Clean_Clothing_Shoes_and_Jewelry_5_clean.parquet\n",
      "time: 5.31 s\n"
     ]
    }
   ],
   "source": [
    "!aws s3 cp ./data/Clothing_Shoes_and_Jewelry_5.parquet/*.parquet s3://dse-cohort5-group1/2-Keras-DeepRecommender/dataset/Clean_Clothing_Shoes_and_Jewelry_5_clean.parquet"
   ]
  },
  {
   "cell_type": "code",
   "execution_count": 27,
   "metadata": {},
   "outputs": [
    {
     "name": "stdout",
     "output_type": "stream",
     "text": [
      "download: s3://dse-cohort5-group1/2-Keras-DeepRecommender/dataset/Clean_Clothing_Shoes_and_Jewelry_5_clean.parquet to data/Clean_Clothing_Shoes_and_Jewelry_5_clean.parquet\n",
      "time: 2.66 s\n"
     ]
    }
   ],
   "source": [
    "!aws s3 cp s3://dse-cohort5-group1/2-Keras-DeepRecommender/dataset/Clean_Clothing_Shoes_and_Jewelry_5_clean.parquet ./data/"
   ]
  },
  {
   "cell_type": "code",
   "execution_count": 29,
   "metadata": {},
   "outputs": [
    {
     "name": "stdout",
     "output_type": "stream",
     "text": [
      "total 1.5G\n",
      "drwxrwxr-x 4 ec2-user ec2-user 4.0K May 26 15:35 .\n",
      "drwxrwxr-x 5 ec2-user ec2-user 4.0K May 26 15:38 ..\n",
      "-rw-rw-r-- 1 ec2-user ec2-user 308M May 26 15:35 Clean_Clothing_Shoes_and_Jewelry_5_clean.parquet\n",
      "-rw-rw-r-- 1 ec2-user ec2-user 1.2G Nov 21  2019 Clothing_Shoes_and_Jewelry_5.json.gz\n",
      "drwxrwxr-x 2 ec2-user ec2-user 4.0K May 26 15:34 Clothing_Shoes_and_Jewelry_5.parquet\n",
      "-rw-rw-r-- 1 ec2-user ec2-user   31 May 26 15:34 for_dataset.txt\n",
      "drwxrwxr-x 2 ec2-user ec2-user 4.0K May 26 15:34 .ipynb_checkpoints\n",
      "time: 127 ms\n"
     ]
    }
   ],
   "source": [
    "!ls -alh ./data"
   ]
  },
  {
   "cell_type": "markdown",
   "metadata": {},
   "source": [
    "### Read clened dataset from parquet files"
   ]
  },
  {
   "cell_type": "code",
   "execution_count": 30,
   "metadata": {},
   "outputs": [
    {
     "name": "stdout",
     "output_type": "stream",
     "text": [
      "time: 3.7 s\n"
     ]
    }
   ],
   "source": [
    "review_data = pd.read_parquet(\"./data/Clean_Clothing_Shoes_and_Jewelry_5_clean.parquet\")"
   ]
  },
  {
   "cell_type": "code",
   "execution_count": 31,
   "metadata": {},
   "outputs": [
    {
     "data": {
      "text/html": [
       "<div>\n",
       "<style scoped>\n",
       "    .dataframe tbody tr th:only-of-type {\n",
       "        vertical-align: middle;\n",
       "    }\n",
       "\n",
       "    .dataframe tbody tr th {\n",
       "        vertical-align: top;\n",
       "    }\n",
       "\n",
       "    .dataframe thead th {\n",
       "        text-align: right;\n",
       "    }\n",
       "</style>\n",
       "<table border=\"1\" class=\"dataframe\">\n",
       "  <thead>\n",
       "    <tr style=\"text-align: right;\">\n",
       "      <th></th>\n",
       "      <th>asin</th>\n",
       "      <th>image</th>\n",
       "      <th>overall</th>\n",
       "      <th>reviewText</th>\n",
       "      <th>reviewTime</th>\n",
       "      <th>reviewerID</th>\n",
       "      <th>reviewerName</th>\n",
       "      <th>summary</th>\n",
       "    </tr>\n",
       "  </thead>\n",
       "  <tbody>\n",
       "    <tr>\n",
       "      <th>0</th>\n",
       "      <td>0871167042</td>\n",
       "      <td>None</td>\n",
       "      <td>5.0</td>\n",
       "      <td>This book has beautiful photos, good and under...</td>\n",
       "      <td>05 4, 2014</td>\n",
       "      <td>A2IC3NZN488KWK</td>\n",
       "      <td>Ruby Tulip</td>\n",
       "      <td>Unique designs</td>\n",
       "    </tr>\n",
       "    <tr>\n",
       "      <th>1</th>\n",
       "      <td>0871167042</td>\n",
       "      <td>None</td>\n",
       "      <td>3.0</td>\n",
       "      <td>If you're an experienced wire jewelry maker, t...</td>\n",
       "      <td>07 23, 2014</td>\n",
       "      <td>A1YIEW86G14BHP</td>\n",
       "      <td>Aldne Now</td>\n",
       "      <td>OK Jewelry Book</td>\n",
       "    </tr>\n",
       "    <tr>\n",
       "      <th>2</th>\n",
       "      <td>0871167042</td>\n",
       "      <td>None</td>\n",
       "      <td>4.0</td>\n",
       "      <td>Hi, have been making jewelry now for the last ...</td>\n",
       "      <td>06 5, 2014</td>\n",
       "      <td>AA7PNT2OPS3RP</td>\n",
       "      <td>Catherine Franz</td>\n",
       "      <td>Organic and upcycling jewelry maker</td>\n",
       "    </tr>\n",
       "  </tbody>\n",
       "</table>\n",
       "</div>"
      ],
      "text/plain": [
       "         asin image  overall  \\\n",
       "0  0871167042  None      5.0   \n",
       "1  0871167042  None      3.0   \n",
       "2  0871167042  None      4.0   \n",
       "\n",
       "                                          reviewText   reviewTime  \\\n",
       "0  This book has beautiful photos, good and under...   05 4, 2014   \n",
       "1  If you're an experienced wire jewelry maker, t...  07 23, 2014   \n",
       "2  Hi, have been making jewelry now for the last ...   06 5, 2014   \n",
       "\n",
       "       reviewerID     reviewerName                              summary  \n",
       "0  A2IC3NZN488KWK       Ruby Tulip                       Unique designs  \n",
       "1  A1YIEW86G14BHP        Aldne Now                      OK Jewelry Book  \n",
       "2   AA7PNT2OPS3RP  Catherine Franz  Organic and upcycling jewelry maker  "
      ]
     },
     "execution_count": 31,
     "metadata": {},
     "output_type": "execute_result"
    },
    {
     "name": "stdout",
     "output_type": "stream",
     "text": [
      "time: 56.9 ms\n"
     ]
    }
   ],
   "source": [
    "review_data[:3]"
   ]
  },
  {
   "cell_type": "code",
   "execution_count": 32,
   "metadata": {},
   "outputs": [
    {
     "data": {
      "text/plain": [
       "(1069568, 8)"
      ]
     },
     "execution_count": 32,
     "metadata": {},
     "output_type": "execute_result"
    },
    {
     "name": "stdout",
     "output_type": "stream",
     "text": [
      "time: 3.05 ms\n"
     ]
    }
   ],
   "source": [
    "review_data.shape"
   ]
  },
  {
   "cell_type": "markdown",
   "metadata": {},
   "source": [
    "Thus I have 1069568 rows and 8 columns dataset.\n",
    "\n",
    "## 2. Arrange and clean the data"
   ]
  },
  {
   "cell_type": "markdown",
   "metadata": {},
   "source": [
    "Rearrange the columns by relevance and rename column names"
   ]
  },
  {
   "cell_type": "code",
   "execution_count": 33,
   "metadata": {},
   "outputs": [
    {
     "data": {
      "text/plain": [
       "Index(['asin', 'image', 'overall', 'reviewText', 'reviewTime', 'reviewerID',\n",
       "       'reviewerName', 'summary'],\n",
       "      dtype='object')"
      ]
     },
     "execution_count": 33,
     "metadata": {},
     "output_type": "execute_result"
    },
    {
     "name": "stdout",
     "output_type": "stream",
     "text": [
      "time: 3.43 ms\n"
     ]
    }
   ],
   "source": [
    "review_data.columns"
   ]
  },
  {
   "cell_type": "code",
   "execution_count": 34,
   "metadata": {},
   "outputs": [
    {
     "data": {
      "text/plain": [
       "['asin',\n",
       " 'image',\n",
       " 'summary',\n",
       " 'reviewText',\n",
       " 'score',\n",
       " 'user_id',\n",
       " 'user_name',\n",
       " 'reviewTime']"
      ]
     },
     "execution_count": 34,
     "metadata": {},
     "output_type": "execute_result"
    },
    {
     "name": "stdout",
     "output_type": "stream",
     "text": [
      "time: 843 ms\n"
     ]
    }
   ],
   "source": [
    "review_data = review_data[['asin', 'image', 'summary', 'reviewText', 'overall', 'reviewerID', 'reviewerName', 'reviewTime']]\n",
    "\n",
    "review_data.rename(columns={ 'overall': 'score','reviewerID': 'user_id', 'reviewerName': 'user_name'}, inplace=True)\n",
    "\n",
    "#the variables names after rename in the modified data frame\n",
    "list(review_data)"
   ]
  },
  {
   "cell_type": "markdown",
   "metadata": {},
   "source": [
    "## The Data analysis\n",
    "### The datasets are composed of:\n",
    "\n",
    "- “item_id”(“asin”): a unique id for an item - Independent explanatory variable\n",
    "- “user_id”: a unique id for a user -Independent explanatory variable\n",
    "- “score”(“overall”): the review score, between 1 and 5 - The dependent variable I want to predict\n",
    "- “user_name”: the name of the user.\n",
    "- “reviewTime”: the date when the user posted the review. Will not be used in this work.\n",
    "- “reviewText”: For some entries, there is also a typed review. Will not be used in this work.\n",
    "- “summary”: summary of the review. Will not be used in this work.\n",
    "\n",
    "\n",
    "$\\underline{Investigate}$:"
   ]
  },
  {
   "cell_type": "code",
   "execution_count": 35,
   "metadata": {},
   "outputs": [
    {
     "name": "stdout",
     "output_type": "stream",
     "text": [
      "time: 755 µs\n"
     ]
    }
   ],
   "source": [
    "# review_data[\"score\"]"
   ]
  },
  {
   "cell_type": "code",
   "execution_count": 36,
   "metadata": {},
   "outputs": [
    {
     "data": {
      "text/plain": [
       "count    1.069568e+06\n",
       "mean     4.045100e+00\n",
       "std      1.307054e+00\n",
       "min      1.000000e+00\n",
       "25%      3.000000e+00\n",
       "50%      5.000000e+00\n",
       "75%      5.000000e+00\n",
       "max      5.000000e+00\n",
       "Name: score, dtype: float64"
      ]
     },
     "execution_count": 36,
     "metadata": {},
     "output_type": "execute_result"
    },
    {
     "name": "stdout",
     "output_type": "stream",
     "text": [
      "time: 81 ms\n"
     ]
    }
   ],
   "source": [
    "# Ratings distribution using pandas:\n",
    "review_data[\"score\"] = review_data[\"score\"].fillna(review_data[\"score\"].median()) \n",
    "review_data[\"score\"].describe()"
   ]
  },
  {
   "cell_type": "code",
   "execution_count": 37,
   "metadata": {},
   "outputs": [
    {
     "data": {
      "text/plain": [
       "<matplotlib.axes._subplots.AxesSubplot at 0x7f25cb455080>"
      ]
     },
     "execution_count": 37,
     "metadata": {},
     "output_type": "execute_result"
    },
    {
     "data": {
      "image/png": "[encoded data removed]",
      "text/plain": [
       "<Figure size 432x288 with 1 Axes>"
      ]
     },
     "metadata": {},
     "output_type": "display_data"
    },
    {
     "name": "stdout",
     "output_type": "stream",
     "text": [
      "time: 658 ms\n"
     ]
    }
   ],
   "source": [
    "# Plot the distribution\n",
    "review_data[\"score\"].hist(bins=10)"
   ]
  },
  {
   "cell_type": "markdown",
   "metadata": {},
   "source": [
    "## The median in both datasets is 5. This means that the data is skewed towards high ratings. \n",
    "This is a common bias in internet ratings, where people tend to rate items that they liked, and rarely spend time to comment something they dislike or are indiferent to. This will have a huge impact on the way I model the recommendation problem.\n",
    "\n",
    "### Key conclusions from above: \n",
    "\n",
    "- Reviews are skewed towards positive\n",
    "- Many people agree with score 5 reviews\n"
   ]
  },
  {
   "cell_type": "markdown",
   "metadata": {},
   "source": [
    "# Add Metadata \n",
    "\n",
    "### Metadata includes descriptions, price, sales-rank, brand info, and co-purchasing links\n",
    "- asin - ID of the product, e.g. 0000031852\n",
    "- title - name of the product\n",
    "- price - price in US dollars (at time of crawl)\n",
    "- imUrl - url of the product image\n",
    "- related - related products (also bought, also viewed, bought together, buy after viewing)\n",
    "- salesRank - sales rank information\n",
    "- brand - brand name\n",
    "- categories - list of categories the product belongs to"
   ]
  },
  {
   "cell_type": "code",
   "execution_count": 38,
   "metadata": {},
   "outputs": [
    {
     "name": "stdout",
     "output_type": "stream",
     "text": [
      "/home/ec2-user/SageMaker/dse260-CapStone-Amazon/2-**Final-Keras-DeepRecommender\n",
      "time: 151 ms\n"
     ]
    }
   ],
   "source": [
    "!pwd"
   ]
  },
  {
   "cell_type": "code",
   "execution_count": 39,
   "metadata": {},
   "outputs": [
    {
     "name": "stdout",
     "output_type": "stream",
     "text": [
      "--2020-05-26 15:40:22--  http://deepyeti.ucsd.edu/jianmo/amazon/metaFiles/meta_Clothing_Shoes_and_Jewelry.json.gz\n",
      "Resolving deepyeti.ucsd.edu (deepyeti.ucsd.edu)... 169.228.63.50\n",
      "Connecting to deepyeti.ucsd.edu (deepyeti.ucsd.edu)|169.228.63.50|:80... connected.\n",
      "HTTP request sent, awaiting response... 200 OK\n",
      "Length: 1519327531 (1.4G) [application/octet-stream]\n",
      "Saving to: ‘/home/ec2-user/SageMaker/dse260-CapStone-Amazon/2-**Final-Keras-DeepRecommender/data/meta_Clothing_Shoes_and_Jewelry.json.gz’\n",
      "\n",
      "meta_Clothing_Shoes 100%[===================>]   1.41G  23.6MB/s    in 78s     \n",
      "\n",
      "2020-05-26 15:41:41 (18.5 MB/s) - ‘/home/ec2-user/SageMaker/dse260-CapStone-Amazon/2-**Final-Keras-DeepRecommender/data/meta_Clothing_Shoes_and_Jewelry.json.gz’ saved [1519327531/1519327531]\n",
      "\n",
      "time: 1min 18s\n"
     ]
    }
   ],
   "source": [
    "!wget http://deepyeti.ucsd.edu/jianmo/amazon/metaFiles/meta_Clothing_Shoes_and_Jewelry.json.gz -P /home/ec2-user/SageMaker/dse260-CapStone-Amazon/2-**Final-Keras-DeepRecommender/data/"
   ]
  },
  {
   "cell_type": "markdown",
   "metadata": {},
   "source": [
    "### Load meta_Clothing_Shoes_and_Jewelry.json.gz"
   ]
  },
  {
   "cell_type": "code",
   "execution_count": 40,
   "metadata": {},
   "outputs": [
    {
     "name": "stdout",
     "output_type": "stream",
     "text": [
      "time: 1min 13s\n"
     ]
    }
   ],
   "source": [
    "all_info = spark.read.load('./data/meta_Clothing_Shoes_and_Jewelry.json.gz', format='json', header=True, inferSchema=True)"
   ]
  },
  {
   "cell_type": "code",
   "execution_count": 41,
   "metadata": {},
   "outputs": [
    {
     "data": {
      "text/plain": [
       "['also_buy',\n",
       " 'also_view',\n",
       " 'asin',\n",
       " 'brand',\n",
       " 'category',\n",
       " 'date',\n",
       " 'description',\n",
       " 'details',\n",
       " 'feature',\n",
       " 'fit',\n",
       " 'image',\n",
       " 'main_cat',\n",
       " 'price',\n",
       " 'rank',\n",
       " 'similar_item',\n",
       " 'tech1',\n",
       " 'tech2',\n",
       " 'title']"
      ]
     },
     "execution_count": 41,
     "metadata": {},
     "output_type": "execute_result"
    },
    {
     "name": "stdout",
     "output_type": "stream",
     "text": [
      "time: 56.7 ms\n"
     ]
    }
   ],
   "source": [
    "all_info.columns"
   ]
  },
  {
   "cell_type": "code",
   "execution_count": 42,
   "metadata": {},
   "outputs": [
    {
     "name": "stdout",
     "output_type": "stream",
     "text": [
      "['also_buy', 'also_view', 'asin', 'brand', 'category', 'date', 'description', 'details', 'feature', 'fit', 'image', 'main_cat', 'price', 'rank', 'similar_item', 'tech1', 'tech2', 'title']\n",
      "['also_buy', 'also_view', 'asin', 'brand', 'category', 'description', 'image', 'price', 'title']\n",
      "time: 13.5 ms\n"
     ]
    }
   ],
   "source": [
    "print(all_info.columns)\n",
    "all_info = all_info.drop(\n",
    " 'date',\n",
    " 'details',\n",
    " 'feature',\n",
    " 'fit',\n",
    " 'main_cat',\n",
    " 'rank',\n",
    " 'similar_item',\n",
    " 'tech1',\n",
    " 'tech2'\n",
    ")\n",
    "print(all_info.columns)"
   ]
  },
  {
   "cell_type": "markdown",
   "metadata": {},
   "source": [
    "### create parquet files to upload S3"
   ]
  },
  {
   "cell_type": "code",
   "execution_count": 43,
   "metadata": {},
   "outputs": [
    {
     "name": "stdout",
     "output_type": "stream",
     "text": [
      "time: 151 ms\n"
     ]
    }
   ],
   "source": [
    "!rm -rf ./data/Cleaned_meta_Clothing_Shoes_and_Jewelry.parquet"
   ]
  },
  {
   "cell_type": "code",
   "execution_count": 44,
   "metadata": {},
   "outputs": [
    {
     "name": "stdout",
     "output_type": "stream",
     "text": [
      "time: 2min 32s\n"
     ]
    }
   ],
   "source": [
    "# Save it as parquet format\n",
    "all_info.write.parquet(\"data/Cleaned_meta_Clothing_Shoes_and_Jewelry.parquet\")"
   ]
  },
  {
   "cell_type": "code",
   "execution_count": 45,
   "metadata": {},
   "outputs": [
    {
     "name": "stdout",
     "output_type": "stream",
     "text": [
      "upload: data/Cleaned_meta_Clothing_Shoes_and_Jewelry.parquet/part-00000-2e066c90-05e6-4a88-9be8-cf09240c74c3-c000.snappy.parquet to s3://dse-cohort5-group1/2-Keras-DeepRecommender/dataset/Cleaned_meta_Clothing_Shoes_and_Jewelry.parquet\n",
      "time: 17.7 s\n"
     ]
    }
   ],
   "source": [
    "!aws s3 cp ./data/Cleaned_meta_Clothing_Shoes_and_Jewelry.parquet/*.parquet s3://dse-cohort5-group1/2-Keras-DeepRecommender/dataset/Cleaned_meta_Clothing_Shoes_and_Jewelry.parquet"
   ]
  },
  {
   "cell_type": "code",
   "execution_count": 46,
   "metadata": {},
   "outputs": [
    {
     "name": "stdout",
     "output_type": "stream",
     "text": [
      "download failed: s3://dse-cohort5-group1/2-Keras-DeepRecommender/dataset/Cleaned_meta_Clothing_Shoes_and_Jewelry.parquet to data/Cleaned_meta_Clothing_Shoes_and_Jewelry.parquet [Errno 21] Is a directory: '/home/ec2-user/SageMaker/dse260-CapStone-Amazon/2-**Final-Keras-DeepRecommender/data/Cleaned_meta_Clothing_Shoes_and_Jewelry.parquet.Be81CDe7' -> '/home/ec2-user/SageMaker/dse260-CapStone-Amazon/2-**Final-Keras-DeepRecommender/data/Cleaned_meta_Clothing_Shoes_and_Jewelry.parquet'\n",
      "time: 10.6 s\n"
     ]
    }
   ],
   "source": [
    "!aws s3 cp s3://dse-cohort5-group1/2-Keras-DeepRecommender/dataset/Cleaned_meta_Clothing_Shoes_and_Jewelry.parquet ./data/"
   ]
  },
  {
   "cell_type": "code",
   "execution_count": 47,
   "metadata": {},
   "outputs": [
    {
     "name": "stdout",
     "output_type": "stream",
     "text": [
      "time: 31.7 s\n"
     ]
    }
   ],
   "source": [
    "all_info = pd.read_parquet(\"./data/Cleaned_meta_Clothing_Shoes_and_Jewelry.parquet\")"
   ]
  },
  {
   "cell_type": "code",
   "execution_count": 48,
   "metadata": {},
   "outputs": [
    {
     "data": {
      "text/html": [
       "<div>\n",
       "<style scoped>\n",
       "    .dataframe tbody tr th:only-of-type {\n",
       "        vertical-align: middle;\n",
       "    }\n",
       "\n",
       "    .dataframe tbody tr th {\n",
       "        vertical-align: top;\n",
       "    }\n",
       "\n",
       "    .dataframe thead th {\n",
       "        text-align: right;\n",
       "    }\n",
       "</style>\n",
       "<table border=\"1\" class=\"dataframe\">\n",
       "  <thead>\n",
       "    <tr style=\"text-align: right;\">\n",
       "      <th></th>\n",
       "      <th>also_buy</th>\n",
       "      <th>also_view</th>\n",
       "      <th>asin</th>\n",
       "      <th>brand</th>\n",
       "      <th>category</th>\n",
       "      <th>description</th>\n",
       "      <th>image</th>\n",
       "      <th>price</th>\n",
       "      <th>title</th>\n",
       "    </tr>\n",
       "  </thead>\n",
       "  <tbody>\n",
       "    <tr>\n",
       "      <th>0</th>\n",
       "      <td>None</td>\n",
       "      <td>None</td>\n",
       "      <td>0000037214</td>\n",
       "      <td>Big Dreams</td>\n",
       "      <td>[Clothing, Shoes &amp; Jewelry, Costumes &amp; Accesso...</td>\n",
       "      <td>[6\" long, stretched waist measures 11 1/2\" acr...</td>\n",
       "      <td>None</td>\n",
       "      <td>None</td>\n",
       "      <td>Purple Sequin Tiny Dancer Tutu Ballet Dance Fa...</td>\n",
       "    </tr>\n",
       "    <tr>\n",
       "      <th>1</th>\n",
       "      <td>None</td>\n",
       "      <td>None</td>\n",
       "      <td>0201377179</td>\n",
       "      <td>Anello</td>\n",
       "      <td>[Clothing, Shoes &amp; Jewelry, Luggage &amp; Travel G...</td>\n",
       "      <td>[The Hottest Bag in Town! Brand: Anello Condit...</td>\n",
       "      <td>[https://images-na.ssl-images-amazon.com/image...</td>\n",
       "      <td>None</td>\n",
       "      <td>Japan Anello Backpack Unisex LARGE LIGHT GRAY ...</td>\n",
       "    </tr>\n",
       "    <tr>\n",
       "      <th>2</th>\n",
       "      <td>None</td>\n",
       "      <td>[B07CJF5HLR, B01EBI8UH6, B01N1LR908, B074M4QKG...</td>\n",
       "      <td>0204444454</td>\n",
       "      <td>Anello</td>\n",
       "      <td>[Clothing, Shoes &amp; Jewelry, Luggage &amp; Travel G...</td>\n",
       "      <td>[The Hottest Bag in Town! Brand: Anello Condit...</td>\n",
       "      <td>[https://images-na.ssl-images-amazon.com/image...</td>\n",
       "      <td>$70.00</td>\n",
       "      <td>Japan Anello Backpack Unisex PINK BEIGE LARGE ...</td>\n",
       "    </tr>\n",
       "    <tr>\n",
       "      <th>3</th>\n",
       "      <td>None</td>\n",
       "      <td>[B01DLVYOPG, B07CJF5HLR, B01MSS59Y6, B071YBC1J...</td>\n",
       "      <td>0204444403</td>\n",
       "      <td>Anello</td>\n",
       "      <td>[Clothing, Shoes &amp; Jewelry, Luggage &amp; Travel G...</td>\n",
       "      <td>[The Hottest Bag in Town! Brand: Anello Condit...</td>\n",
       "      <td>[https://images-na.ssl-images-amazon.com/image...</td>\n",
       "      <td>$65.99</td>\n",
       "      <td>Japan Anello Backpack Unisex BLACK LARGE PU LE...</td>\n",
       "    </tr>\n",
       "    <tr>\n",
       "      <th>4</th>\n",
       "      <td>None</td>\n",
       "      <td>[B00VGT93YS, B07FTY87LM, B01IKVOY8E, B01GF6C6F...</td>\n",
       "      <td>0206313535</td>\n",
       "      <td>bettyhome</td>\n",
       "      <td>[Clothing, Shoes &amp; Jewelry, Novelty &amp; More, Cl...</td>\n",
       "      <td>[Brand New.  Hat Centre Length: adult about 8c...</td>\n",
       "      <td>[https://images-na.ssl-images-amazon.com/image...</td>\n",
       "      <td>$18.99</td>\n",
       "      <td>bettyhome Unisex Adult Winter Spring Thicken C...</td>\n",
       "    </tr>\n",
       "  </tbody>\n",
       "</table>\n",
       "</div>"
      ],
      "text/plain": [
       "  also_buy                                          also_view        asin  \\\n",
       "0     None                                               None  0000037214   \n",
       "1     None                                               None  0201377179   \n",
       "2     None  [B07CJF5HLR, B01EBI8UH6, B01N1LR908, B074M4QKG...  0204444454   \n",
       "3     None  [B01DLVYOPG, B07CJF5HLR, B01MSS59Y6, B071YBC1J...  0204444403   \n",
       "4     None  [B00VGT93YS, B07FTY87LM, B01IKVOY8E, B01GF6C6F...  0206313535   \n",
       "\n",
       "        brand                                           category  \\\n",
       "0  Big Dreams  [Clothing, Shoes & Jewelry, Costumes & Accesso...   \n",
       "1      Anello  [Clothing, Shoes & Jewelry, Luggage & Travel G...   \n",
       "2      Anello  [Clothing, Shoes & Jewelry, Luggage & Travel G...   \n",
       "3      Anello  [Clothing, Shoes & Jewelry, Luggage & Travel G...   \n",
       "4   bettyhome  [Clothing, Shoes & Jewelry, Novelty & More, Cl...   \n",
       "\n",
       "                                         description  \\\n",
       "0  [6\" long, stretched waist measures 11 1/2\" acr...   \n",
       "1  [The Hottest Bag in Town! Brand: Anello Condit...   \n",
       "2  [The Hottest Bag in Town! Brand: Anello Condit...   \n",
       "3  [The Hottest Bag in Town! Brand: Anello Condit...   \n",
       "4  [Brand New.  Hat Centre Length: adult about 8c...   \n",
       "\n",
       "                                               image   price  \\\n",
       "0                                               None    None   \n",
       "1  [https://images-na.ssl-images-amazon.com/image...    None   \n",
       "2  [https://images-na.ssl-images-amazon.com/image...  $70.00   \n",
       "3  [https://images-na.ssl-images-amazon.com/image...  $65.99   \n",
       "4  [https://images-na.ssl-images-amazon.com/image...  $18.99   \n",
       "\n",
       "                                               title  \n",
       "0  Purple Sequin Tiny Dancer Tutu Ballet Dance Fa...  \n",
       "1  Japan Anello Backpack Unisex LARGE LIGHT GRAY ...  \n",
       "2  Japan Anello Backpack Unisex PINK BEIGE LARGE ...  \n",
       "3  Japan Anello Backpack Unisex BLACK LARGE PU LE...  \n",
       "4  bettyhome Unisex Adult Winter Spring Thicken C...  "
      ]
     },
     "execution_count": 48,
     "metadata": {},
     "output_type": "execute_result"
    },
    {
     "name": "stdout",
     "output_type": "stream",
     "text": [
      "time: 21.9 ms\n"
     ]
    }
   ],
   "source": [
    "all_info.head(n=5)"
   ]
  },
  {
   "cell_type": "markdown",
   "metadata": {},
   "source": [
    "### Arrange and clean the data"
   ]
  },
  {
   "cell_type": "markdown",
   "metadata": {},
   "source": [
    "- Cleaning, handling missing data, normalization, etc:\n",
    "- For the algorithm in keras to work,  remap all item_ids and user_ids to an interger between 0 and the total number of users or the total number of items"
   ]
  },
  {
   "cell_type": "code",
   "execution_count": 49,
   "metadata": {},
   "outputs": [
    {
     "data": {
      "text/plain": [
       "Index(['also_buy', 'also_view', 'asin', 'brand', 'category', 'description',\n",
       "       'image', 'price', 'title'],\n",
       "      dtype='object')"
      ]
     },
     "execution_count": 49,
     "metadata": {},
     "output_type": "execute_result"
    },
    {
     "name": "stdout",
     "output_type": "stream",
     "text": [
      "time: 3.29 ms\n"
     ]
    }
   ],
   "source": [
    "all_info.columns"
   ]
  },
  {
   "cell_type": "code",
   "execution_count": 50,
   "metadata": {},
   "outputs": [
    {
     "name": "stdout",
     "output_type": "stream",
     "text": [
      "We have 2681355 unique items in metadata \n",
      "time: 9.75 s\n"
     ]
    }
   ],
   "source": [
    "items = all_info.asin.unique()\n",
    "item_map = {i:val for i,val in enumerate(items)}\n",
    "inverse_item_map = {val:i for i,val in enumerate(items)}\n",
    "all_info[\"old_item_id\"] = all_info[\"asin\"] # copying for join with metadata\n",
    "all_info[\"item_id\"] = all_info[\"asin\"].map(inverse_item_map)\n",
    "items = all_info.item_id.unique()\n",
    "print (\"We have %d unique items in metadata \"%items.shape[0])"
   ]
  },
  {
   "cell_type": "code",
   "execution_count": 51,
   "metadata": {},
   "outputs": [
    {
     "name": "stdout",
     "output_type": "stream",
     "text": [
      "time: 56.6 s\n"
     ]
    }
   ],
   "source": [
    "all_info['description'] = all_info['description'].fillna(all_info['title'].fillna('no_data'))\n",
    "all_info['title'] = all_info['title'].fillna(all_info['description'].fillna('no_data').apply(str).str[:20])\n",
    "all_info['image'] = all_info['image'].fillna('no_data')\n",
    "all_info['price'] = pd.to_numeric(all_info['price'],errors=\"coerce\")\n",
    "all_info['price'] = all_info['price'].fillna(all_info['price'].median()) "
   ]
  },
  {
   "cell_type": "code",
   "execution_count": 52,
   "metadata": {},
   "outputs": [
    {
     "name": "stdout",
     "output_type": "stream",
     "text": [
      "time: 8.93 s\n"
     ]
    }
   ],
   "source": [
    "users = review_data.user_id.unique()\n",
    "user_map = {i:val for i,val in enumerate(users)}\n",
    "inverse_user_map = {val:i for i,val in enumerate(users)}\n",
    "review_data[\"old_user_id\"] = review_data[\"user_id\"] \n",
    "review_data[\"user_id\"] = review_data[\"user_id\"].map(inverse_user_map)\n",
    "\n",
    "items_reviewed = review_data.asin.unique()\n",
    "review_data[\"old_item_id\"] = review_data[\"asin\"] # copying for join with metadata\n",
    "review_data[\"item_id\"] = review_data[\"asin\"].map(inverse_item_map)\n",
    "\n",
    "items_reviewed = review_data.item_id.unique()\n",
    "users = review_data.user_id.unique()"
   ]
  },
  {
   "cell_type": "code",
   "execution_count": 53,
   "metadata": {},
   "outputs": [
    {
     "name": "stdout",
     "output_type": "stream",
     "text": [
      "We have 513010 unique users\n",
      "We have 245636 unique items reviewed\n",
      "time: 1.82 ms\n"
     ]
    }
   ],
   "source": [
    "print (\"We have %d unique users\"%users.shape[0])\n",
    "print (\"We have %d unique items reviewed\"%items_reviewed.shape[0])\n",
    "# We have 192403 unique users in the \"small\" dataset\n",
    "# We have 63001 unique items reviewed in the \"small\" dataset"
   ]
  },
  {
   "cell_type": "code",
   "execution_count": 54,
   "metadata": {},
   "outputs": [
    {
     "data": {
      "text/html": [
       "<div>\n",
       "<style scoped>\n",
       "    .dataframe tbody tr th:only-of-type {\n",
       "        vertical-align: middle;\n",
       "    }\n",
       "\n",
       "    .dataframe tbody tr th {\n",
       "        vertical-align: top;\n",
       "    }\n",
       "\n",
       "    .dataframe thead th {\n",
       "        text-align: right;\n",
       "    }\n",
       "</style>\n",
       "<table border=\"1\" class=\"dataframe\">\n",
       "  <thead>\n",
       "    <tr style=\"text-align: right;\">\n",
       "      <th></th>\n",
       "      <th>asin</th>\n",
       "      <th>image</th>\n",
       "      <th>summary</th>\n",
       "      <th>reviewText</th>\n",
       "      <th>score</th>\n",
       "      <th>user_id</th>\n",
       "      <th>user_name</th>\n",
       "      <th>reviewTime</th>\n",
       "      <th>old_user_id</th>\n",
       "      <th>old_item_id</th>\n",
       "      <th>item_id</th>\n",
       "    </tr>\n",
       "  </thead>\n",
       "  <tbody>\n",
       "    <tr>\n",
       "      <th>0</th>\n",
       "      <td>0871167042</td>\n",
       "      <td>None</td>\n",
       "      <td>Unique designs</td>\n",
       "      <td>This book has beautiful photos, good and under...</td>\n",
       "      <td>5.0</td>\n",
       "      <td>0</td>\n",
       "      <td>Ruby Tulip</td>\n",
       "      <td>05 4, 2014</td>\n",
       "      <td>A2IC3NZN488KWK</td>\n",
       "      <td>0871167042</td>\n",
       "      <td>12</td>\n",
       "    </tr>\n",
       "    <tr>\n",
       "      <th>1</th>\n",
       "      <td>0871167042</td>\n",
       "      <td>None</td>\n",
       "      <td>OK Jewelry Book</td>\n",
       "      <td>If you're an experienced wire jewelry maker, t...</td>\n",
       "      <td>3.0</td>\n",
       "      <td>1</td>\n",
       "      <td>Aldne Now</td>\n",
       "      <td>07 23, 2014</td>\n",
       "      <td>A1YIEW86G14BHP</td>\n",
       "      <td>0871167042</td>\n",
       "      <td>12</td>\n",
       "    </tr>\n",
       "    <tr>\n",
       "      <th>2</th>\n",
       "      <td>0871167042</td>\n",
       "      <td>None</td>\n",
       "      <td>Organic and upcycling jewelry maker</td>\n",
       "      <td>Hi, have been making jewelry now for the last ...</td>\n",
       "      <td>4.0</td>\n",
       "      <td>2</td>\n",
       "      <td>Catherine Franz</td>\n",
       "      <td>06 5, 2014</td>\n",
       "      <td>AA7PNT2OPS3RP</td>\n",
       "      <td>0871167042</td>\n",
       "      <td>12</td>\n",
       "    </tr>\n",
       "  </tbody>\n",
       "</table>\n",
       "</div>"
      ],
      "text/plain": [
       "         asin image                              summary  \\\n",
       "0  0871167042  None                       Unique designs   \n",
       "1  0871167042  None                      OK Jewelry Book   \n",
       "2  0871167042  None  Organic and upcycling jewelry maker   \n",
       "\n",
       "                                          reviewText  score  user_id  \\\n",
       "0  This book has beautiful photos, good and under...    5.0        0   \n",
       "1  If you're an experienced wire jewelry maker, t...    3.0        1   \n",
       "2  Hi, have been making jewelry now for the last ...    4.0        2   \n",
       "\n",
       "         user_name   reviewTime     old_user_id old_item_id  item_id  \n",
       "0       Ruby Tulip   05 4, 2014  A2IC3NZN488KWK  0871167042       12  \n",
       "1        Aldne Now  07 23, 2014  A1YIEW86G14BHP  0871167042       12  \n",
       "2  Catherine Franz   06 5, 2014   AA7PNT2OPS3RP  0871167042       12  "
      ]
     },
     "execution_count": 54,
     "metadata": {},
     "output_type": "execute_result"
    },
    {
     "name": "stdout",
     "output_type": "stream",
     "text": [
      "time: 14.8 ms\n"
     ]
    }
   ],
   "source": [
    "review_data.head(3)"
   ]
  },
  {
   "cell_type": "markdown",
   "metadata": {},
   "source": [
    "### Check the Distribution of number of ratings per user:"
   ]
  },
  {
   "cell_type": "code",
   "execution_count": 55,
   "metadata": {},
   "outputs": [
    {
     "data": {
      "text/plain": [
       "count    513010.000000\n",
       "mean          2.084887\n",
       "std           2.329994\n",
       "min           1.000000\n",
       "25%           1.000000\n",
       "50%           1.000000\n",
       "75%           2.000000\n",
       "max         120.000000\n",
       "Name: num_ratings, dtype: float64"
      ]
     },
     "execution_count": 55,
     "metadata": {},
     "output_type": "execute_result"
    },
    {
     "name": "stdout",
     "output_type": "stream",
     "text": [
      "time: 854 ms\n"
     ]
    }
   ],
   "source": [
    "users_ratings = review_data['old_user_id'].value_counts().reset_index()\n",
    "users_ratings.columns= ['old_user_id','num_ratings']\n",
    "users_ratings['num_ratings'].describe()"
   ]
  },
  {
   "cell_type": "markdown",
   "metadata": {},
   "source": [
    "### The distribution of number of ratings per user is very skewed in both datasets, with 50% of people having done a small number of reviews, and few made many ratings. \n",
    "### I will check if it gives us enough information for generating good recommendations.\n",
    "\n",
    "### * Check the Distribution of the number of ratings per item:"
   ]
  },
  {
   "cell_type": "code",
   "execution_count": 56,
   "metadata": {},
   "outputs": [
    {
     "data": {
      "text/plain": [
       "count    245636.000000\n",
       "mean          4.354280\n",
       "std           8.406209\n",
       "min           1.000000\n",
       "25%           1.000000\n",
       "50%           2.000000\n",
       "75%           5.000000\n",
       "max         548.000000\n",
       "Name: num_ratings, dtype: float64"
      ]
     },
     "execution_count": 56,
     "metadata": {},
     "output_type": "execute_result"
    },
    {
     "name": "stdout",
     "output_type": "stream",
     "text": [
      "time: 1.54 s\n"
     ]
    }
   ],
   "source": [
    "#items_nb = review_data['old_item_id'].value_counts().reset_index()\n",
    "items_avg = review_data.drop(['summary','reviewText','user_id','asin','user_name','reviewTime','old_user_id','item_id'],axis=1).groupby('old_item_id').agg(['count','mean']).reset_index()\n",
    "items_avg.columns= ['old_item_id','num_ratings','avg_rating']\n",
    "#items_avg.head(5)\n",
    "items_avg['num_ratings'].describe()"
   ]
  },
  {
   "cell_type": "markdown",
   "metadata": {},
   "source": [
    "#### Again, the distribution of number of ratings per item is very skewed in both datasets, with 50% of the items having a small number of ratings whereas few got many ratings. \n",
    "I will check if the distribution of items rating is good enough to generate good recommendations.\n",
    "\n",
    "## Adding the review count and avarage to the metadata"
   ]
  },
  {
   "cell_type": "code",
   "execution_count": 57,
   "metadata": {},
   "outputs": [
    {
     "data": {
      "text/html": [
       "<div>\n",
       "<style scoped>\n",
       "    .dataframe tbody tr th:only-of-type {\n",
       "        vertical-align: middle;\n",
       "    }\n",
       "\n",
       "    .dataframe tbody tr th {\n",
       "        vertical-align: top;\n",
       "    }\n",
       "\n",
       "    .dataframe thead th {\n",
       "        text-align: right;\n",
       "    }\n",
       "</style>\n",
       "<table border=\"1\" class=\"dataframe\">\n",
       "  <thead>\n",
       "    <tr style=\"text-align: right;\">\n",
       "      <th></th>\n",
       "      <th>also_buy</th>\n",
       "      <th>also_view</th>\n",
       "      <th>asin</th>\n",
       "      <th>brand</th>\n",
       "      <th>category</th>\n",
       "      <th>description</th>\n",
       "      <th>image</th>\n",
       "      <th>price</th>\n",
       "      <th>title</th>\n",
       "      <th>old_item_id_x</th>\n",
       "      <th>item_id</th>\n",
       "      <th>old_item_id_y</th>\n",
       "      <th>num_ratings</th>\n",
       "      <th>avg_rating</th>\n",
       "    </tr>\n",
       "  </thead>\n",
       "  <tbody>\n",
       "    <tr>\n",
       "      <th>0</th>\n",
       "      <td>None</td>\n",
       "      <td>None</td>\n",
       "      <td>0000037214</td>\n",
       "      <td>Big Dreams</td>\n",
       "      <td>[Clothing, Shoes &amp; Jewelry, Costumes &amp; Accessories, Kids &amp; Baby, Girls, Accessories, 3 layers of...</td>\n",
       "      <td>[6\" long, stretched waist measures 11 1/2\" across. Fits up to 7 years.]</td>\n",
       "      <td>no_data</td>\n",
       "      <td>NaN</td>\n",
       "      <td>Purple Sequin Tiny Dancer Tutu Ballet Dance Fairy Princess Costume Accessory</td>\n",
       "      <td>0000037214</td>\n",
       "      <td>0</td>\n",
       "      <td>NaN</td>\n",
       "      <td>NaN</td>\n",
       "      <td>NaN</td>\n",
       "    </tr>\n",
       "    <tr>\n",
       "      <th>1</th>\n",
       "      <td>None</td>\n",
       "      <td>None</td>\n",
       "      <td>0201377179</td>\n",
       "      <td>Anello</td>\n",
       "      <td>[Clothing, Shoes &amp; Jewelry, Luggage &amp; Travel Gear, Backpacks, Casual Daypacks, Polyester Canvas ...</td>\n",
       "      <td>[The Hottest Bag in Town! Brand: Anello Condition: 100% brand new Size: Large Simplistic Japanes...</td>\n",
       "      <td>[https://images-na.ssl-images-amazon.com/images/I/51RJoBQ2ANL._SR38,50_.jpg, https://images-na.s...</td>\n",
       "      <td>NaN</td>\n",
       "      <td>Japan Anello Backpack Unisex LARGE LIGHT GRAY BLACK Rucksack Waterproof Canvas Bag</td>\n",
       "      <td>0201377179</td>\n",
       "      <td>1</td>\n",
       "      <td>NaN</td>\n",
       "      <td>NaN</td>\n",
       "      <td>NaN</td>\n",
       "    </tr>\n",
       "  </tbody>\n",
       "</table>\n",
       "</div>"
      ],
      "text/plain": [
       "  also_buy also_view        asin       brand  \\\n",
       "0     None      None  0000037214  Big Dreams   \n",
       "1     None      None  0201377179      Anello   \n",
       "\n",
       "                                                                                              category  \\\n",
       "0  [Clothing, Shoes & Jewelry, Costumes & Accessories, Kids & Baby, Girls, Accessories, 3 layers of...   \n",
       "1  [Clothing, Shoes & Jewelry, Luggage & Travel Gear, Backpacks, Casual Daypacks, Polyester Canvas ...   \n",
       "\n",
       "                                                                                           description  \\\n",
       "0                              [6\" long, stretched waist measures 11 1/2\" across. Fits up to 7 years.]   \n",
       "1  [The Hottest Bag in Town! Brand: Anello Condition: 100% brand new Size: Large Simplistic Japanes...   \n",
       "\n",
       "                                                                                                 image  \\\n",
       "0                                                                                              no_data   \n",
       "1  [https://images-na.ssl-images-amazon.com/images/I/51RJoBQ2ANL._SR38,50_.jpg, https://images-na.s...   \n",
       "\n",
       "   price  \\\n",
       "0    NaN   \n",
       "1    NaN   \n",
       "\n",
       "                                                                                title  \\\n",
       "0        Purple Sequin Tiny Dancer Tutu Ballet Dance Fairy Princess Costume Accessory   \n",
       "1  Japan Anello Backpack Unisex LARGE LIGHT GRAY BLACK Rucksack Waterproof Canvas Bag   \n",
       "\n",
       "  old_item_id_x  item_id old_item_id_y  num_ratings  avg_rating  \n",
       "0    0000037214        0           NaN          NaN         NaN  \n",
       "1    0201377179        1           NaN          NaN         NaN  "
      ]
     },
     "execution_count": 57,
     "metadata": {},
     "output_type": "execute_result"
    },
    {
     "name": "stdout",
     "output_type": "stream",
     "text": [
      "time: 4.83 s\n"
     ]
    }
   ],
   "source": [
    "all_info =  pd.merge(all_info,items_avg,how='left',left_on='asin',right_on='old_item_id')\n",
    "pd.set_option('display.max_colwidth', 100)\n",
    "all_info.head(2)"
   ]
  },
  {
   "cell_type": "markdown",
   "metadata": {},
   "source": [
    "## Top 10 Reviewed Products"
   ]
  },
  {
   "cell_type": "code",
   "execution_count": 58,
   "metadata": {},
   "outputs": [
    {
     "name": "stdout",
     "output_type": "stream",
     "text": [
      "Top 10 Reviewed Products:\n",
      "\n"
     ]
    },
    {
     "data": {
      "text/html": [
       "<div>\n",
       "<style scoped>\n",
       "    .dataframe tbody tr th:only-of-type {\n",
       "        vertical-align: middle;\n",
       "    }\n",
       "\n",
       "    .dataframe tbody tr th {\n",
       "        vertical-align: top;\n",
       "    }\n",
       "\n",
       "    .dataframe thead th {\n",
       "        text-align: right;\n",
       "    }\n",
       "</style>\n",
       "<table border=\"1\" class=\"dataframe\">\n",
       "  <thead>\n",
       "    <tr style=\"text-align: right;\">\n",
       "      <th></th>\n",
       "      <th>asin</th>\n",
       "      <th>item_id</th>\n",
       "      <th>title</th>\n",
       "      <th>avg_rating</th>\n",
       "      <th>num_ratings</th>\n",
       "    </tr>\n",
       "  </thead>\n",
       "  <tbody>\n",
       "    <tr>\n",
       "      <th>67547</th>\n",
       "      <td>B000XBM1L2</td>\n",
       "      <td>63843</td>\n",
       "      <td>TOMS Men's Classic Canvas Slip-On</td>\n",
       "      <td>3.302920</td>\n",
       "      <td>548.0</td>\n",
       "    </tr>\n",
       "    <tr>\n",
       "      <th>71507</th>\n",
       "      <td>B000YXC2LI</td>\n",
       "      <td>67803</td>\n",
       "      <td>Levi's Men's 501 Original-Fit Jean</td>\n",
       "      <td>2.271654</td>\n",
       "      <td>508.0</td>\n",
       "    </tr>\n",
       "    <tr>\n",
       "      <th>1124317</th>\n",
       "      <td>B00GV8I1BA</td>\n",
       "      <td>1120613</td>\n",
       "      <td>Converse Women's Chuck Taylor All Star Core Hi</td>\n",
       "      <td>3.653928</td>\n",
       "      <td>471.0</td>\n",
       "    </tr>\n",
       "    <tr>\n",
       "      <th>1757866</th>\n",
       "      <td>B00SU52460</td>\n",
       "      <td>1754162</td>\n",
       "      <td>Converse Chuck Taylor All Star Core Ox</td>\n",
       "      <td>3.627660</td>\n",
       "      <td>470.0</td>\n",
       "    </tr>\n",
       "    <tr>\n",
       "      <th>1757864</th>\n",
       "      <td>B00SU5244M</td>\n",
       "      <td>1754160</td>\n",
       "      <td>Converse Unisex Chuck Taylor All Star Low Top Red Sneakers - 5.5 D(M) US</td>\n",
       "      <td>3.627660</td>\n",
       "      <td>470.0</td>\n",
       "    </tr>\n",
       "    <tr>\n",
       "      <th>1918279</th>\n",
       "      <td>B00X8AMIDG</td>\n",
       "      <td>1914575</td>\n",
       "      <td>Converse Chuck Taylor All Star Canvas Low Top Sneaker</td>\n",
       "      <td>3.618221</td>\n",
       "      <td>461.0</td>\n",
       "    </tr>\n",
       "    <tr>\n",
       "      <th>1903503</th>\n",
       "      <td>B00WRGPHY4</td>\n",
       "      <td>1899799</td>\n",
       "      <td>Converse Unisex Chuck Taylor All Star Hi Top Sneaker Shoes Navy Blue (7.5)</td>\n",
       "      <td>3.618221</td>\n",
       "      <td>461.0</td>\n",
       "    </tr>\n",
       "    <tr>\n",
       "      <th>1887520</th>\n",
       "      <td>B00WBHSMOQ</td>\n",
       "      <td>1883816</td>\n",
       "      <td>Converse Chuck Taylor All Star Low Top (International Version) Sneaker</td>\n",
       "      <td>3.612691</td>\n",
       "      <td>457.0</td>\n",
       "    </tr>\n",
       "    <tr>\n",
       "      <th>1858646</th>\n",
       "      <td>B00VJOT0CK</td>\n",
       "      <td>1854942</td>\n",
       "      <td>Converse Men's Chuck Taylor All Star Leather Low Top Sneaker</td>\n",
       "      <td>3.618625</td>\n",
       "      <td>451.0</td>\n",
       "    </tr>\n",
       "    <tr>\n",
       "      <th>87144</th>\n",
       "      <td>B0015MSD2O</td>\n",
       "      <td>83440</td>\n",
       "      <td>var aPageStart = (new Date()).getTime();\\nvar ue_t0=ue_t0||+new Date();\\n\\nwindow.ue_ihb = (wind...</td>\n",
       "      <td>4.183857</td>\n",
       "      <td>446.0</td>\n",
       "    </tr>\n",
       "  </tbody>\n",
       "</table>\n",
       "</div>"
      ],
      "text/plain": [
       "               asin  item_id  \\\n",
       "67547    B000XBM1L2    63843   \n",
       "71507    B000YXC2LI    67803   \n",
       "1124317  B00GV8I1BA  1120613   \n",
       "1757866  B00SU52460  1754162   \n",
       "1757864  B00SU5244M  1754160   \n",
       "1918279  B00X8AMIDG  1914575   \n",
       "1903503  B00WRGPHY4  1899799   \n",
       "1887520  B00WBHSMOQ  1883816   \n",
       "1858646  B00VJOT0CK  1854942   \n",
       "87144    B0015MSD2O    83440   \n",
       "\n",
       "                                                                                                       title  \\\n",
       "67547                                                                      TOMS Men's Classic Canvas Slip-On   \n",
       "71507                                                                     Levi's Men's 501 Original-Fit Jean   \n",
       "1124317                                                       Converse Women's Chuck Taylor All Star Core Hi   \n",
       "1757866                                                               Converse Chuck Taylor All Star Core Ox   \n",
       "1757864                             Converse Unisex Chuck Taylor All Star Low Top Red Sneakers - 5.5 D(M) US   \n",
       "1918279                                                Converse Chuck Taylor All Star Canvas Low Top Sneaker   \n",
       "1903503                           Converse Unisex Chuck Taylor All Star Hi Top Sneaker Shoes Navy Blue (7.5)   \n",
       "1887520                               Converse Chuck Taylor All Star Low Top (International Version) Sneaker   \n",
       "1858646                                         Converse Men's Chuck Taylor All Star Leather Low Top Sneaker   \n",
       "87144    var aPageStart = (new Date()).getTime();\\nvar ue_t0=ue_t0||+new Date();\\n\\nwindow.ue_ihb = (wind...   \n",
       "\n",
       "         avg_rating  num_ratings  \n",
       "67547      3.302920        548.0  \n",
       "71507      2.271654        508.0  \n",
       "1124317    3.653928        471.0  \n",
       "1757866    3.627660        470.0  \n",
       "1757864    3.627660        470.0  \n",
       "1918279    3.618221        461.0  \n",
       "1903503    3.618221        461.0  \n",
       "1887520    3.612691        457.0  \n",
       "1858646    3.618625        451.0  \n",
       "87144      4.183857        446.0  "
      ]
     },
     "execution_count": 58,
     "metadata": {},
     "output_type": "execute_result"
    },
    {
     "name": "stdout",
     "output_type": "stream",
     "text": [
      "time: 3.08 s\n"
     ]
    }
   ],
   "source": [
    "print(\"Top 10 Reviewed Products:\\n\")\n",
    "all_info[['asin','item_id','title','avg_rating','num_ratings']].sort_values('num_ratings',ascending=False).head(10)"
   ]
  },
  {
   "cell_type": "markdown",
   "metadata": {},
   "source": [
    "### Check how many rows contain empty columns"
   ]
  },
  {
   "cell_type": "code",
   "execution_count": 59,
   "metadata": {
    "scrolled": true
   },
   "outputs": [
    {
     "data": {
      "text/plain": [
       "0.12949901268549546"
      ]
     },
     "execution_count": 59,
     "metadata": {},
     "output_type": "execute_result"
    },
    {
     "name": "stdout",
     "output_type": "stream",
     "text": [
      "time: 862 ms\n"
     ]
    }
   ],
   "source": [
    "a = review_data.dropna()[['item_id','user_id','score']]\n",
    "a.shape[0] / float(review_data.shape[0]) ## 1664458 /1689188.0"
   ]
  },
  {
   "cell_type": "code",
   "execution_count": 60,
   "metadata": {},
   "outputs": [
    {
     "data": {
      "text/plain": [
       "0.0"
      ]
     },
     "execution_count": 60,
     "metadata": {},
     "output_type": "execute_result"
    },
    {
     "name": "stdout",
     "output_type": "stream",
     "text": [
      "time: 1.65 s\n"
     ]
    }
   ],
   "source": [
    "b = all_info.dropna()[['item_id','price']]\n",
    "b.shape[0] / float(all_info.shape[0]) ## 1664458 /1689188.0"
   ]
  },
  {
   "cell_type": "markdown",
   "metadata": {},
   "source": [
    "## Get the bottom rated items that are rated more than 500 times."
   ]
  },
  {
   "cell_type": "code",
   "execution_count": 61,
   "metadata": {},
   "outputs": [
    {
     "data": {
      "text/html": [
       "<div>\n",
       "<style scoped>\n",
       "    .dataframe tbody tr th:only-of-type {\n",
       "        vertical-align: middle;\n",
       "    }\n",
       "\n",
       "    .dataframe tbody tr th {\n",
       "        vertical-align: top;\n",
       "    }\n",
       "\n",
       "    .dataframe thead th {\n",
       "        text-align: right;\n",
       "    }\n",
       "</style>\n",
       "<table border=\"1\" class=\"dataframe\">\n",
       "  <thead>\n",
       "    <tr style=\"text-align: right;\">\n",
       "      <th></th>\n",
       "      <th>asin</th>\n",
       "      <th>title</th>\n",
       "      <th>avg_rating</th>\n",
       "      <th>num_ratings</th>\n",
       "    </tr>\n",
       "  </thead>\n",
       "  <tbody>\n",
       "    <tr>\n",
       "      <th>71507</th>\n",
       "      <td>B000YXC2LI</td>\n",
       "      <td>Levi's Men's 501 Original-Fit Jean</td>\n",
       "      <td>2.271654</td>\n",
       "      <td>508.0</td>\n",
       "    </tr>\n",
       "    <tr>\n",
       "      <th>67547</th>\n",
       "      <td>B000XBM1L2</td>\n",
       "      <td>TOMS Men's Classic Canvas Slip-On</td>\n",
       "      <td>3.302920</td>\n",
       "      <td>548.0</td>\n",
       "    </tr>\n",
       "  </tbody>\n",
       "</table>\n",
       "</div>"
      ],
      "text/plain": [
       "             asin                               title  avg_rating  num_ratings\n",
       "71507  B000YXC2LI  Levi's Men's 501 Original-Fit Jean    2.271654        508.0\n",
       "67547  B000XBM1L2   TOMS Men's Classic Canvas Slip-On    3.302920        548.0"
      ]
     },
     "execution_count": 61,
     "metadata": {},
     "output_type": "execute_result"
    },
    {
     "name": "stdout",
     "output_type": "stream",
     "text": [
      "time: 18.2 ms\n"
     ]
    }
   ],
   "source": [
    "all_info[all_info['num_ratings']>=500][['asin','title','avg_rating','num_ratings']].sort_values('avg_rating',ascending=True).head(5)"
   ]
  },
  {
   "cell_type": "markdown",
   "metadata": {},
   "source": [
    "After investigating and having a good overview of the data. Let's start recommending the items"
   ]
  },
  {
   "cell_type": "markdown",
   "metadata": {},
   "source": [
    "# Explicit feedback (Reviewed Dataset) Recommender System"
   ]
  },
  {
   "cell_type": "markdown",
   "metadata": {},
   "source": [
    "### Explicit feedback is when users gives voluntarily the rating information on what they like and dislike.\n",
    "\n",
    "- In this case, I have explicit item ratings ranging from one to five.\n",
    "- Framed the recommendation system as a rating prediction machine learning problem: \n",
    "    - Predict an item's ratings in order to be able to recommend to a user an item that he is likely to rate high if he buys it. `\n",
    "\n",
    "### To evaluate the model, I randomly separate the data into a training and test set. "
   ]
  },
  {
   "cell_type": "code",
   "execution_count": 68,
   "metadata": {},
   "outputs": [
    {
     "name": "stdout",
     "output_type": "stream",
     "text": [
      "time: 1.44 s\n"
     ]
    }
   ],
   "source": [
    "ratings_train, ratings_test = train_test_split( review_data, test_size=0.2, random_state=0)"
   ]
  },
  {
   "cell_type": "code",
   "execution_count": 69,
   "metadata": {},
   "outputs": [
    {
     "data": {
      "text/plain": [
       "(855654, 11)"
      ]
     },
     "execution_count": 69,
     "metadata": {},
     "output_type": "execute_result"
    },
    {
     "name": "stdout",
     "output_type": "stream",
     "text": [
      "time: 3.25 ms\n"
     ]
    }
   ],
   "source": [
    "ratings_train.shape"
   ]
  },
  {
   "cell_type": "code",
   "execution_count": 70,
   "metadata": {},
   "outputs": [
    {
     "data": {
      "text/plain": [
       "(213914, 11)"
      ]
     },
     "execution_count": 70,
     "metadata": {},
     "output_type": "execute_result"
    },
    {
     "name": "stdout",
     "output_type": "stream",
     "text": [
      "time: 1.99 ms\n"
     ]
    }
   ],
   "source": [
    "ratings_test.shape"
   ]
  },
  {
   "cell_type": "markdown",
   "metadata": {},
   "source": [
    "## Adding Metadata to the train set\n",
    "Create an architecture that mixes the collaborative and content based filtering approaches:\n",
    "```\n",
    "- Collaborative Part: Predict items ratings to recommend to the user items which he is likely to rate high according to learnt item & user embeddings (learn similarity from interactions).\n",
    "- Content based part: Use metadata inputs (such as price and title) about items to recommend to the user contents similar to those he rated high (learn similarity of item attributes).\n",
    "```\n",
    "\n",
    "#### Adding the title and price - Add the metadata of the items in the training and test datasets."
   ]
  },
  {
   "cell_type": "code",
   "execution_count": 71,
   "metadata": {},
   "outputs": [
    {
     "name": "stdout",
     "output_type": "stream",
     "text": [
      "We have 1 prices\n",
      "We have 2507255 titles\n",
      "time: 11min 18s\n"
     ]
    }
   ],
   "source": [
    "# creating metadata mappings \n",
    "titles = all_info['title'].unique()\n",
    "titles_map = {i:val for i,val in enumerate(titles)}\n",
    "inverse_titles_map = {val:i for i,val in enumerate(titles)}\n",
    "\n",
    "price = all_info['price'].unique()\n",
    "price_map = {i:val for i,val in enumerate(price)}\n",
    "inverse_price_map = {val:i for i,val in enumerate(price)}\n",
    "\n",
    "print (\"We have %d prices\" %price.shape)\n",
    "print (\"We have %d titles\" %titles.shape)\n",
    "\n",
    "\n",
    "all_info['price_id'] = all_info['price'].map(inverse_price_map)\n",
    "all_info['title_id'] = all_info['title'].map(inverse_titles_map)\n",
    "\n",
    "# creating dict from \n",
    "item2prices = {}\n",
    "for val in all_info[['item_id','price_id']].dropna().drop_duplicates().iterrows():\n",
    "    item2prices[val[1][\"item_id\"]] = val[1][\"price_id\"]\n",
    "\n",
    "item2titles = {}\n",
    "for val in all_info[['item_id','title_id']].dropna().drop_duplicates().iterrows():\n",
    "    item2titles[val[1][\"item_id\"]] = val[1][\"title_id\"]\n",
    "        \n",
    "\n",
    "\n",
    "# populating the rating dataset with item metadata info\n",
    "ratings_train[\"price_id\"] = ratings_train[\"item_id\"].map(lambda x : item2prices[x])\n",
    "ratings_train[\"title_id\"] = ratings_train[\"item_id\"].map(lambda x : item2titles[x])\n",
    "\n",
    "\n",
    "# populating the test dataset with item metadata info\n",
    "ratings_test[\"price_id\"] = ratings_test[\"item_id\"].map(lambda x : item2prices[x])\n",
    "ratings_test[\"title_id\"] = ratings_test[\"item_id\"].map(lambda x : item2titles[x])\n"
   ]
  },
  {
   "cell_type": "markdown",
   "metadata": {},
   "source": [
    "## create rating train/test dataset and upload into S3"
   ]
  },
  {
   "cell_type": "code",
   "execution_count": 72,
   "metadata": {},
   "outputs": [
    {
     "name": "stdout",
     "output_type": "stream",
     "text": [
      "time: 5.39 s\n"
     ]
    }
   ],
   "source": [
    "ratings_train.to_parquet(\"data/ratings_train.parquet\")\n",
    "ratings_test.to_parquet(\"data/ratings_test.parquet\")"
   ]
  },
  {
   "cell_type": "code",
   "execution_count": 73,
   "metadata": {},
   "outputs": [
    {
     "name": "stdout",
     "output_type": "stream",
     "text": [
      "total 3.3G\n",
      "drwxrwxr-x 5 ec2-user ec2-user 4.0K May 26 16:08 .\n",
      "drwxrwxr-x 5 ec2-user ec2-user 4.0K May 26 16:06 ..\n",
      "-rw-rw-r-- 1 ec2-user ec2-user 308M May 26 15:35 Clean_Clothing_Shoes_and_Jewelry_5_clean.parquet\n",
      "drwxrwxr-x 2 ec2-user ec2-user 4.0K May 26 15:46 Cleaned_meta_Clothing_Shoes_and_Jewelry.parquet\n",
      "-rw-rw-r-- 1 ec2-user ec2-user 1.2G Nov 21  2019 Clothing_Shoes_and_Jewelry_5.json.gz\n",
      "drwxrwxr-x 2 ec2-user ec2-user 4.0K May 26 15:34 Clothing_Shoes_and_Jewelry_5.parquet\n",
      "-rw-rw-r-- 1 ec2-user ec2-user   31 May 26 15:34 for_dataset.txt\n",
      "drwxrwxr-x 2 ec2-user ec2-user 4.0K May 26 15:34 .ipynb_checkpoints\n",
      "-rw-rw-r-- 1 ec2-user ec2-user 1.5G Oct 15  2019 meta_Clothing_Shoes_and_Jewelry.json.gz\n",
      "-rw-rw-r-- 1 ec2-user ec2-user  71M May 26 16:08 ratings_test.parquet\n",
      "-rw-rw-r-- 1 ec2-user ec2-user 282M May 26 16:08 ratings_train.parquet\n",
      "time: 407 ms\n"
     ]
    }
   ],
   "source": [
    "!ls -alh ./data"
   ]
  },
  {
   "cell_type": "code",
   "execution_count": 74,
   "metadata": {},
   "outputs": [
    {
     "name": "stdout",
     "output_type": "stream",
     "text": [
      "upload: data/ratings_test.parquet to s3://dse-cohort5-group1/2-Keras-DeepRecommender/dataset/ratings_test.parquet\n",
      "upload: data/ratings_train.parquet to s3://dse-cohort5-group1/2-Keras-DeepRecommender/dataset/ratings_train.parquet\n",
      "time: 5.9 s\n"
     ]
    }
   ],
   "source": [
    "!aws s3 cp ./data/ratings_test.parquet s3://dse-cohort5-group1/2-Keras-DeepRecommender/dataset/ratings_test.parquet\n",
    "!aws s3 cp ./data/ratings_train.parquet s3://dse-cohort5-group1/2-Keras-DeepRecommender/dataset/ratings_train.parquet"
   ]
  },
  {
   "cell_type": "code",
   "execution_count": 75,
   "metadata": {},
   "outputs": [
    {
     "name": "stdout",
     "output_type": "stream",
     "text": [
      "download: s3://dse-cohort5-group1/2-Keras-DeepRecommender/dataset/ratings_test.parquet to data/ratings_test.parquet\n",
      "download: s3://dse-cohort5-group1/2-Keras-DeepRecommender/dataset/ratings_train.parquet to data/ratings_train.parquet\n",
      "time: 7.64 s\n"
     ]
    }
   ],
   "source": [
    "!aws s3 cp s3://dse-cohort5-group1/2-Keras-DeepRecommender/dataset/ratings_test.parquet ./data/\n",
    "!aws s3 cp s3://dse-cohort5-group1/2-Keras-DeepRecommender/dataset/ratings_train.parquet ./data/"
   ]
  },
  {
   "cell_type": "code",
   "execution_count": 76,
   "metadata": {},
   "outputs": [
    {
     "name": "stdout",
     "output_type": "stream",
     "text": [
      "time: 4.42 s\n"
     ]
    }
   ],
   "source": [
    "ratings_test = pd.read_parquet('./data/ratings_test.parquet')\n",
    "ratings_train = pd.read_parquet('./data/ratings_train.parquet')"
   ]
  },
  {
   "cell_type": "code",
   "execution_count": 77,
   "metadata": {},
   "outputs": [
    {
     "data": {
      "text/html": [
       "<div>\n",
       "<style scoped>\n",
       "    .dataframe tbody tr th:only-of-type {\n",
       "        vertical-align: middle;\n",
       "    }\n",
       "\n",
       "    .dataframe tbody tr th {\n",
       "        vertical-align: top;\n",
       "    }\n",
       "\n",
       "    .dataframe thead th {\n",
       "        text-align: right;\n",
       "    }\n",
       "</style>\n",
       "<table border=\"1\" class=\"dataframe\">\n",
       "  <thead>\n",
       "    <tr style=\"text-align: right;\">\n",
       "      <th></th>\n",
       "      <th>asin</th>\n",
       "      <th>image</th>\n",
       "      <th>summary</th>\n",
       "      <th>reviewText</th>\n",
       "      <th>score</th>\n",
       "      <th>user_id</th>\n",
       "      <th>user_name</th>\n",
       "      <th>reviewTime</th>\n",
       "      <th>old_user_id</th>\n",
       "      <th>old_item_id</th>\n",
       "      <th>item_id</th>\n",
       "      <th>price_id</th>\n",
       "      <th>title_id</th>\n",
       "    </tr>\n",
       "  </thead>\n",
       "  <tbody>\n",
       "    <tr>\n",
       "      <th>162810</th>\n",
       "      <td>B003XKNC0Y</td>\n",
       "      <td>None</td>\n",
       "      <td>Cuter than I expected</td>\n",
       "      <td>The material could be softer, but some at home fabric softening should do the trick. I wish the ...</td>\n",
       "      <td>4.0</td>\n",
       "      <td>108108</td>\n",
       "      <td>Jas P</td>\n",
       "      <td>10 6, 2012</td>\n",
       "      <td>A36P85ZAIO9O5Z</td>\n",
       "      <td>B003XKNC0Y</td>\n",
       "      <td>243589</td>\n",
       "      <td>0</td>\n",
       "      <td>232003</td>\n",
       "    </tr>\n",
       "    <tr>\n",
       "      <th>866194</th>\n",
       "      <td>B019DG4ALQ</td>\n",
       "      <td>None</td>\n",
       "      <td>these jeans are adorable, the cotton fabric is soft</td>\n",
       "      <td>these jeans are adorable, the cotton fabric is soft, comfortable and thick as i like them. This ...</td>\n",
       "      <td>5.0</td>\n",
       "      <td>270025</td>\n",
       "      <td>kamaljeet</td>\n",
       "      <td>07 21, 2016</td>\n",
       "      <td>A2IQRPJO6WP94M</td>\n",
       "      <td>B019DG4ALQ</td>\n",
       "      <td>2331139</td>\n",
       "      <td>0</td>\n",
       "      <td>2181670</td>\n",
       "    </tr>\n",
       "    <tr>\n",
       "      <th>148573</th>\n",
       "      <td>B003AXXUII</td>\n",
       "      <td>None</td>\n",
       "      <td>LOVE 'EM UNDIES</td>\n",
       "      <td>This is my second order of Bali's Skamp briefs for women.  There are very few manufacturers who ...</td>\n",
       "      <td>5.0</td>\n",
       "      <td>98493</td>\n",
       "      <td>GreenEggsnHam</td>\n",
       "      <td>12 7, 2014</td>\n",
       "      <td>A1OMS90ARBURNK</td>\n",
       "      <td>B003AXXUII</td>\n",
       "      <td>211033</td>\n",
       "      <td>0</td>\n",
       "      <td>200873</td>\n",
       "    </tr>\n",
       "  </tbody>\n",
       "</table>\n",
       "</div>"
      ],
      "text/plain": [
       "              asin image                                              summary  \\\n",
       "162810  B003XKNC0Y  None                                Cuter than I expected   \n",
       "866194  B019DG4ALQ  None  these jeans are adorable, the cotton fabric is soft   \n",
       "148573  B003AXXUII  None                                      LOVE 'EM UNDIES   \n",
       "\n",
       "                                                                                                 reviewText  \\\n",
       "162810  The material could be softer, but some at home fabric softening should do the trick. I wish the ...   \n",
       "866194  these jeans are adorable, the cotton fabric is soft, comfortable and thick as i like them. This ...   \n",
       "148573  This is my second order of Bali's Skamp briefs for women.  There are very few manufacturers who ...   \n",
       "\n",
       "        score  user_id      user_name   reviewTime     old_user_id  \\\n",
       "162810    4.0   108108          Jas P   10 6, 2012  A36P85ZAIO9O5Z   \n",
       "866194    5.0   270025      kamaljeet  07 21, 2016  A2IQRPJO6WP94M   \n",
       "148573    5.0    98493  GreenEggsnHam   12 7, 2014  A1OMS90ARBURNK   \n",
       "\n",
       "       old_item_id  item_id  price_id  title_id  \n",
       "162810  B003XKNC0Y   243589         0    232003  \n",
       "866194  B019DG4ALQ  2331139         0   2181670  \n",
       "148573  B003AXXUII   211033         0    200873  "
      ]
     },
     "execution_count": 77,
     "metadata": {},
     "output_type": "execute_result"
    },
    {
     "name": "stdout",
     "output_type": "stream",
     "text": [
      "time: 16.1 ms\n"
     ]
    }
   ],
   "source": [
    "ratings_train[:3]"
   ]
  },
  {
   "cell_type": "code",
   "execution_count": 78,
   "metadata": {},
   "outputs": [
    {
     "data": {
      "text/plain": [
       "(855654, 13)"
      ]
     },
     "execution_count": 78,
     "metadata": {},
     "output_type": "execute_result"
    },
    {
     "name": "stdout",
     "output_type": "stream",
     "text": [
      "time: 2.54 ms\n"
     ]
    }
   ],
   "source": [
    "ratings_train.shape"
   ]
  },
  {
   "cell_type": "markdown",
   "metadata": {},
   "source": [
    "# **Define embeddings\n",
    "### The $\\underline{embeddings}$ are low-dimensional hidden representations of users and items, \n",
    "### i.e. for each item I can find its properties and for each user I can encode how much they like those properties so I can determine attitudes or preferences of users by a small number of hidden factors \n",
    "\n",
    "### Throughout the training, I learn two new low-dimensional dense representations: one embedding for the users and another one for the items.\n"
   ]
  },
  {
   "cell_type": "code",
   "execution_count": 79,
   "metadata": {},
   "outputs": [
    {
     "name": "stdout",
     "output_type": "stream",
     "text": [
      "WARNING:tensorflow:From /home/ec2-user/anaconda3/envs/tensorflow_p36/lib/python3.6/site-packages/keras/backend/tensorflow_backend.py:517: The name tf.placeholder is deprecated. Please use tf.compat.v1.placeholder instead.\n",
      "\n",
      "WARNING:tensorflow:From /home/ec2-user/anaconda3/envs/tensorflow_p36/lib/python3.6/site-packages/keras/backend/tensorflow_backend.py:4138: The name tf.random_uniform is deprecated. Please use tf.random.uniform instead.\n",
      "\n",
      "WARNING:tensorflow:From /home/ec2-user/anaconda3/envs/tensorflow_p36/lib/python3.6/site-packages/keras/backend/tensorflow_backend.py:74: The name tf.get_default_graph is deprecated. Please use tf.compat.v1.get_default_graph instead.\n",
      "\n",
      "time: 115 ms\n"
     ]
    }
   ],
   "source": [
    "#  declare input embeddings to the model\n",
    "#User input\n",
    "user_id_input = Input(shape=[1], name='user')\n",
    "#Item Input\n",
    "item_id_input = Input(shape=[1], name='item')\n",
    "price_id_input = Input(shape=[1], name='price')\n",
    "title_id_input = Input(shape=[1], name='title')\n",
    "\n",
    "# define the size of embeddings as a parameter\n",
    "user_embedding_size = 15 # Check 5, 10 , 15, 20, 50\n",
    "item_embedding_size = 15 # Check 5, 10 , 15, 20, 50\n",
    "price_embedding_size = 15 # Check 5, 10 , 15, 20, 50\n",
    "title_embedding_size = 15 # Check 5, 10 , 15, 20, 50\n",
    "\n",
    "# apply an embedding layer to all inputs\n",
    "user_embedding = Embedding(output_dim=user_embedding_size, input_dim=users.shape[0],\n",
    "                               input_length=1, name='user_embedding')(user_id_input)\n",
    "\n",
    "item_embedding = Embedding(output_dim=item_embedding_size, input_dim=items_reviewed.shape[0],\n",
    "                               input_length=1, name='item_embedding')(item_id_input)\n",
    "\n",
    "price_embedding = Embedding(output_dim=price_embedding_size, input_dim=price.shape[0],\n",
    "                           input_length=1, name='price_embedding')(price_id_input)\n",
    "\n",
    "title_embedding = Embedding(output_dim=title_embedding_size, input_dim=titles.shape[0],\n",
    "                           input_length=1, name='title_embedding')(title_id_input)\n",
    "\n",
    "# reshape from shape (batch_size, input_length,embedding_size) to (batch_size, embedding_size). \n",
    "user_vecs = Reshape([user_embedding_size])(user_embedding)\n",
    "item_vecs = Reshape([item_embedding_size])(item_embedding)\n",
    "price_vecs = Reshape([price_embedding_size])(price_embedding)\n",
    "title_vecs = Reshape([title_embedding_size])(title_embedding)"
   ]
  },
  {
   "attachments": {
    "image.png": {
     "image/png": "[encoded data removed]"
    }
   },
   "cell_type": "markdown",
   "metadata": {},
   "source": [
    "# 1. Matrix factorization approach\n",
    "![image.png](attachment:image.png)"
   ]
  },
  {
   "cell_type": "markdown",
   "metadata": {},
   "source": [
    "### Matrix Factorisation works on the principle that we can learn the user and the item embeddings, and then predict the rating for each user-item by performing a dot (or scalar) product between the respective user and item embedding. \n",
    "\n"
   ]
  },
  {
   "cell_type": "code",
   "execution_count": 80,
   "metadata": {},
   "outputs": [
    {
     "name": "stdout",
     "output_type": "stream",
     "text": [
      "time: 6.54 ms\n"
     ]
    }
   ],
   "source": [
    "# Applying matrix factorization: declare the output as being the dot product between the two embeddings: items and users\n",
    "y = Dot(1, normalize=False)([user_vecs, item_vecs])"
   ]
  },
  {
   "attachments": {
    "image.png": {
     "image/png": "[encoded data removed]"
    }
   },
   "cell_type": "markdown",
   "metadata": {},
   "source": [
    "# 2. Deep Recommender\n",
    "\n",
    "### Instead of taking a dot product of the user and the item embedding, concatenate or multiply them and use them as features for a neural network. \n",
    "### Thus, we are not constrained to the dot product way of combining the embeddings, and can learn complex non-linear relationships.\n",
    "\n",
    "![image.png](attachment:image.png)\n",
    "\n",
    "\n",
    "\n",
    "\n"
   ]
  },
  {
   "cell_type": "markdown",
   "metadata": {},
   "source": [
    "## Check Performance\n",
    "\n",
    "I searched around deep network architecture and checked:\n",
    "- What happens if I add other layers on top of the first one? \n",
    "- What happens if I increase or decrease the embedding size? \n",
    "- What happens if I add dense layers on top of the embeddings before merging?\n",
    "- What happens if I change the number of hidden units in each dense layer?\n",
    "- What happens if I change the number of epochs?  \n",
    "- What happens if I use Dropout or not?\n",
    "\n",
    "Modifications are commented in the code below\n",
    "\n",
    "### Here is the model representation for deep neural network."
   ]
  },
  {
   "cell_type": "code",
   "execution_count": null,
   "metadata": {},
   "outputs": [],
   "source": [
    "# Try add dense layers on top of the embeddings before merging (Comment to drop this idea.)\n",
    "user_vecs = Dense(64, activation='relu')(user_vecs) \n",
    "item_vecs = Dense(64, activation='relu')(item_vecs)\n",
    "price_vecs = Dense(64, activation='relu')(price_vecs) \n",
    "title_vecs = Dense(64, activation='relu')(title_vecs)"
   ]
  },
  {
   "cell_type": "code",
   "execution_count": null,
   "metadata": {},
   "outputs": [],
   "source": [
    "# Concatenate the item embeddings :\n",
    "item_vecs_complete  = Concatenate()([item_vecs, price_vecs,title_vecs])\n",
    "\n",
    "# Concatenate user and item embeddings and use them as features for the neural network:\n",
    "input_vecs = Concatenate()([user_vecs, item_vecs_complete]) # can be changed by Multiply\n",
    "#input_vecs = Concatenate()([user_vecs, item_vecs]) # can be changed by Multiply\n",
    "\n",
    "# Multiply user and item embeddings and use them as features for the neural network:\n",
    "#input_vecs = Multiply()([user_vecs, item_vecs]) # can be changed by concat \n",
    "\n",
    "# Dropout is a technique where randomly selected neurons are ignored during training to prevent overfitting \n",
    "input_vecs = Dropout(0.1)(input_vecs)  \n",
    "\n",
    "# Check one dense 128 or two dense layers (128,128) or (128,64) or three denses layers (128,64,32))\n",
    "\n",
    "# First layer\n",
    "# Dense(128) is a fully-connected layer with 128 hidden units.\n",
    "# Use rectified linear units (ReLU) f(x)=max(0,x) as an activation function.\n",
    "x = Dense(128, activation='relu')(input_vecs)\n",
    "x = Dropout(0.1)(x) # Add droupout or not # To improve the performance\n",
    "\n",
    "# Next Layers\n",
    "#x = Dense(128, activation='relu')(x) # Add dense again or not \n",
    "# x = Dropout(0.1)(x) # Add droupout or not # To improve the performance\n",
    "# x = Dense(64, activation='relu')(x) # Add dense again or not \n",
    "# x = Dropout(0.1)(x) # Add droupout or not # To improve the performance\n",
    "x = Dense(32, activation='relu')(x) # Add dense again or not #\n",
    "x = Dropout(0.1)(x) # Add droupout or not # To improve the performance\n",
    "\n",
    "# The output\n",
    "y = Dense(1)(x)"
   ]
  },
  {
   "cell_type": "markdown",
   "metadata": {},
   "source": [
    "###### declare a model that takes items and users as input and output y, our prediction."
   ]
  },
  {
   "cell_type": "code",
   "execution_count": null,
   "metadata": {},
   "outputs": [],
   "source": [
    "model = Model(inputs=\n",
    "                    [user_id_input,\n",
    "                      item_id_input,\n",
    "                      price_id_input,\n",
    "                      title_id_input,\n",
    "                     ], \n",
    "              outputs=y)\n"
   ]
  },
  {
   "cell_type": "markdown",
   "metadata": {},
   "source": [
    "### compile the model with 'mse' loss, and \"adam\" loss optimization\n",
    "### I would optimise the model such that I minimise the mean squared error ('mse') on the ratings from the train set.\n",
    "### The Adam optimization algorithm used, is an extension to stochastic gradient"
   ]
  },
  {
   "cell_type": "code",
   "execution_count": null,
   "metadata": {},
   "outputs": [],
   "source": [
    "model.compile(loss='mse',\n",
    "              optimizer=\"adam\" )"
   ]
  },
  {
   "cell_type": "markdown",
   "metadata": {},
   "source": [
    "\n",
    "### Save different histories and best models using keras ModelCheckpoint callback\n"
   ]
  },
  {
   "cell_type": "code",
   "execution_count": null,
   "metadata": {},
   "outputs": [],
   "source": [
    "save_path = \"./models\"\n",
    "mytime = time.strftime(\"%Y_%m_%d_%H_%M\")\n",
    "# modname = 'dense_2_15_embeddings_2_epochs' + mytime \n",
    "modname = 'dense_2_15_embeddings_2_epochs'\n",
    "\n",
    "thename = save_path + '/' + modname + '.h5'\n",
    "mcheck = ModelCheckpoint(thename, monitor='val_loss', save_best_only=True)"
   ]
  },
  {
   "cell_type": "markdown",
   "metadata": {},
   "source": [
    "### Train the model by calling the model’s fit method\n",
    "\n",
    "When training the model, the embeddings parameters are learnt too.\n",
    "\n",
    "Use the internal keras random cross validation scheme (the validation_split=0.1 parameter below) instead of the test set to evaluate the models \n",
    "\n",
    "The test set will be kept to verify the quality of recommendations at the end."
   ]
  },
  {
   "cell_type": "markdown",
   "metadata": {},
   "source": [
    "# *** Set model fit"
   ]
  },
  {
   "cell_type": "code",
   "execution_count": null,
   "metadata": {},
   "outputs": [],
   "source": [
    "history = model.fit([ratings_train[\"user_id\"]\n",
    "                    , ratings_train[\"item_id\"]\n",
    "                    , ratings_train[\"price_id\"]\n",
    "                    , ratings_train[\"title_id\"]\n",
    "                    ]\n",
    "                    , ratings_train[\"score\"]\n",
    "                    , batch_size=64\n",
    "                    , epochs=2\n",
    "                    , validation_split=0.2\n",
    "                    , callbacks=[mcheck]\n",
    "                    , shuffle=True)"
   ]
  },
  {
   "cell_type": "markdown",
   "metadata": {},
   "source": [
    "### Save the fitted model history to a file"
   ]
  },
  {
   "cell_type": "code",
   "execution_count": null,
   "metadata": {},
   "outputs": [],
   "source": [
    "def plot_history(history):\n",
    "    loss = history.history['loss']\n",
    "    val_loss = history.history['val_loss']\n",
    "    x = range(1, len(loss) + 1)\n",
    "\n",
    "    plt.figure(figsize=(12, 5))\n",
    "    plt.plot(x, loss, 'b', label='Training loss')\n",
    "    plt.plot(x, val_loss, 'r', label='Validation loss')\n",
    "    plt.title('Training and validation loss: dense_2_15_embeddings_2_epochs')\n",
    "    plt.legend()\n",
    "    plt.savefig(modname+'_loss_validation_acc.jpg')"
   ]
  },
  {
   "cell_type": "code",
   "execution_count": null,
   "metadata": {},
   "outputs": [],
   "source": [
    "history.history"
   ]
  },
  {
   "cell_type": "code",
   "execution_count": null,
   "metadata": {},
   "outputs": [],
   "source": [
    "plot_history(history)"
   ]
  },
  {
   "cell_type": "code",
   "execution_count": null,
   "metadata": {},
   "outputs": [],
   "source": [
    "# modname='dense_2_15_embeddings_2_epochs'  \n",
    "modname = modname\n",
    "\n",
    "with open('./histories/' + modname + '.pkl' , 'wb') as file_pi:  \n",
    "    pickle.dump(history.history, file_pi)\n"
   ]
  },
  {
   "cell_type": "markdown",
   "metadata": {},
   "source": [
    "\n",
    "## Compare the results of matrix factorization and different configurations of neural networks:\n"
   ]
  },
  {
   "cell_type": "code",
   "execution_count": null,
   "metadata": {},
   "outputs": [],
   "source": [
    "def disp_model(path,file,suffix):\n",
    "    model = load_model(path+file+suffix)    \n",
    "    ## Summarise the model \n",
    "    model.summary()    \n",
    "    # Extract the learnt user and item embeddings, i.e., a table with number of items and users rows and columns, with number of columns is the dimension of the trained embedding.\n",
    "    # In our case, the embeddings correspond exactly to the weights of the model:\n",
    "    weights = model.get_weights()\n",
    "    print (\"embeddings \\ weights shapes\",[w.shape for w in weights])    \n",
    "    return model\n",
    "    \n",
    "# model_path = \"./models/save/\"\n",
    "model_path = \"./models/\""
   ]
  },
  {
   "cell_type": "markdown",
   "metadata": {},
   "source": [
    "### Running the model and looking at the corresponding history I get the following \n",
    "plots of the training  MSE loss for the different the embedding and epoches sizes :"
   ]
  },
  {
   "cell_type": "code",
   "execution_count": null,
   "metadata": {},
   "outputs": [],
   "source": [
    "def plt_pickle(path,file,suffix):\n",
    "    with open(path+file+suffix , 'rb') as file_pi: \n",
    "        thepickle= pickle.load(file_pi)\n",
    "        plot(thepickle[\"loss\"],label ='Train Error ' + file,linestyle=\"--\")\n",
    "        plot(thepickle[\"val_loss\"],label='Validation Error ' + file) \n",
    "        plt.legend()\n",
    "        plt.xlabel(\"Epoch\")\n",
    "        plt.ylabel(\"Error\")  \n",
    "        ##plt.ylim(0, 0.1)\n",
    "    return pd.DataFrame(thepickle,columns =['loss','val_loss'])\n",
    "\n",
    "hist_path = \"./histories/\""
   ]
  },
  {
   "cell_type": "code",
   "execution_count": null,
   "metadata": {},
   "outputs": [],
   "source": [
    "model=disp_model(model_path , modname , '.h5')"
   ]
  },
  {
   "cell_type": "code",
   "execution_count": null,
   "metadata": {},
   "outputs": [],
   "source": [
    "model"
   ]
  },
  {
   "cell_type": "code",
   "execution_count": null,
   "metadata": {},
   "outputs": [],
   "source": [
    "# Display the model using keras\n",
    "SVG(model_to_dot(model).create(prog='dot', format='svg'))"
   ]
  },
  {
   "cell_type": "code",
   "execution_count": null,
   "metadata": {},
   "outputs": [],
   "source": [
    "x=plt_pickle(hist_path , modname , '.pkl')\n",
    "x.head(20).transpose()\n",
    "print(\"modname:\", modname)"
   ]
  },
  {
   "cell_type": "code",
   "execution_count": null,
   "metadata": {},
   "outputs": [],
   "source": []
  }
 ],
 "metadata": {
  "kernelspec": {
   "display_name": "conda_tensorflow_p36",
   "language": "python",
   "name": "conda_tensorflow_p36"
  },
  "language_info": {
   "codemirror_mode": {
    "name": "ipython",
    "version": 3
   },
   "file_extension": ".py",
   "mimetype": "text/x-python",
   "name": "python",
   "nbconvert_exporter": "python",
   "pygments_lexer": "ipython3",
   "version": "3.6.6"
  }
 },
 "nbformat": 4,
 "nbformat_minor": 4
}
