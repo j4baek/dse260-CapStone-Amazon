{
 "cells": [
  {
   "cell_type": "markdown",
   "metadata": {},
   "source": [
    "# TEST for matrix_facto_10_embeddings_20_epochs\n",
    "\n",
    "# Deep recommender on top of Amason’s Clean Clothing Shoes and Jewelry explicit rating dataset\n",
    "\n",
    "Frame the recommendation system as a rating prediction machine learning problem and create a hybrid architecture that mixes the collaborative and content based filtering approaches:\n",
    "- Collaborative part: Predict items ratings in order to recommend to the user items that he is likely to rate high.\n",
    "- Content based: use metadata inputs (such as price and title) about items to find similar items to recommend.\n",
    "\n",
    "### - Create 2 explicit recommendation engine models based on 2 machine learning architecture using Keras: \n",
    "    1. a matrix factorization model  \n",
    "    2. a deep neural network model.\n",
    "\n",
    "\n",
    "### Compare the results of the different models and configurations to find the \"best\" predicting model\n",
    "\n",
    "### Used the best model for recommending items to users"
   ]
  },
  {
   "cell_type": "code",
   "execution_count": 1,
   "metadata": {},
   "outputs": [],
   "source": [
    "### name of model\n",
    "modname = 'matrix_facto_10_embeddings_20_epochs'"
   ]
  },
  {
   "cell_type": "code",
   "execution_count": 2,
   "metadata": {},
   "outputs": [],
   "source": [
    "# import sys\n",
    "\n",
    "# !{sys.executable} -m pip install --upgrade pip\n",
    "# !{sys.executable} -m pip install sagemaker-experiments\n",
    "# !{sys.executable} -m pip install pandas\n",
    "# !{sys.executable} -m pip install numpy\n",
    "# !{sys.executable} -m pip install matplotlib\n",
    "# !{sys.executable} -m pip install boto3\n",
    "# !{sys.executable} -m pip install sagemaker\n",
    "# !{sys.executable} -m pip install pyspark\n",
    "# !{sys.executable} -m pip install ipython-autotime\n",
    "# !{sys.executable} -m pip install surprise\n",
    "# !{sys.executable} -m pip install smart_open\n",
    "# !{sys.executable} -m pip install pyarrow\n",
    "# !{sys.executable} -m pip install fastparquet"
   ]
  },
  {
   "cell_type": "code",
   "execution_count": 3,
   "metadata": {},
   "outputs": [],
   "source": [
    "# Check Jave version \n",
    "# !sudo yum -y update"
   ]
  },
  {
   "cell_type": "code",
   "execution_count": 4,
   "metadata": {},
   "outputs": [],
   "source": [
    "# # Need to use Java 1.8.0\n",
    "# !sudo yum remove jre-1.7.0-openjdk -y"
   ]
  },
  {
   "cell_type": "code",
   "execution_count": 5,
   "metadata": {},
   "outputs": [
    {
     "name": "stdout",
     "output_type": "stream",
     "text": [
      "openjdk version \"11.0.1\" 2018-10-16 LTS\n",
      "OpenJDK Runtime Environment Zulu11.2+3 (build 11.0.1+13-LTS)\n",
      "OpenJDK 64-Bit Server VM Zulu11.2+3 (build 11.0.1+13-LTS, mixed mode)\n"
     ]
    }
   ],
   "source": [
    "!java -version"
   ]
  },
  {
   "cell_type": "code",
   "execution_count": 6,
   "metadata": {},
   "outputs": [],
   "source": [
    "# !sudo update-alternatives --config java"
   ]
  },
  {
   "cell_type": "code",
   "execution_count": 7,
   "metadata": {},
   "outputs": [],
   "source": [
    "# !pip install pyarrow fastparquet\n",
    "# !pip install ipython-autotime\n",
    "# !pip install tqdm pydot pydotplus pydot_ng"
   ]
  },
  {
   "cell_type": "code",
   "execution_count": 8,
   "metadata": {},
   "outputs": [],
   "source": [
    "#### To measure all running time\n",
    "# https://github.com/cpcloud/ipython-autotime\n",
    "\n",
    "%load_ext autotime"
   ]
  },
  {
   "cell_type": "code",
   "execution_count": 9,
   "metadata": {},
   "outputs": [
    {
     "name": "stdout",
     "output_type": "stream",
     "text": [
      "Populating the interactive namespace from numpy and matplotlib\n",
      "WARNING:tensorflow:From /home/ec2-user/anaconda3/envs/tensorflow_p36/lib/python3.6/site-packages/tensorflow_core/__init__.py:1467: The name tf.estimator.inputs is deprecated. Please use tf.compat.v1.estimator.inputs instead.\n",
      "\n",
      "time: 2.77 s\n"
     ]
    },
    {
     "name": "stderr",
     "output_type": "stream",
     "text": [
      "Using TensorFlow backend.\n"
     ]
    }
   ],
   "source": [
    "%pylab inline\n",
    "import warnings\n",
    "warnings.filterwarnings(\"ignore\")\n",
    "%matplotlib inline\n",
    "import re\n",
    "import seaborn as sbn\n",
    "import nltk\n",
    "import tqdm as tqdm\n",
    "import sqlite3\n",
    "import pandas as pd\n",
    "import numpy as np\n",
    "from pandas import DataFrame \n",
    "import string\n",
    "import pydot \n",
    "import pydotplus\n",
    "import pydot_ng\n",
    "import pickle\n",
    "import time\n",
    "import gzip\n",
    "import os\n",
    "os.getcwd()\n",
    "    \n",
    "import matplotlib.pyplot as plt\n",
    "from math import floor,ceil\n",
    "\n",
    "#from nltk.corpus import stopwords\n",
    "#stop = stopwords.words(\"english\")\n",
    "from nltk.stem.porter import PorterStemmer\n",
    "english_stemmer=nltk.stem.SnowballStemmer('english')\n",
    "from nltk.tokenize import word_tokenize\n",
    "\n",
    "from sklearn.metrics import accuracy_score, confusion_matrix,roc_curve, auc,classification_report, mean_squared_error, mean_absolute_error\n",
    "from sklearn.feature_extraction.text import CountVectorizer, TfidfTransformer\n",
    "from sklearn.model_selection  import train_test_split\n",
    "from sklearn import metrics\n",
    "from sklearn.svm import LinearSVC\n",
    "from sklearn.neighbors import NearestNeighbors\n",
    "from sklearn.linear_model import LogisticRegression\n",
    "from sklearn import neighbors\n",
    "from scipy.spatial.distance import cosine\n",
    "from sklearn.feature_selection import SelectKBest\n",
    "from IPython.display import SVG\n",
    "\n",
    "# Tensorflow\n",
    "import tensorflow as tf\n",
    "\n",
    "#Keras\n",
    "from keras.models import Sequential, Model, load_model, save_model\n",
    "from keras.callbacks import ModelCheckpoint\n",
    "from keras.layers import Dense, Activation, Dropout, Input, Masking, TimeDistributed, LSTM, Conv1D, Embedding\n",
    "from keras.layers import GRU, Bidirectional, BatchNormalization, Reshape\n",
    "from keras.optimizers import Adam\n",
    "from keras.layers.core import Reshape, Dropout, Dense\n",
    "from keras.layers.merge import Multiply, Dot, Concatenate\n",
    "from keras.layers.embeddings import Embedding\n",
    "from keras import optimizers\n",
    "from keras.callbacks import ModelCheckpoint\n",
    "from keras.utils.vis_utils import model_to_dot"
   ]
  },
  {
   "cell_type": "markdown",
   "metadata": {},
   "source": [
    "### Set and Check GPUs"
   ]
  },
  {
   "cell_type": "code",
   "execution_count": 10,
   "metadata": {},
   "outputs": [
    {
     "name": "stdout",
     "output_type": "stream",
     "text": [
      "time: 4.97 ms\n"
     ]
    }
   ],
   "source": [
    "#Session\n",
    "from keras import backend as K\n",
    "\n",
    "def set_check_gpu():\n",
    "    cfg = K.tf.ConfigProto()\n",
    "    cfg.gpu_options.per_process_gpu_memory_fraction =1 # allow all of the GPU memory to be allocated\n",
    "    # for 8 GPUs\n",
    "    # cfg.gpu_options.visible_device_list = \"0,1,2,3,4,5,6,7\" # \"0,1\"\n",
    "    # for 1 GPU\n",
    "    cfg.gpu_options.visible_device_list = \"0\"\n",
    "    #cfg.gpu_options.allow_growth = True  # # Don't pre-allocate memory; dynamically allocate the memory used on the GPU as-needed\n",
    "    #cfg.log_device_placement = True  # to log device placement (on which device the operation ran)\n",
    "    sess = K.tf.Session(config=cfg)\n",
    "    K.set_session(sess)  # set this TensorFlow session as the default session for Keras\n",
    "\n",
    "    print(\"* TF version: \", [tf.__version__, tf.test.is_gpu_available()])\n",
    "    print(\"* List of GPU(s): \", tf.config.experimental.list_physical_devices() )\n",
    "    print(\"* Num GPUs Available: \", len(tf.config.experimental.list_physical_devices('GPU'))) \n",
    "  \n",
    "    \n",
    "    os.environ[\"CUDA_DEVICE_ORDER\"] = \"PCI_BUS_ID\";\n",
    "    # set for 8 GPUs\n",
    "#     os.environ[\"CUDA_VISIBLE_DEVICES\"] = \"0,1,2,3,4,5,6,7\";\n",
    "    # set for 1 GPU\n",
    "    os.environ[\"CUDA_VISIBLE_DEVICES\"] = \"0\";\n",
    "\n",
    "    # Tf debugging option\n",
    "    tf.debugging.set_log_device_placement(True)\n",
    "\n",
    "    gpus = tf.config.experimental.list_physical_devices('GPU')\n",
    "\n",
    "    if gpus:\n",
    "        try:\n",
    "            # Currently, memory growth needs to be the same across GPUs\n",
    "            for gpu in gpus:\n",
    "                tf.config.experimental.set_memory_growth(gpu, True)\n",
    "            logical_gpus = tf.config.experimental.list_logical_devices('GPU')\n",
    "            print(len(gpus), \"Physical GPUs,\", len(logical_gpus), \"Logical GPUs\")\n",
    "        except RuntimeError as e:\n",
    "            # Memory growth must be set before GPUs have been initialized\n",
    "            print(e)\n",
    "\n",
    "#     print(tf.config.list_logical_devices('GPU'))\n",
    "    print(tf.config.experimental.list_physical_devices('GPU'))\n",
    "    print(\"Num GPUs Available: \", len(tf.config.experimental.list_physical_devices('GPU')))"
   ]
  },
  {
   "cell_type": "code",
   "execution_count": 11,
   "metadata": {},
   "outputs": [
    {
     "name": "stdout",
     "output_type": "stream",
     "text": [
      "* TF version:  ['1.15.2', True]\n",
      "* List of GPU(s):  [PhysicalDevice(name='/physical_device:CPU:0', device_type='CPU'), PhysicalDevice(name='/physical_device:XLA_CPU:0', device_type='XLA_CPU'), PhysicalDevice(name='/physical_device:XLA_GPU:0', device_type='XLA_GPU'), PhysicalDevice(name='/physical_device:GPU:0', device_type='GPU')]\n",
      "* Num GPUs Available:  1\n",
      "1 Physical GPUs, 1 Logical GPUs\n",
      "[PhysicalDevice(name='/physical_device:GPU:0', device_type='GPU')]\n",
      "Num GPUs Available:  1\n",
      "time: 206 ms\n"
     ]
    }
   ],
   "source": [
    "set_check_gpu()"
   ]
  },
  {
   "cell_type": "code",
   "execution_count": 12,
   "metadata": {},
   "outputs": [
    {
     "name": "stdout",
     "output_type": "stream",
     "text": [
      "time: 2.33 ms\n"
     ]
    }
   ],
   "source": [
    "# reset GPU memory& Keras Session\n",
    "def reset_keras():\n",
    "    try:\n",
    "        del classifier\n",
    "        del model    \n",
    "    except:\n",
    "        pass\n",
    "\n",
    "    K.clear_session()\n",
    " \n",
    "    K.get_session().close()\n",
    "#    sess = K.get_session()\n",
    "\n",
    "    cfg = K.tf.ConfigProto()\n",
    "    cfg.gpu_options.per_process_gpu_memory_fraction \n",
    "#     cfg.gpu_options.visible_device_list = \"0,1,2,3,4,5,6,7\" # \"0,1\"\n",
    "    cfg.gpu_options.visible_device_list = \"0\" # \"0,1\"\n",
    "    cfg.gpu_options.allow_growth = True  # dynamically grow the memory used on the GPU\n",
    "\n",
    "    sess = K.tf.Session(config=cfg)\n",
    "    K.set_session(sess)  # set this TensorFlow session as the default session for Keras\n",
    "    "
   ]
  },
  {
   "cell_type": "markdown",
   "metadata": {},
   "source": [
    "## Load dataset and analysis using Spark"
   ]
  },
  {
   "cell_type": "markdown",
   "metadata": {},
   "source": [
    "## Download and prepare Data:\n",
    "#### 1. Read the data:\n",
    "#### Read the data from the reviews dataset of amazon. \n",
    "#### Use the dastaset in which all users and items have at least 5 reviews. \n",
    "\n",
    "### Location of dataset: https://nijianmo.github.io/amazon/index.html"
   ]
  },
  {
   "cell_type": "code",
   "execution_count": 13,
   "metadata": {},
   "outputs": [
    {
     "name": "stdout",
     "output_type": "stream",
     "text": [
      "time: 419 ms\n"
     ]
    }
   ],
   "source": [
    "import pandas as pd\n",
    "\n",
    "import boto3\n",
    "import sagemaker\n",
    "from sagemaker import get_execution_role\n",
    "from sagemaker.session import Session\n",
    "from sagemaker.analytics import ExperimentAnalytics\n",
    "\n",
    "import gzip\n",
    "import json\n",
    "\n",
    "from pyspark.ml import Pipeline\n",
    "from pyspark.sql.types import StructField, StructType, StringType, DoubleType\n",
    "from pyspark.ml.feature import StringIndexer, VectorIndexer, OneHotEncoder, VectorAssembler\n",
    "from pyspark.sql.functions import *\n",
    "\n",
    "# spark imports\n",
    "from pyspark.sql import SparkSession\n",
    "from pyspark.sql.functions import UserDefinedFunction, explode, desc\n",
    "from pyspark.sql.types import StringType, ArrayType\n",
    "from pyspark.ml.evaluation import RegressionEvaluator\n",
    "\n",
    "import os\n",
    "import pandas as pd\n",
    "import pyarrow\n",
    "import fastparquet\n",
    "\n",
    "# from pandas_profiling import ProfileReport"
   ]
  },
  {
   "cell_type": "code",
   "execution_count": 14,
   "metadata": {},
   "outputs": [
    {
     "name": "stdout",
     "output_type": "stream",
     "text": [
      "time: 729 µs\n"
     ]
    }
   ],
   "source": [
    "# !aws s3 cp s3://dse-cohort5-group1/2-Keras-DeepRecommender/dataset/Clean_Clothing_Shoes_and_Jewelry_5_clean.parquet ./data/"
   ]
  },
  {
   "cell_type": "code",
   "execution_count": 15,
   "metadata": {},
   "outputs": [
    {
     "name": "stdout",
     "output_type": "stream",
     "text": [
      "total 3.3G\n",
      "drwxrwxr-x 5 ec2-user ec2-user 4.0K May 26 16:08 .\n",
      "drwxrwxr-x 7 ec2-user ec2-user 4.0K May 26 17:37 ..\n",
      "-rw-rw-r-- 1 ec2-user ec2-user 308M May 26 15:35 Clean_Clothing_Shoes_and_Jewelry_5_clean.parquet\n",
      "drwxrwxr-x 2 ec2-user ec2-user 4.0K May 26 15:46 Cleaned_meta_Clothing_Shoes_and_Jewelry.parquet\n",
      "-rw-rw-r-- 1 ec2-user ec2-user 1.2G Nov 21  2019 Clothing_Shoes_and_Jewelry_5.json.gz\n",
      "drwxrwxr-x 2 ec2-user ec2-user 4.0K May 26 15:34 Clothing_Shoes_and_Jewelry_5.parquet\n",
      "-rw-rw-r-- 1 ec2-user ec2-user   31 May 26 15:34 for_dataset.txt\n",
      "drwxrwxr-x 2 ec2-user ec2-user 4.0K May 26 15:34 .ipynb_checkpoints\n",
      "-rw-rw-r-- 1 ec2-user ec2-user 1.5G Oct 15  2019 meta_Clothing_Shoes_and_Jewelry.json.gz\n",
      "-rw-rw-r-- 1 ec2-user ec2-user  71M May 26 16:08 ratings_test.parquet\n",
      "-rw-rw-r-- 1 ec2-user ec2-user 282M May 26 16:08 ratings_train.parquet\n",
      "time: 128 ms\n"
     ]
    }
   ],
   "source": [
    "!ls -alh ./data"
   ]
  },
  {
   "cell_type": "markdown",
   "metadata": {},
   "source": [
    "### Read clened dataset from parquet files"
   ]
  },
  {
   "cell_type": "code",
   "execution_count": 16,
   "metadata": {},
   "outputs": [
    {
     "name": "stdout",
     "output_type": "stream",
     "text": [
      "time: 3.7 s\n"
     ]
    }
   ],
   "source": [
    "review_data = pd.read_parquet(\"./data/Clean_Clothing_Shoes_and_Jewelry_5_clean.parquet\")"
   ]
  },
  {
   "cell_type": "code",
   "execution_count": 17,
   "metadata": {},
   "outputs": [
    {
     "data": {
      "text/html": [
       "<div>\n",
       "<style scoped>\n",
       "    .dataframe tbody tr th:only-of-type {\n",
       "        vertical-align: middle;\n",
       "    }\n",
       "\n",
       "    .dataframe tbody tr th {\n",
       "        vertical-align: top;\n",
       "    }\n",
       "\n",
       "    .dataframe thead th {\n",
       "        text-align: right;\n",
       "    }\n",
       "</style>\n",
       "<table border=\"1\" class=\"dataframe\">\n",
       "  <thead>\n",
       "    <tr style=\"text-align: right;\">\n",
       "      <th></th>\n",
       "      <th>asin</th>\n",
       "      <th>image</th>\n",
       "      <th>overall</th>\n",
       "      <th>reviewText</th>\n",
       "      <th>reviewTime</th>\n",
       "      <th>reviewerID</th>\n",
       "      <th>reviewerName</th>\n",
       "      <th>summary</th>\n",
       "    </tr>\n",
       "  </thead>\n",
       "  <tbody>\n",
       "    <tr>\n",
       "      <th>0</th>\n",
       "      <td>0871167042</td>\n",
       "      <td>None</td>\n",
       "      <td>5.0</td>\n",
       "      <td>This book has beautiful photos, good and under...</td>\n",
       "      <td>05 4, 2014</td>\n",
       "      <td>A2IC3NZN488KWK</td>\n",
       "      <td>Ruby Tulip</td>\n",
       "      <td>Unique designs</td>\n",
       "    </tr>\n",
       "    <tr>\n",
       "      <th>1</th>\n",
       "      <td>0871167042</td>\n",
       "      <td>None</td>\n",
       "      <td>3.0</td>\n",
       "      <td>If you're an experienced wire jewelry maker, t...</td>\n",
       "      <td>07 23, 2014</td>\n",
       "      <td>A1YIEW86G14BHP</td>\n",
       "      <td>Aldne Now</td>\n",
       "      <td>OK Jewelry Book</td>\n",
       "    </tr>\n",
       "    <tr>\n",
       "      <th>2</th>\n",
       "      <td>0871167042</td>\n",
       "      <td>None</td>\n",
       "      <td>4.0</td>\n",
       "      <td>Hi, have been making jewelry now for the last ...</td>\n",
       "      <td>06 5, 2014</td>\n",
       "      <td>AA7PNT2OPS3RP</td>\n",
       "      <td>Catherine Franz</td>\n",
       "      <td>Organic and upcycling jewelry maker</td>\n",
       "    </tr>\n",
       "  </tbody>\n",
       "</table>\n",
       "</div>"
      ],
      "text/plain": [
       "         asin image  overall  \\\n",
       "0  0871167042  None      5.0   \n",
       "1  0871167042  None      3.0   \n",
       "2  0871167042  None      4.0   \n",
       "\n",
       "                                          reviewText   reviewTime  \\\n",
       "0  This book has beautiful photos, good and under...   05 4, 2014   \n",
       "1  If you're an experienced wire jewelry maker, t...  07 23, 2014   \n",
       "2  Hi, have been making jewelry now for the last ...   06 5, 2014   \n",
       "\n",
       "       reviewerID     reviewerName                              summary  \n",
       "0  A2IC3NZN488KWK       Ruby Tulip                       Unique designs  \n",
       "1  A1YIEW86G14BHP        Aldne Now                      OK Jewelry Book  \n",
       "2   AA7PNT2OPS3RP  Catherine Franz  Organic and upcycling jewelry maker  "
      ]
     },
     "execution_count": 17,
     "metadata": {},
     "output_type": "execute_result"
    },
    {
     "name": "stdout",
     "output_type": "stream",
     "text": [
      "time: 24.7 ms\n"
     ]
    }
   ],
   "source": [
    "review_data[:3]"
   ]
  },
  {
   "cell_type": "code",
   "execution_count": 18,
   "metadata": {},
   "outputs": [
    {
     "data": {
      "text/plain": [
       "(1069568, 8)"
      ]
     },
     "execution_count": 18,
     "metadata": {},
     "output_type": "execute_result"
    },
    {
     "name": "stdout",
     "output_type": "stream",
     "text": [
      "time: 2.06 ms\n"
     ]
    }
   ],
   "source": [
    "review_data.shape"
   ]
  },
  {
   "cell_type": "markdown",
   "metadata": {},
   "source": [
    "### 2. Arrange and clean the data"
   ]
  },
  {
   "cell_type": "markdown",
   "metadata": {},
   "source": [
    "Rearrange the columns by relevance and rename column names"
   ]
  },
  {
   "cell_type": "code",
   "execution_count": 19,
   "metadata": {},
   "outputs": [
    {
     "data": {
      "text/plain": [
       "Index(['asin', 'image', 'overall', 'reviewText', 'reviewTime', 'reviewerID',\n",
       "       'reviewerName', 'summary'],\n",
       "      dtype='object')"
      ]
     },
     "execution_count": 19,
     "metadata": {},
     "output_type": "execute_result"
    },
    {
     "name": "stdout",
     "output_type": "stream",
     "text": [
      "time: 2.4 ms\n"
     ]
    }
   ],
   "source": [
    "review_data.columns"
   ]
  },
  {
   "cell_type": "code",
   "execution_count": 20,
   "metadata": {},
   "outputs": [
    {
     "data": {
      "text/plain": [
       "['asin',\n",
       " 'image',\n",
       " 'summary',\n",
       " 'reviewText',\n",
       " 'score',\n",
       " 'user_id',\n",
       " 'user_name',\n",
       " 'reviewTime']"
      ]
     },
     "execution_count": 20,
     "metadata": {},
     "output_type": "execute_result"
    },
    {
     "name": "stdout",
     "output_type": "stream",
     "text": [
      "time: 798 ms\n"
     ]
    }
   ],
   "source": [
    "review_data = review_data[['asin', 'image', 'summary', 'reviewText', 'overall', 'reviewerID', 'reviewerName', 'reviewTime']]\n",
    "\n",
    "review_data.rename(columns={ 'overall': 'score','reviewerID': 'user_id', 'reviewerName': 'user_name'}, inplace=True)\n",
    "\n",
    "#the variables names after rename in the modified data frame\n",
    "list(review_data)"
   ]
  },
  {
   "cell_type": "markdown",
   "metadata": {},
   "source": [
    "# Add Metadata \n",
    "\n",
    "### Metadata includes descriptions, price, sales-rank, brand info, and co-purchasing links\n",
    "- asin - ID of the product, e.g. 0000031852\n",
    "- title - name of the product\n",
    "- price - price in US dollars (at time of crawl)\n",
    "- imUrl - url of the product image\n",
    "- related - related products (also bought, also viewed, bought together, buy after viewing)\n",
    "- salesRank - sales rank information\n",
    "- brand - brand name\n",
    "- categories - list of categories the product belongs to"
   ]
  },
  {
   "cell_type": "code",
   "execution_count": 21,
   "metadata": {},
   "outputs": [
    {
     "name": "stdout",
     "output_type": "stream",
     "text": [
      "time: 743 µs\n"
     ]
    }
   ],
   "source": [
    "# !aws s3 cp s3://dse-cohort5-group1/2-Keras-DeepRecommender/dataset/Cleaned_meta_Clothing_Shoes_and_Jewelry.parquet ./data/"
   ]
  },
  {
   "cell_type": "code",
   "execution_count": 22,
   "metadata": {},
   "outputs": [
    {
     "name": "stdout",
     "output_type": "stream",
     "text": [
      "time: 32.8 s\n"
     ]
    }
   ],
   "source": [
    "all_info = pd.read_parquet(\"./data/Cleaned_meta_Clothing_Shoes_and_Jewelry.parquet\")"
   ]
  },
  {
   "cell_type": "code",
   "execution_count": 23,
   "metadata": {},
   "outputs": [
    {
     "data": {
      "text/html": [
       "<div>\n",
       "<style scoped>\n",
       "    .dataframe tbody tr th:only-of-type {\n",
       "        vertical-align: middle;\n",
       "    }\n",
       "\n",
       "    .dataframe tbody tr th {\n",
       "        vertical-align: top;\n",
       "    }\n",
       "\n",
       "    .dataframe thead th {\n",
       "        text-align: right;\n",
       "    }\n",
       "</style>\n",
       "<table border=\"1\" class=\"dataframe\">\n",
       "  <thead>\n",
       "    <tr style=\"text-align: right;\">\n",
       "      <th></th>\n",
       "      <th>also_buy</th>\n",
       "      <th>also_view</th>\n",
       "      <th>asin</th>\n",
       "      <th>brand</th>\n",
       "      <th>category</th>\n",
       "      <th>description</th>\n",
       "      <th>image</th>\n",
       "      <th>price</th>\n",
       "      <th>title</th>\n",
       "    </tr>\n",
       "  </thead>\n",
       "  <tbody>\n",
       "    <tr>\n",
       "      <th>0</th>\n",
       "      <td>None</td>\n",
       "      <td>None</td>\n",
       "      <td>0000037214</td>\n",
       "      <td>Big Dreams</td>\n",
       "      <td>[Clothing, Shoes &amp; Jewelry, Costumes &amp; Accesso...</td>\n",
       "      <td>[6\" long, stretched waist measures 11 1/2\" acr...</td>\n",
       "      <td>None</td>\n",
       "      <td>None</td>\n",
       "      <td>Purple Sequin Tiny Dancer Tutu Ballet Dance Fa...</td>\n",
       "    </tr>\n",
       "    <tr>\n",
       "      <th>1</th>\n",
       "      <td>None</td>\n",
       "      <td>None</td>\n",
       "      <td>0201377179</td>\n",
       "      <td>Anello</td>\n",
       "      <td>[Clothing, Shoes &amp; Jewelry, Luggage &amp; Travel G...</td>\n",
       "      <td>[The Hottest Bag in Town! Brand: Anello Condit...</td>\n",
       "      <td>[https://images-na.ssl-images-amazon.com/image...</td>\n",
       "      <td>None</td>\n",
       "      <td>Japan Anello Backpack Unisex LARGE LIGHT GRAY ...</td>\n",
       "    </tr>\n",
       "    <tr>\n",
       "      <th>2</th>\n",
       "      <td>None</td>\n",
       "      <td>[B07CJF5HLR, B01EBI8UH6, B01N1LR908, B074M4QKG...</td>\n",
       "      <td>0204444454</td>\n",
       "      <td>Anello</td>\n",
       "      <td>[Clothing, Shoes &amp; Jewelry, Luggage &amp; Travel G...</td>\n",
       "      <td>[The Hottest Bag in Town! Brand: Anello Condit...</td>\n",
       "      <td>[https://images-na.ssl-images-amazon.com/image...</td>\n",
       "      <td>$70.00</td>\n",
       "      <td>Japan Anello Backpack Unisex PINK BEIGE LARGE ...</td>\n",
       "    </tr>\n",
       "    <tr>\n",
       "      <th>3</th>\n",
       "      <td>None</td>\n",
       "      <td>[B01DLVYOPG, B07CJF5HLR, B01MSS59Y6, B071YBC1J...</td>\n",
       "      <td>0204444403</td>\n",
       "      <td>Anello</td>\n",
       "      <td>[Clothing, Shoes &amp; Jewelry, Luggage &amp; Travel G...</td>\n",
       "      <td>[The Hottest Bag in Town! Brand: Anello Condit...</td>\n",
       "      <td>[https://images-na.ssl-images-amazon.com/image...</td>\n",
       "      <td>$65.99</td>\n",
       "      <td>Japan Anello Backpack Unisex BLACK LARGE PU LE...</td>\n",
       "    </tr>\n",
       "    <tr>\n",
       "      <th>4</th>\n",
       "      <td>None</td>\n",
       "      <td>[B00VGT93YS, B07FTY87LM, B01IKVOY8E, B01GF6C6F...</td>\n",
       "      <td>0206313535</td>\n",
       "      <td>bettyhome</td>\n",
       "      <td>[Clothing, Shoes &amp; Jewelry, Novelty &amp; More, Cl...</td>\n",
       "      <td>[Brand New.  Hat Centre Length: adult about 8c...</td>\n",
       "      <td>[https://images-na.ssl-images-amazon.com/image...</td>\n",
       "      <td>$18.99</td>\n",
       "      <td>bettyhome Unisex Adult Winter Spring Thicken C...</td>\n",
       "    </tr>\n",
       "  </tbody>\n",
       "</table>\n",
       "</div>"
      ],
      "text/plain": [
       "  also_buy                                          also_view        asin  \\\n",
       "0     None                                               None  0000037214   \n",
       "1     None                                               None  0201377179   \n",
       "2     None  [B07CJF5HLR, B01EBI8UH6, B01N1LR908, B074M4QKG...  0204444454   \n",
       "3     None  [B01DLVYOPG, B07CJF5HLR, B01MSS59Y6, B071YBC1J...  0204444403   \n",
       "4     None  [B00VGT93YS, B07FTY87LM, B01IKVOY8E, B01GF6C6F...  0206313535   \n",
       "\n",
       "        brand                                           category  \\\n",
       "0  Big Dreams  [Clothing, Shoes & Jewelry, Costumes & Accesso...   \n",
       "1      Anello  [Clothing, Shoes & Jewelry, Luggage & Travel G...   \n",
       "2      Anello  [Clothing, Shoes & Jewelry, Luggage & Travel G...   \n",
       "3      Anello  [Clothing, Shoes & Jewelry, Luggage & Travel G...   \n",
       "4   bettyhome  [Clothing, Shoes & Jewelry, Novelty & More, Cl...   \n",
       "\n",
       "                                         description  \\\n",
       "0  [6\" long, stretched waist measures 11 1/2\" acr...   \n",
       "1  [The Hottest Bag in Town! Brand: Anello Condit...   \n",
       "2  [The Hottest Bag in Town! Brand: Anello Condit...   \n",
       "3  [The Hottest Bag in Town! Brand: Anello Condit...   \n",
       "4  [Brand New.  Hat Centre Length: adult about 8c...   \n",
       "\n",
       "                                               image   price  \\\n",
       "0                                               None    None   \n",
       "1  [https://images-na.ssl-images-amazon.com/image...    None   \n",
       "2  [https://images-na.ssl-images-amazon.com/image...  $70.00   \n",
       "3  [https://images-na.ssl-images-amazon.com/image...  $65.99   \n",
       "4  [https://images-na.ssl-images-amazon.com/image...  $18.99   \n",
       "\n",
       "                                               title  \n",
       "0  Purple Sequin Tiny Dancer Tutu Ballet Dance Fa...  \n",
       "1  Japan Anello Backpack Unisex LARGE LIGHT GRAY ...  \n",
       "2  Japan Anello Backpack Unisex PINK BEIGE LARGE ...  \n",
       "3  Japan Anello Backpack Unisex BLACK LARGE PU LE...  \n",
       "4  bettyhome Unisex Adult Winter Spring Thicken C...  "
      ]
     },
     "execution_count": 23,
     "metadata": {},
     "output_type": "execute_result"
    },
    {
     "name": "stdout",
     "output_type": "stream",
     "text": [
      "time: 18.1 ms\n"
     ]
    }
   ],
   "source": [
    "all_info.head(n=5)"
   ]
  },
  {
   "cell_type": "markdown",
   "metadata": {},
   "source": [
    "### Arrange and clean the data"
   ]
  },
  {
   "cell_type": "markdown",
   "metadata": {},
   "source": [
    "- Cleaning, handling missing data, normalization, etc:\n",
    "- For the algorithm in keras to work,  remap all item_ids and user_ids to an interger between 0 and the total number of users or the total number of items"
   ]
  },
  {
   "cell_type": "code",
   "execution_count": 24,
   "metadata": {},
   "outputs": [
    {
     "data": {
      "text/plain": [
       "Index(['also_buy', 'also_view', 'asin', 'brand', 'category', 'description',\n",
       "       'image', 'price', 'title'],\n",
       "      dtype='object')"
      ]
     },
     "execution_count": 24,
     "metadata": {},
     "output_type": "execute_result"
    },
    {
     "name": "stdout",
     "output_type": "stream",
     "text": [
      "time: 2.52 ms\n"
     ]
    }
   ],
   "source": [
    "all_info.columns"
   ]
  },
  {
   "cell_type": "code",
   "execution_count": 25,
   "metadata": {},
   "outputs": [
    {
     "name": "stdout",
     "output_type": "stream",
     "text": [
      "We have 2681355 unique items in metadata \n",
      "time: 9.69 s\n"
     ]
    }
   ],
   "source": [
    "items = all_info.asin.unique()\n",
    "item_map = {i:val for i,val in enumerate(items)}\n",
    "inverse_item_map = {val:i for i,val in enumerate(items)}\n",
    "all_info[\"old_item_id\"] = all_info[\"asin\"] # copying for join with metadata\n",
    "all_info[\"item_id\"] = all_info[\"asin\"].map(inverse_item_map)\n",
    "items = all_info.item_id.unique()\n",
    "print (\"We have %d unique items in metadata \"%items.shape[0])"
   ]
  },
  {
   "cell_type": "code",
   "execution_count": 26,
   "metadata": {},
   "outputs": [
    {
     "name": "stdout",
     "output_type": "stream",
     "text": [
      "time: 53.4 s\n"
     ]
    }
   ],
   "source": [
    "all_info['description'] = all_info['description'].fillna(all_info['title'].fillna('no_data'))\n",
    "all_info['title'] = all_info['title'].fillna(all_info['description'].fillna('no_data').apply(str).str[:20])\n",
    "all_info['image'] = all_info['image'].fillna('no_data')\n",
    "all_info['price'] = pd.to_numeric(all_info['price'],errors=\"coerce\")\n",
    "all_info['price'] = all_info['price'].fillna(all_info['price'].median()) "
   ]
  },
  {
   "cell_type": "code",
   "execution_count": 27,
   "metadata": {},
   "outputs": [
    {
     "name": "stdout",
     "output_type": "stream",
     "text": [
      "time: 8.84 s\n"
     ]
    }
   ],
   "source": [
    "users = review_data.user_id.unique()\n",
    "user_map = {i:val for i,val in enumerate(users)}\n",
    "inverse_user_map = {val:i for i,val in enumerate(users)}\n",
    "review_data[\"old_user_id\"] = review_data[\"user_id\"] \n",
    "review_data[\"user_id\"] = review_data[\"user_id\"].map(inverse_user_map)\n",
    "\n",
    "items_reviewed = review_data.asin.unique()\n",
    "review_data[\"old_item_id\"] = review_data[\"asin\"] # copying for join with metadata\n",
    "review_data[\"item_id\"] = review_data[\"asin\"].map(inverse_item_map)\n",
    "\n",
    "items_reviewed = review_data.item_id.unique()\n",
    "users = review_data.user_id.unique()"
   ]
  },
  {
   "cell_type": "code",
   "execution_count": 28,
   "metadata": {},
   "outputs": [
    {
     "name": "stdout",
     "output_type": "stream",
     "text": [
      "We have 513010 unique users\n",
      "We have 245636 unique items reviewed\n",
      "time: 1.76 ms\n"
     ]
    }
   ],
   "source": [
    "print (\"We have %d unique users\"%users.shape[0])\n",
    "print (\"We have %d unique items reviewed\"%items_reviewed.shape[0])\n",
    "# We have 192403 unique users in the \"small\" dataset\n",
    "# We have 63001 unique items reviewed in the \"small\" dataset"
   ]
  },
  {
   "cell_type": "code",
   "execution_count": 29,
   "metadata": {},
   "outputs": [
    {
     "data": {
      "text/html": [
       "<div>\n",
       "<style scoped>\n",
       "    .dataframe tbody tr th:only-of-type {\n",
       "        vertical-align: middle;\n",
       "    }\n",
       "\n",
       "    .dataframe tbody tr th {\n",
       "        vertical-align: top;\n",
       "    }\n",
       "\n",
       "    .dataframe thead th {\n",
       "        text-align: right;\n",
       "    }\n",
       "</style>\n",
       "<table border=\"1\" class=\"dataframe\">\n",
       "  <thead>\n",
       "    <tr style=\"text-align: right;\">\n",
       "      <th></th>\n",
       "      <th>asin</th>\n",
       "      <th>image</th>\n",
       "      <th>summary</th>\n",
       "      <th>reviewText</th>\n",
       "      <th>score</th>\n",
       "      <th>user_id</th>\n",
       "      <th>user_name</th>\n",
       "      <th>reviewTime</th>\n",
       "      <th>old_user_id</th>\n",
       "      <th>old_item_id</th>\n",
       "      <th>item_id</th>\n",
       "    </tr>\n",
       "  </thead>\n",
       "  <tbody>\n",
       "    <tr>\n",
       "      <th>0</th>\n",
       "      <td>0871167042</td>\n",
       "      <td>None</td>\n",
       "      <td>Unique designs</td>\n",
       "      <td>This book has beautiful photos, good and under...</td>\n",
       "      <td>5.0</td>\n",
       "      <td>0</td>\n",
       "      <td>Ruby Tulip</td>\n",
       "      <td>05 4, 2014</td>\n",
       "      <td>A2IC3NZN488KWK</td>\n",
       "      <td>0871167042</td>\n",
       "      <td>12</td>\n",
       "    </tr>\n",
       "    <tr>\n",
       "      <th>1</th>\n",
       "      <td>0871167042</td>\n",
       "      <td>None</td>\n",
       "      <td>OK Jewelry Book</td>\n",
       "      <td>If you're an experienced wire jewelry maker, t...</td>\n",
       "      <td>3.0</td>\n",
       "      <td>1</td>\n",
       "      <td>Aldne Now</td>\n",
       "      <td>07 23, 2014</td>\n",
       "      <td>A1YIEW86G14BHP</td>\n",
       "      <td>0871167042</td>\n",
       "      <td>12</td>\n",
       "    </tr>\n",
       "    <tr>\n",
       "      <th>2</th>\n",
       "      <td>0871167042</td>\n",
       "      <td>None</td>\n",
       "      <td>Organic and upcycling jewelry maker</td>\n",
       "      <td>Hi, have been making jewelry now for the last ...</td>\n",
       "      <td>4.0</td>\n",
       "      <td>2</td>\n",
       "      <td>Catherine Franz</td>\n",
       "      <td>06 5, 2014</td>\n",
       "      <td>AA7PNT2OPS3RP</td>\n",
       "      <td>0871167042</td>\n",
       "      <td>12</td>\n",
       "    </tr>\n",
       "  </tbody>\n",
       "</table>\n",
       "</div>"
      ],
      "text/plain": [
       "         asin image                              summary  \\\n",
       "0  0871167042  None                       Unique designs   \n",
       "1  0871167042  None                      OK Jewelry Book   \n",
       "2  0871167042  None  Organic and upcycling jewelry maker   \n",
       "\n",
       "                                          reviewText  score  user_id  \\\n",
       "0  This book has beautiful photos, good and under...    5.0        0   \n",
       "1  If you're an experienced wire jewelry maker, t...    3.0        1   \n",
       "2  Hi, have been making jewelry now for the last ...    4.0        2   \n",
       "\n",
       "         user_name   reviewTime     old_user_id old_item_id  item_id  \n",
       "0       Ruby Tulip   05 4, 2014  A2IC3NZN488KWK  0871167042       12  \n",
       "1        Aldne Now  07 23, 2014  A1YIEW86G14BHP  0871167042       12  \n",
       "2  Catherine Franz   06 5, 2014   AA7PNT2OPS3RP  0871167042       12  "
      ]
     },
     "execution_count": 29,
     "metadata": {},
     "output_type": "execute_result"
    },
    {
     "name": "stdout",
     "output_type": "stream",
     "text": [
      "time: 44.2 ms\n"
     ]
    }
   ],
   "source": [
    "review_data.head(3)"
   ]
  },
  {
   "cell_type": "markdown",
   "metadata": {},
   "source": [
    "## Adding the review count and avarage to the metadata"
   ]
  },
  {
   "cell_type": "code",
   "execution_count": 31,
   "metadata": {},
   "outputs": [
    {
     "data": {
      "text/plain": [
       "count    245636.000000\n",
       "mean          4.354280\n",
       "std           8.406209\n",
       "min           1.000000\n",
       "25%           1.000000\n",
       "50%           2.000000\n",
       "75%           5.000000\n",
       "max         548.000000\n",
       "Name: num_ratings, dtype: float64"
      ]
     },
     "execution_count": 31,
     "metadata": {},
     "output_type": "execute_result"
    },
    {
     "name": "stdout",
     "output_type": "stream",
     "text": [
      "time: 1.68 s\n"
     ]
    }
   ],
   "source": [
    "#items_nb = review_data['old_item_id'].value_counts().reset_index()\n",
    "items_avg = review_data.drop(['summary','reviewText','user_id','asin','user_name','reviewTime','old_user_id','item_id'],axis=1).groupby('old_item_id').agg(['count','mean']).reset_index()\n",
    "items_avg.columns= ['old_item_id','num_ratings','avg_rating']\n",
    "#items_avg.head(5)\n",
    "items_avg['num_ratings'].describe()"
   ]
  },
  {
   "cell_type": "code",
   "execution_count": 32,
   "metadata": {},
   "outputs": [
    {
     "data": {
      "text/html": [
       "<div>\n",
       "<style scoped>\n",
       "    .dataframe tbody tr th:only-of-type {\n",
       "        vertical-align: middle;\n",
       "    }\n",
       "\n",
       "    .dataframe tbody tr th {\n",
       "        vertical-align: top;\n",
       "    }\n",
       "\n",
       "    .dataframe thead th {\n",
       "        text-align: right;\n",
       "    }\n",
       "</style>\n",
       "<table border=\"1\" class=\"dataframe\">\n",
       "  <thead>\n",
       "    <tr style=\"text-align: right;\">\n",
       "      <th></th>\n",
       "      <th>also_buy</th>\n",
       "      <th>also_view</th>\n",
       "      <th>asin</th>\n",
       "      <th>brand</th>\n",
       "      <th>category</th>\n",
       "      <th>description</th>\n",
       "      <th>image</th>\n",
       "      <th>price</th>\n",
       "      <th>title</th>\n",
       "      <th>old_item_id_x</th>\n",
       "      <th>item_id</th>\n",
       "      <th>old_item_id_y</th>\n",
       "      <th>num_ratings</th>\n",
       "      <th>avg_rating</th>\n",
       "    </tr>\n",
       "  </thead>\n",
       "  <tbody>\n",
       "    <tr>\n",
       "      <th>0</th>\n",
       "      <td>None</td>\n",
       "      <td>None</td>\n",
       "      <td>0000037214</td>\n",
       "      <td>Big Dreams</td>\n",
       "      <td>[Clothing, Shoes &amp; Jewelry, Costumes &amp; Accessories, Kids &amp; Baby, Girls, Accessories, 3 layers of...</td>\n",
       "      <td>[6\" long, stretched waist measures 11 1/2\" across. Fits up to 7 years.]</td>\n",
       "      <td>no_data</td>\n",
       "      <td>NaN</td>\n",
       "      <td>Purple Sequin Tiny Dancer Tutu Ballet Dance Fairy Princess Costume Accessory</td>\n",
       "      <td>0000037214</td>\n",
       "      <td>0</td>\n",
       "      <td>NaN</td>\n",
       "      <td>NaN</td>\n",
       "      <td>NaN</td>\n",
       "    </tr>\n",
       "    <tr>\n",
       "      <th>1</th>\n",
       "      <td>None</td>\n",
       "      <td>None</td>\n",
       "      <td>0201377179</td>\n",
       "      <td>Anello</td>\n",
       "      <td>[Clothing, Shoes &amp; Jewelry, Luggage &amp; Travel Gear, Backpacks, Casual Daypacks, Polyester Canvas ...</td>\n",
       "      <td>[The Hottest Bag in Town! Brand: Anello Condition: 100% brand new Size: Large Simplistic Japanes...</td>\n",
       "      <td>[https://images-na.ssl-images-amazon.com/images/I/51RJoBQ2ANL._SR38,50_.jpg, https://images-na.s...</td>\n",
       "      <td>NaN</td>\n",
       "      <td>Japan Anello Backpack Unisex LARGE LIGHT GRAY BLACK Rucksack Waterproof Canvas Bag</td>\n",
       "      <td>0201377179</td>\n",
       "      <td>1</td>\n",
       "      <td>NaN</td>\n",
       "      <td>NaN</td>\n",
       "      <td>NaN</td>\n",
       "    </tr>\n",
       "  </tbody>\n",
       "</table>\n",
       "</div>"
      ],
      "text/plain": [
       "  also_buy also_view        asin       brand  \\\n",
       "0     None      None  0000037214  Big Dreams   \n",
       "1     None      None  0201377179      Anello   \n",
       "\n",
       "                                                                                              category  \\\n",
       "0  [Clothing, Shoes & Jewelry, Costumes & Accessories, Kids & Baby, Girls, Accessories, 3 layers of...   \n",
       "1  [Clothing, Shoes & Jewelry, Luggage & Travel Gear, Backpacks, Casual Daypacks, Polyester Canvas ...   \n",
       "\n",
       "                                                                                           description  \\\n",
       "0                              [6\" long, stretched waist measures 11 1/2\" across. Fits up to 7 years.]   \n",
       "1  [The Hottest Bag in Town! Brand: Anello Condition: 100% brand new Size: Large Simplistic Japanes...   \n",
       "\n",
       "                                                                                                 image  \\\n",
       "0                                                                                              no_data   \n",
       "1  [https://images-na.ssl-images-amazon.com/images/I/51RJoBQ2ANL._SR38,50_.jpg, https://images-na.s...   \n",
       "\n",
       "   price  \\\n",
       "0    NaN   \n",
       "1    NaN   \n",
       "\n",
       "                                                                                title  \\\n",
       "0        Purple Sequin Tiny Dancer Tutu Ballet Dance Fairy Princess Costume Accessory   \n",
       "1  Japan Anello Backpack Unisex LARGE LIGHT GRAY BLACK Rucksack Waterproof Canvas Bag   \n",
       "\n",
       "  old_item_id_x  item_id old_item_id_y  num_ratings  avg_rating  \n",
       "0    0000037214        0           NaN          NaN         NaN  \n",
       "1    0201377179        1           NaN          NaN         NaN  "
      ]
     },
     "execution_count": 32,
     "metadata": {},
     "output_type": "execute_result"
    },
    {
     "name": "stdout",
     "output_type": "stream",
     "text": [
      "time: 5.12 s\n"
     ]
    }
   ],
   "source": [
    "all_info =  pd.merge(all_info,items_avg,how='left',left_on='asin',right_on='old_item_id')\n",
    "pd.set_option('display.max_colwidth', 100)\n",
    "all_info.head(2)"
   ]
  },
  {
   "cell_type": "markdown",
   "metadata": {},
   "source": [
    "# Explicit feedback (Reviewed Dataset) Recommender System"
   ]
  },
  {
   "cell_type": "markdown",
   "metadata": {},
   "source": [
    "### Explicit feedback is when users gives voluntarily the rating information on what they like and dislike.\n",
    "\n",
    "- In this case, I have explicit item ratings ranging from one to five.\n",
    "- Framed the recommendation system as a rating prediction machine learning problem: \n",
    "    - Predict an item's ratings in order to be able to recommend to a user an item that he is likely to rate high if he buys it. `\n",
    "\n",
    "### To evaluate the model, I randomly separate the data into a training and test set. "
   ]
  },
  {
   "cell_type": "code",
   "execution_count": 33,
   "metadata": {},
   "outputs": [
    {
     "name": "stdout",
     "output_type": "stream",
     "text": [
      "time: 1.39 s\n"
     ]
    }
   ],
   "source": [
    "ratings_train, ratings_test = train_test_split( review_data, test_size=0.1, random_state=0)"
   ]
  },
  {
   "cell_type": "code",
   "execution_count": 34,
   "metadata": {},
   "outputs": [
    {
     "data": {
      "text/plain": [
       "(962611, 11)"
      ]
     },
     "execution_count": 34,
     "metadata": {},
     "output_type": "execute_result"
    },
    {
     "name": "stdout",
     "output_type": "stream",
     "text": [
      "time: 2.68 ms\n"
     ]
    }
   ],
   "source": [
    "ratings_train.shape"
   ]
  },
  {
   "cell_type": "code",
   "execution_count": 35,
   "metadata": {},
   "outputs": [
    {
     "data": {
      "text/plain": [
       "(106957, 11)"
      ]
     },
     "execution_count": 35,
     "metadata": {},
     "output_type": "execute_result"
    },
    {
     "name": "stdout",
     "output_type": "stream",
     "text": [
      "time: 2.21 ms\n"
     ]
    }
   ],
   "source": [
    "ratings_test.shape"
   ]
  },
  {
   "cell_type": "markdown",
   "metadata": {},
   "source": [
    "## Adding Metadata to the train set\n",
    "Create an architecture that mixes the collaborative and content based filtering approaches:\n",
    "```\n",
    "- Collaborative Part: Predict items ratings to recommend to the user items which he is likely to rate high according to learnt item & user embeddings (learn similarity from interactions).\n",
    "- Content based part: Use metadata inputs (such as price and title) about items to recommend to the user contents similar to those he rated high (learn similarity of item attributes).\n",
    "```\n",
    "\n",
    "#### Adding the title and price - Add the metadata of the items in the training and test datasets."
   ]
  },
  {
   "cell_type": "code",
   "execution_count": 36,
   "metadata": {},
   "outputs": [
    {
     "name": "stdout",
     "output_type": "stream",
     "text": [
      "time: 1.66 ms\n"
     ]
    }
   ],
   "source": [
    "# # creating metadata mappings \n",
    "# titles = all_info['title'].unique()\n",
    "# titles_map = {i:val for i,val in enumerate(titles)}\n",
    "# inverse_titles_map = {val:i for i,val in enumerate(titles)}\n",
    "\n",
    "# price = all_info['price'].unique()\n",
    "# price_map = {i:val for i,val in enumerate(price)}\n",
    "# inverse_price_map = {val:i for i,val in enumerate(price)}\n",
    "\n",
    "# print (\"We have %d prices\" %price.shape)\n",
    "# print (\"We have %d titles\" %titles.shape)\n",
    "\n",
    "\n",
    "# all_info['price_id'] = all_info['price'].map(inverse_price_map)\n",
    "# all_info['title_id'] = all_info['title'].map(inverse_titles_map)\n",
    "\n",
    "# # creating dict from \n",
    "# item2prices = {}\n",
    "# for val in all_info[['item_id','price_id']].dropna().drop_duplicates().iterrows():\n",
    "#     item2prices[val[1][\"item_id\"]] = val[1][\"price_id\"]\n",
    "\n",
    "# item2titles = {}\n",
    "# for val in all_info[['item_id','title_id']].dropna().drop_duplicates().iterrows():\n",
    "#     item2titles[val[1][\"item_id\"]] = val[1][\"title_id\"]\n",
    "        \n",
    "\n",
    "\n",
    "# # populating the rating dataset with item metadata info\n",
    "# ratings_train[\"price_id\"] = ratings_train[\"item_id\"].map(lambda x : item2prices[x])\n",
    "# ratings_train[\"title_id\"] = ratings_train[\"item_id\"].map(lambda x : item2titles[x])\n",
    "\n",
    "\n",
    "# # populating the test dataset with item metadata info\n",
    "# ratings_test[\"price_id\"] = ratings_test[\"item_id\"].map(lambda x : item2prices[x])\n",
    "# ratings_test[\"title_id\"] = ratings_test[\"item_id\"].map(lambda x : item2titles[x])\n"
   ]
  },
  {
   "cell_type": "markdown",
   "metadata": {},
   "source": [
    "## create rating train/test dataset and upload into S3"
   ]
  },
  {
   "cell_type": "code",
   "execution_count": 37,
   "metadata": {},
   "outputs": [
    {
     "name": "stdout",
     "output_type": "stream",
     "text": [
      "time: 776 µs\n"
     ]
    }
   ],
   "source": [
    "# !aws s3 cp s3://dse-cohort5-group1/2-Keras-DeepRecommender/dataset/ratings_test.parquet ./data/\n",
    "# !aws s3 cp s3://dse-cohort5-group1/2-Keras-DeepRecommender/dataset/ratings_train.parquet ./data/"
   ]
  },
  {
   "cell_type": "code",
   "execution_count": 38,
   "metadata": {},
   "outputs": [
    {
     "name": "stdout",
     "output_type": "stream",
     "text": [
      "time: 4.5 s\n"
     ]
    }
   ],
   "source": [
    "ratings_test = pd.read_parquet('./data/ratings_test.parquet')\n",
    "ratings_train = pd.read_parquet('./data/ratings_train.parquet')"
   ]
  },
  {
   "cell_type": "code",
   "execution_count": 39,
   "metadata": {},
   "outputs": [
    {
     "data": {
      "text/html": [
       "<div>\n",
       "<style scoped>\n",
       "    .dataframe tbody tr th:only-of-type {\n",
       "        vertical-align: middle;\n",
       "    }\n",
       "\n",
       "    .dataframe tbody tr th {\n",
       "        vertical-align: top;\n",
       "    }\n",
       "\n",
       "    .dataframe thead th {\n",
       "        text-align: right;\n",
       "    }\n",
       "</style>\n",
       "<table border=\"1\" class=\"dataframe\">\n",
       "  <thead>\n",
       "    <tr style=\"text-align: right;\">\n",
       "      <th></th>\n",
       "      <th>asin</th>\n",
       "      <th>image</th>\n",
       "      <th>summary</th>\n",
       "      <th>reviewText</th>\n",
       "      <th>score</th>\n",
       "      <th>user_id</th>\n",
       "      <th>user_name</th>\n",
       "      <th>reviewTime</th>\n",
       "      <th>old_user_id</th>\n",
       "      <th>old_item_id</th>\n",
       "      <th>item_id</th>\n",
       "      <th>price_id</th>\n",
       "      <th>title_id</th>\n",
       "    </tr>\n",
       "  </thead>\n",
       "  <tbody>\n",
       "    <tr>\n",
       "      <th>162810</th>\n",
       "      <td>B003XKNC0Y</td>\n",
       "      <td>None</td>\n",
       "      <td>Cuter than I expected</td>\n",
       "      <td>The material could be softer, but some at home fabric softening should do the trick. I wish the ...</td>\n",
       "      <td>4.0</td>\n",
       "      <td>108108</td>\n",
       "      <td>Jas P</td>\n",
       "      <td>10 6, 2012</td>\n",
       "      <td>A36P85ZAIO9O5Z</td>\n",
       "      <td>B003XKNC0Y</td>\n",
       "      <td>243589</td>\n",
       "      <td>0</td>\n",
       "      <td>232003</td>\n",
       "    </tr>\n",
       "    <tr>\n",
       "      <th>866194</th>\n",
       "      <td>B019DG4ALQ</td>\n",
       "      <td>None</td>\n",
       "      <td>these jeans are adorable, the cotton fabric is soft</td>\n",
       "      <td>these jeans are adorable, the cotton fabric is soft, comfortable and thick as i like them. This ...</td>\n",
       "      <td>5.0</td>\n",
       "      <td>270025</td>\n",
       "      <td>kamaljeet</td>\n",
       "      <td>07 21, 2016</td>\n",
       "      <td>A2IQRPJO6WP94M</td>\n",
       "      <td>B019DG4ALQ</td>\n",
       "      <td>2331139</td>\n",
       "      <td>0</td>\n",
       "      <td>2181670</td>\n",
       "    </tr>\n",
       "    <tr>\n",
       "      <th>148573</th>\n",
       "      <td>B003AXXUII</td>\n",
       "      <td>None</td>\n",
       "      <td>LOVE 'EM UNDIES</td>\n",
       "      <td>This is my second order of Bali's Skamp briefs for women.  There are very few manufacturers who ...</td>\n",
       "      <td>5.0</td>\n",
       "      <td>98493</td>\n",
       "      <td>GreenEggsnHam</td>\n",
       "      <td>12 7, 2014</td>\n",
       "      <td>A1OMS90ARBURNK</td>\n",
       "      <td>B003AXXUII</td>\n",
       "      <td>211033</td>\n",
       "      <td>0</td>\n",
       "      <td>200873</td>\n",
       "    </tr>\n",
       "  </tbody>\n",
       "</table>\n",
       "</div>"
      ],
      "text/plain": [
       "              asin image                                              summary  \\\n",
       "162810  B003XKNC0Y  None                                Cuter than I expected   \n",
       "866194  B019DG4ALQ  None  these jeans are adorable, the cotton fabric is soft   \n",
       "148573  B003AXXUII  None                                      LOVE 'EM UNDIES   \n",
       "\n",
       "                                                                                                 reviewText  \\\n",
       "162810  The material could be softer, but some at home fabric softening should do the trick. I wish the ...   \n",
       "866194  these jeans are adorable, the cotton fabric is soft, comfortable and thick as i like them. This ...   \n",
       "148573  This is my second order of Bali's Skamp briefs for women.  There are very few manufacturers who ...   \n",
       "\n",
       "        score  user_id      user_name   reviewTime     old_user_id  \\\n",
       "162810    4.0   108108          Jas P   10 6, 2012  A36P85ZAIO9O5Z   \n",
       "866194    5.0   270025      kamaljeet  07 21, 2016  A2IQRPJO6WP94M   \n",
       "148573    5.0    98493  GreenEggsnHam   12 7, 2014  A1OMS90ARBURNK   \n",
       "\n",
       "       old_item_id  item_id  price_id  title_id  \n",
       "162810  B003XKNC0Y   243589         0    232003  \n",
       "866194  B019DG4ALQ  2331139         0   2181670  \n",
       "148573  B003AXXUII   211033         0    200873  "
      ]
     },
     "execution_count": 39,
     "metadata": {},
     "output_type": "execute_result"
    },
    {
     "name": "stdout",
     "output_type": "stream",
     "text": [
      "time: 14.6 ms\n"
     ]
    }
   ],
   "source": [
    "ratings_train[:3]"
   ]
  },
  {
   "cell_type": "code",
   "execution_count": 40,
   "metadata": {},
   "outputs": [
    {
     "data": {
      "text/plain": [
       "(855654, 13)"
      ]
     },
     "execution_count": 40,
     "metadata": {},
     "output_type": "execute_result"
    },
    {
     "name": "stdout",
     "output_type": "stream",
     "text": [
      "time: 2.29 ms\n"
     ]
    }
   ],
   "source": [
    "ratings_train.shape"
   ]
  },
  {
   "cell_type": "markdown",
   "metadata": {},
   "source": [
    "# **Define embeddings\n",
    "### The $\\underline{embeddings}$ are low-dimensional hidden representations of users and items, \n",
    "### i.e. for each item I can find its properties and for each user I can encode how much they like those properties so I can determine attitudes or preferences of users by a small number of hidden factors \n",
    "\n",
    "### Throughout the training, I learn two new low-dimensional dense representations: one embedding for the users and another one for the items.\n"
   ]
  },
  {
   "cell_type": "code",
   "execution_count": 41,
   "metadata": {},
   "outputs": [
    {
     "name": "stdout",
     "output_type": "stream",
     "text": [
      "time: 6.64 s\n"
     ]
    }
   ],
   "source": [
    "price = all_info['price'].unique()\n",
    "titles = all_info['title'].unique()"
   ]
  },
  {
   "attachments": {
    "image.png": {
     "image/png": "[encoded data removed]"
    }
   },
   "cell_type": "markdown",
   "metadata": {},
   "source": [
    "# 1. Matrix factorization approach\n",
    "![image.png](attachment:image.png)"
   ]
  },
  {
   "cell_type": "code",
   "execution_count": 42,
   "metadata": {},
   "outputs": [
    {
     "name": "stdout",
     "output_type": "stream",
     "text": [
      "WARNING:tensorflow:From /home/ec2-user/anaconda3/envs/tensorflow_p36/lib/python3.6/site-packages/keras/backend/tensorflow_backend.py:517: The name tf.placeholder is deprecated. Please use tf.compat.v1.placeholder instead.\n",
      "\n",
      "WARNING:tensorflow:From /home/ec2-user/anaconda3/envs/tensorflow_p36/lib/python3.6/site-packages/keras/backend/tensorflow_backend.py:4138: The name tf.random_uniform is deprecated. Please use tf.random.uniform instead.\n",
      "\n",
      "WARNING:tensorflow:From /home/ec2-user/anaconda3/envs/tensorflow_p36/lib/python3.6/site-packages/keras/backend/tensorflow_backend.py:74: The name tf.get_default_graph is deprecated. Please use tf.compat.v1.get_default_graph instead.\n",
      "\n",
      "time: 77.4 ms\n"
     ]
    }
   ],
   "source": [
    "# declare input embeddings to the model\n",
    "# User input\n",
    "user_id_input = Input(shape=[1], name='user')\n",
    "# Item Input\n",
    "item_id_input = Input(shape=[1], name='item')\n",
    "price_id_input = Input(shape=[1], name='price')\n",
    "title_id_input = Input(shape=[1], name='title')\n",
    "\n",
    "# define the size of embeddings as a parameter\n",
    "user_embedding_size = 10 # Check 5, 10 , 15, 20, 50\n",
    "item_embedding_size = 10 # Check 5, 10 , 15, 20, 50\n",
    "price_embedding_size = 10 # Check 5, 10 , 15, 20, 50\n",
    "title_embedding_size = 10 # Check 5, 10 , 15, 20, 50\n",
    "\n",
    "# apply an embedding layer to all inputs\n",
    "user_embedding = Embedding(output_dim=user_embedding_size, input_dim=users.shape[0],\n",
    "                               input_length=1, name='user_embedding')(user_id_input)\n",
    "\n",
    "item_embedding = Embedding(output_dim=item_embedding_size, input_dim=items_reviewed.shape[0],\n",
    "                               input_length=1, name='item_embedding')(item_id_input)\n",
    "\n",
    "price_embedding = Embedding(output_dim=price_embedding_size, input_dim=price.shape[0],\n",
    "                           input_length=1, name='price_embedding')(price_id_input)\n",
    "\n",
    "title_embedding = Embedding(output_dim=title_embedding_size, input_dim=titles.shape[0],\n",
    "                           input_length=1, name='title_embedding')(title_id_input)\n",
    "\n",
    "# reshape from shape (batch_size, input_length,embedding_size) to (batch_size, embedding_size). \n",
    "user_vecs = Reshape([user_embedding_size])(user_embedding)\n",
    "item_vecs = Reshape([item_embedding_size])(item_embedding)\n",
    "price_vecs = Reshape([price_embedding_size])(price_embedding)\n",
    "title_vecs = Reshape([title_embedding_size])(title_embedding)"
   ]
  },
  {
   "cell_type": "markdown",
   "metadata": {},
   "source": [
    "### Matrix Factorisation works on the principle that we can learn the user and the item embeddings, and then predict the rating for each user-item by performing a dot (or scalar) product between the respective user and item embedding. \n",
    "\n"
   ]
  },
  {
   "cell_type": "code",
   "execution_count": 43,
   "metadata": {},
   "outputs": [
    {
     "name": "stdout",
     "output_type": "stream",
     "text": [
      "time: 5.18 ms\n"
     ]
    }
   ],
   "source": [
    "# Applying matrix factorization: declare the output as being the dot product between the two embeddings: items and users\n",
    "y = Dot(1, normalize=False)([user_vecs, item_vecs])"
   ]
  },
  {
   "cell_type": "code",
   "execution_count": 44,
   "metadata": {},
   "outputs": [
    {
     "name": "stdout",
     "output_type": "stream",
     "text": [
      "time: 426 ms\n"
     ]
    }
   ],
   "source": [
    "!mkdir -p ./models"
   ]
  },
  {
   "cell_type": "code",
   "execution_count": 45,
   "metadata": {},
   "outputs": [
    {
     "name": "stdout",
     "output_type": "stream",
     "text": [
      "time: 1.23 ms\n"
     ]
    }
   ],
   "source": [
    "num_epochs = 20"
   ]
  },
  {
   "cell_type": "code",
   "execution_count": 46,
   "metadata": {},
   "outputs": [
    {
     "name": "stdout",
     "output_type": "stream",
     "text": [
      "WARNING:tensorflow:From /home/ec2-user/anaconda3/envs/tensorflow_p36/lib/python3.6/site-packages/keras/optimizers.py:790: The name tf.train.Optimizer is deprecated. Please use tf.compat.v1.train.Optimizer instead.\n",
      "\n",
      "WARNING:tensorflow:From /home/ec2-user/anaconda3/envs/tensorflow_p36/lib/python3.6/site-packages/keras/backend/tensorflow_backend.py:986: The name tf.assign_add is deprecated. Please use tf.compat.v1.assign_add instead.\n",
      "\n",
      "WARNING:tensorflow:From /home/ec2-user/anaconda3/envs/tensorflow_p36/lib/python3.6/site-packages/keras/backend/tensorflow_backend.py:973: The name tf.assign is deprecated. Please use tf.compat.v1.assign instead.\n",
      "\n",
      "Train on 684523 samples, validate on 171131 samples\n",
      "Epoch 1/20\n",
      "WARNING:tensorflow:From /home/ec2-user/anaconda3/envs/tensorflow_p36/lib/python3.6/site-packages/keras/backend/tensorflow_backend.py:174: The name tf.get_default_session is deprecated. Please use tf.compat.v1.get_default_session instead.\n",
      "\n",
      "WARNING:tensorflow:From /home/ec2-user/anaconda3/envs/tensorflow_p36/lib/python3.6/site-packages/keras/backend/tensorflow_backend.py:190: The name tf.global_variables is deprecated. Please use tf.compat.v1.global_variables instead.\n",
      "\n",
      "WARNING:tensorflow:From /home/ec2-user/anaconda3/envs/tensorflow_p36/lib/python3.6/site-packages/keras/backend/tensorflow_backend.py:199: The name tf.is_variable_initialized is deprecated. Please use tf.compat.v1.is_variable_initialized instead.\n",
      "\n",
      "WARNING:tensorflow:From /home/ec2-user/anaconda3/envs/tensorflow_p36/lib/python3.6/site-packages/keras/backend/tensorflow_backend.py:206: The name tf.variables_initializer is deprecated. Please use tf.compat.v1.variables_initializer instead.\n",
      "\n",
      "684523/684523 [==============================] - 61s 90us/step - loss: 18.0555 - val_loss: 18.0595\n",
      "Epoch 2/20\n",
      "684523/684523 [==============================] - 38s 56us/step - loss: 17.9340 - val_loss: 17.9657\n",
      "Epoch 3/20\n",
      "684523/684523 [==============================] - 39s 56us/step - loss: 17.6624 - val_loss: 17.8593\n",
      "Epoch 4/20\n",
      "684523/684523 [==============================] - 39s 56us/step - loss: 17.3095 - val_loss: 17.7612\n",
      "Epoch 5/20\n",
      "684523/684523 [==============================] - 39s 56us/step - loss: 16.9370 - val_loss: 17.6826\n",
      "Epoch 6/20\n",
      "684523/684523 [==============================] - 39s 56us/step - loss: 16.5906 - val_loss: 17.6274\n",
      "Epoch 7/20\n",
      "684523/684523 [==============================] - 39s 56us/step - loss: 16.2918 - val_loss: 17.5910\n",
      "Epoch 8/20\n",
      "684523/684523 [==============================] - 39s 57us/step - loss: 16.0477 - val_loss: 17.5684\n",
      "Epoch 9/20\n",
      "684523/684523 [==============================] - 39s 57us/step - loss: 15.8556 - val_loss: 17.5555\n",
      "Epoch 10/20\n",
      "684523/684523 [==============================] - 39s 56us/step - loss: 15.7080 - val_loss: 17.5478\n",
      "Epoch 11/20\n",
      "684523/684523 [==============================] - 39s 57us/step - loss: 15.5954 - val_loss: 17.5431\n",
      "Epoch 12/20\n",
      "684523/684523 [==============================] - 39s 57us/step - loss: 15.5106 - val_loss: 17.5408\n",
      "Epoch 13/20\n",
      "684523/684523 [==============================] - 39s 57us/step - loss: 15.4462 - val_loss: 17.5390\n",
      "Epoch 14/20\n",
      "684523/684523 [==============================] - 39s 57us/step - loss: 15.3979 - val_loss: 17.5385\n",
      "Epoch 15/20\n",
      "684523/684523 [==============================] - 39s 57us/step - loss: 15.3607 - val_loss: 17.5378\n",
      "Epoch 16/20\n",
      "684523/684523 [==============================] - 39s 56us/step - loss: 15.3326 - val_loss: 17.5380\n",
      "Epoch 17/20\n",
      "684523/684523 [==============================] - 39s 56us/step - loss: 15.3106 - val_loss: 17.5383\n",
      "Epoch 18/20\n",
      "684523/684523 [==============================] - 39s 57us/step - loss: 15.2939 - val_loss: 17.5388\n",
      "Epoch 19/20\n",
      "684523/684523 [==============================] - 39s 56us/step - loss: 15.2803 - val_loss: 17.5392\n",
      "Epoch 20/20\n",
      "684523/684523 [==============================] - 39s 57us/step - loss: 15.2690 - val_loss: 17.5390\n",
      "time: 13min 19s\n"
     ]
    }
   ],
   "source": [
    "# create model\n",
    "model = Model(inputs=\n",
    "                    [\n",
    "                     user_id_input,\n",
    "                     item_id_input\n",
    "                    ], \n",
    "              outputs=y)\n",
    "\n",
    "# compile model\n",
    "model.compile(loss='mse',\n",
    "              optimizer=\"adam\" )\n",
    "\n",
    "# set save location for model\n",
    "save_path = \"./models\"\n",
    "thename = save_path + '/' + modname + '.h5'\n",
    "mcheck = ModelCheckpoint(thename, monitor='val_loss', save_best_only=True)\n",
    "\n",
    "# fit model\n",
    "history = model.fit([ratings_train[\"user_id\"]\n",
    "                    , ratings_train[\"item_id\"]\n",
    "                    ]\n",
    "                    , ratings_train[\"score\"]\n",
    "                    , batch_size=64\n",
    "                    , epochs=num_epochs\n",
    "                    , validation_split=0.2\n",
    "                    , callbacks=[mcheck]\n",
    "                    , shuffle=True)"
   ]
  },
  {
   "cell_type": "code",
   "execution_count": 47,
   "metadata": {},
   "outputs": [
    {
     "name": "stdout",
     "output_type": "stream",
     "text": [
      "Save history in  ./histories/matrix_facto_10_embeddings_20_epochs.pkl\n",
      "time: 2.75 ms\n"
     ]
    }
   ],
   "source": [
    "# Save the fitted model history to a file\n",
    "with open('./histories/' + modname + '.pkl' , 'wb') as file_pi:  pickle.dump(history.history, file_pi)\n",
    "    \n",
    "print(\"Save history in \", './histories/' + modname + '.pkl')"
   ]
  },
  {
   "cell_type": "code",
   "execution_count": 48,
   "metadata": {},
   "outputs": [
    {
     "name": "stdout",
     "output_type": "stream",
     "text": [
      "time: 1.99 ms\n"
     ]
    }
   ],
   "source": [
    "def disp_model(path,file,suffix):\n",
    "    model = load_model(path+file+suffix)    \n",
    "    ## Summarise the model \n",
    "    model.summary()    \n",
    "    # Extract the learnt user and item embeddings, i.e., a table with number of items and users rows and columns, with number of columns is the dimension of the trained embedding.\n",
    "    # In our case, the embeddings correspond exactly to the weights of the model:\n",
    "    weights = model.get_weights()\n",
    "    print (\"embeddings \\ weights shapes\",[w.shape for w in weights])    \n",
    "    return model\n",
    "    \n",
    "model_path = \"./models/\""
   ]
  },
  {
   "cell_type": "code",
   "execution_count": 49,
   "metadata": {},
   "outputs": [
    {
     "name": "stdout",
     "output_type": "stream",
     "text": [
      "time: 2.31 ms\n"
     ]
    }
   ],
   "source": [
    "def plt_pickle(path,file,suffix):\n",
    "    with open(path+file+suffix , 'rb') as file_pi: \n",
    "        thepickle= pickle.load(file_pi)\n",
    "        plot(thepickle[\"loss\"],label ='Train Error ' + file,linestyle=\"--\")\n",
    "        plot(thepickle[\"val_loss\"],label='Validation Error ' + file) \n",
    "        plt.legend()\n",
    "        plt.xlabel(\"Epoch\")\n",
    "        plt.ylabel(\"Error\")  \n",
    "        ##plt.ylim(0, 0.1)\n",
    "    return pd.DataFrame(thepickle,columns =['loss','val_loss'])\n",
    "\n",
    "hist_path = \"./histories/\""
   ]
  },
  {
   "cell_type": "code",
   "execution_count": 50,
   "metadata": {},
   "outputs": [
    {
     "name": "stdout",
     "output_type": "stream",
     "text": [
      "__________________________________________________________________________________________________\n",
      "Layer (type)                    Output Shape         Param #     Connected to                     \n",
      "==================================================================================================\n",
      "user (InputLayer)               (None, 1)            0                                            \n",
      "__________________________________________________________________________________________________\n",
      "item (InputLayer)               (None, 1)            0                                            \n",
      "__________________________________________________________________________________________________\n",
      "user_embedding (Embedding)      (None, 1, 10)        5130100     user[0][0]                       \n",
      "__________________________________________________________________________________________________\n",
      "item_embedding (Embedding)      (None, 1, 10)        2456360     item[0][0]                       \n",
      "__________________________________________________________________________________________________\n",
      "reshape_9 (Reshape)             (None, 10)           0           user_embedding[0][0]             \n",
      "__________________________________________________________________________________________________\n",
      "reshape_10 (Reshape)            (None, 10)           0           item_embedding[0][0]             \n",
      "__________________________________________________________________________________________________\n",
      "dot_3 (Dot)                     (None, 1)            0           reshape_9[0][0]                  \n",
      "                                                                 reshape_10[0][0]                 \n",
      "==================================================================================================\n",
      "Total params: 7,586,460\n",
      "Trainable params: 7,586,460\n",
      "Non-trainable params: 0\n",
      "__________________________________________________________________________________________________\n",
      "embeddings \\ weights shapes [(513010, 10), (245636, 10)]\n",
      "time: 798 ms\n"
     ]
    }
   ],
   "source": [
    "model=disp_model(model_path , 'matrix_facto_10_embeddings_3_epochs' , '.h5')"
   ]
  },
  {
   "cell_type": "code",
   "execution_count": 51,
   "metadata": {},
   "outputs": [
    {
     "data": {
      "image/svg+xml": [
       "<svg height=\"264pt\" viewBox=\"0.00 0.00 382.00 264.00\" width=\"382pt\" xmlns=\"http://www.w3.org/2000/svg\" xmlns:xlink=\"http://www.w3.org/1999/xlink\">\n",
       "<g class=\"graph\" id=\"graph0\" transform=\"scale(1 1) rotate(0) translate(4 260)\">\n",
       "<title>G</title>\n",
       "<polygon fill=\"#ffffff\" points=\"-4,4 -4,-260 378,-260 378,4 -4,4\" stroke=\"transparent\"/>\n",
       "<!-- 140435689879312 -->\n",
       "<g class=\"node\" id=\"node1\">\n",
       "<title>140435689879312</title>\n",
       "<polygon fill=\"none\" points=\"35,-219.5 35,-255.5 142,-255.5 142,-219.5 35,-219.5\" stroke=\"#000000\"/>\n",
       "<text fill=\"#000000\" font-family=\"Times,serif\" font-size=\"14.00\" text-anchor=\"middle\" x=\"88.5\" y=\"-233.8\">user: InputLayer</text>\n",
       "</g>\n",
       "<!-- 140400312828256 -->\n",
       "<g class=\"node\" id=\"node3\">\n",
       "<title>140400312828256</title>\n",
       "<polygon fill=\"none\" points=\"0,-146.5 0,-182.5 177,-182.5 177,-146.5 0,-146.5\" stroke=\"#000000\"/>\n",
       "<text fill=\"#000000\" font-family=\"Times,serif\" font-size=\"14.00\" text-anchor=\"middle\" x=\"88.5\" y=\"-160.8\">user_embedding: Embedding</text>\n",
       "</g>\n",
       "<!-- 140435689879312&#45;&gt;140400312828256 -->\n",
       "<g class=\"edge\" id=\"edge1\">\n",
       "<title>140435689879312-&gt;140400312828256</title>\n",
       "<path d=\"M88.5,-219.4551C88.5,-211.3828 88.5,-201.6764 88.5,-192.6817\" fill=\"none\" stroke=\"#000000\"/>\n",
       "<polygon fill=\"#000000\" points=\"92.0001,-192.5903 88.5,-182.5904 85.0001,-192.5904 92.0001,-192.5903\" stroke=\"#000000\"/>\n",
       "</g>\n",
       "<!-- 140400313993424 -->\n",
       "<g class=\"node\" id=\"node2\">\n",
       "<title>140400313993424</title>\n",
       "<polygon fill=\"none\" points=\"230,-219.5 230,-255.5 339,-255.5 339,-219.5 230,-219.5\" stroke=\"#000000\"/>\n",
       "<text fill=\"#000000\" font-family=\"Times,serif\" font-size=\"14.00\" text-anchor=\"middle\" x=\"284.5\" y=\"-233.8\">item: InputLayer</text>\n",
       "</g>\n",
       "<!-- 140400313993872 -->\n",
       "<g class=\"node\" id=\"node4\">\n",
       "<title>140400313993872</title>\n",
       "<polygon fill=\"none\" points=\"195,-146.5 195,-182.5 374,-182.5 374,-146.5 195,-146.5\" stroke=\"#000000\"/>\n",
       "<text fill=\"#000000\" font-family=\"Times,serif\" font-size=\"14.00\" text-anchor=\"middle\" x=\"284.5\" y=\"-160.8\">item_embedding: Embedding</text>\n",
       "</g>\n",
       "<!-- 140400313993424&#45;&gt;140400313993872 -->\n",
       "<g class=\"edge\" id=\"edge2\">\n",
       "<title>140400313993424-&gt;140400313993872</title>\n",
       "<path d=\"M284.5,-219.4551C284.5,-211.3828 284.5,-201.6764 284.5,-192.6817\" fill=\"none\" stroke=\"#000000\"/>\n",
       "<polygon fill=\"#000000\" points=\"288.0001,-192.5903 284.5,-182.5904 281.0001,-192.5904 288.0001,-192.5903\" stroke=\"#000000\"/>\n",
       "</g>\n",
       "<!-- 140400313992920 -->\n",
       "<g class=\"node\" id=\"node5\">\n",
       "<title>140400313992920</title>\n",
       "<polygon fill=\"none\" points=\"51,-73.5 51,-109.5 176,-109.5 176,-73.5 51,-73.5\" stroke=\"#000000\"/>\n",
       "<text fill=\"#000000\" font-family=\"Times,serif\" font-size=\"14.00\" text-anchor=\"middle\" x=\"113.5\" y=\"-87.8\">reshape_9: Reshape</text>\n",
       "</g>\n",
       "<!-- 140400312828256&#45;&gt;140400313992920 -->\n",
       "<g class=\"edge\" id=\"edge3\">\n",
       "<title>140400312828256-&gt;140400313992920</title>\n",
       "<path d=\"M94.6798,-146.4551C97.5043,-138.2074 100.9132,-128.2536 104.0493,-119.0962\" fill=\"none\" stroke=\"#000000\"/>\n",
       "<polygon fill=\"#000000\" points=\"107.3759,-120.185 107.3047,-109.5904 100.7535,-117.917 107.3759,-120.185\" stroke=\"#000000\"/>\n",
       "</g>\n",
       "<!-- 140400313992024 -->\n",
       "<g class=\"node\" id=\"node6\">\n",
       "<title>140400313992024</title>\n",
       "<polygon fill=\"none\" points=\"206,-73.5 206,-109.5 337,-109.5 337,-73.5 206,-73.5\" stroke=\"#000000\"/>\n",
       "<text fill=\"#000000\" font-family=\"Times,serif\" font-size=\"14.00\" text-anchor=\"middle\" x=\"271.5\" y=\"-87.8\">reshape_10: Reshape</text>\n",
       "</g>\n",
       "<!-- 140400313993872&#45;&gt;140400313992024 -->\n",
       "<g class=\"edge\" id=\"edge4\">\n",
       "<title>140400313993872-&gt;140400313992024</title>\n",
       "<path d=\"M281.2865,-146.4551C279.849,-138.3828 278.1205,-128.6764 276.5187,-119.6817\" fill=\"none\" stroke=\"#000000\"/>\n",
       "<polygon fill=\"#000000\" points=\"279.9207,-118.8218 274.7216,-109.5904 273.0291,-120.0491 279.9207,-118.8218\" stroke=\"#000000\"/>\n",
       "</g>\n",
       "<!-- 140400313993592 -->\n",
       "<g class=\"node\" id=\"node7\">\n",
       "<title>140400313993592</title>\n",
       "<polygon fill=\"none\" points=\"149,-.5 149,-36.5 224,-36.5 224,-.5 149,-.5\" stroke=\"#000000\"/>\n",
       "<text fill=\"#000000\" font-family=\"Times,serif\" font-size=\"14.00\" text-anchor=\"middle\" x=\"186.5\" y=\"-14.8\">dot_3: Dot</text>\n",
       "</g>\n",
       "<!-- 140400313992920&#45;&gt;140400313993592 -->\n",
       "<g class=\"edge\" id=\"edge5\">\n",
       "<title>140400313992920-&gt;140400313993592</title>\n",
       "<path d=\"M131.5449,-73.4551C140.4946,-64.5054 151.453,-53.547 161.2231,-43.7769\" fill=\"none\" stroke=\"#000000\"/>\n",
       "<polygon fill=\"#000000\" points=\"163.8134,-46.1363 168.4096,-36.5904 158.8637,-41.1866 163.8134,-46.1363\" stroke=\"#000000\"/>\n",
       "</g>\n",
       "<!-- 140400313992024&#45;&gt;140400313993592 -->\n",
       "<g class=\"edge\" id=\"edge6\">\n",
       "<title>140400313992024-&gt;140400313993592</title>\n",
       "<path d=\"M250.4888,-73.4551C239.8636,-64.3299 226.8068,-53.1165 215.2645,-43.2036\" fill=\"none\" stroke=\"#000000\"/>\n",
       "<polygon fill=\"#000000\" points=\"217.4308,-40.4505 207.5641,-36.5904 212.8701,-45.7609 217.4308,-40.4505\" stroke=\"#000000\"/>\n",
       "</g>\n",
       "</g>\n",
       "</svg>"
      ],
      "text/plain": [
       "<IPython.core.display.SVG object>"
      ]
     },
     "execution_count": 51,
     "metadata": {},
     "output_type": "execute_result"
    },
    {
     "name": "stdout",
     "output_type": "stream",
     "text": [
      "time: 719 ms\n"
     ]
    }
   ],
   "source": [
    "# Display the model using keras\n",
    "SVG(model_to_dot(model).create(prog='dot', format='svg'))"
   ]
  },
  {
   "cell_type": "code",
   "execution_count": 53,
   "metadata": {},
   "outputs": [
    {
     "data": {
      "text/html": [
       "<div>\n",
       "<style scoped>\n",
       "    .dataframe tbody tr th:only-of-type {\n",
       "        vertical-align: middle;\n",
       "    }\n",
       "\n",
       "    .dataframe tbody tr th {\n",
       "        vertical-align: top;\n",
       "    }\n",
       "\n",
       "    .dataframe thead th {\n",
       "        text-align: right;\n",
       "    }\n",
       "</style>\n",
       "<table border=\"1\" class=\"dataframe\">\n",
       "  <thead>\n",
       "    <tr style=\"text-align: right;\">\n",
       "      <th></th>\n",
       "      <th>0</th>\n",
       "      <th>1</th>\n",
       "      <th>2</th>\n",
       "      <th>3</th>\n",
       "      <th>4</th>\n",
       "      <th>5</th>\n",
       "      <th>6</th>\n",
       "      <th>7</th>\n",
       "      <th>8</th>\n",
       "      <th>9</th>\n",
       "      <th>10</th>\n",
       "      <th>11</th>\n",
       "      <th>12</th>\n",
       "      <th>13</th>\n",
       "      <th>14</th>\n",
       "      <th>15</th>\n",
       "      <th>16</th>\n",
       "      <th>17</th>\n",
       "      <th>18</th>\n",
       "      <th>19</th>\n",
       "    </tr>\n",
       "  </thead>\n",
       "  <tbody>\n",
       "    <tr>\n",
       "      <th>loss</th>\n",
       "      <td>18.055504</td>\n",
       "      <td>17.933968</td>\n",
       "      <td>17.662405</td>\n",
       "      <td>17.309468</td>\n",
       "      <td>16.937040</td>\n",
       "      <td>16.590583</td>\n",
       "      <td>16.291825</td>\n",
       "      <td>16.047750</td>\n",
       "      <td>15.855556</td>\n",
       "      <td>15.708029</td>\n",
       "      <td>15.595434</td>\n",
       "      <td>15.510601</td>\n",
       "      <td>15.446210</td>\n",
       "      <td>15.397919</td>\n",
       "      <td>15.360749</td>\n",
       "      <td>15.332588</td>\n",
       "      <td>15.310629</td>\n",
       "      <td>15.293881</td>\n",
       "      <td>15.280319</td>\n",
       "      <td>15.269036</td>\n",
       "    </tr>\n",
       "    <tr>\n",
       "      <th>val_loss</th>\n",
       "      <td>18.059548</td>\n",
       "      <td>17.965689</td>\n",
       "      <td>17.859285</td>\n",
       "      <td>17.761226</td>\n",
       "      <td>17.682601</td>\n",
       "      <td>17.627383</td>\n",
       "      <td>17.590984</td>\n",
       "      <td>17.568394</td>\n",
       "      <td>17.555484</td>\n",
       "      <td>17.547825</td>\n",
       "      <td>17.543127</td>\n",
       "      <td>17.540809</td>\n",
       "      <td>17.539006</td>\n",
       "      <td>17.538535</td>\n",
       "      <td>17.537834</td>\n",
       "      <td>17.538012</td>\n",
       "      <td>17.538322</td>\n",
       "      <td>17.538830</td>\n",
       "      <td>17.539164</td>\n",
       "      <td>17.538966</td>\n",
       "    </tr>\n",
       "  </tbody>\n",
       "</table>\n",
       "</div>"
      ],
      "text/plain": [
       "                 0          1          2          3          4          5   \\\n",
       "loss      18.055504  17.933968  17.662405  17.309468  16.937040  16.590583   \n",
       "val_loss  18.059548  17.965689  17.859285  17.761226  17.682601  17.627383   \n",
       "\n",
       "                 6          7          8          9          10         11  \\\n",
       "loss      16.291825  16.047750  15.855556  15.708029  15.595434  15.510601   \n",
       "val_loss  17.590984  17.568394  17.555484  17.547825  17.543127  17.540809   \n",
       "\n",
       "                 12         13         14         15         16         17  \\\n",
       "loss      15.446210  15.397919  15.360749  15.332588  15.310629  15.293881   \n",
       "val_loss  17.539006  17.538535  17.537834  17.538012  17.538322  17.538830   \n",
       "\n",
       "                 18         19  \n",
       "loss      15.280319  15.269036  \n",
       "val_loss  17.539164  17.538966  "
      ]
     },
     "execution_count": 53,
     "metadata": {},
     "output_type": "execute_result"
    },
    {
     "data": {
      "image/png": "[encoded data removed]",
      "text/plain": [
       "<Figure size 432x288 with 1 Axes>"
      ]
     },
     "metadata": {},
     "output_type": "display_data"
    },
    {
     "name": "stdout",
     "output_type": "stream",
     "text": [
      "time: 263 ms\n"
     ]
    }
   ],
   "source": [
    "x=plt_pickle(hist_path , modname , '.pkl')\n",
    "x.head(20).transpose()"
   ]
  },
  {
   "cell_type": "code",
   "execution_count": null,
   "metadata": {},
   "outputs": [],
   "source": []
  }
 ],
 "metadata": {
  "kernelspec": {
   "display_name": "conda_tensorflow_p36",
   "language": "python",
   "name": "conda_tensorflow_p36"
  },
  "language_info": {
   "codemirror_mode": {
    "name": "ipython",
    "version": 3
   },
   "file_extension": ".py",
   "mimetype": "text/x-python",
   "name": "python",
   "nbconvert_exporter": "python",
   "pygments_lexer": "ipython3",
   "version": "3.6.6"
  }
 },
 "nbformat": 4,
 "nbformat_minor": 4
}
