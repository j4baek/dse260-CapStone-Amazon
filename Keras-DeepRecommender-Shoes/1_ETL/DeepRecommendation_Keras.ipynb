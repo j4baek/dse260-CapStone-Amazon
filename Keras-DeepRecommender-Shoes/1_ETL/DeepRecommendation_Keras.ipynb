{
 "cells": [
  {
   "cell_type": "markdown",
   "metadata": {},
   "source": [
    "# Implementing a Recommender System with SageMaker, Tensfolow, and Keras\n",
    "## _**Making Product - Shoes Recommendations Using Neural Networks and Embeddings**_\n",
    "\n",
    "\n",
    "## Background\n",
    "\n",
    "#### In many ways, recommender systems were a catalyst for the current popularity of machine learning.  One of Amazon's earliest successes was the \"Customers who bought this, also bought...\" feature, while the million dollar Netflix Prize spurred research, raised public awareness, and inspired numerous other data science competitions.\n",
    "\n",
    "#### Recommender systems can utilize a multitude of data sources and ML algorithms, and most combine various unsupervised, supervised, and reinforcement learning techniques into a holistic framework.  However, the core component is almost always a model which which predicts a user's rating (or purchase) for a certain item based on that user's historical ratings of similar items as well as the behavior of other similar users.  The minimal required dataset for this is a history of user item ratings.  In our case, we'll use 1 to 5 star ratings from over 2M Amazon customers.  More details on this dataset can be found at its [AWS Public Datasets page](https://s3.amazonaws.com/amazon-reviews-pds/readme.html).\n",
    "\n",
    "#### Matrix factorization has been the cornerstone of most user-item prediction models.  This method starts with the large, sparse, user-item ratings in a single matrix, where users index the rows, and items index the columns.  It then seeks to find two lower-dimensional, dense matrices which, when multiplied together, preserve the information and relationships in the larger matrix.\n",
    "\n",
    "![image](./images/1_PefuBiYr9Bp7lo_zotGj0Q.png)\n",
    "\n",
    "### ** Matrix factorization has been extended and genarlized with deep learning and embeddings.  These techniques allows us to introduce non-linearities for enhanced performance and flexibility.  This notebook will fit a neural network-based model to generate recommendations for the Amazon dataset.  It will start by exploring our data in the notebook and even training a model on a sample of the data.  Later we'll expand to the full dataset and fit our model using a SageMaker managed training cluster.  We'll then deploy to an endpoint and check our method.\n",
    "\n",
    "---\n",
    "\n",
    "## Setup\n",
    "\n",
    "#### _This notebook was created and tested on an ml.p2.xlarge notebook instance._\n",
    "\n",
    "#### Let's start by specifying:\n",
    "\n",
    "#### - The S3 bucket and prefix that you want to use for training and model data.  This should be within the same region as the Notebook Instance, training, and hosting.\n",
    "#### - The IAM role arn used to give training and hosting access to your data. See the documentation for how to create these.  Note, if more than one role is required for notebook instances, training, and/or hosting, please replace the `get_execution_role()` call with the appropriate full IAM role arn string(s).\n",
    "\n",
    "---\n",
    "\n",
    "Frame the recommendation system as a rating prediction machine learning problem and create a hybrid architecture that mixes the collaborative and content based filtering approaches:\n",
    "- Collaborative part: Predict items ratings in order to recommend to the user items that he is likely to rate high.\n",
    "- Content based: use metadata inputs (such as price and title) about items to find similar items to recommend.\n",
    "\n",
    "### - Create 2 explicit recommendation engine models based on 2 machine learning architecture using Keras: \n",
    "    1. a matrix factorization model  \n",
    "    2. a deep neural network model.\n",
    "\n",
    "\n",
    "### Compare the results of the different models and configurations to find the \"best\" predicting model\n",
    "\n",
    "### Used the best model for recommending items to users"
   ]
  },
  {
   "cell_type": "code",
   "execution_count": 1,
   "metadata": {},
   "outputs": [
    {
     "name": "stdout",
     "output_type": "stream",
     "text": [
      "Requirement already up-to-date: pip in /home/ec2-user/anaconda3/envs/tensorflow_p36/lib/python3.6/site-packages (20.1.1)\n",
      "Requirement already satisfied: sagemaker-experiments in /home/ec2-user/anaconda3/envs/tensorflow_p36/lib/python3.6/site-packages (0.1.13)\n",
      "Requirement already satisfied: boto3>=1.12.8 in /home/ec2-user/anaconda3/envs/tensorflow_p36/lib/python3.6/site-packages (from sagemaker-experiments) (1.12.39)\n",
      "Requirement already satisfied: s3transfer<0.4.0,>=0.3.0 in /home/ec2-user/anaconda3/envs/tensorflow_p36/lib/python3.6/site-packages (from boto3>=1.12.8->sagemaker-experiments) (0.3.3)\n",
      "Requirement already satisfied: jmespath<1.0.0,>=0.7.1 in /home/ec2-user/anaconda3/envs/tensorflow_p36/lib/python3.6/site-packages (from boto3>=1.12.8->sagemaker-experiments) (0.9.4)\n",
      "Requirement already satisfied: botocore<1.16.0,>=1.15.39 in /home/ec2-user/anaconda3/envs/tensorflow_p36/lib/python3.6/site-packages (from boto3>=1.12.8->sagemaker-experiments) (1.15.39)\n",
      "Requirement already satisfied: python-dateutil<3.0.0,>=2.1 in /home/ec2-user/anaconda3/envs/tensorflow_p36/lib/python3.6/site-packages (from botocore<1.16.0,>=1.15.39->boto3>=1.12.8->sagemaker-experiments) (2.7.3)\n",
      "Requirement already satisfied: docutils<0.16,>=0.10 in /home/ec2-user/anaconda3/envs/tensorflow_p36/lib/python3.6/site-packages (from botocore<1.16.0,>=1.15.39->boto3>=1.12.8->sagemaker-experiments) (0.14)\n",
      "Requirement already satisfied: urllib3<1.26,>=1.20; python_version != \"3.4\" in /home/ec2-user/anaconda3/envs/tensorflow_p36/lib/python3.6/site-packages (from botocore<1.16.0,>=1.15.39->boto3>=1.12.8->sagemaker-experiments) (1.23)\n",
      "Requirement already satisfied: six>=1.5 in /home/ec2-user/anaconda3/envs/tensorflow_p36/lib/python3.6/site-packages (from python-dateutil<3.0.0,>=2.1->botocore<1.16.0,>=1.15.39->boto3>=1.12.8->sagemaker-experiments) (1.11.0)\n",
      "Requirement already satisfied: pandas in /home/ec2-user/anaconda3/envs/tensorflow_p36/lib/python3.6/site-packages (0.24.2)\n",
      "Requirement already satisfied: numpy>=1.12.0 in /home/ec2-user/anaconda3/envs/tensorflow_p36/lib/python3.6/site-packages (from pandas) (1.16.4)\n",
      "Requirement already satisfied: python-dateutil>=2.5.0 in /home/ec2-user/anaconda3/envs/tensorflow_p36/lib/python3.6/site-packages (from pandas) (2.7.3)\n",
      "Requirement already satisfied: pytz>=2011k in /home/ec2-user/anaconda3/envs/tensorflow_p36/lib/python3.6/site-packages (from pandas) (2018.4)\n",
      "Requirement already satisfied: six>=1.5 in /home/ec2-user/anaconda3/envs/tensorflow_p36/lib/python3.6/site-packages (from python-dateutil>=2.5.0->pandas) (1.11.0)\n",
      "Requirement already satisfied: numpy in /home/ec2-user/anaconda3/envs/tensorflow_p36/lib/python3.6/site-packages (1.16.4)\n",
      "Requirement already satisfied: matplotlib in /home/ec2-user/anaconda3/envs/tensorflow_p36/lib/python3.6/site-packages (3.0.3)\n",
      "Requirement already satisfied: cycler>=0.10 in /home/ec2-user/anaconda3/envs/tensorflow_p36/lib/python3.6/site-packages (from matplotlib) (0.10.0)\n",
      "Requirement already satisfied: python-dateutil>=2.1 in /home/ec2-user/anaconda3/envs/tensorflow_p36/lib/python3.6/site-packages (from matplotlib) (2.7.3)\n",
      "Requirement already satisfied: pyparsing!=2.0.4,!=2.1.2,!=2.1.6,>=2.0.1 in /home/ec2-user/anaconda3/envs/tensorflow_p36/lib/python3.6/site-packages (from matplotlib) (2.2.0)\n",
      "Requirement already satisfied: kiwisolver>=1.0.1 in /home/ec2-user/anaconda3/envs/tensorflow_p36/lib/python3.6/site-packages (from matplotlib) (1.0.1)\n",
      "Requirement already satisfied: numpy>=1.10.0 in /home/ec2-user/anaconda3/envs/tensorflow_p36/lib/python3.6/site-packages (from matplotlib) (1.16.4)\n",
      "Requirement already satisfied: six in /home/ec2-user/anaconda3/envs/tensorflow_p36/lib/python3.6/site-packages (from cycler>=0.10->matplotlib) (1.11.0)\n",
      "Requirement already satisfied: setuptools in /home/ec2-user/anaconda3/envs/tensorflow_p36/lib/python3.6/site-packages (from kiwisolver>=1.0.1->matplotlib) (45.2.0)\n",
      "Requirement already satisfied: boto3 in /home/ec2-user/anaconda3/envs/tensorflow_p36/lib/python3.6/site-packages (1.12.39)\n",
      "Requirement already satisfied: s3transfer<0.4.0,>=0.3.0 in /home/ec2-user/anaconda3/envs/tensorflow_p36/lib/python3.6/site-packages (from boto3) (0.3.3)\n",
      "Requirement already satisfied: botocore<1.16.0,>=1.15.39 in /home/ec2-user/anaconda3/envs/tensorflow_p36/lib/python3.6/site-packages (from boto3) (1.15.39)\n",
      "Requirement already satisfied: jmespath<1.0.0,>=0.7.1 in /home/ec2-user/anaconda3/envs/tensorflow_p36/lib/python3.6/site-packages (from boto3) (0.9.4)\n",
      "Requirement already satisfied: docutils<0.16,>=0.10 in /home/ec2-user/anaconda3/envs/tensorflow_p36/lib/python3.6/site-packages (from botocore<1.16.0,>=1.15.39->boto3) (0.14)\n",
      "Requirement already satisfied: urllib3<1.26,>=1.20; python_version != \"3.4\" in /home/ec2-user/anaconda3/envs/tensorflow_p36/lib/python3.6/site-packages (from botocore<1.16.0,>=1.15.39->boto3) (1.23)\n",
      "Requirement already satisfied: python-dateutil<3.0.0,>=2.1 in /home/ec2-user/anaconda3/envs/tensorflow_p36/lib/python3.6/site-packages (from botocore<1.16.0,>=1.15.39->boto3) (2.7.3)\n",
      "Requirement already satisfied: six>=1.5 in /home/ec2-user/anaconda3/envs/tensorflow_p36/lib/python3.6/site-packages (from python-dateutil<3.0.0,>=2.1->botocore<1.16.0,>=1.15.39->boto3) (1.11.0)\n",
      "Requirement already satisfied: sagemaker in /home/ec2-user/anaconda3/envs/tensorflow_p36/lib/python3.6/site-packages (1.55.3)\n",
      "Requirement already satisfied: importlib-metadata>=1.4.0 in /home/ec2-user/anaconda3/envs/tensorflow_p36/lib/python3.6/site-packages (from sagemaker) (1.5.0)\n",
      "Requirement already satisfied: protobuf>=3.1 in /home/ec2-user/anaconda3/envs/tensorflow_p36/lib/python3.6/site-packages (from sagemaker) (3.8.0)\n",
      "Requirement already satisfied: packaging>=20.0 in /home/ec2-user/anaconda3/envs/tensorflow_p36/lib/python3.6/site-packages (from sagemaker) (20.1)\n",
      "Requirement already satisfied: scipy>=0.19.0 in /home/ec2-user/anaconda3/envs/tensorflow_p36/lib/python3.6/site-packages (from sagemaker) (1.4.1)\n",
      "Requirement already satisfied: protobuf3-to-dict>=0.1.5 in /home/ec2-user/anaconda3/envs/tensorflow_p36/lib/python3.6/site-packages (from sagemaker) (0.1.5)\n",
      "Requirement already satisfied: boto3>=1.10.44 in /home/ec2-user/anaconda3/envs/tensorflow_p36/lib/python3.6/site-packages (from sagemaker) (1.12.39)\n",
      "Requirement already satisfied: smdebug-rulesconfig==0.1.2 in /home/ec2-user/anaconda3/envs/tensorflow_p36/lib/python3.6/site-packages (from sagemaker) (0.1.2)\n",
      "Requirement already satisfied: numpy>=1.9.0 in /home/ec2-user/anaconda3/envs/tensorflow_p36/lib/python3.6/site-packages (from sagemaker) (1.16.4)\n",
      "Requirement already satisfied: zipp>=0.5 in /home/ec2-user/anaconda3/envs/tensorflow_p36/lib/python3.6/site-packages (from importlib-metadata>=1.4.0->sagemaker) (3.0.0)\n",
      "Requirement already satisfied: setuptools in /home/ec2-user/anaconda3/envs/tensorflow_p36/lib/python3.6/site-packages (from protobuf>=3.1->sagemaker) (45.2.0)\n",
      "Requirement already satisfied: six>=1.9 in /home/ec2-user/anaconda3/envs/tensorflow_p36/lib/python3.6/site-packages (from protobuf>=3.1->sagemaker) (1.11.0)\n",
      "Requirement already satisfied: pyparsing>=2.0.2 in /home/ec2-user/anaconda3/envs/tensorflow_p36/lib/python3.6/site-packages (from packaging>=20.0->sagemaker) (2.2.0)\n",
      "Requirement already satisfied: jmespath<1.0.0,>=0.7.1 in /home/ec2-user/anaconda3/envs/tensorflow_p36/lib/python3.6/site-packages (from boto3>=1.10.44->sagemaker) (0.9.4)\n",
      "Requirement already satisfied: s3transfer<0.4.0,>=0.3.0 in /home/ec2-user/anaconda3/envs/tensorflow_p36/lib/python3.6/site-packages (from boto3>=1.10.44->sagemaker) (0.3.3)\n",
      "Requirement already satisfied: botocore<1.16.0,>=1.15.39 in /home/ec2-user/anaconda3/envs/tensorflow_p36/lib/python3.6/site-packages (from boto3>=1.10.44->sagemaker) (1.15.39)\n",
      "Requirement already satisfied: python-dateutil<3.0.0,>=2.1 in /home/ec2-user/anaconda3/envs/tensorflow_p36/lib/python3.6/site-packages (from botocore<1.16.0,>=1.15.39->boto3>=1.10.44->sagemaker) (2.7.3)\n",
      "Requirement already satisfied: urllib3<1.26,>=1.20; python_version != \"3.4\" in /home/ec2-user/anaconda3/envs/tensorflow_p36/lib/python3.6/site-packages (from botocore<1.16.0,>=1.15.39->boto3>=1.10.44->sagemaker) (1.23)\n",
      "Requirement already satisfied: docutils<0.16,>=0.10 in /home/ec2-user/anaconda3/envs/tensorflow_p36/lib/python3.6/site-packages (from botocore<1.16.0,>=1.15.39->boto3>=1.10.44->sagemaker) (0.14)\n",
      "Requirement already satisfied: pyspark in /home/ec2-user/anaconda3/envs/tensorflow_p36/lib/python3.6/site-packages (2.3.4)\n",
      "Requirement already satisfied: py4j==0.10.7 in /home/ec2-user/anaconda3/envs/tensorflow_p36/lib/python3.6/site-packages (from pyspark) (0.10.7)\n",
      "Requirement already satisfied: ipython-autotime in /home/ec2-user/anaconda3/envs/tensorflow_p36/lib/python3.6/site-packages (0.1)\n",
      "Requirement already satisfied: surprise in /home/ec2-user/anaconda3/envs/tensorflow_p36/lib/python3.6/site-packages (0.1)\n",
      "Requirement already satisfied: scikit-surprise in /home/ec2-user/anaconda3/envs/tensorflow_p36/lib/python3.6/site-packages (from surprise) (1.1.0)\n",
      "Requirement already satisfied: numpy>=1.11.2 in /home/ec2-user/anaconda3/envs/tensorflow_p36/lib/python3.6/site-packages (from scikit-surprise->surprise) (1.16.4)\n",
      "Requirement already satisfied: six>=1.10.0 in /home/ec2-user/anaconda3/envs/tensorflow_p36/lib/python3.6/site-packages (from scikit-surprise->surprise) (1.11.0)\n",
      "Requirement already satisfied: scipy>=1.0.0 in /home/ec2-user/anaconda3/envs/tensorflow_p36/lib/python3.6/site-packages (from scikit-surprise->surprise) (1.4.1)\n",
      "Requirement already satisfied: joblib>=0.11 in /home/ec2-user/anaconda3/envs/tensorflow_p36/lib/python3.6/site-packages (from scikit-surprise->surprise) (0.14.1)\n",
      "Requirement already satisfied: smart_open in /home/ec2-user/anaconda3/envs/tensorflow_p36/lib/python3.6/site-packages (2.0.0)\n",
      "Requirement already satisfied: requests in /home/ec2-user/anaconda3/envs/tensorflow_p36/lib/python3.6/site-packages (from smart_open) (2.20.0)\n",
      "Requirement already satisfied: boto in /home/ec2-user/anaconda3/envs/tensorflow_p36/lib/python3.6/site-packages (from smart_open) (2.48.0)\n",
      "Requirement already satisfied: boto3 in /home/ec2-user/anaconda3/envs/tensorflow_p36/lib/python3.6/site-packages (from smart_open) (1.12.39)\n",
      "Requirement already satisfied: chardet<3.1.0,>=3.0.2 in /home/ec2-user/anaconda3/envs/tensorflow_p36/lib/python3.6/site-packages (from requests->smart_open) (3.0.4)\n",
      "Requirement already satisfied: urllib3<1.25,>=1.21.1 in /home/ec2-user/anaconda3/envs/tensorflow_p36/lib/python3.6/site-packages (from requests->smart_open) (1.23)\n",
      "Requirement already satisfied: idna<2.8,>=2.5 in /home/ec2-user/anaconda3/envs/tensorflow_p36/lib/python3.6/site-packages (from requests->smart_open) (2.6)\n",
      "Requirement already satisfied: certifi>=2017.4.17 in /home/ec2-user/anaconda3/envs/tensorflow_p36/lib/python3.6/site-packages (from requests->smart_open) (2019.11.28)\n",
      "Requirement already satisfied: s3transfer<0.4.0,>=0.3.0 in /home/ec2-user/anaconda3/envs/tensorflow_p36/lib/python3.6/site-packages (from boto3->smart_open) (0.3.3)\n",
      "Requirement already satisfied: botocore<1.16.0,>=1.15.39 in /home/ec2-user/anaconda3/envs/tensorflow_p36/lib/python3.6/site-packages (from boto3->smart_open) (1.15.39)\n",
      "Requirement already satisfied: jmespath<1.0.0,>=0.7.1 in /home/ec2-user/anaconda3/envs/tensorflow_p36/lib/python3.6/site-packages (from boto3->smart_open) (0.9.4)\n",
      "Requirement already satisfied: python-dateutil<3.0.0,>=2.1 in /home/ec2-user/anaconda3/envs/tensorflow_p36/lib/python3.6/site-packages (from botocore<1.16.0,>=1.15.39->boto3->smart_open) (2.7.3)\n",
      "Requirement already satisfied: docutils<0.16,>=0.10 in /home/ec2-user/anaconda3/envs/tensorflow_p36/lib/python3.6/site-packages (from botocore<1.16.0,>=1.15.39->boto3->smart_open) (0.14)\n",
      "Requirement already satisfied: six>=1.5 in /home/ec2-user/anaconda3/envs/tensorflow_p36/lib/python3.6/site-packages (from python-dateutil<3.0.0,>=2.1->botocore<1.16.0,>=1.15.39->boto3->smart_open) (1.11.0)\n",
      "Requirement already satisfied: pyarrow in /home/ec2-user/anaconda3/envs/tensorflow_p36/lib/python3.6/site-packages (0.17.1)\n",
      "Requirement already satisfied: numpy>=1.14 in /home/ec2-user/anaconda3/envs/tensorflow_p36/lib/python3.6/site-packages (from pyarrow) (1.16.4)\n",
      "Requirement already satisfied: fastparquet in /home/ec2-user/anaconda3/envs/tensorflow_p36/lib/python3.6/site-packages (0.4.0)\n",
      "Requirement already satisfied: pandas>=0.19 in /home/ec2-user/anaconda3/envs/tensorflow_p36/lib/python3.6/site-packages (from fastparquet) (0.24.2)\n",
      "Requirement already satisfied: numba>=0.28 in /home/ec2-user/anaconda3/envs/tensorflow_p36/lib/python3.6/site-packages (from fastparquet) (0.38.0)\n",
      "Requirement already satisfied: six in /home/ec2-user/anaconda3/envs/tensorflow_p36/lib/python3.6/site-packages (from fastparquet) (1.11.0)\n",
      "Requirement already satisfied: numpy>=1.11 in /home/ec2-user/anaconda3/envs/tensorflow_p36/lib/python3.6/site-packages (from fastparquet) (1.16.4)\n",
      "Requirement already satisfied: thrift>=0.11.0 in /home/ec2-user/anaconda3/envs/tensorflow_p36/lib/python3.6/site-packages (from fastparquet) (0.13.0)\n",
      "Requirement already satisfied: pytz>=2011k in /home/ec2-user/anaconda3/envs/tensorflow_p36/lib/python3.6/site-packages (from pandas>=0.19->fastparquet) (2018.4)\n",
      "Requirement already satisfied: python-dateutil>=2.5.0 in /home/ec2-user/anaconda3/envs/tensorflow_p36/lib/python3.6/site-packages (from pandas>=0.19->fastparquet) (2.7.3)\n",
      "Requirement already satisfied: llvmlite>=0.23.0dev0 in /home/ec2-user/anaconda3/envs/tensorflow_p36/lib/python3.6/site-packages (from numba>=0.28->fastparquet) (0.23.1)\n"
     ]
    }
   ],
   "source": [
    "import sys\n",
    "\n",
    "!{sys.executable} -m pip install --upgrade pip\n",
    "!{sys.executable} -m pip install sagemaker-experiments\n",
    "!{sys.executable} -m pip install pandas\n",
    "!{sys.executable} -m pip install numpy\n",
    "!{sys.executable} -m pip install matplotlib\n",
    "!{sys.executable} -m pip install boto3\n",
    "!{sys.executable} -m pip install sagemaker\n",
    "!{sys.executable} -m pip install pyspark\n",
    "!{sys.executable} -m pip install ipython-autotime\n",
    "!{sys.executable} -m pip install surprise\n",
    "!{sys.executable} -m pip install smart_open\n",
    "!{sys.executable} -m pip install pyarrow\n",
    "!{sys.executable} -m pip install fastparquet"
   ]
  },
  {
   "cell_type": "code",
   "execution_count": 2,
   "metadata": {},
   "outputs": [],
   "source": [
    "# Check Jave version \n",
    "# !sudo yum -y update"
   ]
  },
  {
   "cell_type": "code",
   "execution_count": 3,
   "metadata": {},
   "outputs": [
    {
     "name": "stdout",
     "output_type": "stream",
     "text": [
      "Loaded plugins: dkms-build-requires, priorities, update-motd, upgrade-helper,\n",
      "              : versionlock\n",
      "No Match for argument: jre-1.7.0-openjdk\n",
      "No Packages marked for removal\n"
     ]
    }
   ],
   "source": [
    "# Need to use Java 1.8.0\n",
    "!sudo yum remove jre-1.7.0-openjdk -y"
   ]
  },
  {
   "cell_type": "code",
   "execution_count": 4,
   "metadata": {},
   "outputs": [
    {
     "name": "stdout",
     "output_type": "stream",
     "text": [
      "openjdk version \"11.0.1\" 2018-10-16 LTS\n",
      "OpenJDK Runtime Environment Zulu11.2+3 (build 11.0.1+13-LTS)\n",
      "OpenJDK 64-Bit Server VM Zulu11.2+3 (build 11.0.1+13-LTS, mixed mode)\n"
     ]
    }
   ],
   "source": [
    "!java -version"
   ]
  },
  {
   "cell_type": "code",
   "execution_count": 5,
   "metadata": {},
   "outputs": [],
   "source": [
    "# !sudo update-alternatives --config java"
   ]
  },
  {
   "cell_type": "code",
   "execution_count": 6,
   "metadata": {},
   "outputs": [
    {
     "name": "stdout",
     "output_type": "stream",
     "text": [
      "Requirement already satisfied: pyarrow in /home/ec2-user/anaconda3/envs/tensorflow_p36/lib/python3.6/site-packages (0.17.1)\n",
      "Requirement already satisfied: fastparquet in /home/ec2-user/anaconda3/envs/tensorflow_p36/lib/python3.6/site-packages (0.4.0)\n",
      "Requirement already satisfied: numpy>=1.14 in /home/ec2-user/anaconda3/envs/tensorflow_p36/lib/python3.6/site-packages (from pyarrow) (1.16.4)\n",
      "Requirement already satisfied: pandas>=0.19 in /home/ec2-user/anaconda3/envs/tensorflow_p36/lib/python3.6/site-packages (from fastparquet) (0.24.2)\n",
      "Requirement already satisfied: six in /home/ec2-user/anaconda3/envs/tensorflow_p36/lib/python3.6/site-packages (from fastparquet) (1.11.0)\n",
      "Requirement already satisfied: numba>=0.28 in /home/ec2-user/anaconda3/envs/tensorflow_p36/lib/python3.6/site-packages (from fastparquet) (0.38.0)\n",
      "Requirement already satisfied: thrift>=0.11.0 in /home/ec2-user/anaconda3/envs/tensorflow_p36/lib/python3.6/site-packages (from fastparquet) (0.13.0)\n",
      "Requirement already satisfied: python-dateutil>=2.5.0 in /home/ec2-user/anaconda3/envs/tensorflow_p36/lib/python3.6/site-packages (from pandas>=0.19->fastparquet) (2.7.3)\n",
      "Requirement already satisfied: pytz>=2011k in /home/ec2-user/anaconda3/envs/tensorflow_p36/lib/python3.6/site-packages (from pandas>=0.19->fastparquet) (2018.4)\n",
      "Requirement already satisfied: llvmlite>=0.23.0dev0 in /home/ec2-user/anaconda3/envs/tensorflow_p36/lib/python3.6/site-packages (from numba>=0.28->fastparquet) (0.23.1)\n"
     ]
    }
   ],
   "source": [
    "!pip install pyarrow fastparquet"
   ]
  },
  {
   "cell_type": "code",
   "execution_count": 7,
   "metadata": {},
   "outputs": [
    {
     "name": "stdout",
     "output_type": "stream",
     "text": [
      "Requirement already satisfied: ipython-autotime in /home/ec2-user/anaconda3/envs/tensorflow_p36/lib/python3.6/site-packages (0.1)\n"
     ]
    }
   ],
   "source": [
    "!pip install ipython-autotime"
   ]
  },
  {
   "cell_type": "code",
   "execution_count": 8,
   "metadata": {},
   "outputs": [
    {
     "name": "stdout",
     "output_type": "stream",
     "text": [
      "Requirement already satisfied: tqdm in /home/ec2-user/anaconda3/envs/tensorflow_p36/lib/python3.6/site-packages (4.46.0)\n",
      "Requirement already satisfied: pydot in /home/ec2-user/anaconda3/envs/tensorflow_p36/lib/python3.6/site-packages (1.4.1)\n",
      "Requirement already satisfied: pydotplus in /home/ec2-user/anaconda3/envs/tensorflow_p36/lib/python3.6/site-packages (2.0.2)\n",
      "Requirement already satisfied: pydot_ng in /home/ec2-user/anaconda3/envs/tensorflow_p36/lib/python3.6/site-packages (2.0.0)\n",
      "Requirement already satisfied: pyparsing>=2.1.4 in /home/ec2-user/anaconda3/envs/tensorflow_p36/lib/python3.6/site-packages (from pydot) (2.2.0)\n"
     ]
    }
   ],
   "source": [
    "!pip install tqdm pydot pydotplus pydot_ng"
   ]
  },
  {
   "cell_type": "code",
   "execution_count": 9,
   "metadata": {},
   "outputs": [],
   "source": [
    "#### To measure all running time\n",
    "# https://github.com/cpcloud/ipython-autotime\n",
    "\n",
    "%load_ext autotime"
   ]
  },
  {
   "cell_type": "code",
   "execution_count": 10,
   "metadata": {},
   "outputs": [
    {
     "name": "stdout",
     "output_type": "stream",
     "text": [
      "Populating the interactive namespace from numpy and matplotlib\n",
      "WARNING:tensorflow:From /home/ec2-user/anaconda3/envs/tensorflow_p36/lib/python3.6/site-packages/tensorflow_core/__init__.py:1467: The name tf.estimator.inputs is deprecated. Please use tf.compat.v1.estimator.inputs instead.\n",
      "\n",
      "time: 2.6 s\n"
     ]
    },
    {
     "name": "stderr",
     "output_type": "stream",
     "text": [
      "Using TensorFlow backend.\n"
     ]
    }
   ],
   "source": [
    "%pylab inline\n",
    "import warnings\n",
    "warnings.filterwarnings(\"ignore\")\n",
    "%matplotlib inline\n",
    "import re\n",
    "import seaborn as sbn\n",
    "import nltk\n",
    "import tqdm as tqdm\n",
    "import sqlite3\n",
    "import pandas as pd\n",
    "import numpy as np\n",
    "from pandas import DataFrame \n",
    "import string\n",
    "import pydot \n",
    "import pydotplus\n",
    "import pydot_ng\n",
    "import pickle\n",
    "import time\n",
    "import gzip\n",
    "import os\n",
    "os.getcwd()\n",
    "    \n",
    "import matplotlib.pyplot as plt\n",
    "from math import floor,ceil\n",
    "\n",
    "#from nltk.corpus import stopwords\n",
    "#stop = stopwords.words(\"english\")\n",
    "from nltk.stem.porter import PorterStemmer\n",
    "english_stemmer=nltk.stem.SnowballStemmer('english')\n",
    "from nltk.tokenize import word_tokenize\n",
    "\n",
    "from sklearn.metrics import accuracy_score, confusion_matrix,roc_curve, auc,classification_report, mean_squared_error, mean_absolute_error\n",
    "from sklearn.feature_extraction.text import CountVectorizer, TfidfTransformer\n",
    "from sklearn.model_selection  import train_test_split\n",
    "from sklearn import metrics\n",
    "from sklearn.svm import LinearSVC\n",
    "from sklearn.neighbors import NearestNeighbors\n",
    "from sklearn.linear_model import LogisticRegression\n",
    "from sklearn import neighbors\n",
    "from scipy.spatial.distance import cosine\n",
    "from sklearn.feature_selection import SelectKBest\n",
    "from IPython.display import SVG\n",
    "\n",
    "# Tensorflow\n",
    "import tensorflow as tf\n",
    "\n",
    "#Keras\n",
    "from keras.models import Sequential, Model, load_model, save_model\n",
    "from keras.callbacks import ModelCheckpoint\n",
    "from keras.layers import Dense, Activation, Dropout, Input, Masking, TimeDistributed, LSTM, Conv1D, Embedding\n",
    "from keras.layers import GRU, Bidirectional, BatchNormalization, Reshape\n",
    "from keras.optimizers import Adam\n",
    "from keras.layers.core import Reshape, Dropout, Dense\n",
    "from keras.layers.merge import Multiply, Dot, Concatenate\n",
    "from keras.layers.embeddings import Embedding\n",
    "from keras import optimizers\n",
    "from keras.callbacks import ModelCheckpoint\n",
    "from keras.utils.vis_utils import model_to_dot"
   ]
  },
  {
   "cell_type": "code",
   "execution_count": 11,
   "metadata": {},
   "outputs": [
    {
     "name": "stdout",
     "output_type": "stream",
     "text": [
      "time: 359 ms\n"
     ]
    }
   ],
   "source": [
    "import pandas as pd\n",
    "\n",
    "import boto3\n",
    "import sagemaker\n",
    "from sagemaker import get_execution_role\n",
    "from sagemaker.session import Session\n",
    "from sagemaker.analytics import ExperimentAnalytics\n",
    "\n",
    "import gzip\n",
    "import json\n",
    "\n",
    "from pyspark.ml import Pipeline\n",
    "from pyspark.sql.types import StructField, StructType, StringType, DoubleType\n",
    "from pyspark.ml.feature import StringIndexer, VectorIndexer, OneHotEncoder, VectorAssembler\n",
    "from pyspark.sql.functions import *\n",
    "\n",
    "# spark imports\n",
    "from pyspark.sql import SparkSession\n",
    "from pyspark.sql.functions import UserDefinedFunction, explode, desc\n",
    "from pyspark.sql.types import StringType, ArrayType\n",
    "from pyspark.ml.evaluation import RegressionEvaluator\n",
    "\n",
    "import os\n",
    "import pandas as pd\n",
    "import pyarrow\n",
    "import fastparquet\n",
    "\n",
    "# from pandas_profiling import ProfileReport"
   ]
  },
  {
   "cell_type": "markdown",
   "metadata": {},
   "source": [
    "### Set and Check GPUs"
   ]
  },
  {
   "cell_type": "code",
   "execution_count": 12,
   "metadata": {},
   "outputs": [
    {
     "name": "stdout",
     "output_type": "stream",
     "text": [
      "time: 4.84 ms\n"
     ]
    }
   ],
   "source": [
    "#Session\n",
    "from keras import backend as K\n",
    "\n",
    "def set_check_gpu():\n",
    "    cfg = K.tf.ConfigProto()\n",
    "    cfg.gpu_options.per_process_gpu_memory_fraction =1 # allow all of the GPU memory to be allocated\n",
    "    # for 8 GPUs\n",
    "    # cfg.gpu_options.visible_device_list = \"0,1,2,3,4,5,6,7\" # \"0,1\"\n",
    "    # for 1 GPU\n",
    "    cfg.gpu_options.visible_device_list = \"0\"\n",
    "    #cfg.gpu_options.allow_growth = True  # # Don't pre-allocate memory; dynamically allocate the memory used on the GPU as-needed\n",
    "    #cfg.log_device_placement = True  # to log device placement (on which device the operation ran)\n",
    "    sess = K.tf.Session(config=cfg)\n",
    "    K.set_session(sess)  # set this TensorFlow session as the default session for Keras\n",
    "\n",
    "    print(\"* TF version: \", [tf.__version__, tf.test.is_gpu_available()])\n",
    "    print(\"* List of GPU(s): \", tf.config.experimental.list_physical_devices() )\n",
    "    print(\"* Num GPUs Available: \", len(tf.config.experimental.list_physical_devices('GPU'))) \n",
    "  \n",
    "    \n",
    "    os.environ[\"CUDA_DEVICE_ORDER\"] = \"PCI_BUS_ID\";\n",
    "    # set for 8 GPUs\n",
    "#     os.environ[\"CUDA_VISIBLE_DEVICES\"] = \"0,1,2,3,4,5,6,7\";\n",
    "    # set for 1 GPU\n",
    "    os.environ[\"CUDA_VISIBLE_DEVICES\"] = \"0\";\n",
    "\n",
    "    # Tf debugging option\n",
    "    tf.debugging.set_log_device_placement(True)\n",
    "\n",
    "    gpus = tf.config.experimental.list_physical_devices('GPU')\n",
    "\n",
    "    if gpus:\n",
    "        try:\n",
    "            # Currently, memory growth needs to be the same across GPUs\n",
    "            for gpu in gpus:\n",
    "                tf.config.experimental.set_memory_growth(gpu, True)\n",
    "            logical_gpus = tf.config.experimental.list_logical_devices('GPU')\n",
    "            print(len(gpus), \"Physical GPUs,\", len(logical_gpus), \"Logical GPUs\")\n",
    "        except RuntimeError as e:\n",
    "            # Memory growth must be set before GPUs have been initialized\n",
    "            print(e)\n",
    "\n",
    "#     print(tf.config.list_logical_devices('GPU'))\n",
    "    print(tf.config.experimental.list_physical_devices('GPU'))\n",
    "    print(\"Num GPUs Available: \", len(tf.config.experimental.list_physical_devices('GPU')))"
   ]
  },
  {
   "cell_type": "code",
   "execution_count": 13,
   "metadata": {},
   "outputs": [
    {
     "name": "stdout",
     "output_type": "stream",
     "text": [
      "* TF version:  ['1.15.2', True]\n",
      "* List of GPU(s):  [PhysicalDevice(name='/physical_device:CPU:0', device_type='CPU'), PhysicalDevice(name='/physical_device:XLA_CPU:0', device_type='XLA_CPU'), PhysicalDevice(name='/physical_device:XLA_GPU:0', device_type='XLA_GPU'), PhysicalDevice(name='/physical_device:GPU:0', device_type='GPU')]\n",
      "* Num GPUs Available:  1\n",
      "1 Physical GPUs, 1 Logical GPUs\n",
      "[PhysicalDevice(name='/physical_device:GPU:0', device_type='GPU')]\n",
      "Num GPUs Available:  1\n",
      "time: 166 ms\n"
     ]
    }
   ],
   "source": [
    "set_check_gpu()"
   ]
  },
  {
   "cell_type": "code",
   "execution_count": 14,
   "metadata": {},
   "outputs": [
    {
     "name": "stdout",
     "output_type": "stream",
     "text": [
      "time: 2.11 ms\n"
     ]
    }
   ],
   "source": [
    "# reset GPU memory& Keras Session\n",
    "def reset_keras():\n",
    "    try:\n",
    "        del classifier\n",
    "        del model    \n",
    "    except:\n",
    "        pass\n",
    "\n",
    "    K.clear_session()\n",
    " \n",
    "    K.get_session().close()\n",
    "#    sess = K.get_session()\n",
    "\n",
    "    cfg = K.tf.ConfigProto()\n",
    "    cfg.gpu_options.per_process_gpu_memory_fraction \n",
    "#     cfg.gpu_options.visible_device_list = \"0,1,2,3,4,5,6,7\" # \"0,1\"\n",
    "    cfg.gpu_options.visible_device_list = \"0\" # \"0,1\"\n",
    "    cfg.gpu_options.allow_growth = True  # dynamically grow the memory used on the GPU\n",
    "\n",
    "    sess = K.tf.Session(config=cfg)\n",
    "    K.set_session(sess)  # set this TensorFlow session as the default session for Keras\n",
    "    "
   ]
  },
  {
   "cell_type": "markdown",
   "metadata": {},
   "source": [
    "---\n",
    "## Data - https://s3.amazonaws.com/amazon-reviews-pds/tsv/index.txt\n",
    "\n",
    "### Explore\n",
    "\n",
    "Let's start by bringing in our dataset from an S3 public bucket.  \n",
    "More details on this dataset can be found at its [AWS Public Datasets page](https://s3.amazonaws.com/amazon-reviews-pds/readme.html).\n",
    "\n",
    "_Note, because this dataset is over a half gigabyte, the load from S3 may take ~10 minutes.  Also, since Amazon SageMaker Notebooks start with a 5GB persistent volume by default, and we don't need to keep this data on our instance for long, we'll bring it to the temporary volume (which has up to 20GB of storage)._"
   ]
  },
  {
   "cell_type": "code",
   "execution_count": 15,
   "metadata": {},
   "outputs": [
    {
     "name": "stdout",
     "output_type": "stream",
     "text": [
      "2017-11-24 13:22:50          0 \n",
      "2017-11-24 13:48:03  241896005 amazon_reviews_multilingual_DE_v1_00.tsv.gz\n",
      "2017-11-24 13:48:17   70583516 amazon_reviews_multilingual_FR_v1_00.tsv.gz\n",
      "2017-11-24 13:48:34   94688992 amazon_reviews_multilingual_JP_v1_00.tsv.gz\n",
      "2017-11-24 13:49:14  349370868 amazon_reviews_multilingual_UK_v1_00.tsv.gz\n",
      "2017-11-24 13:48:47 1466965039 amazon_reviews_multilingual_US_v1_00.tsv.gz\n",
      "2017-11-24 13:49:53  648641286 amazon_reviews_us_Apparel_v1_00.tsv.gz\n",
      "2017-11-24 13:56:36  582145299 amazon_reviews_us_Automotive_v1_00.tsv.gz\n",
      "2017-11-24 14:04:02  357392893 amazon_reviews_us_Baby_v1_00.tsv.gz\n",
      "2017-11-24 14:08:11  914070021 amazon_reviews_us_Beauty_v1_00.tsv.gz\n",
      "2017-11-24 14:17:41 2740337188 amazon_reviews_us_Books_v1_00.tsv.gz\n",
      "2017-11-24 14:45:50 2692708591 amazon_reviews_us_Books_v1_01.tsv.gz\n",
      "2017-11-24 15:10:21 1329539135 amazon_reviews_us_Books_v1_02.tsv.gz\n",
      "2017-11-24 15:22:13  442653086 amazon_reviews_us_Camera_v1_00.tsv.gz\n",
      "2017-11-24 15:27:13 2689739299 amazon_reviews_us_Digital_Ebook_Purchase_v1_00.tsv.gz\n",
      "2017-11-24 15:49:13 1294879074 amazon_reviews_us_Digital_Ebook_Purchase_v1_01.tsv.gz\n",
      "2017-11-24 15:59:24  253570168 amazon_reviews_us_Digital_Music_Purchase_v1_00.tsv.gz\n",
      "2017-11-24 16:01:47   18997559 amazon_reviews_us_Digital_Software_v1_00.tsv.gz\n",
      "2017-11-24 16:01:53  506979922 amazon_reviews_us_Digital_Video_Download_v1_00.tsv.gz\n",
      "2017-11-24 16:06:31   27442648 amazon_reviews_us_Digital_Video_Games_v1_00.tsv.gz\n",
      "2017-11-24 16:06:42  698828243 amazon_reviews_us_Electronics_v1_00.tsv.gz\n",
      "2017-11-24 16:12:44  148982796 amazon_reviews_us_Furniture_v1_00.tsv.gz\n",
      "2017-11-24 16:13:52   12134676 amazon_reviews_us_Gift_Card_v1_00.tsv.gz\n",
      "2017-11-24 16:13:59  401337166 amazon_reviews_us_Grocery_v1_00.tsv.gz\n",
      "2017-11-24 19:55:29 1011180212 amazon_reviews_us_Health_Personal_Care_v1_00.tsv.gz\n",
      "2017-11-24 20:30:55  193168458 amazon_reviews_us_Home_Entertainment_v1_00.tsv.gz\n",
      "2017-11-24 20:37:56  503339178 amazon_reviews_us_Home_Improvement_v1_00.tsv.gz\n",
      "2017-11-24 20:55:43 1081002012 amazon_reviews_us_Home_v1_00.tsv.gz\n",
      "2017-11-24 21:47:51  247022254 amazon_reviews_us_Jewelry_v1_00.tsv.gz\n",
      "2017-11-24 21:59:56  930744854 amazon_reviews_us_Kitchen_v1_00.tsv.gz\n",
      "2017-11-24 23:41:48  486772662 amazon_reviews_us_Lawn_and_Garden_v1_00.tsv.gz\n",
      "2017-11-24 23:59:42   60320191 amazon_reviews_us_Luggage_v1_00.tsv.gz\n",
      "2017-11-25 00:01:59   24359816 amazon_reviews_us_Major_Appliances_v1_00.tsv.gz\n",
      "2017-11-25 00:02:45  557959415 amazon_reviews_us_Mobile_Apps_v1_00.tsv.gz\n",
      "2017-11-25 00:22:19   22870508 amazon_reviews_us_Mobile_Electronics_v1_00.tsv.gz\n",
      "2017-11-25 00:23:06 1521994296 amazon_reviews_us_Music_v1_00.tsv.gz\n",
      "2017-11-25 00:58:36  193389086 amazon_reviews_us_Musical_Instruments_v1_00.tsv.gz\n",
      "2017-11-25 01:03:14  512323500 amazon_reviews_us_Office_Products_v1_00.tsv.gz\n",
      "2017-11-25 07:21:21  448963100 amazon_reviews_us_Outdoors_v1_00.tsv.gz\n",
      "2017-11-25 07:32:46 1512903923 amazon_reviews_us_PC_v1_00.tsv.gz\n",
      "2017-11-25 08:10:33   17634794 amazon_reviews_us_Personal_Care_Appliances_v1_00.tsv.gz\n",
      "2017-11-25 08:11:02  515815253 amazon_reviews_us_Pet_Products_v1_00.tsv.gz\n",
      "2017-11-25 08:22:26  642255314 amazon_reviews_us_Shoes_v1_00.tsv.gz\n",
      "2017-11-25 08:39:15   94010685 amazon_reviews_us_Software_v1_00.tsv.gz\n",
      "2017-11-27 10:36:58  872478735 amazon_reviews_us_Sports_v1_00.tsv.gz\n",
      "2017-11-25 08:52:11  333782939 amazon_reviews_us_Tools_v1_00.tsv.gz\n",
      "2017-11-25 09:06:08  838451398 amazon_reviews_us_Toys_v1_00.tsv.gz\n",
      "2017-11-25 09:42:13 1512355451 amazon_reviews_us_Video_DVD_v1_00.tsv.gz\n",
      "2017-11-25 10:50:22  475199894 amazon_reviews_us_Video_Games_v1_00.tsv.gz\n",
      "2017-11-25 11:07:59  138929896 amazon_reviews_us_Video_v1_00.tsv.gz\n",
      "2017-11-25 11:14:07  162973819 amazon_reviews_us_Watches_v1_00.tsv.gz\n",
      "2017-11-26 15:24:07 1704713674 amazon_reviews_us_Wireless_v1_00.tsv.gz\n",
      "2017-11-28 15:55:13       6162 index.txt\n",
      "2017-11-27 11:08:16      17553 sample_fr.tsv\n",
      "2017-11-27 11:08:17      15906 sample_us.tsv\n",
      "time: 709 ms\n"
     ]
    }
   ],
   "source": [
    "!aws s3 ls s3://amazon-reviews-pds/tsv/"
   ]
  },
  {
   "cell_type": "code",
   "execution_count": 16,
   "metadata": {},
   "outputs": [
    {
     "name": "stdout",
     "output_type": "stream",
     "text": [
      "download: s3://amazon-reviews-pds/tsv/amazon_reviews_us_Shoes_v1_00.tsv.gz to ../data/amazon_reviews_us_Shoes_v1_00.tsv.gz\n",
      "time: 19.9 s\n"
     ]
    }
   ],
   "source": [
    "!mkdir -p ../data\n",
    "!aws s3 cp s3://amazon-reviews-pds/tsv/amazon_reviews_us_Shoes_v1_00.tsv.gz ../data"
   ]
  },
  {
   "cell_type": "markdown",
   "metadata": {},
   "source": [
    "Let's read the data into a [Pandas DataFrame](https://pandas.pydata.org/pandas-docs/stable/generated/pandas.DataFrame.html) so that we can begin to understand it.\n",
    "\n",
    "*Note, we'll set `error_bad_lines=False` when reading the file in as there appear to be a very small number of records which would create a problem otherwise.*"
   ]
  },
  {
   "cell_type": "code",
   "execution_count": 17,
   "metadata": {},
   "outputs": [
    {
     "name": "stdout",
     "output_type": "stream",
     "text": [
      "total 624M\n",
      "drwxrwxr-x 3 ec2-user ec2-user 4.0K May 27 17:20 .\n",
      "drwxrwxr-x 9 ec2-user ec2-user 4.0K May 27 16:14 ..\n",
      "-rw-rw-r-- 1 ec2-user ec2-user  12M May 27 16:22 amazon_reviews_us_Shoes_v1_00_help_voted_And_cut_lognTail.csv\n",
      "-rw-rw-r-- 1 ec2-user ec2-user 613M Nov 25  2017 amazon_reviews_us_Shoes_v1_00.tsv.gz\n",
      "drwxrwxr-x 2 ec2-user ec2-user 4.0K May 27 16:14 .ipynb_checkpoints\n",
      "-rw-rw-r-- 1 ec2-user ec2-user    0 May 27 16:14 save_data_here.txt\n",
      "time: 124 ms\n"
     ]
    }
   ],
   "source": [
    "!ls -alh ../data"
   ]
  },
  {
   "cell_type": "code",
   "execution_count": 18,
   "metadata": {},
   "outputs": [
    {
     "name": "stderr",
     "output_type": "stream",
     "text": [
      "b'Skipping line 54101: expected 15 fields, saw 22\\nSkipping line 55857: expected 15 fields, saw 22\\nSkipping line 60448: expected 15 fields, saw 22\\n'\n",
      "b'Skipping line 76918: expected 15 fields, saw 22\\nSkipping line 87925: expected 15 fields, saw 22\\nSkipping line 88500: expected 15 fields, saw 22\\nSkipping line 114276: expected 15 fields, saw 22\\nSkipping line 128751: expected 15 fields, saw 22\\n'\n",
      "b'Skipping line 136095: expected 15 fields, saw 22\\nSkipping line 140007: expected 15 fields, saw 22\\nSkipping line 177148: expected 15 fields, saw 22\\nSkipping line 180087: expected 15 fields, saw 22\\nSkipping line 183010: expected 15 fields, saw 22\\nSkipping line 183949: expected 15 fields, saw 22\\nSkipping line 192879: expected 15 fields, saw 22\\n'\n",
      "b'Skipping line 223261: expected 15 fields, saw 22\\nSkipping line 240588: expected 15 fields, saw 22\\nSkipping line 247955: expected 15 fields, saw 22\\nSkipping line 249336: expected 15 fields, saw 22\\nSkipping line 259363: expected 15 fields, saw 22\\n'\n",
      "b'Skipping line 265664: expected 15 fields, saw 22\\nSkipping line 277141: expected 15 fields, saw 22\\nSkipping line 297657: expected 15 fields, saw 22\\nSkipping line 301661: expected 15 fields, saw 22\\nSkipping line 309377: expected 15 fields, saw 22\\n'\n",
      "b'Skipping line 344785: expected 15 fields, saw 22\\nSkipping line 373123: expected 15 fields, saw 22\\n'\n",
      "b'Skipping line 437625: expected 15 fields, saw 22\\nSkipping line 439026: expected 15 fields, saw 22\\nSkipping line 453540: expected 15 fields, saw 22\\n'\n",
      "b'Skipping line 459450: expected 15 fields, saw 22\\nSkipping line 468663: expected 15 fields, saw 22\\nSkipping line 482395: expected 15 fields, saw 22\\n'\n",
      "b'Skipping line 541205: expected 15 fields, saw 22\\nSkipping line 552195: expected 15 fields, saw 22\\nSkipping line 556974: expected 15 fields, saw 22\\nSkipping line 574056: expected 15 fields, saw 22\\nSkipping line 582215: expected 15 fields, saw 22\\n'\n",
      "b'Skipping line 605428: expected 15 fields, saw 22\\nSkipping line 607292: expected 15 fields, saw 22\\nSkipping line 609689: expected 15 fields, saw 22\\nSkipping line 642724: expected 15 fields, saw 22\\nSkipping line 643401: expected 15 fields, saw 22\\nSkipping line 644251: expected 15 fields, saw 22\\n'\n",
      "b'Skipping line 666488: expected 15 fields, saw 22\\nSkipping line 706286: expected 15 fields, saw 22\\n'\n",
      "b'Skipping line 734419: expected 15 fields, saw 22\\nSkipping line 735910: expected 15 fields, saw 22\\nSkipping line 744996: expected 15 fields, saw 22\\nSkipping line 750340: expected 15 fields, saw 22\\nSkipping line 768733: expected 15 fields, saw 22\\nSkipping line 774206: expected 15 fields, saw 22\\n'\n",
      "b'Skipping line 792985: expected 15 fields, saw 22\\nSkipping line 832430: expected 15 fields, saw 22\\n'\n",
      "b'Skipping line 873437: expected 15 fields, saw 22\\nSkipping line 881702: expected 15 fields, saw 22\\nSkipping line 883194: expected 15 fields, saw 22\\nSkipping line 895053: expected 15 fields, saw 22\\nSkipping line 917189: expected 15 fields, saw 22\\n'\n",
      "b'Skipping line 920384: expected 15 fields, saw 22\\nSkipping line 926024: expected 15 fields, saw 22\\nSkipping line 937160: expected 15 fields, saw 22\\nSkipping line 949530: expected 15 fields, saw 22\\nSkipping line 965534: expected 15 fields, saw 22\\n'\n",
      "b'Skipping line 994267: expected 15 fields, saw 22\\nSkipping line 1001768: expected 15 fields, saw 22\\n'\n",
      "b'Skipping line 1060583: expected 15 fields, saw 22\\nSkipping line 1076464: expected 15 fields, saw 22\\nSkipping line 1090206: expected 15 fields, saw 22\\n'\n",
      "b'Skipping line 1123320: expected 15 fields, saw 22\\nSkipping line 1134620: expected 15 fields, saw 22\\nSkipping line 1161774: expected 15 fields, saw 22\\nSkipping line 1173906: expected 15 fields, saw 22\\n'\n",
      "b'Skipping line 1226184: expected 15 fields, saw 22\\nSkipping line 1227345: expected 15 fields, saw 22\\n'\n",
      "b'Skipping line 1299308: expected 15 fields, saw 22\\n'\n",
      "b'Skipping line 1314885: expected 15 fields, saw 22\\nSkipping line 1319270: expected 15 fields, saw 22\\n'\n",
      "b'Skipping line 1400785: expected 15 fields, saw 22\\n'\n",
      "b'Skipping line 1452664: expected 15 fields, saw 22\\n'\n",
      "b'Skipping line 1553197: expected 15 fields, saw 22\\nSkipping line 1565603: expected 15 fields, saw 22\\n'\n",
      "b'Skipping line 1581194: expected 15 fields, saw 22\\nSkipping line 1588532: expected 15 fields, saw 22\\nSkipping line 1593760: expected 15 fields, saw 22\\n'\n",
      "b'Skipping line 1638506: expected 15 fields, saw 22\\nSkipping line 1684480: expected 15 fields, saw 22\\n'\n",
      "b'Skipping line 1751648: expected 15 fields, saw 22\\nSkipping line 1754239: expected 15 fields, saw 22\\n'\n",
      "b'Skipping line 1813371: expected 15 fields, saw 22\\nSkipping line 1833867: expected 15 fields, saw 22\\n'\n",
      "b'Skipping line 1843271: expected 15 fields, saw 22\\nSkipping line 1878226: expected 15 fields, saw 22\\nSkipping line 1878565: expected 15 fields, saw 22\\nSkipping line 1879284: expected 15 fields, saw 22\\nSkipping line 1879583: expected 15 fields, saw 22\\nSkipping line 1879619: expected 15 fields, saw 22\\nSkipping line 1880224: expected 15 fields, saw 22\\nSkipping line 1881528: expected 15 fields, saw 22\\nSkipping line 1883001: expected 15 fields, saw 22\\nSkipping line 1897746: expected 15 fields, saw 22\\nSkipping line 1900482: expected 15 fields, saw 22\\n'\n",
      "b'Skipping line 1937218: expected 15 fields, saw 22\\nSkipping line 1947384: expected 15 fields, saw 22\\nSkipping line 1950536: expected 15 fields, saw 22\\n'\n",
      "b'Skipping line 1974526: expected 15 fields, saw 22\\nSkipping line 1999157: expected 15 fields, saw 22\\n'\n",
      "b'Skipping line 2049158: expected 15 fields, saw 22\\nSkipping line 2059966: expected 15 fields, saw 22\\n'\n",
      "b'Skipping line 2136949: expected 15 fields, saw 22\\nSkipping line 2139761: expected 15 fields, saw 22\\nSkipping line 2159242: expected 15 fields, saw 22\\n'\n",
      "b'Skipping line 2172137: expected 15 fields, saw 22\\nSkipping line 2225127: expected 15 fields, saw 22\\n'\n",
      "b'Skipping line 2242683: expected 15 fields, saw 22\\n'\n",
      "b'Skipping line 2324179: expected 15 fields, saw 22\\nSkipping line 2350637: expected 15 fields, saw 22\\n'\n",
      "b'Skipping line 2369709: expected 15 fields, saw 22\\nSkipping line 2374408: expected 15 fields, saw 22\\n'\n",
      "b'Skipping line 3001832: expected 15 fields, saw 22\\n'\n",
      "b'Skipping line 3250530: expected 15 fields, saw 22\\n'\n"
     ]
    },
    {
     "name": "stdout",
     "output_type": "stream",
     "text": [
      "time: 39.2 s\n"
     ]
    }
   ],
   "source": [
    "df = pd.read_csv('../data/amazon_reviews_us_Shoes_v1_00.tsv.gz', delimiter='\\t', error_bad_lines=False)"
   ]
  },
  {
   "cell_type": "markdown",
   "metadata": {},
   "source": [
    "# ** Amazon product dataset data analysis "
   ]
  },
  {
   "cell_type": "markdown",
   "metadata": {},
   "source": [
    "We can see this dataset includes information like:\n",
    "\n",
    "- `marketplace`: 2-letter country code (in this case all \"US\").\n",
    "- `customer_id`: Random identifier that can be used to aggregate reviews written by a single author.\n",
    "- `review_id`: A unique ID for the review.\n",
    "- `product_id`: The Amazon Standard Identification Number (ASIN).  `http://www.amazon.com/dp/<ASIN>` links to the product's detail page.\n",
    "- `product_parent`: The parent of that ASIN.  Multiple ASINs (color or format variations of the same product) can roll up into a single parent parent.\n",
    "- `product_title`: Title description of the product.\n",
    "- `product_category`: Broad product category that can be used to group reviews (in this case this products).\n",
    "- `star_rating`: The review's rating (1 to 5 stars).\n",
    "- `helpful_votes`: Number of helpful votes for the review.\n",
    "- `total_votes`: Number of total votes the review received.\n",
    "- `vine`: Was the review written as part of the [Vine](https://www.amazon.com/gp/vine/help) program?\n",
    "- `verified_purchase`: Was the review from a verified purchase?\n",
    "- `review_headline`: The title of the review itself.\n",
    "- `review_body`: The text of the review.\n",
    "- `review_date`: The date the review was written.\n",
    "\n",
    "For this example, let's limit ourselves to `customer_id`, `product_id`, and `star_rating`.  Including additional features in our recommendation system could be beneficial, but would require substantial processing (particularly the text data) which would take us beyond the scope of this notebook.\n",
    "\n",
    "*Note: we'll keep `product_title` on the dataset to help verify our recommendations later in the notebook, but it will not be used in algorithm training.*"
   ]
  },
  {
   "cell_type": "markdown",
   "metadata": {},
   "source": [
    "### Because most people haven't use most products, and people rate fewer products than we actually watch, we'd expect our data to be sparse.  Our algorithm should work well with this sparse problem in general, but we may still want to clean out some of the long tail.  Let's look at some basic percentiles to confirm."
   ]
  },
  {
   "cell_type": "code",
   "execution_count": 19,
   "metadata": {},
   "outputs": [
    {
     "data": {
      "text/html": [
       "<div>\n",
       "<style scoped>\n",
       "    .dataframe tbody tr th:only-of-type {\n",
       "        vertical-align: middle;\n",
       "    }\n",
       "\n",
       "    .dataframe tbody tr th {\n",
       "        vertical-align: top;\n",
       "    }\n",
       "\n",
       "    .dataframe thead th {\n",
       "        text-align: right;\n",
       "    }\n",
       "</style>\n",
       "<table border=\"1\" class=\"dataframe\">\n",
       "  <thead>\n",
       "    <tr style=\"text-align: right;\">\n",
       "      <th></th>\n",
       "      <th>marketplace</th>\n",
       "      <th>customer_id</th>\n",
       "      <th>review_id</th>\n",
       "      <th>product_id</th>\n",
       "      <th>product_parent</th>\n",
       "      <th>product_title</th>\n",
       "      <th>product_category</th>\n",
       "      <th>star_rating</th>\n",
       "      <th>helpful_votes</th>\n",
       "      <th>total_votes</th>\n",
       "      <th>vine</th>\n",
       "      <th>verified_purchase</th>\n",
       "      <th>review_headline</th>\n",
       "      <th>review_body</th>\n",
       "      <th>review_date</th>\n",
       "    </tr>\n",
       "  </thead>\n",
       "  <tbody>\n",
       "    <tr>\n",
       "      <th>0</th>\n",
       "      <td>US</td>\n",
       "      <td>18069663</td>\n",
       "      <td>R3P2HIOQCIN5ZU</td>\n",
       "      <td>B000XB31C0</td>\n",
       "      <td>265024781</td>\n",
       "      <td>Minnetonka Men's Double Deerskin Softsole Mocc...</td>\n",
       "      <td>Shoes</td>\n",
       "      <td>1</td>\n",
       "      <td>0</td>\n",
       "      <td>0</td>\n",
       "      <td>N</td>\n",
       "      <td>Y</td>\n",
       "      <td>.</td>\n",
       "      <td>Do not buy: really didn't start to wear them u...</td>\n",
       "      <td>2015-08-31</td>\n",
       "    </tr>\n",
       "    <tr>\n",
       "      <th>1</th>\n",
       "      <td>US</td>\n",
       "      <td>16251825</td>\n",
       "      <td>R12VVR0WH5Q24V</td>\n",
       "      <td>B00CFYZH5W</td>\n",
       "      <td>259035853</td>\n",
       "      <td>Teva Men's Pajaro Flip-Flop</td>\n",
       "      <td>Shoes</td>\n",
       "      <td>5</td>\n",
       "      <td>0</td>\n",
       "      <td>0</td>\n",
       "      <td>N</td>\n",
       "      <td>Y</td>\n",
       "      <td>super flip flop</td>\n",
       "      <td>provides great cushion as well as archsupport</td>\n",
       "      <td>2015-08-31</td>\n",
       "    </tr>\n",
       "    <tr>\n",
       "      <th>2</th>\n",
       "      <td>US</td>\n",
       "      <td>20381037</td>\n",
       "      <td>RNCCKB6TV5EEF</td>\n",
       "      <td>B00S8JNN3Q</td>\n",
       "      <td>666066660</td>\n",
       "      <td>Anne Klein Perfect Pair Wristlet</td>\n",
       "      <td>Shoes</td>\n",
       "      <td>4</td>\n",
       "      <td>0</td>\n",
       "      <td>0</td>\n",
       "      <td>N</td>\n",
       "      <td>Y</td>\n",
       "      <td>Great clutch purse!</td>\n",
       "      <td>It's perfect if you need something small for c...</td>\n",
       "      <td>2015-08-31</td>\n",
       "    </tr>\n",
       "    <tr>\n",
       "      <th>3</th>\n",
       "      <td>US</td>\n",
       "      <td>108364</td>\n",
       "      <td>R2NZXYIVCGB13W</td>\n",
       "      <td>B00XFBPOQG</td>\n",
       "      <td>448483263</td>\n",
       "      <td>adidas Men's 10K Lifestyle Runner Sneaker</td>\n",
       "      <td>Shoes</td>\n",
       "      <td>5</td>\n",
       "      <td>0</td>\n",
       "      <td>6</td>\n",
       "      <td>N</td>\n",
       "      <td>Y</td>\n",
       "      <td>Badass</td>\n",
       "      <td>Getting what u see</td>\n",
       "      <td>2015-08-31</td>\n",
       "    </tr>\n",
       "    <tr>\n",
       "      <th>4</th>\n",
       "      <td>US</td>\n",
       "      <td>45449350</td>\n",
       "      <td>R2EQ1TG9IT3OEQ</td>\n",
       "      <td>B00SW64Y9W</td>\n",
       "      <td>7853171</td>\n",
       "      <td>OverBling Sneakers for Men Casual Men Shoes Ge...</td>\n",
       "      <td>Shoes</td>\n",
       "      <td>3</td>\n",
       "      <td>0</td>\n",
       "      <td>0</td>\n",
       "      <td>N</td>\n",
       "      <td>Y</td>\n",
       "      <td>Three Stars</td>\n",
       "      <td>small</td>\n",
       "      <td>2015-08-31</td>\n",
       "    </tr>\n",
       "  </tbody>\n",
       "</table>\n",
       "</div>"
      ],
      "text/plain": [
       "  marketplace  customer_id       review_id  product_id  product_parent  \\\n",
       "0          US     18069663  R3P2HIOQCIN5ZU  B000XB31C0       265024781   \n",
       "1          US     16251825  R12VVR0WH5Q24V  B00CFYZH5W       259035853   \n",
       "2          US     20381037   RNCCKB6TV5EEF  B00S8JNN3Q       666066660   \n",
       "3          US       108364  R2NZXYIVCGB13W  B00XFBPOQG       448483263   \n",
       "4          US     45449350  R2EQ1TG9IT3OEQ  B00SW64Y9W         7853171   \n",
       "\n",
       "                                       product_title product_category  \\\n",
       "0  Minnetonka Men's Double Deerskin Softsole Mocc...            Shoes   \n",
       "1                        Teva Men's Pajaro Flip-Flop            Shoes   \n",
       "2                   Anne Klein Perfect Pair Wristlet            Shoes   \n",
       "3          adidas Men's 10K Lifestyle Runner Sneaker            Shoes   \n",
       "4  OverBling Sneakers for Men Casual Men Shoes Ge...            Shoes   \n",
       "\n",
       "   star_rating  helpful_votes  total_votes vine verified_purchase  \\\n",
       "0            1              0            0    N                 Y   \n",
       "1            5              0            0    N                 Y   \n",
       "2            4              0            0    N                 Y   \n",
       "3            5              0            6    N                 Y   \n",
       "4            3              0            0    N                 Y   \n",
       "\n",
       "       review_headline                                        review_body  \\\n",
       "0                    .  Do not buy: really didn't start to wear them u...   \n",
       "1      super flip flop      provides great cushion as well as archsupport   \n",
       "2  Great clutch purse!  It's perfect if you need something small for c...   \n",
       "3               Badass                                 Getting what u see   \n",
       "4          Three Stars                                              small   \n",
       "\n",
       "  review_date  \n",
       "0  2015-08-31  \n",
       "1  2015-08-31  \n",
       "2  2015-08-31  \n",
       "3  2015-08-31  \n",
       "4  2015-08-31  "
      ]
     },
     "execution_count": 19,
     "metadata": {},
     "output_type": "execute_result"
    },
    {
     "name": "stdout",
     "output_type": "stream",
     "text": [
      "time: 27.5 ms\n"
     ]
    }
   ],
   "source": [
    "df.head()"
   ]
  },
  {
   "cell_type": "code",
   "execution_count": 20,
   "metadata": {},
   "outputs": [
    {
     "data": {
      "text/plain": [
       "(4358820, 15)"
      ]
     },
     "execution_count": 20,
     "metadata": {},
     "output_type": "execute_result"
    },
    {
     "name": "stdout",
     "output_type": "stream",
     "text": [
      "time: 2.1 ms\n"
     ]
    }
   ],
   "source": [
    "# shape of data\n",
    "df.shape"
   ]
  },
  {
   "cell_type": "code",
   "execution_count": 21,
   "metadata": {},
   "outputs": [
    {
     "data": {
      "text/html": [
       "<div>\n",
       "<style scoped>\n",
       "    .dataframe tbody tr th:only-of-type {\n",
       "        vertical-align: middle;\n",
       "    }\n",
       "\n",
       "    .dataframe tbody tr th {\n",
       "        vertical-align: top;\n",
       "    }\n",
       "\n",
       "    .dataframe thead th {\n",
       "        text-align: right;\n",
       "    }\n",
       "</style>\n",
       "<table border=\"1\" class=\"dataframe\">\n",
       "  <thead>\n",
       "    <tr style=\"text-align: right;\">\n",
       "      <th></th>\n",
       "      <th>customer_id</th>\n",
       "      <th>product_parent</th>\n",
       "      <th>star_rating</th>\n",
       "      <th>helpful_votes</th>\n",
       "      <th>total_votes</th>\n",
       "    </tr>\n",
       "  </thead>\n",
       "  <tbody>\n",
       "    <tr>\n",
       "      <th>count</th>\n",
       "      <td>4.358820e+06</td>\n",
       "      <td>4.358820e+06</td>\n",
       "      <td>4.358820e+06</td>\n",
       "      <td>4.358820e+06</td>\n",
       "      <td>4.358820e+06</td>\n",
       "    </tr>\n",
       "    <tr>\n",
       "      <th>mean</th>\n",
       "      <td>2.631178e+07</td>\n",
       "      <td>4.983149e+08</td>\n",
       "      <td>4.241249e+00</td>\n",
       "      <td>8.777460e-01</td>\n",
       "      <td>1.076503e+00</td>\n",
       "    </tr>\n",
       "    <tr>\n",
       "      <th>std</th>\n",
       "      <td>1.546916e+07</td>\n",
       "      <td>2.898457e+08</td>\n",
       "      <td>1.157505e+00</td>\n",
       "      <td>7.563358e+00</td>\n",
       "      <td>8.137539e+00</td>\n",
       "    </tr>\n",
       "    <tr>\n",
       "      <th>min</th>\n",
       "      <td>1.001700e+04</td>\n",
       "      <td>2.220000e+02</td>\n",
       "      <td>1.000000e+00</td>\n",
       "      <td>0.000000e+00</td>\n",
       "      <td>0.000000e+00</td>\n",
       "    </tr>\n",
       "    <tr>\n",
       "      <th>25%</th>\n",
       "      <td>1.338500e+07</td>\n",
       "      <td>2.463836e+08</td>\n",
       "      <td>4.000000e+00</td>\n",
       "      <td>0.000000e+00</td>\n",
       "      <td>0.000000e+00</td>\n",
       "    </tr>\n",
       "    <tr>\n",
       "      <th>50%</th>\n",
       "      <td>2.445766e+07</td>\n",
       "      <td>4.976083e+08</td>\n",
       "      <td>5.000000e+00</td>\n",
       "      <td>0.000000e+00</td>\n",
       "      <td>0.000000e+00</td>\n",
       "    </tr>\n",
       "    <tr>\n",
       "      <th>75%</th>\n",
       "      <td>4.090312e+07</td>\n",
       "      <td>7.502587e+08</td>\n",
       "      <td>5.000000e+00</td>\n",
       "      <td>1.000000e+00</td>\n",
       "      <td>1.000000e+00</td>\n",
       "    </tr>\n",
       "    <tr>\n",
       "      <th>max</th>\n",
       "      <td>5.309657e+07</td>\n",
       "      <td>9.999999e+08</td>\n",
       "      <td>5.000000e+00</td>\n",
       "      <td>5.070000e+03</td>\n",
       "      <td>5.329000e+03</td>\n",
       "    </tr>\n",
       "  </tbody>\n",
       "</table>\n",
       "</div>"
      ],
      "text/plain": [
       "        customer_id  product_parent   star_rating  helpful_votes   total_votes\n",
       "count  4.358820e+06    4.358820e+06  4.358820e+06   4.358820e+06  4.358820e+06\n",
       "mean   2.631178e+07    4.983149e+08  4.241249e+00   8.777460e-01  1.076503e+00\n",
       "std    1.546916e+07    2.898457e+08  1.157505e+00   7.563358e+00  8.137539e+00\n",
       "min    1.001700e+04    2.220000e+02  1.000000e+00   0.000000e+00  0.000000e+00\n",
       "25%    1.338500e+07    2.463836e+08  4.000000e+00   0.000000e+00  0.000000e+00\n",
       "50%    2.445766e+07    4.976083e+08  5.000000e+00   0.000000e+00  0.000000e+00\n",
       "75%    4.090312e+07    7.502587e+08  5.000000e+00   1.000000e+00  1.000000e+00\n",
       "max    5.309657e+07    9.999999e+08  5.000000e+00   5.070000e+03  5.329000e+03"
      ]
     },
     "execution_count": 21,
     "metadata": {},
     "output_type": "execute_result"
    },
    {
     "name": "stdout",
     "output_type": "stream",
     "text": [
      "time: 891 ms\n"
     ]
    }
   ],
   "source": [
    "# Describing the data set\n",
    "df.describe()"
   ]
  },
  {
   "cell_type": "code",
   "execution_count": 22,
   "metadata": {},
   "outputs": [
    {
     "data": {
      "text/plain": [
       "marketplace            0\n",
       "customer_id            0\n",
       "review_id              0\n",
       "product_id             0\n",
       "product_parent         0\n",
       "product_title          1\n",
       "product_category       0\n",
       "star_rating            0\n",
       "helpful_votes          0\n",
       "total_votes            0\n",
       "vine                   0\n",
       "verified_purchase      0\n",
       "review_headline       26\n",
       "review_body          440\n",
       "review_date           21\n",
       "dtype: int64"
      ]
     },
     "execution_count": 22,
     "metadata": {},
     "output_type": "execute_result"
    },
    {
     "name": "stdout",
     "output_type": "stream",
     "text": [
      "time: 3.15 s\n"
     ]
    }
   ],
   "source": [
    "# checking if there is any null data or not\n",
    "df.isnull().sum()"
   ]
  },
  {
   "cell_type": "code",
   "execution_count": 23,
   "metadata": {},
   "outputs": [
    {
     "name": "stdout",
     "output_type": "stream",
     "text": [
      "time: 4.03 s\n"
     ]
    }
   ],
   "source": [
    "# remove numm data\n",
    "df = df.dropna()"
   ]
  },
  {
   "cell_type": "code",
   "execution_count": 24,
   "metadata": {},
   "outputs": [
    {
     "data": {
      "text/html": [
       "<div>\n",
       "<style scoped>\n",
       "    .dataframe tbody tr th:only-of-type {\n",
       "        vertical-align: middle;\n",
       "    }\n",
       "\n",
       "    .dataframe tbody tr th {\n",
       "        vertical-align: top;\n",
       "    }\n",
       "\n",
       "    .dataframe thead th {\n",
       "        text-align: right;\n",
       "    }\n",
       "</style>\n",
       "<table border=\"1\" class=\"dataframe\">\n",
       "  <thead>\n",
       "    <tr style=\"text-align: right;\">\n",
       "      <th></th>\n",
       "      <th>marketplace</th>\n",
       "      <th>customer_id</th>\n",
       "      <th>review_id</th>\n",
       "      <th>product_id</th>\n",
       "      <th>product_parent</th>\n",
       "      <th>product_title</th>\n",
       "      <th>product_category</th>\n",
       "      <th>star_rating</th>\n",
       "      <th>helpful_votes</th>\n",
       "      <th>total_votes</th>\n",
       "      <th>vine</th>\n",
       "      <th>verified_purchase</th>\n",
       "      <th>review_headline</th>\n",
       "      <th>review_body</th>\n",
       "      <th>review_date</th>\n",
       "    </tr>\n",
       "  </thead>\n",
       "  <tbody>\n",
       "    <tr>\n",
       "      <th>0</th>\n",
       "      <td>US</td>\n",
       "      <td>18069663</td>\n",
       "      <td>R3P2HIOQCIN5ZU</td>\n",
       "      <td>B000XB31C0</td>\n",
       "      <td>265024781</td>\n",
       "      <td>Minnetonka Men's Double Deerskin Softsole Mocc...</td>\n",
       "      <td>Shoes</td>\n",
       "      <td>1</td>\n",
       "      <td>0</td>\n",
       "      <td>0</td>\n",
       "      <td>N</td>\n",
       "      <td>Y</td>\n",
       "      <td>.</td>\n",
       "      <td>Do not buy: really didn't start to wear them u...</td>\n",
       "      <td>2015-08-31</td>\n",
       "    </tr>\n",
       "    <tr>\n",
       "      <th>1</th>\n",
       "      <td>US</td>\n",
       "      <td>16251825</td>\n",
       "      <td>R12VVR0WH5Q24V</td>\n",
       "      <td>B00CFYZH5W</td>\n",
       "      <td>259035853</td>\n",
       "      <td>Teva Men's Pajaro Flip-Flop</td>\n",
       "      <td>Shoes</td>\n",
       "      <td>5</td>\n",
       "      <td>0</td>\n",
       "      <td>0</td>\n",
       "      <td>N</td>\n",
       "      <td>Y</td>\n",
       "      <td>super flip flop</td>\n",
       "      <td>provides great cushion as well as archsupport</td>\n",
       "      <td>2015-08-31</td>\n",
       "    </tr>\n",
       "    <tr>\n",
       "      <th>2</th>\n",
       "      <td>US</td>\n",
       "      <td>20381037</td>\n",
       "      <td>RNCCKB6TV5EEF</td>\n",
       "      <td>B00S8JNN3Q</td>\n",
       "      <td>666066660</td>\n",
       "      <td>Anne Klein Perfect Pair Wristlet</td>\n",
       "      <td>Shoes</td>\n",
       "      <td>4</td>\n",
       "      <td>0</td>\n",
       "      <td>0</td>\n",
       "      <td>N</td>\n",
       "      <td>Y</td>\n",
       "      <td>Great clutch purse!</td>\n",
       "      <td>It's perfect if you need something small for c...</td>\n",
       "      <td>2015-08-31</td>\n",
       "    </tr>\n",
       "  </tbody>\n",
       "</table>\n",
       "</div>"
      ],
      "text/plain": [
       "  marketplace  customer_id       review_id  product_id  product_parent  \\\n",
       "0          US     18069663  R3P2HIOQCIN5ZU  B000XB31C0       265024781   \n",
       "1          US     16251825  R12VVR0WH5Q24V  B00CFYZH5W       259035853   \n",
       "2          US     20381037   RNCCKB6TV5EEF  B00S8JNN3Q       666066660   \n",
       "\n",
       "                                       product_title product_category  \\\n",
       "0  Minnetonka Men's Double Deerskin Softsole Mocc...            Shoes   \n",
       "1                        Teva Men's Pajaro Flip-Flop            Shoes   \n",
       "2                   Anne Klein Perfect Pair Wristlet            Shoes   \n",
       "\n",
       "   star_rating  helpful_votes  total_votes vine verified_purchase  \\\n",
       "0            1              0            0    N                 Y   \n",
       "1            5              0            0    N                 Y   \n",
       "2            4              0            0    N                 Y   \n",
       "\n",
       "       review_headline                                        review_body  \\\n",
       "0                    .  Do not buy: really didn't start to wear them u...   \n",
       "1      super flip flop      provides great cushion as well as archsupport   \n",
       "2  Great clutch purse!  It's perfect if you need something small for c...   \n",
       "\n",
       "  review_date  \n",
       "0  2015-08-31  \n",
       "1  2015-08-31  \n",
       "2  2015-08-31  "
      ]
     },
     "execution_count": 24,
     "metadata": {},
     "output_type": "execute_result"
    },
    {
     "name": "stdout",
     "output_type": "stream",
     "text": [
      "time: 14.7 ms\n"
     ]
    }
   ],
   "source": [
    "df.head(n=3)"
   ]
  },
  {
   "cell_type": "code",
   "execution_count": 25,
   "metadata": {},
   "outputs": [
    {
     "data": {
      "text/plain": [
       "marketplace          0\n",
       "customer_id          0\n",
       "review_id            0\n",
       "product_id           0\n",
       "product_parent       0\n",
       "product_title        0\n",
       "product_category     0\n",
       "star_rating          0\n",
       "helpful_votes        0\n",
       "total_votes          0\n",
       "vine                 0\n",
       "verified_purchase    0\n",
       "review_headline      0\n",
       "review_body          0\n",
       "review_date          0\n",
       "dtype: int64"
      ]
     },
     "execution_count": 25,
     "metadata": {},
     "output_type": "execute_result"
    },
    {
     "name": "stdout",
     "output_type": "stream",
     "text": [
      "time: 3.12 s\n"
     ]
    }
   ],
   "source": [
    "# checking if there is any null data or not\n",
    "df.isnull().sum()"
   ]
  },
  {
   "cell_type": "code",
   "execution_count": 26,
   "metadata": {},
   "outputs": [
    {
     "data": {
      "text/html": [
       "<div>\n",
       "<style scoped>\n",
       "    .dataframe tbody tr th:only-of-type {\n",
       "        vertical-align: middle;\n",
       "    }\n",
       "\n",
       "    .dataframe tbody tr th {\n",
       "        vertical-align: top;\n",
       "    }\n",
       "\n",
       "    .dataframe thead tr th {\n",
       "        text-align: left;\n",
       "    }\n",
       "\n",
       "    .dataframe thead tr:last-of-type th {\n",
       "        text-align: right;\n",
       "    }\n",
       "</style>\n",
       "<table border=\"1\" class=\"dataframe\">\n",
       "  <thead>\n",
       "    <tr>\n",
       "      <th></th>\n",
       "      <th colspan=\"8\" halign=\"left\">customer_id</th>\n",
       "      <th colspan=\"2\" halign=\"left\">product_parent</th>\n",
       "      <th>...</th>\n",
       "      <th colspan=\"2\" halign=\"left\">helpful_votes</th>\n",
       "      <th colspan=\"8\" halign=\"left\">total_votes</th>\n",
       "    </tr>\n",
       "    <tr>\n",
       "      <th></th>\n",
       "      <th>count</th>\n",
       "      <th>mean</th>\n",
       "      <th>std</th>\n",
       "      <th>min</th>\n",
       "      <th>25%</th>\n",
       "      <th>50%</th>\n",
       "      <th>75%</th>\n",
       "      <th>max</th>\n",
       "      <th>count</th>\n",
       "      <th>mean</th>\n",
       "      <th>...</th>\n",
       "      <th>75%</th>\n",
       "      <th>max</th>\n",
       "      <th>count</th>\n",
       "      <th>mean</th>\n",
       "      <th>std</th>\n",
       "      <th>min</th>\n",
       "      <th>25%</th>\n",
       "      <th>50%</th>\n",
       "      <th>75%</th>\n",
       "      <th>max</th>\n",
       "    </tr>\n",
       "    <tr>\n",
       "      <th>star_rating</th>\n",
       "      <th></th>\n",
       "      <th></th>\n",
       "      <th></th>\n",
       "      <th></th>\n",
       "      <th></th>\n",
       "      <th></th>\n",
       "      <th></th>\n",
       "      <th></th>\n",
       "      <th></th>\n",
       "      <th></th>\n",
       "      <th></th>\n",
       "      <th></th>\n",
       "      <th></th>\n",
       "      <th></th>\n",
       "      <th></th>\n",
       "      <th></th>\n",
       "      <th></th>\n",
       "      <th></th>\n",
       "      <th></th>\n",
       "      <th></th>\n",
       "      <th></th>\n",
       "    </tr>\n",
       "  </thead>\n",
       "  <tbody>\n",
       "    <tr>\n",
       "      <th>1</th>\n",
       "      <td>231702.0</td>\n",
       "      <td>2.613264e+07</td>\n",
       "      <td>1.555256e+07</td>\n",
       "      <td>10216.0</td>\n",
       "      <td>13159540.00</td>\n",
       "      <td>24184169.5</td>\n",
       "      <td>40816197.00</td>\n",
       "      <td>53096405.0</td>\n",
       "      <td>231702.0</td>\n",
       "      <td>4.972857e+08</td>\n",
       "      <td>...</td>\n",
       "      <td>1.0</td>\n",
       "      <td>2293.0</td>\n",
       "      <td>231702.0</td>\n",
       "      <td>2.729437</td>\n",
       "      <td>12.343236</td>\n",
       "      <td>0.0</td>\n",
       "      <td>0.0</td>\n",
       "      <td>1.0</td>\n",
       "      <td>2.0</td>\n",
       "      <td>2522.0</td>\n",
       "    </tr>\n",
       "    <tr>\n",
       "      <th>2</th>\n",
       "      <td>242368.0</td>\n",
       "      <td>2.728759e+07</td>\n",
       "      <td>1.524881e+07</td>\n",
       "      <td>10121.0</td>\n",
       "      <td>14220759.25</td>\n",
       "      <td>25811489.5</td>\n",
       "      <td>41616422.25</td>\n",
       "      <td>53096567.0</td>\n",
       "      <td>242368.0</td>\n",
       "      <td>4.992033e+08</td>\n",
       "      <td>...</td>\n",
       "      <td>1.0</td>\n",
       "      <td>769.0</td>\n",
       "      <td>242368.0</td>\n",
       "      <td>1.558164</td>\n",
       "      <td>6.155664</td>\n",
       "      <td>0.0</td>\n",
       "      <td>0.0</td>\n",
       "      <td>0.0</td>\n",
       "      <td>1.0</td>\n",
       "      <td>799.0</td>\n",
       "    </tr>\n",
       "    <tr>\n",
       "      <th>3</th>\n",
       "      <td>403414.0</td>\n",
       "      <td>2.675237e+07</td>\n",
       "      <td>1.538036e+07</td>\n",
       "      <td>10017.0</td>\n",
       "      <td>13773124.75</td>\n",
       "      <td>25079965.5</td>\n",
       "      <td>41269264.50</td>\n",
       "      <td>53096471.0</td>\n",
       "      <td>403414.0</td>\n",
       "      <td>4.976268e+08</td>\n",
       "      <td>...</td>\n",
       "      <td>1.0</td>\n",
       "      <td>494.0</td>\n",
       "      <td>403414.0</td>\n",
       "      <td>1.178992</td>\n",
       "      <td>5.193058</td>\n",
       "      <td>0.0</td>\n",
       "      <td>0.0</td>\n",
       "      <td>0.0</td>\n",
       "      <td>1.0</td>\n",
       "      <td>513.0</td>\n",
       "    </tr>\n",
       "    <tr>\n",
       "      <th>4</th>\n",
       "      <td>846151.0</td>\n",
       "      <td>2.642434e+07</td>\n",
       "      <td>1.545640e+07</td>\n",
       "      <td>10053.0</td>\n",
       "      <td>13493269.00</td>\n",
       "      <td>24626637.0</td>\n",
       "      <td>41006751.50</td>\n",
       "      <td>53096474.0</td>\n",
       "      <td>846151.0</td>\n",
       "      <td>4.983365e+08</td>\n",
       "      <td>...</td>\n",
       "      <td>0.0</td>\n",
       "      <td>1338.0</td>\n",
       "      <td>846151.0</td>\n",
       "      <td>0.896550</td>\n",
       "      <td>4.915773</td>\n",
       "      <td>0.0</td>\n",
       "      <td>0.0</td>\n",
       "      <td>0.0</td>\n",
       "      <td>1.0</td>\n",
       "      <td>1357.0</td>\n",
       "    </tr>\n",
       "    <tr>\n",
       "      <th>5</th>\n",
       "      <td>2634698.0</td>\n",
       "      <td>2.613613e+07</td>\n",
       "      <td>1.549374e+07</td>\n",
       "      <td>10022.0</td>\n",
       "      <td>13235135.50</td>\n",
       "      <td>24214413.0</td>\n",
       "      <td>40719567.00</td>\n",
       "      <td>53096567.0</td>\n",
       "      <td>2634698.0</td>\n",
       "      <td>4.984187e+08</td>\n",
       "      <td>...</td>\n",
       "      <td>0.0</td>\n",
       "      <td>5070.0</td>\n",
       "      <td>2634698.0</td>\n",
       "      <td>0.927385</td>\n",
       "      <td>8.966711</td>\n",
       "      <td>0.0</td>\n",
       "      <td>0.0</td>\n",
       "      <td>0.0</td>\n",
       "      <td>1.0</td>\n",
       "      <td>5329.0</td>\n",
       "    </tr>\n",
       "  </tbody>\n",
       "</table>\n",
       "<p>5 rows × 32 columns</p>\n",
       "</div>"
      ],
      "text/plain": [
       "            customer_id                                                    \\\n",
       "                  count          mean           std      min          25%   \n",
       "star_rating                                                                 \n",
       "1              231702.0  2.613264e+07  1.555256e+07  10216.0  13159540.00   \n",
       "2              242368.0  2.728759e+07  1.524881e+07  10121.0  14220759.25   \n",
       "3              403414.0  2.675237e+07  1.538036e+07  10017.0  13773124.75   \n",
       "4              846151.0  2.642434e+07  1.545640e+07  10053.0  13493269.00   \n",
       "5             2634698.0  2.613613e+07  1.549374e+07  10022.0  13235135.50   \n",
       "\n",
       "                                                 product_parent                \\\n",
       "                    50%          75%         max          count          mean   \n",
       "star_rating                                                                     \n",
       "1            24184169.5  40816197.00  53096405.0       231702.0  4.972857e+08   \n",
       "2            25811489.5  41616422.25  53096567.0       242368.0  4.992033e+08   \n",
       "3            25079965.5  41269264.50  53096471.0       403414.0  4.976268e+08   \n",
       "4            24626637.0  41006751.50  53096474.0       846151.0  4.983365e+08   \n",
       "5            24214413.0  40719567.00  53096567.0      2634698.0  4.984187e+08   \n",
       "\n",
       "             ... helpful_votes         total_votes                            \\\n",
       "             ...           75%     max       count      mean        std  min   \n",
       "star_rating  ...                                                               \n",
       "1            ...           1.0  2293.0    231702.0  2.729437  12.343236  0.0   \n",
       "2            ...           1.0   769.0    242368.0  1.558164   6.155664  0.0   \n",
       "3            ...           1.0   494.0    403414.0  1.178992   5.193058  0.0   \n",
       "4            ...           0.0  1338.0    846151.0  0.896550   4.915773  0.0   \n",
       "5            ...           0.0  5070.0   2634698.0  0.927385   8.966711  0.0   \n",
       "\n",
       "                                    \n",
       "             25%  50%  75%     max  \n",
       "star_rating                         \n",
       "1            0.0  1.0  2.0  2522.0  \n",
       "2            0.0  0.0  1.0   799.0  \n",
       "3            0.0  0.0  1.0   513.0  \n",
       "4            0.0  0.0  1.0  1357.0  \n",
       "5            0.0  0.0  1.0  5329.0  \n",
       "\n",
       "[5 rows x 32 columns]"
      ]
     },
     "execution_count": 26,
     "metadata": {},
     "output_type": "execute_result"
    },
    {
     "name": "stdout",
     "output_type": "stream",
     "text": [
      "time: 3.1 s\n"
     ]
    }
   ],
   "source": [
    "# Describing the data according to the ratings\n",
    "df.groupby('star_rating').describe()"
   ]
  },
  {
   "cell_type": "code",
   "execution_count": 27,
   "metadata": {},
   "outputs": [
    {
     "data": {
      "text/plain": [
       "Index(['marketplace', 'customer_id', 'review_id', 'product_id',\n",
       "       'product_parent', 'product_title', 'product_category', 'star_rating',\n",
       "       'helpful_votes', 'total_votes', 'vine', 'verified_purchase',\n",
       "       'review_headline', 'review_body', 'review_date'],\n",
       "      dtype='object')"
      ]
     },
     "execution_count": 27,
     "metadata": {},
     "output_type": "execute_result"
    },
    {
     "name": "stdout",
     "output_type": "stream",
     "text": [
      "time: 2.5 ms\n"
     ]
    }
   ],
   "source": [
    "df.columns"
   ]
  },
  {
   "cell_type": "code",
   "execution_count": 28,
   "metadata": {},
   "outputs": [
    {
     "name": "stdout",
     "output_type": "stream",
     "text": [
      "time: 195 ms\n"
     ]
    }
   ],
   "source": [
    "df = df[['customer_id', 'product_id', 'star_rating', 'product_title', 'helpful_votes']]"
   ]
  },
  {
   "cell_type": "markdown",
   "metadata": {},
   "source": [
    "## Select voted review only"
   ]
  },
  {
   "cell_type": "code",
   "execution_count": 29,
   "metadata": {},
   "outputs": [
    {
     "data": {
      "text/plain": [
       "(4358333, 5)"
      ]
     },
     "execution_count": 29,
     "metadata": {},
     "output_type": "execute_result"
    },
    {
     "name": "stdout",
     "output_type": "stream",
     "text": [
      "time: 2.32 ms\n"
     ]
    }
   ],
   "source": [
    "df.shape"
   ]
  },
  {
   "cell_type": "code",
   "execution_count": 30,
   "metadata": {},
   "outputs": [
    {
     "data": {
      "text/plain": [
       "(1106199, 5)"
      ]
     },
     "execution_count": 30,
     "metadata": {},
     "output_type": "execute_result"
    },
    {
     "name": "stdout",
     "output_type": "stream",
     "text": [
      "time: 172 ms\n"
     ]
    }
   ],
   "source": [
    "df = df[df['helpful_votes'] > 0]\n",
    "df.shape"
   ]
  },
  {
   "cell_type": "code",
   "execution_count": 31,
   "metadata": {},
   "outputs": [
    {
     "data": {
      "text/plain": [
       "3252134"
      ]
     },
     "execution_count": 31,
     "metadata": {},
     "output_type": "execute_result"
    },
    {
     "name": "stdout",
     "output_type": "stream",
     "text": [
      "time: 2.14 ms\n"
     ]
    }
   ],
   "source": [
    "4358333-1106199"
   ]
  },
  {
   "cell_type": "code",
   "execution_count": 32,
   "metadata": {},
   "outputs": [
    {
     "name": "stdout",
     "output_type": "stream",
     "text": [
      "customers\n",
      " 0.00      1.0\n",
      "0.01      1.0\n",
      "0.02      1.0\n",
      "0.03      1.0\n",
      "0.04      1.0\n",
      "0.05      1.0\n",
      "0.10      1.0\n",
      "0.25      1.0\n",
      "0.50      1.0\n",
      "0.75      1.0\n",
      "0.90      2.0\n",
      "0.95      2.0\n",
      "0.96      3.0\n",
      "0.97      3.0\n",
      "0.98      3.0\n",
      "0.99      5.0\n",
      "1.00    102.0\n",
      "Name: customer_id, dtype: float64\n",
      "products\n",
      " 0.00      1.0\n",
      "0.01      1.0\n",
      "0.02      1.0\n",
      "0.03      1.0\n",
      "0.04      1.0\n",
      "0.05      1.0\n",
      "0.10      1.0\n",
      "0.25      1.0\n",
      "0.50      1.0\n",
      "0.75      1.0\n",
      "0.90      2.0\n",
      "0.95      3.0\n",
      "0.96      4.0\n",
      "0.97      5.0\n",
      "0.98      6.0\n",
      "0.99      8.0\n",
      "1.00    317.0\n",
      "Name: product_id, dtype: float64\n",
      "time: 1.06 s\n"
     ]
    }
   ],
   "source": [
    "customers = df['customer_id'].value_counts()\n",
    "products = df['product_id'].value_counts()\n",
    "\n",
    "quantiles = [0, 0.01, 0.02, 0.03, 0.04, 0.05, 0.1, 0.25, 0.5, 0.75, 0.9, 0.95, 0.96, 0.97, 0.98, 0.99, 1]\n",
    "print('customers\\n', customers.quantile(quantiles))\n",
    "print('products\\n', products.quantile(quantiles))"
   ]
  },
  {
   "cell_type": "markdown",
   "metadata": {},
   "source": [
    "\n",
    "\n",
    "### Clean\n",
    "\n",
    "#### As we can see, only about 5% of customers have rated 2 or more products, and only 10% of products have been rated by 2+ customers."
   ]
  },
  {
   "cell_type": "markdown",
   "metadata": {},
   "source": [
    "## Let's filter out this long tail."
   ]
  },
  {
   "cell_type": "code",
   "execution_count": 33,
   "metadata": {},
   "outputs": [
    {
     "name": "stdout",
     "output_type": "stream",
     "text": [
      "time: 1.06 s\n"
     ]
    }
   ],
   "source": [
    "customers = customers[customers >= 2]\n",
    "products = products[products >= 2]\n",
    "\n",
    "reduced_df = df.merge(pd.DataFrame({'customer_id': customers.index})).merge(pd.DataFrame({'product_id': products.index}))"
   ]
  },
  {
   "cell_type": "code",
   "execution_count": 34,
   "metadata": {},
   "outputs": [
    {
     "data": {
      "text/plain": [
       "(155509, 5)"
      ]
     },
     "execution_count": 34,
     "metadata": {},
     "output_type": "execute_result"
    },
    {
     "name": "stdout",
     "output_type": "stream",
     "text": [
      "time: 2.85 ms\n"
     ]
    }
   ],
   "source": [
    "reduced_df.shape"
   ]
  },
  {
   "cell_type": "code",
   "execution_count": 35,
   "metadata": {},
   "outputs": [
    {
     "name": "stdout",
     "output_type": "stream",
     "text": [
      "time: 983 ms\n"
     ]
    }
   ],
   "source": [
    "reduced_df.to_csv('../data/amazon_reviews_us_Shoes_v1_00_help_voted_And_cut_lognTail.csv', index_label=False)"
   ]
  },
  {
   "cell_type": "code",
   "execution_count": 36,
   "metadata": {},
   "outputs": [
    {
     "name": "stdout",
     "output_type": "stream",
     "text": [
      "upload: ../data/amazon_reviews_us_Shoes_v1_00_help_voted_And_cut_lognTail.csv to s3://dse-cohort5-group1/Keras-DeepRecommender-Shoes/data/amazon_reviews_us_Shoes_v1_00_help_voted_And_cut_lognTail.csv\n",
      "time: 1.27 s\n"
     ]
    }
   ],
   "source": [
    "!aws s3 cp ../data/amazon_reviews_us_Shoes_v1_00_help_voted_And_cut_lognTail.csv s3://dse-cohort5-group1/Keras-DeepRecommender-Shoes/data/amazon_reviews_us_Shoes_v1_00_help_voted_And_cut_lognTail.csv"
   ]
  },
  {
   "cell_type": "markdown",
   "metadata": {},
   "source": [
    "Now, we'll recreate our customer and product lists since there are customers with more than 5 reviews, but all of their reviews are on products with less than 5 reviews (and vice versa)."
   ]
  },
  {
   "cell_type": "code",
   "execution_count": 37,
   "metadata": {},
   "outputs": [
    {
     "name": "stdout",
     "output_type": "stream",
     "text": [
      "time: 177 ms\n"
     ]
    }
   ],
   "source": [
    "customers = reduced_df['customer_id'].value_counts()\n",
    "products = reduced_df['product_id'].value_counts()"
   ]
  },
  {
   "cell_type": "markdown",
   "metadata": {},
   "source": [
    "Next, we'll number each user and item, giving them their own sequential index.  This will allow us to hold the information in a sparse format where the sequential indices indicate the row and column in our ratings matrix."
   ]
  },
  {
   "cell_type": "code",
   "execution_count": 38,
   "metadata": {},
   "outputs": [
    {
     "name": "stdout",
     "output_type": "stream",
     "text": [
      "(155509, 7)\n"
     ]
    },
    {
     "data": {
      "text/html": [
       "<div>\n",
       "<style scoped>\n",
       "    .dataframe tbody tr th:only-of-type {\n",
       "        vertical-align: middle;\n",
       "    }\n",
       "\n",
       "    .dataframe tbody tr th {\n",
       "        vertical-align: top;\n",
       "    }\n",
       "\n",
       "    .dataframe thead th {\n",
       "        text-align: right;\n",
       "    }\n",
       "</style>\n",
       "<table border=\"1\" class=\"dataframe\">\n",
       "  <thead>\n",
       "    <tr style=\"text-align: right;\">\n",
       "      <th></th>\n",
       "      <th>customer_id</th>\n",
       "      <th>product_id</th>\n",
       "      <th>star_rating</th>\n",
       "      <th>product_title</th>\n",
       "      <th>helpful_votes</th>\n",
       "      <th>user</th>\n",
       "      <th>item</th>\n",
       "    </tr>\n",
       "  </thead>\n",
       "  <tbody>\n",
       "    <tr>\n",
       "      <th>0</th>\n",
       "      <td>50073594</td>\n",
       "      <td>B00FLH88CO</td>\n",
       "      <td>4</td>\n",
       "      <td>Norwegian Fleece Lined Winter Slippers</td>\n",
       "      <td>9</td>\n",
       "      <td>42802</td>\n",
       "      <td>42675</td>\n",
       "    </tr>\n",
       "    <tr>\n",
       "      <th>1</th>\n",
       "      <td>50073594</td>\n",
       "      <td>B00B3HW97Q</td>\n",
       "      <td>5</td>\n",
       "      <td>2 Pairs Foster Grant Womans Versa Polarized Su...</td>\n",
       "      <td>1</td>\n",
       "      <td>42802</td>\n",
       "      <td>19832</td>\n",
       "    </tr>\n",
       "    <tr>\n",
       "      <th>2</th>\n",
       "      <td>34778598</td>\n",
       "      <td>B00B3HW97Q</td>\n",
       "      <td>4</td>\n",
       "      <td>2 Pairs Foster Grant Womans Versa Polarized Su...</td>\n",
       "      <td>2</td>\n",
       "      <td>2744</td>\n",
       "      <td>19832</td>\n",
       "    </tr>\n",
       "    <tr>\n",
       "      <th>3</th>\n",
       "      <td>34778598</td>\n",
       "      <td>B0016P39OC</td>\n",
       "      <td>4</td>\n",
       "      <td>JiMarti AV5 Aviator Sunglasses Spring Hing Mir...</td>\n",
       "      <td>1</td>\n",
       "      <td>2744</td>\n",
       "      <td>2103</td>\n",
       "    </tr>\n",
       "    <tr>\n",
       "      <th>4</th>\n",
       "      <td>14227737</td>\n",
       "      <td>B0016P39OC</td>\n",
       "      <td>4</td>\n",
       "      <td>JiMarti AV5 Aviator Sunglasses Spring Hing Mir...</td>\n",
       "      <td>2</td>\n",
       "      <td>3227</td>\n",
       "      <td>2103</td>\n",
       "    </tr>\n",
       "  </tbody>\n",
       "</table>\n",
       "</div>"
      ],
      "text/plain": [
       "   customer_id  product_id  star_rating  \\\n",
       "0     50073594  B00FLH88CO            4   \n",
       "1     50073594  B00B3HW97Q            5   \n",
       "2     34778598  B00B3HW97Q            4   \n",
       "3     34778598  B0016P39OC            4   \n",
       "4     14227737  B0016P39OC            4   \n",
       "\n",
       "                                       product_title  helpful_votes   user  \\\n",
       "0             Norwegian Fleece Lined Winter Slippers              9  42802   \n",
       "1  2 Pairs Foster Grant Womans Versa Polarized Su...              1  42802   \n",
       "2  2 Pairs Foster Grant Womans Versa Polarized Su...              2   2744   \n",
       "3  JiMarti AV5 Aviator Sunglasses Spring Hing Mir...              1   2744   \n",
       "4  JiMarti AV5 Aviator Sunglasses Spring Hing Mir...              2   3227   \n",
       "\n",
       "    item  \n",
       "0  42675  \n",
       "1  19832  \n",
       "2  19832  \n",
       "3   2103  \n",
       "4   2103  "
      ]
     },
     "execution_count": 38,
     "metadata": {},
     "output_type": "execute_result"
    },
    {
     "name": "stdout",
     "output_type": "stream",
     "text": [
      "time: 290 ms\n"
     ]
    }
   ],
   "source": [
    "customer_index = pd.DataFrame({'customer_id': customers.index, 'user': np.arange(customers.shape[0])})\n",
    "product_index = pd.DataFrame({'product_id': products.index, \n",
    "                              'item': np.arange(products.shape[0])})\n",
    "\n",
    "reduced_df = reduced_df.merge(customer_index).merge(product_index)\n",
    "print(reduced_df.shape)\n",
    "reduced_df.head()"
   ]
  },
  {
   "cell_type": "markdown",
   "metadata": {},
   "source": [
    "Thus I have 1069568 rows and 8 columns dataset.\n",
    "\n",
    "## 2. Arrange and clean the data"
   ]
  },
  {
   "cell_type": "markdown",
   "metadata": {},
   "source": [
    "Rearrange the columns by relevance and rename column names"
   ]
  },
  {
   "cell_type": "code",
   "execution_count": 39,
   "metadata": {},
   "outputs": [
    {
     "name": "stdout",
     "output_type": "stream",
     "text": [
      "time: 651 µs\n"
     ]
    }
   ],
   "source": [
    "review_data = reduced_df"
   ]
  },
  {
   "cell_type": "code",
   "execution_count": 40,
   "metadata": {},
   "outputs": [
    {
     "data": {
      "text/plain": [
       "Index(['customer_id', 'product_id', 'star_rating', 'product_title',\n",
       "       'helpful_votes', 'user', 'item'],\n",
       "      dtype='object')"
      ]
     },
     "execution_count": 40,
     "metadata": {},
     "output_type": "execute_result"
    },
    {
     "name": "stdout",
     "output_type": "stream",
     "text": [
      "time: 2.71 ms\n"
     ]
    }
   ],
   "source": [
    "review_data.columns"
   ]
  },
  {
   "cell_type": "code",
   "execution_count": 41,
   "metadata": {},
   "outputs": [
    {
     "data": {
      "text/plain": [
       "['user_id',\n",
       " 'product_id',\n",
       " 'score',\n",
       " 'product_title',\n",
       " 'helpful_votes',\n",
       " 'user_name',\n",
       " 'item']"
      ]
     },
     "execution_count": 41,
     "metadata": {},
     "output_type": "execute_result"
    },
    {
     "name": "stdout",
     "output_type": "stream",
     "text": [
      "time: 112 ms\n"
     ]
    }
   ],
   "source": [
    "review_data = review_data[['customer_id', 'product_id', 'star_rating', 'product_title', 'helpful_votes', 'user', 'item']]\n",
    "\n",
    "review_data.rename(columns={ 'star_rating': 'score','customer_id': 'user_id', 'user': 'user_name'}, inplace=True)\n",
    "\n",
    "#the variables names after rename in the modified data frame\n",
    "list(review_data)"
   ]
  },
  {
   "cell_type": "code",
   "execution_count": 42,
   "metadata": {},
   "outputs": [
    {
     "data": {
      "text/html": [
       "<div>\n",
       "<style scoped>\n",
       "    .dataframe tbody tr th:only-of-type {\n",
       "        vertical-align: middle;\n",
       "    }\n",
       "\n",
       "    .dataframe tbody tr th {\n",
       "        vertical-align: top;\n",
       "    }\n",
       "\n",
       "    .dataframe thead th {\n",
       "        text-align: right;\n",
       "    }\n",
       "</style>\n",
       "<table border=\"1\" class=\"dataframe\">\n",
       "  <thead>\n",
       "    <tr style=\"text-align: right;\">\n",
       "      <th></th>\n",
       "      <th>user_id</th>\n",
       "      <th>product_id</th>\n",
       "      <th>score</th>\n",
       "      <th>product_title</th>\n",
       "      <th>helpful_votes</th>\n",
       "      <th>user_name</th>\n",
       "      <th>item</th>\n",
       "    </tr>\n",
       "  </thead>\n",
       "  <tbody>\n",
       "    <tr>\n",
       "      <th>0</th>\n",
       "      <td>50073594</td>\n",
       "      <td>B00FLH88CO</td>\n",
       "      <td>4</td>\n",
       "      <td>Norwegian Fleece Lined Winter Slippers</td>\n",
       "      <td>9</td>\n",
       "      <td>42802</td>\n",
       "      <td>42675</td>\n",
       "    </tr>\n",
       "    <tr>\n",
       "      <th>1</th>\n",
       "      <td>50073594</td>\n",
       "      <td>B00B3HW97Q</td>\n",
       "      <td>5</td>\n",
       "      <td>2 Pairs Foster Grant Womans Versa Polarized Su...</td>\n",
       "      <td>1</td>\n",
       "      <td>42802</td>\n",
       "      <td>19832</td>\n",
       "    </tr>\n",
       "    <tr>\n",
       "      <th>2</th>\n",
       "      <td>34778598</td>\n",
       "      <td>B00B3HW97Q</td>\n",
       "      <td>4</td>\n",
       "      <td>2 Pairs Foster Grant Womans Versa Polarized Su...</td>\n",
       "      <td>2</td>\n",
       "      <td>2744</td>\n",
       "      <td>19832</td>\n",
       "    </tr>\n",
       "  </tbody>\n",
       "</table>\n",
       "</div>"
      ],
      "text/plain": [
       "    user_id  product_id  score  \\\n",
       "0  50073594  B00FLH88CO      4   \n",
       "1  50073594  B00B3HW97Q      5   \n",
       "2  34778598  B00B3HW97Q      4   \n",
       "\n",
       "                                       product_title  helpful_votes  \\\n",
       "0             Norwegian Fleece Lined Winter Slippers              9   \n",
       "1  2 Pairs Foster Grant Womans Versa Polarized Su...              1   \n",
       "2  2 Pairs Foster Grant Womans Versa Polarized Su...              2   \n",
       "\n",
       "   user_name   item  \n",
       "0      42802  42675  \n",
       "1      42802  19832  \n",
       "2       2744  19832  "
      ]
     },
     "execution_count": 42,
     "metadata": {},
     "output_type": "execute_result"
    },
    {
     "name": "stdout",
     "output_type": "stream",
     "text": [
      "time: 12.3 ms\n"
     ]
    }
   ],
   "source": [
    "review_data.head(n=3)"
   ]
  },
  {
   "cell_type": "code",
   "execution_count": 43,
   "metadata": {},
   "outputs": [
    {
     "name": "stdout",
     "output_type": "stream",
     "text": [
      "time: 660 µs\n"
     ]
    }
   ],
   "source": [
    "# review_data[\"score\"]"
   ]
  },
  {
   "cell_type": "code",
   "execution_count": 44,
   "metadata": {},
   "outputs": [
    {
     "data": {
      "text/plain": [
       "count    155509.000000\n",
       "mean          4.077198\n",
       "std           1.267738\n",
       "min           1.000000\n",
       "25%           3.000000\n",
       "50%           5.000000\n",
       "75%           5.000000\n",
       "max           5.000000\n",
       "Name: score, dtype: float64"
      ]
     },
     "execution_count": 44,
     "metadata": {},
     "output_type": "execute_result"
    },
    {
     "name": "stdout",
     "output_type": "stream",
     "text": [
      "time: 20.7 ms\n"
     ]
    }
   ],
   "source": [
    "# Ratings distribution using pandas:\n",
    "review_data[\"score\"] = review_data[\"score\"].fillna(review_data[\"score\"].median()) \n",
    "review_data[\"score\"].describe()"
   ]
  },
  {
   "cell_type": "code",
   "execution_count": 45,
   "metadata": {},
   "outputs": [
    {
     "data": {
      "text/plain": [
       "<matplotlib.axes._subplots.AxesSubplot at 0x7f711fcdf860>"
      ]
     },
     "execution_count": 45,
     "metadata": {},
     "output_type": "execute_result"
    },
    {
     "data": {
      "image/png": "[encoded data removed]",
      "text/plain": [
       "<Figure size 432x288 with 1 Axes>"
      ]
     },
     "metadata": {},
     "output_type": "display_data"
    },
    {
     "name": "stdout",
     "output_type": "stream",
     "text": [
      "time: 277 ms\n"
     ]
    }
   ],
   "source": [
    "# Plot the distribution\n",
    "review_data[\"score\"].hist(bins=10)"
   ]
  },
  {
   "cell_type": "markdown",
   "metadata": {},
   "source": [
    "## The median in both datasets is 5. This means that the data is skewed towards high ratings. \n",
    "This is a common bias in internet ratings, where people tend to rate items that they liked, and rarely spend time to comment something they dislike or are indiferent to. This will have a huge impact on the way I model the recommendation problem.\n",
    "\n",
    "### Key conclusions from above: \n",
    "\n",
    "- Reviews are skewed towards positive\n",
    "- Many people agree with score 5 reviews\n"
   ]
  },
  {
   "cell_type": "markdown",
   "metadata": {},
   "source": [
    "### Arrange and clean the data"
   ]
  },
  {
   "cell_type": "markdown",
   "metadata": {},
   "source": [
    "- Cleaning, handling missing data, normalization, etc:\n",
    "- For the algorithm in keras to work,  remap all item_ids and user_ids to an interger between 0 and the total number of users or the total number of items"
   ]
  },
  {
   "cell_type": "code",
   "execution_count": 46,
   "metadata": {},
   "outputs": [
    {
     "data": {
      "text/plain": [
       "Index(['user_id', 'product_id', 'score', 'product_title', 'helpful_votes',\n",
       "       'user_name', 'item'],\n",
       "      dtype='object')"
      ]
     },
     "execution_count": 46,
     "metadata": {},
     "output_type": "execute_result"
    },
    {
     "name": "stdout",
     "output_type": "stream",
     "text": [
      "time: 2.72 ms\n"
     ]
    }
   ],
   "source": [
    "review_data.columns"
   ]
  },
  {
   "cell_type": "code",
   "execution_count": 47,
   "metadata": {},
   "outputs": [
    {
     "data": {
      "text/html": [
       "<div>\n",
       "<style scoped>\n",
       "    .dataframe tbody tr th:only-of-type {\n",
       "        vertical-align: middle;\n",
       "    }\n",
       "\n",
       "    .dataframe tbody tr th {\n",
       "        vertical-align: top;\n",
       "    }\n",
       "\n",
       "    .dataframe thead th {\n",
       "        text-align: right;\n",
       "    }\n",
       "</style>\n",
       "<table border=\"1\" class=\"dataframe\">\n",
       "  <thead>\n",
       "    <tr style=\"text-align: right;\">\n",
       "      <th></th>\n",
       "      <th>user_id</th>\n",
       "      <th>product_id</th>\n",
       "      <th>score</th>\n",
       "      <th>product_title</th>\n",
       "      <th>helpful_votes</th>\n",
       "      <th>user_name</th>\n",
       "      <th>item</th>\n",
       "    </tr>\n",
       "  </thead>\n",
       "  <tbody>\n",
       "    <tr>\n",
       "      <th>0</th>\n",
       "      <td>50073594</td>\n",
       "      <td>B00FLH88CO</td>\n",
       "      <td>4</td>\n",
       "      <td>Norwegian Fleece Lined Winter Slippers</td>\n",
       "      <td>9</td>\n",
       "      <td>42802</td>\n",
       "      <td>42675</td>\n",
       "    </tr>\n",
       "    <tr>\n",
       "      <th>1</th>\n",
       "      <td>50073594</td>\n",
       "      <td>B00B3HW97Q</td>\n",
       "      <td>5</td>\n",
       "      <td>2 Pairs Foster Grant Womans Versa Polarized Su...</td>\n",
       "      <td>1</td>\n",
       "      <td>42802</td>\n",
       "      <td>19832</td>\n",
       "    </tr>\n",
       "  </tbody>\n",
       "</table>\n",
       "</div>"
      ],
      "text/plain": [
       "    user_id  product_id  score  \\\n",
       "0  50073594  B00FLH88CO      4   \n",
       "1  50073594  B00B3HW97Q      5   \n",
       "\n",
       "                                       product_title  helpful_votes  \\\n",
       "0             Norwegian Fleece Lined Winter Slippers              9   \n",
       "1  2 Pairs Foster Grant Womans Versa Polarized Su...              1   \n",
       "\n",
       "   user_name   item  \n",
       "0      42802  42675  \n",
       "1      42802  19832  "
      ]
     },
     "execution_count": 47,
     "metadata": {},
     "output_type": "execute_result"
    },
    {
     "name": "stdout",
     "output_type": "stream",
     "text": [
      "time: 7.98 ms\n"
     ]
    }
   ],
   "source": [
    "review_data.head(n=2)"
   ]
  },
  {
   "cell_type": "code",
   "execution_count": 48,
   "metadata": {},
   "outputs": [
    {
     "name": "stdout",
     "output_type": "stream",
     "text": [
      "We have 97758 unique items in metadata \n",
      "time: 365 ms\n"
     ]
    }
   ],
   "source": [
    "items = review_data.product_id.unique()\n",
    "item_map = {i:val for i,val in enumerate(items)}\n",
    "inverse_item_map = {val:i for i,val in enumerate(items)}\n",
    "review_data[\"old_item_id\"] = review_data[\"product_id\"] # copying for join with metadata\n",
    "review_data[\"item_id\"] = review_data[\"product_id\"].map(inverse_item_map)\n",
    "items = review_data.item_id.unique()\n",
    "print (\"We have %d unique items in metadata \"%items.shape[0])"
   ]
  },
  {
   "cell_type": "code",
   "execution_count": 49,
   "metadata": {},
   "outputs": [
    {
     "name": "stdout",
     "output_type": "stream",
     "text": [
      "time: 517 ms\n"
     ]
    }
   ],
   "source": [
    "users = review_data.user_id.unique()\n",
    "user_map = {i:val for i,val in enumerate(users)}\n",
    "inverse_user_map = {val:i for i,val in enumerate(users)}\n",
    "review_data[\"old_user_id\"] = review_data[\"user_id\"] \n",
    "review_data[\"user_id\"] = review_data[\"user_id\"].map(inverse_user_map)\n",
    "\n",
    "items_reviewed = review_data.product_id.unique()\n",
    "review_data[\"old_item_id\"] = review_data[\"product_id\"] # copying for join with metadata\n",
    "review_data[\"item_id\"] = review_data[\"product_id\"].map(inverse_item_map)\n",
    "\n",
    "items_reviewed = review_data.item_id.unique()\n",
    "users = review_data.user_id.unique()\n",
    "helpful_votes = review_data.helpful_votes.unique()\n",
    "\n"
   ]
  },
  {
   "cell_type": "code",
   "execution_count": 50,
   "metadata": {},
   "outputs": [
    {
     "name": "stdout",
     "output_type": "stream",
     "text": [
      "We have 94852 unique users\n",
      "We have 97758 unique items reviewed\n",
      "time: 1.03 ms\n"
     ]
    }
   ],
   "source": [
    "print (\"We have %d unique users\"%users.shape[0])\n",
    "print (\"We have %d unique items reviewed\"%items_reviewed.shape[0])\n",
    "# We have 192403 unique users in the \"small\" dataset\n",
    "# We have 63001 unique items reviewed in the \"small\" dataset"
   ]
  },
  {
   "cell_type": "markdown",
   "metadata": {},
   "source": [
    "#### We have 94852 unique users\n",
    "#### We have 97758 unique items reviewed"
   ]
  },
  {
   "cell_type": "code",
   "execution_count": 51,
   "metadata": {},
   "outputs": [
    {
     "data": {
      "text/html": [
       "<div>\n",
       "<style scoped>\n",
       "    .dataframe tbody tr th:only-of-type {\n",
       "        vertical-align: middle;\n",
       "    }\n",
       "\n",
       "    .dataframe tbody tr th {\n",
       "        vertical-align: top;\n",
       "    }\n",
       "\n",
       "    .dataframe thead th {\n",
       "        text-align: right;\n",
       "    }\n",
       "</style>\n",
       "<table border=\"1\" class=\"dataframe\">\n",
       "  <thead>\n",
       "    <tr style=\"text-align: right;\">\n",
       "      <th></th>\n",
       "      <th>user_id</th>\n",
       "      <th>product_id</th>\n",
       "      <th>score</th>\n",
       "      <th>product_title</th>\n",
       "      <th>helpful_votes</th>\n",
       "      <th>user_name</th>\n",
       "      <th>item</th>\n",
       "      <th>old_item_id</th>\n",
       "      <th>item_id</th>\n",
       "      <th>old_user_id</th>\n",
       "    </tr>\n",
       "  </thead>\n",
       "  <tbody>\n",
       "    <tr>\n",
       "      <th>0</th>\n",
       "      <td>0</td>\n",
       "      <td>B00FLH88CO</td>\n",
       "      <td>4</td>\n",
       "      <td>Norwegian Fleece Lined Winter Slippers</td>\n",
       "      <td>9</td>\n",
       "      <td>42802</td>\n",
       "      <td>42675</td>\n",
       "      <td>B00FLH88CO</td>\n",
       "      <td>0</td>\n",
       "      <td>50073594</td>\n",
       "    </tr>\n",
       "    <tr>\n",
       "      <th>1</th>\n",
       "      <td>0</td>\n",
       "      <td>B00B3HW97Q</td>\n",
       "      <td>5</td>\n",
       "      <td>2 Pairs Foster Grant Womans Versa Polarized Su...</td>\n",
       "      <td>1</td>\n",
       "      <td>42802</td>\n",
       "      <td>19832</td>\n",
       "      <td>B00B3HW97Q</td>\n",
       "      <td>1</td>\n",
       "      <td>50073594</td>\n",
       "    </tr>\n",
       "    <tr>\n",
       "      <th>2</th>\n",
       "      <td>1</td>\n",
       "      <td>B00B3HW97Q</td>\n",
       "      <td>4</td>\n",
       "      <td>2 Pairs Foster Grant Womans Versa Polarized Su...</td>\n",
       "      <td>2</td>\n",
       "      <td>2744</td>\n",
       "      <td>19832</td>\n",
       "      <td>B00B3HW97Q</td>\n",
       "      <td>1</td>\n",
       "      <td>34778598</td>\n",
       "    </tr>\n",
       "  </tbody>\n",
       "</table>\n",
       "</div>"
      ],
      "text/plain": [
       "   user_id  product_id  score  \\\n",
       "0        0  B00FLH88CO      4   \n",
       "1        0  B00B3HW97Q      5   \n",
       "2        1  B00B3HW97Q      4   \n",
       "\n",
       "                                       product_title  helpful_votes  \\\n",
       "0             Norwegian Fleece Lined Winter Slippers              9   \n",
       "1  2 Pairs Foster Grant Womans Versa Polarized Su...              1   \n",
       "2  2 Pairs Foster Grant Womans Versa Polarized Su...              2   \n",
       "\n",
       "   user_name   item old_item_id  item_id  old_user_id  \n",
       "0      42802  42675  B00FLH88CO        0     50073594  \n",
       "1      42802  19832  B00B3HW97Q        1     50073594  \n",
       "2       2744  19832  B00B3HW97Q        1     34778598  "
      ]
     },
     "execution_count": 51,
     "metadata": {},
     "output_type": "execute_result"
    },
    {
     "name": "stdout",
     "output_type": "stream",
     "text": [
      "time: 10.3 ms\n"
     ]
    }
   ],
   "source": [
    "review_data.head(3)"
   ]
  },
  {
   "cell_type": "markdown",
   "metadata": {},
   "source": [
    "### Check the Distribution of number of ratings per user:"
   ]
  },
  {
   "cell_type": "code",
   "execution_count": 52,
   "metadata": {},
   "outputs": [
    {
     "data": {
      "text/plain": [
       "count    94852.000000\n",
       "mean         1.639491\n",
       "std          1.057235\n",
       "min          1.000000\n",
       "25%          1.000000\n",
       "50%          1.000000\n",
       "75%          2.000000\n",
       "max         44.000000\n",
       "Name: num_ratings, dtype: float64"
      ]
     },
     "execution_count": 52,
     "metadata": {},
     "output_type": "execute_result"
    },
    {
     "name": "stdout",
     "output_type": "stream",
     "text": [
      "time: 22.3 ms\n"
     ]
    }
   ],
   "source": [
    "users_ratings = review_data['old_user_id'].value_counts().reset_index()\n",
    "users_ratings.columns= ['old_user_id','num_ratings']\n",
    "users_ratings['num_ratings'].describe()"
   ]
  },
  {
   "cell_type": "markdown",
   "metadata": {},
   "source": [
    "### The distribution of number of ratings per user is very skewed in both datasets, with 50% of people having done a small number of reviews, and few made many ratings. \n",
    "### I will check if it gives us enough information for generating good recommendations.\n",
    "\n",
    "### * Check the Distribution of the number of ratings per item:"
   ]
  },
  {
   "cell_type": "code",
   "execution_count": 53,
   "metadata": {},
   "outputs": [
    {
     "data": {
      "text/plain": [
       "Index(['user_id', 'product_id', 'score', 'product_title', 'helpful_votes',\n",
       "       'user_name', 'item', 'old_item_id', 'item_id', 'old_user_id'],\n",
       "      dtype='object')"
      ]
     },
     "execution_count": 53,
     "metadata": {},
     "output_type": "execute_result"
    },
    {
     "name": "stdout",
     "output_type": "stream",
     "text": [
      "time: 2.04 ms\n"
     ]
    }
   ],
   "source": [
    "review_data.columns"
   ]
  },
  {
   "cell_type": "markdown",
   "metadata": {},
   "source": [
    "# **Define embeddings\n",
    "### The $\\underline{embeddings}$ are low-dimensional hidden representations of users and items, \n",
    "### i.e. for each item I can find its properties and for each user I can encode how much they like those properties so I can determine attitudes or preferences of users by a small number of hidden factors \n",
    "\n",
    "### Throughout the training, I learn two new low-dimensional dense representations: one embedding for the users and another one for the items.\n"
   ]
  },
  {
   "cell_type": "code",
   "execution_count": 54,
   "metadata": {},
   "outputs": [
    {
     "data": {
      "text/html": [
       "<div>\n",
       "<style scoped>\n",
       "    .dataframe tbody tr th:only-of-type {\n",
       "        vertical-align: middle;\n",
       "    }\n",
       "\n",
       "    .dataframe tbody tr th {\n",
       "        vertical-align: top;\n",
       "    }\n",
       "\n",
       "    .dataframe thead th {\n",
       "        text-align: right;\n",
       "    }\n",
       "</style>\n",
       "<table border=\"1\" class=\"dataframe\">\n",
       "  <thead>\n",
       "    <tr style=\"text-align: right;\">\n",
       "      <th></th>\n",
       "      <th>user_id</th>\n",
       "      <th>product_id</th>\n",
       "      <th>score</th>\n",
       "      <th>product_title</th>\n",
       "      <th>helpful_votes</th>\n",
       "      <th>user_name</th>\n",
       "      <th>item</th>\n",
       "      <th>old_item_id</th>\n",
       "      <th>item_id</th>\n",
       "      <th>old_user_id</th>\n",
       "    </tr>\n",
       "  </thead>\n",
       "  <tbody>\n",
       "    <tr>\n",
       "      <th>0</th>\n",
       "      <td>0</td>\n",
       "      <td>B00FLH88CO</td>\n",
       "      <td>4</td>\n",
       "      <td>Norwegian Fleece Lined Winter Slippers</td>\n",
       "      <td>9</td>\n",
       "      <td>42802</td>\n",
       "      <td>42675</td>\n",
       "      <td>B00FLH88CO</td>\n",
       "      <td>0</td>\n",
       "      <td>50073594</td>\n",
       "    </tr>\n",
       "  </tbody>\n",
       "</table>\n",
       "</div>"
      ],
      "text/plain": [
       "   user_id  product_id  score                           product_title  \\\n",
       "0        0  B00FLH88CO      4  Norwegian Fleece Lined Winter Slippers   \n",
       "\n",
       "   helpful_votes  user_name   item old_item_id  item_id  old_user_id  \n",
       "0              9      42802  42675  B00FLH88CO        0     50073594  "
      ]
     },
     "execution_count": 54,
     "metadata": {},
     "output_type": "execute_result"
    },
    {
     "name": "stdout",
     "output_type": "stream",
     "text": [
      "time: 35.5 ms\n"
     ]
    }
   ],
   "source": [
    "review_data.head(1)"
   ]
  },
  {
   "cell_type": "code",
   "execution_count": 56,
   "metadata": {},
   "outputs": [
    {
     "name": "stdout",
     "output_type": "stream",
     "text": [
      "time: 52.2 ms\n"
     ]
    }
   ],
   "source": [
    "#  declare input embeddings to the model\n",
    "#User input\n",
    "user_id_input = Input(shape=[1], name='user')\n",
    "#Item Input\n",
    "item_id_input = Input(shape=[1], name='item')\n",
    "#helpful_votes\n",
    "helpful_votes_id_input = Input(shape=[1], name='helpful_votes')\n",
    "\n",
    "# define the size of embeddings as a parameter\n",
    "user_embedding_size = 15 # Check 5, 10 , 15, 20, 50\n",
    "item_embedding_size = 15 # Check 5, 10 , 15, 20, 50\n",
    "helpful_votes_embedding_size = 15 # Check 5, 10 , 15, 20, 50\n",
    "\n",
    "\n",
    "# apply an embedding layer to all inputs\n",
    "user_embedding = Embedding(output_dim=user_embedding_size, input_dim=users.shape[0],\n",
    "                               input_length=1, name='user_embedding')(user_id_input)\n",
    "\n",
    "item_embedding = Embedding(output_dim=item_embedding_size, input_dim=items_reviewed.shape[0],\n",
    "                               input_length=1, name='item_embedding')(item_id_input)\n",
    "\n",
    "helpful_votes_embedding = Embedding(output_dim=helpful_votes_embedding_size, input_dim=helpful_votes.shape[0],\n",
    "                           input_length=1, name='price_embedding')(helpful_votes_id_input)\n",
    "\n",
    "\n",
    "\n",
    "# reshape from shape (batch_size, input_length,embedding_size) to (batch_size, embedding_size). \n",
    "user_vecs = Reshape([user_embedding_size])(user_embedding)\n",
    "item_vecs = Reshape([item_embedding_size])(item_embedding)\n",
    "helpful_votes_vecs = Reshape([helpful_votes_embedding_size])(helpful_votes_embedding)\n"
   ]
  },
  {
   "attachments": {
    "image.png": {
     "image/png": "[encoded data removed]"
    }
   },
   "cell_type": "markdown",
   "metadata": {},
   "source": [
    "# 1. Matrix factorization approach\n",
    "![image.png](attachment:image.png)"
   ]
  },
  {
   "cell_type": "markdown",
   "metadata": {},
   "source": [
    "### Matrix Factorisation works on the principle that we can learn the user and the item embeddings, and then predict the rating for each user-item by performing a dot (or scalar) product between the respective user and item embedding. \n",
    "\n"
   ]
  },
  {
   "cell_type": "code",
   "execution_count": 57,
   "metadata": {},
   "outputs": [
    {
     "name": "stdout",
     "output_type": "stream",
     "text": [
      "time: 7.54 ms\n"
     ]
    }
   ],
   "source": [
    "# Applying matrix factorization: declare the output as being the dot product between the two embeddings: items and users\n",
    "y = Dot(1, normalize=False)([user_vecs, item_vecs])"
   ]
  },
  {
   "attachments": {
    "image.png": {
     "image/png": "[encoded data removed]"
    }
   },
   "cell_type": "markdown",
   "metadata": {},
   "source": [
    "# 2. Deep Recommender\n",
    "\n",
    "### Instead of taking a dot product of the user and the item embedding, concatenate or multiply them and use them as features for a neural network. \n",
    "### Thus, we are not constrained to the dot product way of combining the embeddings, and can learn complex non-linear relationships.\n",
    "\n",
    "![image.png](attachment:image.png)\n",
    "\n",
    "\n",
    "\n",
    "\n"
   ]
  },
  {
   "cell_type": "markdown",
   "metadata": {},
   "source": [
    "## Check Performance\n",
    "\n",
    "I searched around deep network architecture and checked:\n",
    "- What happens if I add other layers on top of the first one? \n",
    "- What happens if I increase or decrease the embedding size? \n",
    "- What happens if I add dense layers on top of the embeddings before merging?\n",
    "- What happens if I change the number of hidden units in each dense layer?\n",
    "- What happens if I change the number of epochs?  \n",
    "- What happens if I use Dropout or not?\n",
    "\n",
    "Modifications are commented in the code below\n",
    "\n",
    "### Here is the model representation for deep neural network."
   ]
  },
  {
   "cell_type": "code",
   "execution_count": 58,
   "metadata": {},
   "outputs": [
    {
     "name": "stdout",
     "output_type": "stream",
     "text": [
      "time: 39.5 ms\n"
     ]
    }
   ],
   "source": [
    "# Try add dense layers on top of the embeddings before merging (Comment to drop this idea.)\n",
    "user_vecs = Dense(64, activation='relu')(user_vecs) \n",
    "item_vecs = Dense(64, activation='relu')(item_vecs)\n",
    "helpful_votes_vecs = Dense(64, activation='relu')(helpful_votes_vecs) \n"
   ]
  },
  {
   "cell_type": "code",
   "execution_count": 59,
   "metadata": {},
   "outputs": [
    {
     "name": "stdout",
     "output_type": "stream",
     "text": [
      "WARNING:tensorflow:From /home/ec2-user/anaconda3/envs/tensorflow_p36/lib/python3.6/site-packages/keras/backend/tensorflow_backend.py:133: The name tf.placeholder_with_default is deprecated. Please use tf.compat.v1.placeholder_with_default instead.\n",
      "\n",
      "WARNING:tensorflow:From /home/ec2-user/anaconda3/envs/tensorflow_p36/lib/python3.6/site-packages/keras/backend/tensorflow_backend.py:3445: calling dropout (from tensorflow.python.ops.nn_ops) with keep_prob is deprecated and will be removed in a future version.\n",
      "Instructions for updating:\n",
      "Please use `rate` instead of `keep_prob`. Rate should be set to `rate = 1 - keep_prob`.\n",
      "time: 95.2 ms\n"
     ]
    }
   ],
   "source": [
    "# Concatenate the item embeddings :\n",
    "item_vecs_complete  = Concatenate()([item_vecs, helpful_votes_vecs])\n",
    "\n",
    "# Concatenate user and item embeddings and use them as features for the neural network:\n",
    "input_vecs = Concatenate()([user_vecs, item_vecs_complete]) # can be changed by Multiply\n",
    "#input_vecs = Concatenate()([user_vecs, item_vecs]) # can be changed by Multiply\n",
    "\n",
    "# Multiply user and item embeddings and use them as features for the neural network:\n",
    "#input_vecs = Multiply()([user_vecs, item_vecs]) # can be changed by concat \n",
    "\n",
    "# Dropout is a technique where randomly selected neurons are ignored during training to prevent overfitting \n",
    "input_vecs = Dropout(0.4)(input_vecs)  \n",
    "\n",
    "# Check one dense 128 or two dense layers (128,128) or (128,64) or three denses layers (128,64,32))\n",
    "\n",
    "# First layer\n",
    "# Dense(128) is a fully-connected layer with 128 hidden units.\n",
    "# Use rectified linear units (ReLU) f(x)=max(0,x) as an activation function.\n",
    "x = Dense(128, activation='relu')(input_vecs)\n",
    "x = Dropout(0.4)(x) # Add droupout or not # To improve the performance\n",
    "\n",
    "# Next Layers\n",
    "#x = Dense(128, activation='relu')(x) # Add dense again or not \n",
    "# x = Dropout(0.1)(x) # Add droupout or not # To improve the performance\n",
    "# x = Dense(64, activation='relu')(x) # Add dense again or not \n",
    "# x = Dropout(0.1)(x) # Add droupout or not # To improve the performance\n",
    "x = Dense(32, activation='relu')(x) # Add dense again or not #\n",
    "x = Dropout(0.4)(x) # Add droupout or not # To improve the performance\n",
    "\n",
    "# The output\n",
    "y = Dense(1)(x)"
   ]
  },
  {
   "cell_type": "markdown",
   "metadata": {},
   "source": [
    "###### declare a model that takes items and users as input and output y, our prediction."
   ]
  },
  {
   "cell_type": "code",
   "execution_count": 60,
   "metadata": {},
   "outputs": [
    {
     "name": "stdout",
     "output_type": "stream",
     "text": [
      "time: 1.7 ms\n"
     ]
    }
   ],
   "source": [
    "model = Model(inputs=\n",
    "                    [\n",
    "                     user_id_input,\n",
    "                     item_id_input,\n",
    "                     helpful_votes_id_input\n",
    "                    ], \n",
    "              outputs=y)\n"
   ]
  },
  {
   "cell_type": "markdown",
   "metadata": {},
   "source": [
    "### compile the model with 'mse' loss, and \"adam\" loss optimization\n",
    "### I would optimise the model such that I minimise the mean squared error ('mse') on the ratings from the train set.\n",
    "### The Adam optimization algorithm used, is an extension to stochastic gradient"
   ]
  },
  {
   "cell_type": "code",
   "execution_count": 61,
   "metadata": {},
   "outputs": [
    {
     "name": "stdout",
     "output_type": "stream",
     "text": [
      "WARNING:tensorflow:From /home/ec2-user/anaconda3/envs/tensorflow_p36/lib/python3.6/site-packages/keras/optimizers.py:790: The name tf.train.Optimizer is deprecated. Please use tf.compat.v1.train.Optimizer instead.\n",
      "\n",
      "time: 36 ms\n"
     ]
    }
   ],
   "source": [
    "model.compile(loss='mse',\n",
    "              optimizer=\"adam\" )"
   ]
  },
  {
   "cell_type": "markdown",
   "metadata": {},
   "source": [
    "\n",
    "### Save different histories and best models using keras ModelCheckpoint callback\n"
   ]
  },
  {
   "cell_type": "code",
   "execution_count": 62,
   "metadata": {},
   "outputs": [
    {
     "name": "stdout",
     "output_type": "stream",
     "text": [
      "time: 1.44 ms\n"
     ]
    }
   ],
   "source": [
    "save_path = \"./models\"\n",
    "mytime = time.strftime(\"%Y_%m_%d_%H_%M\")\n",
    "# modname = 'dense_2_15_embeddings_2_epochs' + mytime \n",
    "modname = 'dense_2_15_embeddings_2_epochs'\n",
    "\n",
    "thename = save_path + '/' + modname + '.h5'\n",
    "mcheck = ModelCheckpoint(thename, monitor='val_loss', save_best_only=True)"
   ]
  },
  {
   "cell_type": "markdown",
   "metadata": {},
   "source": [
    "### Train the model by calling the model’s fit method\n",
    "\n",
    "When training the model, the embeddings parameters are learnt too.\n",
    "\n",
    "Use the internal keras random cross validation scheme (the validation_split=0.1 parameter below) instead of the test set to evaluate the models \n",
    "\n",
    "The test set will be kept to verify the quality of recommendations at the end."
   ]
  },
  {
   "cell_type": "markdown",
   "metadata": {},
   "source": [
    "# *** Set model fit"
   ]
  },
  {
   "cell_type": "markdown",
   "metadata": {},
   "source": [
    "### Explicit feedback is when users gives voluntarily the rating information on what they like and dislike.\n",
    "\n",
    "- In this case, I have explicit item ratings ranging from one to five.\n",
    "- Framed the recommendation system as a rating prediction machine learning problem: \n",
    "    - Predict an item's ratings in order to be able to recommend to a user an item that he is likely to rate high if he buys it. `\n",
    "\n",
    "### To evaluate the model, I randomly separate the data into a training and test set. "
   ]
  },
  {
   "cell_type": "code",
   "execution_count": 63,
   "metadata": {},
   "outputs": [
    {
     "data": {
      "text/html": [
       "<div>\n",
       "<style scoped>\n",
       "    .dataframe tbody tr th:only-of-type {\n",
       "        vertical-align: middle;\n",
       "    }\n",
       "\n",
       "    .dataframe tbody tr th {\n",
       "        vertical-align: top;\n",
       "    }\n",
       "\n",
       "    .dataframe thead th {\n",
       "        text-align: right;\n",
       "    }\n",
       "</style>\n",
       "<table border=\"1\" class=\"dataframe\">\n",
       "  <thead>\n",
       "    <tr style=\"text-align: right;\">\n",
       "      <th></th>\n",
       "      <th>user_id</th>\n",
       "      <th>product_id</th>\n",
       "      <th>score</th>\n",
       "      <th>product_title</th>\n",
       "      <th>helpful_votes</th>\n",
       "      <th>user_name</th>\n",
       "      <th>item</th>\n",
       "      <th>old_item_id</th>\n",
       "      <th>item_id</th>\n",
       "      <th>old_user_id</th>\n",
       "    </tr>\n",
       "  </thead>\n",
       "  <tbody>\n",
       "    <tr>\n",
       "      <th>0</th>\n",
       "      <td>0</td>\n",
       "      <td>B00FLH88CO</td>\n",
       "      <td>4</td>\n",
       "      <td>Norwegian Fleece Lined Winter Slippers</td>\n",
       "      <td>9</td>\n",
       "      <td>42802</td>\n",
       "      <td>42675</td>\n",
       "      <td>B00FLH88CO</td>\n",
       "      <td>0</td>\n",
       "      <td>50073594</td>\n",
       "    </tr>\n",
       "    <tr>\n",
       "      <th>1</th>\n",
       "      <td>0</td>\n",
       "      <td>B00B3HW97Q</td>\n",
       "      <td>5</td>\n",
       "      <td>2 Pairs Foster Grant Womans Versa Polarized Su...</td>\n",
       "      <td>1</td>\n",
       "      <td>42802</td>\n",
       "      <td>19832</td>\n",
       "      <td>B00B3HW97Q</td>\n",
       "      <td>1</td>\n",
       "      <td>50073594</td>\n",
       "    </tr>\n",
       "    <tr>\n",
       "      <th>2</th>\n",
       "      <td>1</td>\n",
       "      <td>B00B3HW97Q</td>\n",
       "      <td>4</td>\n",
       "      <td>2 Pairs Foster Grant Womans Versa Polarized Su...</td>\n",
       "      <td>2</td>\n",
       "      <td>2744</td>\n",
       "      <td>19832</td>\n",
       "      <td>B00B3HW97Q</td>\n",
       "      <td>1</td>\n",
       "      <td>34778598</td>\n",
       "    </tr>\n",
       "    <tr>\n",
       "      <th>3</th>\n",
       "      <td>1</td>\n",
       "      <td>B0016P39OC</td>\n",
       "      <td>4</td>\n",
       "      <td>JiMarti AV5 Aviator Sunglasses Spring Hing Mir...</td>\n",
       "      <td>1</td>\n",
       "      <td>2744</td>\n",
       "      <td>2103</td>\n",
       "      <td>B0016P39OC</td>\n",
       "      <td>2</td>\n",
       "      <td>34778598</td>\n",
       "    </tr>\n",
       "    <tr>\n",
       "      <th>4</th>\n",
       "      <td>2</td>\n",
       "      <td>B0016P39OC</td>\n",
       "      <td>4</td>\n",
       "      <td>JiMarti AV5 Aviator Sunglasses Spring Hing Mir...</td>\n",
       "      <td>2</td>\n",
       "      <td>3227</td>\n",
       "      <td>2103</td>\n",
       "      <td>B0016P39OC</td>\n",
       "      <td>2</td>\n",
       "      <td>14227737</td>\n",
       "    </tr>\n",
       "    <tr>\n",
       "      <th>5</th>\n",
       "      <td>3</td>\n",
       "      <td>B0016P39OC</td>\n",
       "      <td>4</td>\n",
       "      <td>JiMarti AV5 Aviator Sunglasses Spring Hing Mir...</td>\n",
       "      <td>1</td>\n",
       "      <td>53252</td>\n",
       "      <td>2103</td>\n",
       "      <td>B0016P39OC</td>\n",
       "      <td>2</td>\n",
       "      <td>16743527</td>\n",
       "    </tr>\n",
       "    <tr>\n",
       "      <th>6</th>\n",
       "      <td>4</td>\n",
       "      <td>B0016P39OC</td>\n",
       "      <td>1</td>\n",
       "      <td>JiMarti AV5 Aviator Sunglasses Spring Hing Mir...</td>\n",
       "      <td>1</td>\n",
       "      <td>728</td>\n",
       "      <td>2103</td>\n",
       "      <td>B0016P39OC</td>\n",
       "      <td>2</td>\n",
       "      <td>17063906</td>\n",
       "    </tr>\n",
       "    <tr>\n",
       "      <th>7</th>\n",
       "      <td>5</td>\n",
       "      <td>B0016P39OC</td>\n",
       "      <td>5</td>\n",
       "      <td>JiMarti AV5 Aviator Sunglasses Spring Hing Mir...</td>\n",
       "      <td>1</td>\n",
       "      <td>54852</td>\n",
       "      <td>2103</td>\n",
       "      <td>B0016P39OC</td>\n",
       "      <td>2</td>\n",
       "      <td>9759254</td>\n",
       "    </tr>\n",
       "    <tr>\n",
       "      <th>8</th>\n",
       "      <td>1</td>\n",
       "      <td>B007PBF00C</td>\n",
       "      <td>5</td>\n",
       "      <td>adidas Performance Men's GSG-9.7 Tactical Boot</td>\n",
       "      <td>10</td>\n",
       "      <td>2744</td>\n",
       "      <td>19199</td>\n",
       "      <td>B007PBF00C</td>\n",
       "      <td>3</td>\n",
       "      <td>34778598</td>\n",
       "    </tr>\n",
       "    <tr>\n",
       "      <th>9</th>\n",
       "      <td>6</td>\n",
       "      <td>B007PBF00C</td>\n",
       "      <td>1</td>\n",
       "      <td>adidas Performance Men's GSG-9.7 Tactical Boot</td>\n",
       "      <td>6</td>\n",
       "      <td>20817</td>\n",
       "      <td>19199</td>\n",
       "      <td>B007PBF00C</td>\n",
       "      <td>3</td>\n",
       "      <td>49094832</td>\n",
       "    </tr>\n",
       "  </tbody>\n",
       "</table>\n",
       "</div>"
      ],
      "text/plain": [
       "   user_id  product_id  score  \\\n",
       "0        0  B00FLH88CO      4   \n",
       "1        0  B00B3HW97Q      5   \n",
       "2        1  B00B3HW97Q      4   \n",
       "3        1  B0016P39OC      4   \n",
       "4        2  B0016P39OC      4   \n",
       "5        3  B0016P39OC      4   \n",
       "6        4  B0016P39OC      1   \n",
       "7        5  B0016P39OC      5   \n",
       "8        1  B007PBF00C      5   \n",
       "9        6  B007PBF00C      1   \n",
       "\n",
       "                                       product_title  helpful_votes  \\\n",
       "0             Norwegian Fleece Lined Winter Slippers              9   \n",
       "1  2 Pairs Foster Grant Womans Versa Polarized Su...              1   \n",
       "2  2 Pairs Foster Grant Womans Versa Polarized Su...              2   \n",
       "3  JiMarti AV5 Aviator Sunglasses Spring Hing Mir...              1   \n",
       "4  JiMarti AV5 Aviator Sunglasses Spring Hing Mir...              2   \n",
       "5  JiMarti AV5 Aviator Sunglasses Spring Hing Mir...              1   \n",
       "6  JiMarti AV5 Aviator Sunglasses Spring Hing Mir...              1   \n",
       "7  JiMarti AV5 Aviator Sunglasses Spring Hing Mir...              1   \n",
       "8     adidas Performance Men's GSG-9.7 Tactical Boot             10   \n",
       "9     adidas Performance Men's GSG-9.7 Tactical Boot              6   \n",
       "\n",
       "   user_name   item old_item_id  item_id  old_user_id  \n",
       "0      42802  42675  B00FLH88CO        0     50073594  \n",
       "1      42802  19832  B00B3HW97Q        1     50073594  \n",
       "2       2744  19832  B00B3HW97Q        1     34778598  \n",
       "3       2744   2103  B0016P39OC        2     34778598  \n",
       "4       3227   2103  B0016P39OC        2     14227737  \n",
       "5      53252   2103  B0016P39OC        2     16743527  \n",
       "6        728   2103  B0016P39OC        2     17063906  \n",
       "7      54852   2103  B0016P39OC        2      9759254  \n",
       "8       2744  19199  B007PBF00C        3     34778598  \n",
       "9      20817  19199  B007PBF00C        3     49094832  "
      ]
     },
     "execution_count": 63,
     "metadata": {},
     "output_type": "execute_result"
    },
    {
     "name": "stdout",
     "output_type": "stream",
     "text": [
      "time: 14.5 ms\n"
     ]
    }
   ],
   "source": [
    "review_data.head(n=10)"
   ]
  },
  {
   "cell_type": "code",
   "execution_count": 64,
   "metadata": {},
   "outputs": [
    {
     "name": "stdout",
     "output_type": "stream",
     "text": [
      "time: 123 ms\n"
     ]
    }
   ],
   "source": [
    "ratings_train, ratings_test = train_test_split( review_data, test_size=0.1, random_state=0)"
   ]
  },
  {
   "cell_type": "code",
   "execution_count": 65,
   "metadata": {},
   "outputs": [
    {
     "data": {
      "text/plain": [
       "(139958, 10)"
      ]
     },
     "execution_count": 65,
     "metadata": {},
     "output_type": "execute_result"
    },
    {
     "name": "stdout",
     "output_type": "stream",
     "text": [
      "time: 2.6 ms\n"
     ]
    }
   ],
   "source": [
    "ratings_train.shape"
   ]
  },
  {
   "cell_type": "code",
   "execution_count": 66,
   "metadata": {},
   "outputs": [
    {
     "data": {
      "text/plain": [
       "(15551, 10)"
      ]
     },
     "execution_count": 66,
     "metadata": {},
     "output_type": "execute_result"
    },
    {
     "name": "stdout",
     "output_type": "stream",
     "text": [
      "time: 1.84 ms\n"
     ]
    }
   ],
   "source": [
    "ratings_test.shape"
   ]
  },
  {
   "cell_type": "code",
   "execution_count": 67,
   "metadata": {},
   "outputs": [
    {
     "data": {
      "text/html": [
       "<div>\n",
       "<style scoped>\n",
       "    .dataframe tbody tr th:only-of-type {\n",
       "        vertical-align: middle;\n",
       "    }\n",
       "\n",
       "    .dataframe tbody tr th {\n",
       "        vertical-align: top;\n",
       "    }\n",
       "\n",
       "    .dataframe thead th {\n",
       "        text-align: right;\n",
       "    }\n",
       "</style>\n",
       "<table border=\"1\" class=\"dataframe\">\n",
       "  <thead>\n",
       "    <tr style=\"text-align: right;\">\n",
       "      <th></th>\n",
       "      <th>user_id</th>\n",
       "      <th>product_id</th>\n",
       "      <th>score</th>\n",
       "      <th>product_title</th>\n",
       "      <th>helpful_votes</th>\n",
       "      <th>user_name</th>\n",
       "      <th>item</th>\n",
       "      <th>old_item_id</th>\n",
       "      <th>item_id</th>\n",
       "      <th>old_user_id</th>\n",
       "    </tr>\n",
       "  </thead>\n",
       "  <tbody>\n",
       "    <tr>\n",
       "      <th>56271</th>\n",
       "      <td>33548</td>\n",
       "      <td>B006BU36NQ</td>\n",
       "      <td>1</td>\n",
       "      <td>FASH Limited Chic Hobo Handbag Glossy Texture ...</td>\n",
       "      <td>1</td>\n",
       "      <td>17073</td>\n",
       "      <td>17061</td>\n",
       "      <td>B006BU36NQ</td>\n",
       "      <td>25868</td>\n",
       "      <td>26975048</td>\n",
       "    </tr>\n",
       "    <tr>\n",
       "      <th>32973</th>\n",
       "      <td>20553</td>\n",
       "      <td>B00UO0G7HQ</td>\n",
       "      <td>2</td>\n",
       "      <td>Han's Men's WZ12004 Air Sole Non Slip &amp; Oil Re...</td>\n",
       "      <td>1</td>\n",
       "      <td>36431</td>\n",
       "      <td>30380</td>\n",
       "      <td>B00UO0G7HQ</td>\n",
       "      <td>13593</td>\n",
       "      <td>37773310</td>\n",
       "    </tr>\n",
       "  </tbody>\n",
       "</table>\n",
       "</div>"
      ],
      "text/plain": [
       "       user_id  product_id  score  \\\n",
       "56271    33548  B006BU36NQ      1   \n",
       "32973    20553  B00UO0G7HQ      2   \n",
       "\n",
       "                                           product_title  helpful_votes  \\\n",
       "56271  FASH Limited Chic Hobo Handbag Glossy Texture ...              1   \n",
       "32973  Han's Men's WZ12004 Air Sole Non Slip & Oil Re...              1   \n",
       "\n",
       "       user_name   item old_item_id  item_id  old_user_id  \n",
       "56271      17073  17061  B006BU36NQ    25868     26975048  \n",
       "32973      36431  30380  B00UO0G7HQ    13593     37773310  "
      ]
     },
     "execution_count": 67,
     "metadata": {},
     "output_type": "execute_result"
    },
    {
     "name": "stdout",
     "output_type": "stream",
     "text": [
      "time: 9.57 ms\n"
     ]
    }
   ],
   "source": [
    "ratings_train.head(n=2)"
   ]
  },
  {
   "cell_type": "code",
   "execution_count": 68,
   "metadata": {},
   "outputs": [
    {
     "name": "stdout",
     "output_type": "stream",
     "text": [
      "WARNING:tensorflow:From /home/ec2-user/anaconda3/envs/tensorflow_p36/lib/python3.6/site-packages/keras/backend/tensorflow_backend.py:986: The name tf.assign_add is deprecated. Please use tf.compat.v1.assign_add instead.\n",
      "\n",
      "WARNING:tensorflow:From /home/ec2-user/anaconda3/envs/tensorflow_p36/lib/python3.6/site-packages/keras/backend/tensorflow_backend.py:973: The name tf.assign is deprecated. Please use tf.compat.v1.assign instead.\n",
      "\n",
      "Train on 111966 samples, validate on 27992 samples\n",
      "Epoch 1/20\n",
      "WARNING:tensorflow:From /home/ec2-user/anaconda3/envs/tensorflow_p36/lib/python3.6/site-packages/keras/backend/tensorflow_backend.py:174: The name tf.get_default_session is deprecated. Please use tf.compat.v1.get_default_session instead.\n",
      "\n",
      "WARNING:tensorflow:From /home/ec2-user/anaconda3/envs/tensorflow_p36/lib/python3.6/site-packages/keras/backend/tensorflow_backend.py:190: The name tf.global_variables is deprecated. Please use tf.compat.v1.global_variables instead.\n",
      "\n",
      "WARNING:tensorflow:From /home/ec2-user/anaconda3/envs/tensorflow_p36/lib/python3.6/site-packages/keras/backend/tensorflow_backend.py:199: The name tf.is_variable_initialized is deprecated. Please use tf.compat.v1.is_variable_initialized instead.\n",
      "\n",
      "WARNING:tensorflow:From /home/ec2-user/anaconda3/envs/tensorflow_p36/lib/python3.6/site-packages/keras/backend/tensorflow_backend.py:206: The name tf.variables_initializer is deprecated. Please use tf.compat.v1.variables_initializer instead.\n",
      "\n",
      "111966/111966 [==============================] - 48s 428us/step - loss: 2.7493 - val_loss: 1.5694\n",
      "Epoch 2/20\n",
      "111966/111966 [==============================] - 8s 73us/step - loss: 1.8134 - val_loss: 1.6373\n",
      "Epoch 3/20\n",
      "111966/111966 [==============================] - 8s 73us/step - loss: 1.0311 - val_loss: 1.7198\n",
      "Epoch 4/20\n",
      "111966/111966 [==============================] - 8s 73us/step - loss: 0.5901 - val_loss: 1.7851\n",
      "Epoch 5/20\n",
      "111966/111966 [==============================] - 8s 73us/step - loss: 0.4043 - val_loss: 1.8544\n",
      "Epoch 6/20\n",
      "111966/111966 [==============================] - 8s 73us/step - loss: 0.3197 - val_loss: 1.8728\n",
      "Epoch 7/20\n",
      "111966/111966 [==============================] - 8s 73us/step - loss: 0.2787 - val_loss: 1.8427\n",
      "Epoch 8/20\n",
      "111966/111966 [==============================] - 8s 73us/step - loss: 0.2494 - val_loss: 1.8565\n",
      "Epoch 9/20\n",
      "111966/111966 [==============================] - 8s 73us/step - loss: 0.2322 - val_loss: 1.8654\n",
      "Epoch 10/20\n",
      "111966/111966 [==============================] - 8s 73us/step - loss: 0.2154 - val_loss: 1.8831\n",
      "Epoch 11/20\n",
      "111966/111966 [==============================] - 8s 73us/step - loss: 0.2006 - val_loss: 1.8815\n",
      "Epoch 12/20\n",
      "111966/111966 [==============================] - 8s 74us/step - loss: 0.1900 - val_loss: 1.8627\n",
      "Epoch 13/20\n",
      "111966/111966 [==============================] - 8s 75us/step - loss: 0.1827 - val_loss: 1.8733\n",
      "Epoch 14/20\n",
      "111966/111966 [==============================] - 8s 73us/step - loss: 0.1731 - val_loss: 1.8629\n",
      "Epoch 15/20\n",
      "111966/111966 [==============================] - 8s 73us/step - loss: 0.1653 - val_loss: 1.8276\n",
      "Epoch 16/20\n",
      "111966/111966 [==============================] - 8s 73us/step - loss: 0.1571 - val_loss: 1.8414\n",
      "Epoch 17/20\n",
      "111966/111966 [==============================] - 8s 73us/step - loss: 0.1530 - val_loss: 1.8744\n",
      "Epoch 18/20\n",
      "111966/111966 [==============================] - 8s 73us/step - loss: 0.1464 - val_loss: 1.8885\n",
      "Epoch 19/20\n",
      "111966/111966 [==============================] - 8s 73us/step - loss: 0.1414 - val_loss: 1.9125\n",
      "Epoch 20/20\n",
      "111966/111966 [==============================] - 8s 73us/step - loss: 0.1370 - val_loss: 1.8930\n",
      "time: 3min 25s\n"
     ]
    }
   ],
   "source": [
    "history = model.fit([ratings_train[\"user_id\"]\n",
    "                    , ratings_train[\"item_id\"]\n",
    "                    , ratings_train[\"helpful_votes\"]\n",
    "                    ]\n",
    "                    , ratings_train[\"score\"]\n",
    "                    , batch_size=64\n",
    "                    , epochs=20\n",
    "                    , validation_split=0.2\n",
    "                    , callbacks=[mcheck]\n",
    "                    , shuffle=True)"
   ]
  },
  {
   "cell_type": "markdown",
   "metadata": {},
   "source": [
    "### Save the fitted model history to a file"
   ]
  },
  {
   "cell_type": "code",
   "execution_count": 69,
   "metadata": {},
   "outputs": [
    {
     "name": "stdout",
     "output_type": "stream",
     "text": [
      "time: 2 ms\n"
     ]
    }
   ],
   "source": [
    "def plot_history(history):\n",
    "    loss = history.history['loss']\n",
    "    val_loss = history.history['val_loss']\n",
    "    x = range(1, len(loss) + 1)\n",
    "\n",
    "    plt.figure(figsize=(12, 5))\n",
    "    plt.plot(x, loss, 'b', label='Training loss')\n",
    "    plt.plot(x, val_loss, 'r', label='Validation loss')\n",
    "    plt.title('Training and validation loss: dense_2_15_embeddings_2_epochs')\n",
    "    plt.legend()\n",
    "    plt.savefig(modname+'_loss_validation_acc.jpg')"
   ]
  },
  {
   "cell_type": "code",
   "execution_count": 70,
   "metadata": {},
   "outputs": [
    {
     "data": {
      "text/plain": [
       "{'val_loss': [1.569410361147295,\n",
       "  1.637332845957288,\n",
       "  1.7197826663130655,\n",
       "  1.7850636754352116,\n",
       "  1.8543957136262652,\n",
       "  1.8727841109982828,\n",
       "  1.8426586666697262,\n",
       "  1.856520778419427,\n",
       "  1.8653962338062722,\n",
       "  1.8831006063839884,\n",
       "  1.881545748701093,\n",
       "  1.8626758644975365,\n",
       "  1.873284758261593,\n",
       "  1.8629293525072466,\n",
       "  1.8276277748848173,\n",
       "  1.8414476410461582,\n",
       "  1.8743505210800149,\n",
       "  1.8885358306774926,\n",
       "  1.9125424926197165,\n",
       "  1.893033706722821],\n",
       " 'loss': [2.749288212817988,\n",
       "  1.8133927825166574,\n",
       "  1.0310938743331404,\n",
       "  0.5901064348114782,\n",
       "  0.4042759849129856,\n",
       "  0.3196997507548764,\n",
       "  0.27873936993255155,\n",
       "  0.24935235150418322,\n",
       "  0.23221369613494153,\n",
       "  0.21537898598806807,\n",
       "  0.20064530351426937,\n",
       "  0.19001420545552025,\n",
       "  0.18273345593733625,\n",
       "  0.1731146208027233,\n",
       "  0.16525551504642744,\n",
       "  0.15712908920460084,\n",
       "  0.1529565783599807,\n",
       "  0.1463963530742498,\n",
       "  0.14140796947672596,\n",
       "  0.1370237788123825]}"
      ]
     },
     "execution_count": 70,
     "metadata": {},
     "output_type": "execute_result"
    },
    {
     "name": "stdout",
     "output_type": "stream",
     "text": [
      "time: 2.87 ms\n"
     ]
    }
   ],
   "source": [
    "history.history"
   ]
  },
  {
   "cell_type": "code",
   "execution_count": 71,
   "metadata": {},
   "outputs": [
    {
     "data": {
      "image/png": "[encoded data removed]",
      "text/plain": [
       "<Figure size 864x360 with 1 Axes>"
      ]
     },
     "metadata": {},
     "output_type": "display_data"
    },
    {
     "name": "stdout",
     "output_type": "stream",
     "text": [
      "time: 297 ms\n"
     ]
    }
   ],
   "source": [
    "plot_history(history)"
   ]
  },
  {
   "cell_type": "code",
   "execution_count": 72,
   "metadata": {},
   "outputs": [
    {
     "name": "stdout",
     "output_type": "stream",
     "text": [
      "time: 1.88 ms\n"
     ]
    }
   ],
   "source": [
    "# modname='dense_2_15_embeddings_2_epochs'  \n",
    "modname = modname\n",
    "\n",
    "with open('./histories/' + modname + '.pkl' , 'wb') as file_pi:  \n",
    "    pickle.dump(history.history, file_pi)\n"
   ]
  },
  {
   "cell_type": "markdown",
   "metadata": {},
   "source": [
    "\n",
    "## Compare the results of matrix factorization and different configurations of neural networks:\n"
   ]
  },
  {
   "cell_type": "code",
   "execution_count": 73,
   "metadata": {},
   "outputs": [
    {
     "name": "stdout",
     "output_type": "stream",
     "text": [
      "time: 2.08 ms\n"
     ]
    }
   ],
   "source": [
    "def disp_model(path,file,suffix):\n",
    "    model = load_model(path+file+suffix)    \n",
    "    ## Summarise the model \n",
    "    model.summary()    \n",
    "    # Extract the learnt user and item embeddings, i.e., a table with number of items and users rows and columns, with number of columns is the dimension of the trained embedding.\n",
    "    # In our case, the embeddings correspond exactly to the weights of the model:\n",
    "    weights = model.get_weights()\n",
    "    print (\"embeddings \\ weights shapes\",[w.shape for w in weights])    \n",
    "    return model\n",
    "    \n",
    "# model_path = \"./models/save/\"\n",
    "model_path = \"./models/\""
   ]
  },
  {
   "cell_type": "markdown",
   "metadata": {},
   "source": [
    "### Running the model and looking at the corresponding history I get the following \n",
    "plots of the training  MSE loss for the different the embedding and epoches sizes :"
   ]
  },
  {
   "cell_type": "code",
   "execution_count": 74,
   "metadata": {},
   "outputs": [
    {
     "name": "stdout",
     "output_type": "stream",
     "text": [
      "time: 108 ms\n"
     ]
    }
   ],
   "source": [
    "def plt_pickle(path,file,suffix):\n",
    "    with open(path+file+suffix , 'rb') as file_pi: \n",
    "        thepickle= pickle.load(file_pi)\n",
    "        plot(thepickle[\"loss\"],label ='Train Error ' + file,linestyle=\"--\")\n",
    "        plot(thepickle[\"val_loss\"],label='Validation Error ' + file) \n",
    "        plt.legend()\n",
    "        plt.xlabel(\"Epoch\")\n",
    "        plt.ylabel(\"Error\")  \n",
    "        ##plt.ylim(0, 0.1)\n",
    "    return pd.DataFrame(thepickle,columns =['loss','val_loss'])\n",
    "\n",
    "hist_path = \"./histories/\""
   ]
  },
  {
   "cell_type": "code",
   "execution_count": 75,
   "metadata": {},
   "outputs": [
    {
     "name": "stdout",
     "output_type": "stream",
     "text": [
      "__________________________________________________________________________________________________\n",
      "Layer (type)                    Output Shape         Param #     Connected to                     \n",
      "==================================================================================================\n",
      "item (InputLayer)               (None, 1)            0                                            \n",
      "__________________________________________________________________________________________________\n",
      "helpful_votes (InputLayer)      (None, 1)            0                                            \n",
      "__________________________________________________________________________________________________\n",
      "user (InputLayer)               (None, 1)            0                                            \n",
      "__________________________________________________________________________________________________\n",
      "item_embedding (Embedding)      (None, 1, 15)        1466370     item[0][0]                       \n",
      "__________________________________________________________________________________________________\n",
      "price_embedding (Embedding)     (None, 1, 15)        4245        helpful_votes[0][0]              \n",
      "__________________________________________________________________________________________________\n",
      "user_embedding (Embedding)      (None, 1, 15)        1422780     user[0][0]                       \n",
      "__________________________________________________________________________________________________\n",
      "reshape_4 (Reshape)             (None, 15)           0           item_embedding[0][0]             \n",
      "__________________________________________________________________________________________________\n",
      "reshape_5 (Reshape)             (None, 15)           0           price_embedding[0][0]            \n",
      "__________________________________________________________________________________________________\n",
      "reshape_3 (Reshape)             (None, 15)           0           user_embedding[0][0]             \n",
      "__________________________________________________________________________________________________\n",
      "dense_2 (Dense)                 (None, 64)           1024        reshape_4[0][0]                  \n",
      "__________________________________________________________________________________________________\n",
      "dense_3 (Dense)                 (None, 64)           1024        reshape_5[0][0]                  \n",
      "__________________________________________________________________________________________________\n",
      "dense_1 (Dense)                 (None, 64)           1024        reshape_3[0][0]                  \n",
      "__________________________________________________________________________________________________\n",
      "concatenate_1 (Concatenate)     (None, 128)          0           dense_2[0][0]                    \n",
      "                                                                 dense_3[0][0]                    \n",
      "__________________________________________________________________________________________________\n",
      "concatenate_2 (Concatenate)     (None, 192)          0           dense_1[0][0]                    \n",
      "                                                                 concatenate_1[0][0]              \n",
      "__________________________________________________________________________________________________\n",
      "dropout_1 (Dropout)             (None, 192)          0           concatenate_2[0][0]              \n",
      "__________________________________________________________________________________________________\n",
      "dense_4 (Dense)                 (None, 128)          24704       dropout_1[0][0]                  \n",
      "__________________________________________________________________________________________________\n",
      "dropout_2 (Dropout)             (None, 128)          0           dense_4[0][0]                    \n",
      "__________________________________________________________________________________________________\n",
      "dense_5 (Dense)                 (None, 32)           4128        dropout_2[0][0]                  \n",
      "__________________________________________________________________________________________________\n",
      "dropout_3 (Dropout)             (None, 32)           0           dense_5[0][0]                    \n",
      "__________________________________________________________________________________________________\n",
      "dense_6 (Dense)                 (None, 1)            33          dropout_3[0][0]                  \n",
      "==================================================================================================\n",
      "Total params: 2,925,332\n",
      "Trainable params: 2,925,332\n",
      "Non-trainable params: 0\n",
      "__________________________________________________________________________________________________\n",
      "embeddings \\ weights shapes [(97758, 15), (283, 15), (94852, 15), (15, 64), (64,), (15, 64), (64,), (15, 64), (64,), (192, 128), (128,), (128, 32), (32,), (32, 1), (1,)]\n",
      "time: 2.04 s\n"
     ]
    }
   ],
   "source": [
    "model=disp_model(model_path , modname , '.h5')"
   ]
  },
  {
   "cell_type": "code",
   "execution_count": 76,
   "metadata": {},
   "outputs": [
    {
     "data": {
      "text/plain": [
       "<keras.engine.training.Model at 0x7f70fae8fa90>"
      ]
     },
     "execution_count": 76,
     "metadata": {},
     "output_type": "execute_result"
    },
    {
     "name": "stdout",
     "output_type": "stream",
     "text": [
      "time: 2.34 ms\n"
     ]
    }
   ],
   "source": [
    "model"
   ]
  },
  {
   "cell_type": "code",
   "execution_count": 77,
   "metadata": {},
   "outputs": [
    {
     "data": {
      "image/svg+xml": [
       "<svg height=\"848pt\" viewBox=\"0.00 0.00 551.00 848.00\" width=\"551pt\" xmlns=\"http://www.w3.org/2000/svg\" xmlns:xlink=\"http://www.w3.org/1999/xlink\">\n",
       "<g class=\"graph\" id=\"graph0\" transform=\"scale(1 1) rotate(0) translate(4 844)\">\n",
       "<title>G</title>\n",
       "<polygon fill=\"#ffffff\" points=\"-4,4 -4,-844 547,-844 547,4 -4,4\" stroke=\"transparent\"/>\n",
       "<!-- 140123222636528 -->\n",
       "<g class=\"node\" id=\"node1\">\n",
       "<title>140123222636528</title>\n",
       "<polygon fill=\"none\" points=\"35,-803.5 35,-839.5 144,-839.5 144,-803.5 35,-803.5\" stroke=\"#000000\"/>\n",
       "<text fill=\"#000000\" font-family=\"Times,serif\" font-size=\"14.00\" text-anchor=\"middle\" x=\"89.5\" y=\"-817.8\">item: InputLayer</text>\n",
       "</g>\n",
       "<!-- 140123222637368 -->\n",
       "<g class=\"node\" id=\"node4\">\n",
       "<title>140123222637368</title>\n",
       "<polygon fill=\"none\" points=\"0,-730.5 0,-766.5 179,-766.5 179,-730.5 0,-730.5\" stroke=\"#000000\"/>\n",
       "<text fill=\"#000000\" font-family=\"Times,serif\" font-size=\"14.00\" text-anchor=\"middle\" x=\"89.5\" y=\"-744.8\">item_embedding: Embedding</text>\n",
       "</g>\n",
       "<!-- 140123222636528&#45;&gt;140123222637368 -->\n",
       "<g class=\"edge\" id=\"edge1\">\n",
       "<title>140123222636528-&gt;140123222637368</title>\n",
       "<path d=\"M89.5,-803.4551C89.5,-795.3828 89.5,-785.6764 89.5,-776.6817\" fill=\"none\" stroke=\"#000000\"/>\n",
       "<polygon fill=\"#000000\" points=\"93.0001,-776.5903 89.5,-766.5904 86.0001,-776.5904 93.0001,-776.5903\" stroke=\"#000000\"/>\n",
       "</g>\n",
       "<!-- 140123222636080 -->\n",
       "<g class=\"node\" id=\"node2\">\n",
       "<title>140123222636080</title>\n",
       "<polygon fill=\"none\" points=\"209.5,-803.5 209.5,-839.5 367.5,-839.5 367.5,-803.5 209.5,-803.5\" stroke=\"#000000\"/>\n",
       "<text fill=\"#000000\" font-family=\"Times,serif\" font-size=\"14.00\" text-anchor=\"middle\" x=\"288.5\" y=\"-817.8\">helpful_votes: InputLayer</text>\n",
       "</g>\n",
       "<!-- 140123222637032 -->\n",
       "<g class=\"node\" id=\"node5\">\n",
       "<title>140123222637032</title>\n",
       "<polygon fill=\"none\" points=\"197.5,-730.5 197.5,-766.5 379.5,-766.5 379.5,-730.5 197.5,-730.5\" stroke=\"#000000\"/>\n",
       "<text fill=\"#000000\" font-family=\"Times,serif\" font-size=\"14.00\" text-anchor=\"middle\" x=\"288.5\" y=\"-744.8\">price_embedding: Embedding</text>\n",
       "</g>\n",
       "<!-- 140123222636080&#45;&gt;140123222637032 -->\n",
       "<g class=\"edge\" id=\"edge2\">\n",
       "<title>140123222636080-&gt;140123222637032</title>\n",
       "<path d=\"M288.5,-803.4551C288.5,-795.3828 288.5,-785.6764 288.5,-776.6817\" fill=\"none\" stroke=\"#000000\"/>\n",
       "<polygon fill=\"#000000\" points=\"292.0001,-776.5903 288.5,-766.5904 285.0001,-776.5904 292.0001,-776.5903\" stroke=\"#000000\"/>\n",
       "</g>\n",
       "<!-- 140123222637984 -->\n",
       "<g class=\"node\" id=\"node3\">\n",
       "<title>140123222637984</title>\n",
       "<polygon fill=\"none\" points=\"401,-730.5 401,-766.5 508,-766.5 508,-730.5 401,-730.5\" stroke=\"#000000\"/>\n",
       "<text fill=\"#000000\" font-family=\"Times,serif\" font-size=\"14.00\" text-anchor=\"middle\" x=\"454.5\" y=\"-744.8\">user: InputLayer</text>\n",
       "</g>\n",
       "<!-- 140123222638208 -->\n",
       "<g class=\"node\" id=\"node6\">\n",
       "<title>140123222638208</title>\n",
       "<polygon fill=\"none\" points=\"366,-657.5 366,-693.5 543,-693.5 543,-657.5 366,-657.5\" stroke=\"#000000\"/>\n",
       "<text fill=\"#000000\" font-family=\"Times,serif\" font-size=\"14.00\" text-anchor=\"middle\" x=\"454.5\" y=\"-671.8\">user_embedding: Embedding</text>\n",
       "</g>\n",
       "<!-- 140123222637984&#45;&gt;140123222638208 -->\n",
       "<g class=\"edge\" id=\"edge3\">\n",
       "<title>140123222637984-&gt;140123222638208</title>\n",
       "<path d=\"M454.5,-730.4551C454.5,-722.3828 454.5,-712.6764 454.5,-703.6817\" fill=\"none\" stroke=\"#000000\"/>\n",
       "<polygon fill=\"#000000\" points=\"458.0001,-703.5903 454.5,-693.5904 451.0001,-703.5904 458.0001,-703.5903\" stroke=\"#000000\"/>\n",
       "</g>\n",
       "<!-- 140123242898432 -->\n",
       "<g class=\"node\" id=\"node7\">\n",
       "<title>140123242898432</title>\n",
       "<polygon fill=\"none\" points=\"54,-657.5 54,-693.5 179,-693.5 179,-657.5 54,-657.5\" stroke=\"#000000\"/>\n",
       "<text fill=\"#000000\" font-family=\"Times,serif\" font-size=\"14.00\" text-anchor=\"middle\" x=\"116.5\" y=\"-671.8\">reshape_4: Reshape</text>\n",
       "</g>\n",
       "<!-- 140123222637368&#45;&gt;140123242898432 -->\n",
       "<g class=\"edge\" id=\"edge4\">\n",
       "<title>140123222637368-&gt;140123242898432</title>\n",
       "<path d=\"M96.1742,-730.4551C99.2247,-722.2074 102.9062,-712.2536 106.2932,-703.0962\" fill=\"none\" stroke=\"#000000\"/>\n",
       "<polygon fill=\"#000000\" points=\"109.6227,-704.1836 109.809,-693.5904 103.0574,-701.7552 109.6227,-704.1836\" stroke=\"#000000\"/>\n",
       "</g>\n",
       "<!-- 140123242898320 -->\n",
       "<g class=\"node\" id=\"node8\">\n",
       "<title>140123242898320</title>\n",
       "<polygon fill=\"none\" points=\"223,-657.5 223,-693.5 348,-693.5 348,-657.5 223,-657.5\" stroke=\"#000000\"/>\n",
       "<text fill=\"#000000\" font-family=\"Times,serif\" font-size=\"14.00\" text-anchor=\"middle\" x=\"285.5\" y=\"-671.8\">reshape_5: Reshape</text>\n",
       "</g>\n",
       "<!-- 140123222637032&#45;&gt;140123242898320 -->\n",
       "<g class=\"edge\" id=\"edge5\">\n",
       "<title>140123222637032-&gt;140123242898320</title>\n",
       "<path d=\"M287.7584,-730.4551C287.4267,-722.3828 287.0278,-712.6764 286.6582,-703.6817\" fill=\"none\" stroke=\"#000000\"/>\n",
       "<polygon fill=\"#000000\" points=\"290.1512,-703.4382 286.2434,-693.5904 283.1571,-703.7257 290.1512,-703.4382\" stroke=\"#000000\"/>\n",
       "</g>\n",
       "<!-- 140123242898600 -->\n",
       "<g class=\"node\" id=\"node9\">\n",
       "<title>140123242898600</title>\n",
       "<polygon fill=\"none\" points=\"388,-584.5 388,-620.5 513,-620.5 513,-584.5 388,-584.5\" stroke=\"#000000\"/>\n",
       "<text fill=\"#000000\" font-family=\"Times,serif\" font-size=\"14.00\" text-anchor=\"middle\" x=\"450.5\" y=\"-598.8\">reshape_3: Reshape</text>\n",
       "</g>\n",
       "<!-- 140123222638208&#45;&gt;140123242898600 -->\n",
       "<g class=\"edge\" id=\"edge6\">\n",
       "<title>140123222638208-&gt;140123242898600</title>\n",
       "<path d=\"M453.5112,-657.4551C453.0689,-649.3828 452.5371,-639.6764 452.0442,-630.6817\" fill=\"none\" stroke=\"#000000\"/>\n",
       "<polygon fill=\"#000000\" points=\"455.5332,-630.3839 451.4913,-620.5904 448.5437,-630.7669 455.5332,-630.3839\" stroke=\"#000000\"/>\n",
       "</g>\n",
       "<!-- 140123242898488 -->\n",
       "<g class=\"node\" id=\"node10\">\n",
       "<title>140123242898488</title>\n",
       "<polygon fill=\"none\" points=\"90.5,-584.5 90.5,-620.5 192.5,-620.5 192.5,-584.5 90.5,-584.5\" stroke=\"#000000\"/>\n",
       "<text fill=\"#000000\" font-family=\"Times,serif\" font-size=\"14.00\" text-anchor=\"middle\" x=\"141.5\" y=\"-598.8\">dense_2: Dense</text>\n",
       "</g>\n",
       "<!-- 140123242898432&#45;&gt;140123242898488 -->\n",
       "<g class=\"edge\" id=\"edge7\">\n",
       "<title>140123242898432-&gt;140123242898488</title>\n",
       "<path d=\"M122.6798,-657.4551C125.5043,-649.2074 128.9132,-639.2536 132.0493,-630.0962\" fill=\"none\" stroke=\"#000000\"/>\n",
       "<polygon fill=\"#000000\" points=\"135.3759,-631.185 135.3047,-620.5904 128.7535,-628.917 135.3759,-631.185\" stroke=\"#000000\"/>\n",
       "</g>\n",
       "<!-- 140123222743808 -->\n",
       "<g class=\"node\" id=\"node11\">\n",
       "<title>140123222743808</title>\n",
       "<polygon fill=\"none\" points=\"234.5,-584.5 234.5,-620.5 336.5,-620.5 336.5,-584.5 234.5,-584.5\" stroke=\"#000000\"/>\n",
       "<text fill=\"#000000\" font-family=\"Times,serif\" font-size=\"14.00\" text-anchor=\"middle\" x=\"285.5\" y=\"-598.8\">dense_3: Dense</text>\n",
       "</g>\n",
       "<!-- 140123242898320&#45;&gt;140123222743808 -->\n",
       "<g class=\"edge\" id=\"edge8\">\n",
       "<title>140123242898320-&gt;140123222743808</title>\n",
       "<path d=\"M285.5,-657.4551C285.5,-649.3828 285.5,-639.6764 285.5,-630.6817\" fill=\"none\" stroke=\"#000000\"/>\n",
       "<polygon fill=\"#000000\" points=\"289.0001,-630.5903 285.5,-620.5904 282.0001,-630.5904 289.0001,-630.5903\" stroke=\"#000000\"/>\n",
       "</g>\n",
       "<!-- 140123222744592 -->\n",
       "<g class=\"node\" id=\"node12\">\n",
       "<title>140123222744592</title>\n",
       "<polygon fill=\"none\" points=\"391.5,-511.5 391.5,-547.5 493.5,-547.5 493.5,-511.5 391.5,-511.5\" stroke=\"#000000\"/>\n",
       "<text fill=\"#000000\" font-family=\"Times,serif\" font-size=\"14.00\" text-anchor=\"middle\" x=\"442.5\" y=\"-525.8\">dense_1: Dense</text>\n",
       "</g>\n",
       "<!-- 140123242898600&#45;&gt;140123222744592 -->\n",
       "<g class=\"edge\" id=\"edge9\">\n",
       "<title>140123242898600-&gt;140123222744592</title>\n",
       "<path d=\"M448.5225,-584.4551C447.6378,-576.3828 446.5741,-566.6764 445.5884,-557.6817\" fill=\"none\" stroke=\"#000000\"/>\n",
       "<polygon fill=\"#000000\" points=\"449.0511,-557.1495 444.4825,-547.5904 442.0928,-557.9122 449.0511,-557.1495\" stroke=\"#000000\"/>\n",
       "</g>\n",
       "<!-- 140123222743416 -->\n",
       "<g class=\"node\" id=\"node13\">\n",
       "<title>140123222743416</title>\n",
       "<polygon fill=\"none\" points=\"201.5,-511.5 201.5,-547.5 369.5,-547.5 369.5,-511.5 201.5,-511.5\" stroke=\"#000000\"/>\n",
       "<text fill=\"#000000\" font-family=\"Times,serif\" font-size=\"14.00\" text-anchor=\"middle\" x=\"285.5\" y=\"-525.8\">concatenate_1: Concatenate</text>\n",
       "</g>\n",
       "<!-- 140123242898488&#45;&gt;140123222743416 -->\n",
       "<g class=\"edge\" id=\"edge10\">\n",
       "<title>140123242898488-&gt;140123222743416</title>\n",
       "<path d=\"M177.0955,-584.4551C196.3073,-574.7157 220.2118,-562.5975 240.6811,-552.2207\" fill=\"none\" stroke=\"#000000\"/>\n",
       "<polygon fill=\"#000000\" points=\"242.4781,-555.2338 249.8149,-547.5904 239.313,-548.9903 242.4781,-555.2338\" stroke=\"#000000\"/>\n",
       "</g>\n",
       "<!-- 140123222743808&#45;&gt;140123222743416 -->\n",
       "<g class=\"edge\" id=\"edge11\">\n",
       "<title>140123222743808-&gt;140123222743416</title>\n",
       "<path d=\"M285.5,-584.4551C285.5,-576.3828 285.5,-566.6764 285.5,-557.6817\" fill=\"none\" stroke=\"#000000\"/>\n",
       "<polygon fill=\"#000000\" points=\"289.0001,-557.5903 285.5,-547.5904 282.0001,-557.5904 289.0001,-557.5903\" stroke=\"#000000\"/>\n",
       "</g>\n",
       "<!-- 140123222744256 -->\n",
       "<g class=\"node\" id=\"node14\">\n",
       "<title>140123222744256</title>\n",
       "<polygon fill=\"none\" points=\"277.5,-438.5 277.5,-474.5 445.5,-474.5 445.5,-438.5 277.5,-438.5\" stroke=\"#000000\"/>\n",
       "<text fill=\"#000000\" font-family=\"Times,serif\" font-size=\"14.00\" text-anchor=\"middle\" x=\"361.5\" y=\"-452.8\">concatenate_2: Concatenate</text>\n",
       "</g>\n",
       "<!-- 140123222744592&#45;&gt;140123222744256 -->\n",
       "<g class=\"edge\" id=\"edge12\">\n",
       "<title>140123222744592-&gt;140123222744256</title>\n",
       "<path d=\"M422.4775,-511.4551C412.4498,-502.4177 400.1491,-491.3319 389.2286,-481.4899\" fill=\"none\" stroke=\"#000000\"/>\n",
       "<polygon fill=\"#000000\" points=\"391.3444,-478.6852 381.5729,-474.5904 386.6581,-483.885 391.3444,-478.6852\" stroke=\"#000000\"/>\n",
       "</g>\n",
       "<!-- 140123222743416&#45;&gt;140123222744256 -->\n",
       "<g class=\"edge\" id=\"edge13\">\n",
       "<title>140123222743416-&gt;140123222744256</title>\n",
       "<path d=\"M304.2865,-511.4551C313.6039,-502.5054 325.0127,-491.547 335.1843,-481.7769\" fill=\"none\" stroke=\"#000000\"/>\n",
       "<polygon fill=\"#000000\" points=\"337.8788,-484.0419 342.6662,-474.5904 333.0296,-478.9935 337.8788,-484.0419\" stroke=\"#000000\"/>\n",
       "</g>\n",
       "<!-- 140123222744088 -->\n",
       "<g class=\"node\" id=\"node15\">\n",
       "<title>140123222744088</title>\n",
       "<polygon fill=\"none\" points=\"299,-365.5 299,-401.5 424,-401.5 424,-365.5 299,-365.5\" stroke=\"#000000\"/>\n",
       "<text fill=\"#000000\" font-family=\"Times,serif\" font-size=\"14.00\" text-anchor=\"middle\" x=\"361.5\" y=\"-379.8\">dropout_1: Dropout</text>\n",
       "</g>\n",
       "<!-- 140123222744256&#45;&gt;140123222744088 -->\n",
       "<g class=\"edge\" id=\"edge14\">\n",
       "<title>140123222744256-&gt;140123222744088</title>\n",
       "<path d=\"M361.5,-438.4551C361.5,-430.3828 361.5,-420.6764 361.5,-411.6817\" fill=\"none\" stroke=\"#000000\"/>\n",
       "<polygon fill=\"#000000\" points=\"365.0001,-411.5903 361.5,-401.5904 358.0001,-411.5904 365.0001,-411.5903\" stroke=\"#000000\"/>\n",
       "</g>\n",
       "<!-- 140123222744032 -->\n",
       "<g class=\"node\" id=\"node16\">\n",
       "<title>140123222744032</title>\n",
       "<polygon fill=\"none\" points=\"310.5,-292.5 310.5,-328.5 412.5,-328.5 412.5,-292.5 310.5,-292.5\" stroke=\"#000000\"/>\n",
       "<text fill=\"#000000\" font-family=\"Times,serif\" font-size=\"14.00\" text-anchor=\"middle\" x=\"361.5\" y=\"-306.8\">dense_4: Dense</text>\n",
       "</g>\n",
       "<!-- 140123222744088&#45;&gt;140123222744032 -->\n",
       "<g class=\"edge\" id=\"edge15\">\n",
       "<title>140123222744088-&gt;140123222744032</title>\n",
       "<path d=\"M361.5,-365.4551C361.5,-357.3828 361.5,-347.6764 361.5,-338.6817\" fill=\"none\" stroke=\"#000000\"/>\n",
       "<polygon fill=\"#000000\" points=\"365.0001,-338.5903 361.5,-328.5904 358.0001,-338.5904 365.0001,-338.5903\" stroke=\"#000000\"/>\n",
       "</g>\n",
       "<!-- 140123222743640 -->\n",
       "<g class=\"node\" id=\"node17\">\n",
       "<title>140123222743640</title>\n",
       "<polygon fill=\"none\" points=\"299,-219.5 299,-255.5 424,-255.5 424,-219.5 299,-219.5\" stroke=\"#000000\"/>\n",
       "<text fill=\"#000000\" font-family=\"Times,serif\" font-size=\"14.00\" text-anchor=\"middle\" x=\"361.5\" y=\"-233.8\">dropout_2: Dropout</text>\n",
       "</g>\n",
       "<!-- 140123222744032&#45;&gt;140123222743640 -->\n",
       "<g class=\"edge\" id=\"edge16\">\n",
       "<title>140123222744032-&gt;140123222743640</title>\n",
       "<path d=\"M361.5,-292.4551C361.5,-284.3828 361.5,-274.6764 361.5,-265.6817\" fill=\"none\" stroke=\"#000000\"/>\n",
       "<polygon fill=\"#000000\" points=\"365.0001,-265.5903 361.5,-255.5904 358.0001,-265.5904 365.0001,-265.5903\" stroke=\"#000000\"/>\n",
       "</g>\n",
       "<!-- 140123222743528 -->\n",
       "<g class=\"node\" id=\"node18\">\n",
       "<title>140123222743528</title>\n",
       "<polygon fill=\"none\" points=\"310.5,-146.5 310.5,-182.5 412.5,-182.5 412.5,-146.5 310.5,-146.5\" stroke=\"#000000\"/>\n",
       "<text fill=\"#000000\" font-family=\"Times,serif\" font-size=\"14.00\" text-anchor=\"middle\" x=\"361.5\" y=\"-160.8\">dense_5: Dense</text>\n",
       "</g>\n",
       "<!-- 140123222743640&#45;&gt;140123222743528 -->\n",
       "<g class=\"edge\" id=\"edge17\">\n",
       "<title>140123222743640-&gt;140123222743528</title>\n",
       "<path d=\"M361.5,-219.4551C361.5,-211.3828 361.5,-201.6764 361.5,-192.6817\" fill=\"none\" stroke=\"#000000\"/>\n",
       "<polygon fill=\"#000000\" points=\"365.0001,-192.5903 361.5,-182.5904 358.0001,-192.5904 365.0001,-192.5903\" stroke=\"#000000\"/>\n",
       "</g>\n",
       "<!-- 140123222743864 -->\n",
       "<g class=\"node\" id=\"node19\">\n",
       "<title>140123222743864</title>\n",
       "<polygon fill=\"none\" points=\"299,-73.5 299,-109.5 424,-109.5 424,-73.5 299,-73.5\" stroke=\"#000000\"/>\n",
       "<text fill=\"#000000\" font-family=\"Times,serif\" font-size=\"14.00\" text-anchor=\"middle\" x=\"361.5\" y=\"-87.8\">dropout_3: Dropout</text>\n",
       "</g>\n",
       "<!-- 140123222743528&#45;&gt;140123222743864 -->\n",
       "<g class=\"edge\" id=\"edge18\">\n",
       "<title>140123222743528-&gt;140123222743864</title>\n",
       "<path d=\"M361.5,-146.4551C361.5,-138.3828 361.5,-128.6764 361.5,-119.6817\" fill=\"none\" stroke=\"#000000\"/>\n",
       "<polygon fill=\"#000000\" points=\"365.0001,-119.5903 361.5,-109.5904 358.0001,-119.5904 365.0001,-119.5903\" stroke=\"#000000\"/>\n",
       "</g>\n",
       "<!-- 140123222742856 -->\n",
       "<g class=\"node\" id=\"node20\">\n",
       "<title>140123222742856</title>\n",
       "<polygon fill=\"none\" points=\"310.5,-.5 310.5,-36.5 412.5,-36.5 412.5,-.5 310.5,-.5\" stroke=\"#000000\"/>\n",
       "<text fill=\"#000000\" font-family=\"Times,serif\" font-size=\"14.00\" text-anchor=\"middle\" x=\"361.5\" y=\"-14.8\">dense_6: Dense</text>\n",
       "</g>\n",
       "<!-- 140123222743864&#45;&gt;140123222742856 -->\n",
       "<g class=\"edge\" id=\"edge19\">\n",
       "<title>140123222743864-&gt;140123222742856</title>\n",
       "<path d=\"M361.5,-73.4551C361.5,-65.3828 361.5,-55.6764 361.5,-46.6817\" fill=\"none\" stroke=\"#000000\"/>\n",
       "<polygon fill=\"#000000\" points=\"365.0001,-46.5903 361.5,-36.5904 358.0001,-46.5904 365.0001,-46.5903\" stroke=\"#000000\"/>\n",
       "</g>\n",
       "</g>\n",
       "</svg>"
      ],
      "text/plain": [
       "<IPython.core.display.SVG object>"
      ]
     },
     "execution_count": 77,
     "metadata": {},
     "output_type": "execute_result"
    },
    {
     "name": "stdout",
     "output_type": "stream",
     "text": [
      "time: 258 ms\n"
     ]
    }
   ],
   "source": [
    "# Display the model using keras\n",
    "SVG(model_to_dot(model).create(prog='dot', format='svg'))"
   ]
  },
  {
   "cell_type": "code",
   "execution_count": 78,
   "metadata": {},
   "outputs": [
    {
     "name": "stdout",
     "output_type": "stream",
     "text": [
      "modname: dense_2_15_embeddings_2_epochs\n"
     ]
    },
    {
     "data": {
      "image/png": "[encoded data removed]",
      "text/plain": [
       "<Figure size 432x288 with 1 Axes>"
      ]
     },
     "metadata": {},
     "output_type": "display_data"
    },
    {
     "name": "stdout",
     "output_type": "stream",
     "text": [
      "time: 229 ms\n"
     ]
    }
   ],
   "source": [
    "x=plt_pickle(hist_path , modname , '.pkl')\n",
    "x.head(20).transpose()\n",
    "print(\"modname:\", modname)"
   ]
  },
  {
   "cell_type": "code",
   "execution_count": null,
   "metadata": {},
   "outputs": [],
   "source": []
  },
  {
   "cell_type": "code",
   "execution_count": null,
   "metadata": {},
   "outputs": [],
   "source": []
  }
 ],
 "metadata": {
  "kernelspec": {
   "display_name": "conda_tensorflow_p36",
   "language": "python",
   "name": "conda_tensorflow_p36"
  },
  "language_info": {
   "codemirror_mode": {
    "name": "ipython",
    "version": 3
   },
   "file_extension": ".py",
   "mimetype": "text/x-python",
   "name": "python",
   "nbconvert_exporter": "python",
   "pygments_lexer": "ipython3",
   "version": "3.6.6"
  }
 },
 "nbformat": 4,
 "nbformat_minor": 4
}
